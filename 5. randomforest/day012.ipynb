{
 "cells": [
  {
   "cell_type": "code",
   "execution_count": null,
   "metadata": {},
   "outputs": [],
   "source": [
    "## Topic Modeling\n",
    "# Topic은 주제를 말합니다.\n",
    "# 토픽 모델링은 기계 학습 및 자연어 처리분야에서 토픽은 문서 집합의 추상적인 주제를 발견하기 위해서 사용하는 \n",
    "# 통계적 모델 중 하나로, 본문에 숨겨진 의미 구조를 발견하기 위해 사용되어지는 텍스트 마이닝 기법.\n",
    "\n",
    "# 1) 잠재 의미 분석 (Latent Semantic Anaylysis, LSA)\n",
    "# BoW에 기반한 DTM이나 TF-IDF는 기본적으로 단어의 빈도수를 이용한 수치화 방법이기 때문에 \n",
    "# 단어의 의미를 고려하지 못한다는 단점이 있었습니다. (이를 토픽 모델링 관점에서는 단어의 토픽을 고려하지 못한다고도 합니다.)\n",
    "# 이를 위한 대안으로 DTM의 잠재된(Latent) 의미를 이끌어내는 방법으로\n",
    "# 잠재 의미 분석 (Latent Semantic Analysis, LSA)이라는 방법이 있습니다.\n",
    "# 잠재 의미 분석 (Latent Semantic Indexing, LSI)라고 부르기도 합니다. 이하 LSA라고 명명하겠습니다.\n",
    "\n",
    "# 이 방법을 이해하기 위해서는 선형대수학의 특이값 분해(Singular Value Decomposition, SVD)를 이해할 필요가 있습니다.\n",
    "# 이하 이를 SVD라고 명명 하겠습니다. 이 실습에서는 SVD를 수행하는 구체적인 선형대수학에 대해서는 설명하지 않고,\n",
    "# SVD가 갖고 있는 의믜를 이해하는 것에 초점을 맞춥니다.\n",
    "\n",
    "# 1. 특이값 분해 (Singular Value Decomposition, SVD) :https://wikidocs.net/24949"
   ]
  },
  {
   "cell_type": "code",
   "execution_count": 16,
   "metadata": {},
   "outputs": [
    {
     "name": "stdout",
     "output_type": "stream",
     "text": [
      "DTM의 크기 (4, 9)\n",
      "행렬 U: \n",
      "[[-0.24  0.75  0.   -0.62]\n",
      " [-0.51  0.44 -0.    0.74]\n",
      " [-0.83 -0.49 -0.   -0.27]\n",
      " [-0.   -0.    1.    0.  ]]\n",
      "행렬 크기 :  (4, 4)\n"
     ]
    }
   ],
   "source": [
    "import numpy as np\n",
    "\n",
    "A = np.array([[0,0,0,1,0,1,1,0,0],[0,0,0,1,1,0,1,0,0],[0,1,1,0,2,0,0,0,0],[1,0,0,0,0,0,0,1,1]])\n",
    "print(\"DTM의 크기\", np.shape(A))\n",
    "\n",
    "#Full SVD\n",
    "U,s,VT=np.linalg.svd(A,full_matrices=True)\n",
    "print('행렬 U: ')\n",
    "print(U.round(2))\n",
    "print('행렬 크기 : ',np.shape(U))"
   ]
  },
  {
   "cell_type": "code",
   "execution_count": 6,
   "metadata": {},
   "outputs": [
    {
     "name": "stdout",
     "output_type": "stream",
     "text": [
      "특이값 벡터 : \n",
      "[2.69 2.05 1.73 0.77]\n",
      "크기 :  (4,)\n"
     ]
    }
   ],
   "source": [
    "print('특이값 벡터 : ')\n",
    "print(s.round(2))\n",
    "print('크기 : ',np.shape(s))"
   ]
  },
  {
   "cell_type": "code",
   "execution_count": 8,
   "metadata": {},
   "outputs": [
    {
     "name": "stdout",
     "output_type": "stream",
     "text": [
      "대각행렬 : \n",
      "[[2.69 0.   0.   0.   0.   0.   0.   0.   0.  ]\n",
      " [0.   2.05 0.   0.   0.   0.   0.   0.   0.  ]\n",
      " [0.   0.   1.73 0.   0.   0.   0.   0.   0.  ]\n",
      " [0.   0.   0.   0.77 0.   0.   0.   0.   0.  ]]\n"
     ]
    }
   ],
   "source": [
    "## Numpy의 linalg.svd()는 특이값 분해의 결과로 대각 행렬이 아니라 특이값의 리스트를 반환한다.\n",
    "# 그러므로 앞서 본 수식의 형식으로 보려면 이를 다시 대각 행렬로 바꿔주어야 합니다. 우선 특이값을 s에 저장하고 \n",
    "# 대각행렬 크기의 행렬을 생성한 다음에 그 행렬에 특이 값을 삽입하도록 하겠습니다.\n",
    "\n",
    "# 대각 행렬 크기인 4x9의 임의의 행렬 생성\n",
    "S=np.zeros((4,9))\n",
    "S[:4,:4]=np.diag(s)\n",
    "print('대각행렬 : ')\n",
    "print(S.round(2))\n"
   ]
  },
  {
   "cell_type": "code",
   "execution_count": 9,
   "metadata": {},
   "outputs": [
    {
     "name": "stdout",
     "output_type": "stream",
     "text": [
      "직교행렬 : \n",
      "[[-0.   -0.31 -0.31 -0.28 -0.8  -0.09 -0.28 -0.   -0.  ]\n",
      " [ 0.   -0.24 -0.24  0.58 -0.26  0.37  0.58 -0.   -0.  ]\n",
      " [ 0.58 -0.    0.    0.   -0.    0.   -0.    0.58  0.58]\n",
      " [ 0.   -0.35 -0.35  0.16  0.25 -0.8   0.16 -0.   -0.  ]\n",
      " [-0.   -0.78 -0.01 -0.2   0.4   0.4  -0.2   0.    0.  ]\n",
      " [-0.29  0.31 -0.78 -0.24  0.23  0.23  0.01  0.14  0.14]\n",
      " [-0.29 -0.1   0.26 -0.59 -0.08 -0.08  0.66  0.14  0.14]\n",
      " [-0.5  -0.06  0.15  0.24 -0.05 -0.05 -0.19  0.75 -0.25]\n",
      " [-0.5  -0.06  0.15  0.24 -0.05 -0.05 -0.19 -0.25  0.75]]\n"
     ]
    }
   ],
   "source": [
    "print(\"직교행렬(v의 전치행렬) : \")\n",
    "print(VT.round(2))"
   ]
  },
  {
   "cell_type": "code",
   "execution_count": 10,
   "metadata": {},
   "outputs": [
    {
     "data": {
      "text/plain": [
       "True"
      ]
     },
     "execution_count": 10,
     "metadata": {},
     "output_type": "execute_result"
    }
   ],
   "source": [
    "# UxSxVT가 A와 일치하는지 확인\n",
    "# numpy의 allclose()는 2개의 행렬이 동일하면 True 반환\n",
    "np.allclose(A,np.dot(np.dot(U,S),VT).round(2))"
   ]
  },
  {
   "cell_type": "code",
   "execution_count": 21,
   "metadata": {},
   "outputs": [
    {
     "name": "stdout",
     "output_type": "stream",
     "text": [
      "대각 행렬 s: \n",
      "[[2.69 0.  ]\n",
      " [0.   2.05]]\n"
     ]
    }
   ],
   "source": [
    "# 절단된 SVD(Truncated SVD)\n",
    "# 특이값 상위 2개 보존\n",
    "S=S[:2,:2]\n",
    "print('대각 행렬 s: ')\n",
    "print(S.round(2))\n"
   ]
  },
  {
   "cell_type": "code",
   "execution_count": 20,
   "metadata": {},
   "outputs": [
    {
     "name": "stdout",
     "output_type": "stream",
     "text": [
      "[[-0.24  0.75]\n",
      " [-0.51  0.44]\n",
      " [-0.83 -0.49]\n",
      " [-0.   -0.  ]]\n"
     ]
    }
   ],
   "source": [
    "# 직교 행렬 U에서도 2개만 남기고 제거\n",
    "U=U[:,:2]\n",
    "print(U.round(2))"
   ]
  },
  {
   "cell_type": "code",
   "execution_count": 22,
   "metadata": {},
   "outputs": [
    {
     "name": "stdout",
     "output_type": "stream",
     "text": [
      "[[-0.   -0.31 -0.31 -0.28 -0.8  -0.09 -0.28 -0.   -0.  ]\n",
      " [ 0.   -0.24 -0.24  0.58 -0.26  0.37  0.58 -0.   -0.  ]]\n"
     ]
    }
   ],
   "source": [
    "# 전치 행렬인 VT도 2개의 행만 남기고 제거\n",
    "VT=VT[:2,:]\n",
    "print(VT.round(2))"
   ]
  },
  {
   "cell_type": "code",
   "execution_count": 24,
   "metadata": {},
   "outputs": [
    {
     "name": "stdout",
     "output_type": "stream",
     "text": [
      "[[0 0 0 1 0 1 1 0 0]\n",
      " [0 0 0 1 1 0 1 0 0]\n",
      " [0 1 1 0 2 0 0 0 0]\n",
      " [1 0 0 0 0 0 0 1 1]]\n",
      "[[ 0.   -0.17 -0.17  1.08  0.12  0.62  1.08 -0.   -0.  ]\n",
      " [ 0.    0.2   0.2   0.91  0.86  0.45  0.91  0.    0.  ]\n",
      " [ 0.    0.93  0.93  0.03  2.05 -0.17  0.03  0.    0.  ]\n",
      " [ 0.    0.    0.    0.    0.    0.    0.    0.    0.  ]]\n"
     ]
    }
   ],
   "source": [
    "# 축소된 행렬 UxSxVT하면 기존 A와는 다른 결과가 나온다\n",
    "# 값이 손실되었기 때문에 복구 불가.\n",
    "A_prime=np.dot(np.dot(U,S),VT)\n",
    "print(A)\n",
    "print(A_prime.round(2))"
   ]
  },
  {
   "cell_type": "code",
   "execution_count": 25,
   "metadata": {},
   "outputs": [],
   "source": [
    "## 실습 (LSA)\n",
    "## 데이터 : 사이킷런에서는 Twenty Newsgroups이라고 불리는 20개의 다른 주제를 가진 뉴스 그룹\n",
    "# 데이터 제공\n",
    "import pandas as pd\n",
    "from sklearn.datasets import fetch_20newsgroups\n",
    "import nltk\n",
    "from nltk.corpus import stopwords\n",
    "from sklearn.feature_extraction.text import TfidfVectorizer\n",
    "from sklearn.decomposition import TruncatedSVD\n"
   ]
  },
  {
   "cell_type": "code",
   "execution_count": 32,
   "metadata": {},
   "outputs": [
    {
     "name": "stdout",
     "output_type": "stream",
     "text": [
      "샘플의 수  11314\n"
     ]
    },
    {
     "data": {
      "text/plain": [
       "\"\\n\\n\\n\\n\\n\\n\\nYeah, do you expect people to read the FAQ, etc. and actually accept hard\\natheism?  No, you need a little leap of faith, Jimmy.  Your logic runs out\\nof steam!\\n\\n\\n\\n\\n\\n\\n\\nJim,\\n\\nSorry I can't pity you, Jim.  And I'm sorry that you have these feelings of\\ndenial about the faith you need to get by.  Oh well, just pretend that it will\\nall end happily ever after anyway.  Maybe if you start a new newsgroup,\\nalt.atheist.hard, you won't be bummin' so much?\\n\\n\\n\\n\\n\\n\\nBye-Bye, Big Jim.  Don't forget your Flintstone's Chewables!  :) \\n--\\nBake Timmons, III\""
      ]
     },
     "execution_count": 32,
     "metadata": {},
     "output_type": "execute_result"
    }
   ],
   "source": [
    "dataset=fetch_20newsgroups(shuffle=True, random_state=1, remove=('headers','footers','quotes'))\n",
    "documents=dataset.data\n",
    "print('샘플의 수 ',len(documents))\n",
    "documents[1]"
   ]
  },
  {
   "cell_type": "code",
   "execution_count": 34,
   "metadata": {},
   "outputs": [
    {
     "name": "stdout",
     "output_type": "stream",
     "text": [
      "['alt.atheism', 'comp.graphics', 'comp.os.ms-windows.misc', 'comp.sys.ibm.pc.hardware', 'comp.sys.mac.hardware', 'comp.windows.x', 'misc.forsale', 'rec.autos', 'rec.motorcycles', 'rec.sport.baseball', 'rec.sport.hockey', 'sci.crypt', 'sci.electronics', 'sci.med', 'sci.space', 'soc.religion.christian', 'talk.politics.guns', 'talk.politics.mideast', 'talk.politics.misc', 'talk.religion.misc']\n"
     ]
    },
    {
     "data": {
      "text/plain": [
       "17"
      ]
     },
     "execution_count": 34,
     "metadata": {},
     "output_type": "execute_result"
    }
   ],
   "source": [
    "print(dataset.target_names)\n",
    "dataset.target[0]       # dataset 0번째에 있는 타겟의 target_names를 인덱스로 표시"
   ]
  },
  {
   "cell_type": "code",
   "execution_count": 44,
   "metadata": {},
   "outputs": [
    {
     "name": "stderr",
     "output_type": "stream",
     "text": [
      "C:\\Users\\djagk\\AppData\\Local\\Temp\\ipykernel_4324\\3487405421.py:4: FutureWarning: The default value of regex will change from True to False in a future version.\n",
      "  news_df['clean_doc']=news_df['document'].str.replace('[^a-zA-Z]',' ')   # 영문자 아닌 것들을 여백 처리\n"
     ]
    },
    {
     "data": {
      "text/plain": [
       "'well sure about story seem biased what disagree with your statement that media ruin israels reputation that rediculous media most israeli media world having lived europe realize that incidences such described letter have occured media whole seem ignore them subsidizing israels existance europeans least same degree think that might reason they report more clearly atrocities what shame that austria daily reports inhuman acts commited israeli soldiers blessing received from government makes some holocaust guilt away after look jews treating other races when they power unfortunate'"
      ]
     },
     "execution_count": 44,
     "metadata": {},
     "output_type": "execute_result"
    }
   ],
   "source": [
    "## 텍스트 전처리\n",
    "news_df=pd.DataFrame({'document':documents})\n",
    "# 특수문자 제거\n",
    "news_df['clean_doc']=news_df['document'].str.replace('[^a-zA-Z]',' ')   # 영문자 아닌 것들을 여백 처리\n",
    "\n",
    "# 길이가 3 이하인 단어 제거(길이 짧은 단어 제거)\n",
    "news_df['clean_doc']=news_df['clean_doc'].apply(lambda x : ' '.join([w for w in x.split() if len(w)>3]))\n",
    "news_df['clean_doc'][0]\n",
    "\n",
    "# 전체 단어에 대한 소문자 변환\n",
    "news_df['clean_doc']=news_df['clean_doc'].apply(lambda x: x.lower())\n",
    "\n",
    "news_df['clean_doc'][0]"
   ]
  },
  {
   "cell_type": "code",
   "execution_count": 50,
   "metadata": {},
   "outputs": [
    {
     "name": "stdout",
     "output_type": "stream",
     "text": [
      "['well', 'sure', 'about', 'story', 'seem', 'biased', 'what', 'disagree', 'with', 'your', 'statement', 'that', 'media', 'ruin', 'israels', 'reputation', 'that', 'rediculous', 'media', 'most', 'israeli', 'media', 'world', 'having', 'lived', 'europe', 'realize', 'that', 'incidences', 'such', 'described', 'letter', 'have', 'occured', 'media', 'whole', 'seem', 'ignore', 'them', 'subsidizing', 'israels', 'existance', 'europeans', 'least', 'same', 'degree', 'think', 'that', 'might', 'reason', 'they', 'report', 'more', 'clearly', 'atrocities', 'what', 'shame', 'that', 'austria', 'daily', 'reports', 'inhuman', 'acts', 'commited', 'israeli', 'soldiers', 'blessing', 'received', 'from', 'government', 'makes', 'some', 'holocaust', 'guilt', 'away', 'after', 'look', 'jews', 'treating', 'other', 'races', 'when', 'they', 'power', 'unfortunate']\n",
      "['well', 'sure', 'story', 'seem', 'biased', 'disagree', 'statement', 'media', 'ruin', 'israels', 'reputation', 'rediculous', 'media', 'israeli', 'media', 'world', 'lived', 'europe', 'realize', 'incidences', 'described', 'letter', 'occured', 'media', 'whole', 'seem', 'ignore', 'subsidizing', 'israels', 'existance', 'europeans', 'least', 'degree', 'think', 'might', 'reason', 'report', 'clearly', 'atrocities', 'shame', 'austria', 'daily', 'reports', 'inhuman', 'acts', 'commited', 'israeli', 'soldiers', 'blessing', 'received', 'government', 'makes', 'holocaust', 'guilt', 'away', 'look', 'jews', 'treating', 'races', 'power', 'unfortunate']\n"
     ]
    }
   ],
   "source": [
    "## NLTK를 사용하여 불용어 제거\n",
    "stop_words=stopwords.words('english')\n",
    "tokenized_doc=news_df['clean_doc'].apply(lambda x:x.split())    # 토큰화\n",
    "print(tokenized_doc[0])\n",
    "tokenized_doc=tokenized_doc.apply(lambda x :[item for item in x if item not in stop_words])\n",
    "print(tokenized_doc[0])"
   ]
  },
  {
   "cell_type": "code",
   "execution_count": 51,
   "metadata": {},
   "outputs": [
    {
     "name": "stdout",
     "output_type": "stream",
     "text": [
      "['yeah', 'expect', 'people', 'read', 'actually', 'accept', 'hard', 'atheism', 'need', 'little', 'leap', 'faith', 'jimmy', 'logic', 'runs', 'steam', 'sorry', 'pity', 'sorry', 'feelings', 'denial', 'faith', 'need', 'well', 'pretend', 'happily', 'ever', 'anyway', 'maybe', 'start', 'newsgroup', 'atheist', 'hard', 'bummin', 'much', 'forget', 'flintstone', 'chewables', 'bake', 'timmons']\n"
     ]
    }
   ],
   "source": [
    "print(tokenized_doc[1])"
   ]
  },
  {
   "cell_type": "code",
   "execution_count": 52,
   "metadata": {},
   "outputs": [],
   "source": [
    "## TF-IDF 행렬 만들기\n",
    "# 역토큰화\n",
    "detokenized_doc=[]\n",
    "for i in range(len(news_df)):\n",
    "    t=' '.join(tokenized_doc[i])\n",
    "    detokenized_doc.append(t)\n",
    "news_df['clean_doc']=detokenized_doc"
   ]
  },
  {
   "cell_type": "code",
   "execution_count": 54,
   "metadata": {},
   "outputs": [
    {
     "data": {
      "text/plain": [
       "'yeah expect people read actually accept hard atheism need little leap faith jimmy logic runs steam sorry pity sorry feelings denial faith need well pretend happily ever anyway maybe start newsgroup atheist hard bummin much forget flintstone chewables bake timmons'"
      ]
     },
     "execution_count": 54,
     "metadata": {},
     "output_type": "execute_result"
    }
   ],
   "source": [
    "news_df['clean_doc'][1]"
   ]
  },
  {
   "cell_type": "code",
   "execution_count": 57,
   "metadata": {},
   "outputs": [
    {
     "name": "stdout",
     "output_type": "stream",
     "text": [
      "(11314, 1000)\n"
     ]
    }
   ],
   "source": [
    "vectorizer=TfidfVectorizer(stop_words='english',max_features=1000,max_df=0.5, smooth_idf=True)# 상위 1000개의 단어 보존\n",
    "# max_df : 0.0~1.0 사이의 값을 쓰고, 최대 문서에 걸친 포함된 단어 까지 단어 꾸러미에 담아 꾸러미에 담아 사용할지 결정\n",
    "X=vectorizer.fit_transform(news_df['clean_doc'])\n",
    "# TF-IDF 행렬의 크기 확인\n",
    "print(X.shape)\n",
    "# 빈도수 조회 끝\n"
   ]
  },
  {
   "cell_type": "code",
   "execution_count": 76,
   "metadata": {},
   "outputs": [
    {
     "data": {
      "text/plain": [
       "(20, 1000)"
      ]
     },
     "execution_count": 76,
     "metadata": {},
     "output_type": "execute_result"
    }
   ],
   "source": [
    "# 토픽 모델링(Topic 모델링)\n",
    "svd_model=TruncatedSVD(n_components=20,algorithm='randomized',n_iter=100,random_state=122)\n",
    "svd_model.fit(X)\n",
    "len(svd_model.components_)  # VT\n",
    "np.shape(svd_model.components_)\n"
   ]
  },
  {
   "cell_type": "code",
   "execution_count": 77,
   "metadata": {},
   "outputs": [
    {
     "data": {
      "text/plain": [
       "array([[ 0.01469447,  0.05019033,  0.02132607, ...,  0.07865965,\n",
       "         0.01432356,  0.01788786],\n",
       "       [-0.00535706,  0.01653897, -0.01644943, ..., -0.0635444 ,\n",
       "        -0.01063538, -0.01905089],\n",
       "       [ 0.00172364, -0.00364954, -0.01799981, ...,  0.05876243,\n",
       "         0.0262722 ,  0.02236444],\n",
       "       ...,\n",
       "       [-0.01119135,  0.00486264,  0.00307659, ...,  0.01869445,\n",
       "        -0.00064808,  0.00032117],\n",
       "       [ 0.00206029,  0.01546828,  0.01100956, ..., -0.09165235,\n",
       "        -0.00111648, -0.00530245],\n",
       "       [ 0.00197576, -0.03695809, -0.00546641, ...,  0.03533267,\n",
       "        -0.01475702, -0.0039975 ]])"
      ]
     },
     "execution_count": 77,
     "metadata": {},
     "output_type": "execute_result"
    }
   ],
   "source": [
    "svd_model.components_"
   ]
  },
  {
   "cell_type": "code",
   "execution_count": 87,
   "metadata": {},
   "outputs": [
    {
     "name": "stdout",
     "output_type": "stream",
     "text": [
      "Topic 1 :  [('like', 0.21386), ('know', 0.20046), ('people', 0.19293), ('think', 0.17805), ('good', 0.15128), ('time', 0.14446), ('thanks', 0.11628), ('make', 0.10882), ('right', 0.10738), ('want', 0.10442)]\n",
      "Topic 2 :  [('thanks', 0.32888), ('windows', 0.29088), ('card', 0.18069), ('drive', 0.17455), ('mail', 0.15111), ('file', 0.14635), ('advance', 0.12511), ('files', 0.11487), ('software', 0.11349), ('program', 0.10547)]\n",
      "Topic 3 :  [('game', 0.37064), ('team', 0.32443), ('year', 0.28154), ('games', 0.2537), ('season', 0.18419), ('players', 0.16017), ('good', 0.1571), ('play', 0.1506), ('hockey', 0.13785), ('league', 0.12008)]\n",
      "Topic 4 :  [('drive', 0.53324), ('scsi', 0.20165), ('hard', 0.15628), ('disk', 0.15578), ('card', 0.13994), ('drives', 0.13826), ('problem', 0.10965), ('controller', 0.10235), ('floppy', 0.09604), ('power', 0.0769)]\n",
      "Topic 5 :  [('windows', 0.40399), ('file', 0.25436), ('window', 0.18044), ('files', 0.16078), ('program', 0.13894), ('using', 0.12616), ('problem', 0.10016), ('running', 0.08981), ('version', 0.08885), ('team', 0.08705)]\n",
      "Topic 6 :  [('chip', 0.16114), ('government', 0.16009), ('mail', 0.15625), ('space', 0.1507), ('information', 0.13562), ('encryption', 0.12884), ('data', 0.12744), ('sale', 0.1195), ('email', 0.11852), ('clipper', 0.11845)]\n",
      "Topic 7 :  [('like', 0.67086), ('bike', 0.14236), ('chip', 0.11169), ('know', 0.11139), ('sounds', 0.10371), ('looks', 0.07976), ('look', 0.07234), ('sure', 0.06585), ('clipper', 0.0636), ('going', 0.05478)]\n",
      "Topic 8 :  [('card', 0.46633), ('video', 0.22137), ('sale', 0.21266), ('monitor', 0.15463), ('offer', 0.14643), ('price', 0.1431), ('jesus', 0.13379), ('condition', 0.11763), ('good', 0.11334), ('drivers', 0.11274)]\n",
      "Topic 9 :  [('know', 0.46047), ('card', 0.33605), ('chip', 0.17558), ('government', 0.1522), ('video', 0.14356), ('people', 0.13463), ('clipper', 0.10747), ('encryption', 0.10131), ('right', 0.09629), ('drivers', 0.09379)]\n",
      "Topic 10 :  [('good', 0.42756), ('know', 0.23039), ('time', 0.1882), ('bike', 0.11406), ('jesus', 0.09027), ('problem', 0.08515), ('work', 0.06758), ('want', 0.06626), ('long', 0.0639), ('bible', 0.06167)]\n",
      "Topic 11 :  [('think', 0.78469), ('chip', 0.10899), ('good', 0.10635), ('thanks', 0.09123), ('clipper', 0.07946), ('encryption', 0.07732), ('need', 0.07462), ('mail', 0.06304), ('people', 0.06109), ('address', 0.05142)]\n",
      "Topic 12 :  [('thanks', 0.36824), ('good', 0.22729), ('right', 0.21559), ('bike', 0.21037), ('problem', 0.20894), ('people', 0.12745), ('time', 0.12276), ('window', 0.12023), ('advance', 0.10522), ('israel', 0.08975)]\n",
      "Topic 13 :  [('good', 0.36212), ('people', 0.33985), ('windows', 0.28385), ('know', 0.26232), ('file', 0.18422), ('sale', 0.16987), ('files', 0.14781), ('price', 0.12335), ('condition', 0.10872), ('offer', 0.10025)]\n",
      "Topic 14 :  [('space', 0.39946), ('think', 0.23258), ('know', 0.18074), ('nasa', 0.15174), ('problem', 0.12957), ('year', 0.12505), ('israel', 0.10161), ('time', 0.09354), ('years', 0.08695), ('shuttle', 0.07667)]\n",
      "Topic 15 :  [('space', 0.31613), ('good', 0.3094), ('card', 0.22603), ('people', 0.17476), ('time', 0.14496), ('nasa', 0.11782), ('thanks', 0.11629), ('year', 0.10766), ('like', 0.10266), ('video', 0.09239)]\n",
      "Topic 16 :  [('people', 0.48156), ('problem', 0.19961), ('window', 0.15281), ('time', 0.14664), ('game', 0.12871), ('want', 0.07888), ('work', 0.07543), ('using', 0.07484), ('bike', 0.06819), ('server', 0.05884)]\n",
      "Topic 17 :  [('time', 0.34465), ('bike', 0.27303), ('right', 0.25557), ('windows', 0.1997), ('file', 0.19118), ('need', 0.11655), ('really', 0.10747), ('files', 0.10387), ('card', 0.09901), ('going', 0.09296)]\n",
      "Topic 18 :  [('time', 0.5973), ('problem', 0.15504), ('file', 0.14956), ('think', 0.12847), ('israel', 0.10903), ('long', 0.09144), ('mail', 0.0865), ('armenian', 0.06915), ('address', 0.06653), ('email', 0.06428)]\n",
      "Topic 19 :  [('file', 0.44163), ('need', 0.26633), ('card', 0.18388), ('files', 0.17453), ('right', 0.15448), ('problem', 0.1454), ('good', 0.13167), ('game', 0.10946), ('want', 0.10892), ('help', 0.10513)]\n",
      "Topic 20 :  [('problem', 0.33006), ('file', 0.27651), ('thanks', 0.23578), ('used', 0.19206), ('space', 0.13185), ('chip', 0.12305), ('sale', 0.11131), ('files', 0.09609), ('game', 0.09057), ('offer', 0.08564)]\n"
     ]
    }
   ],
   "source": [
    "terms=vectorizer.get_feature_names()    # 단어 집합. 1000개의 단어가 저장됨\n",
    "def get_topics(components,feature_names,n=5):\n",
    "    for idx,topic in enumerate(components):\n",
    "        print(f'Topic {idx+1} : ',[(feature_names[i],topic[i].round(5)) for i in topic.argsort()[:-n-6:-1]])\n",
    "get_topics(svd_model.components_,terms)"
   ]
  },
  {
   "cell_type": "code",
   "execution_count": null,
   "metadata": {},
   "outputs": [],
   "source": [
    "## LSA의 장담점\n",
    "# 쉽고 빠르게 구현이 가능할 뿐만 아니라 단어의 잠재적 의미를 끌어낼 수 잇어 문서의 유사도 계산 등에서 좋은 성능 보여줌\n",
    "# 그러나 이미 게산된 LSA에 새로운 데이터를 추가하여 계산하려고 하면 보통 처음부터 다시 계산해야 함.\n",
    "# -> 즉 새로운 정보에 대해 업데이트가 어려움"
   ]
  },
  {
   "cell_type": "code",
   "execution_count": null,
   "metadata": {},
   "outputs": [],
   "source": [
    "# 2) 잠재 디리클레 할당(Latent Dirichlet Allocation, LDA)\n",
    "# 문서 집합에서 토픽을 찾아내는 프로세스\n",
    "# 검색 엔진, 고객 민원 시스템 등과 같이 문서의 주제를 알아내는 일이 중요한 곳에서 사용\n",
    "# 토픽들의 혼합으로 구성되어져 있으며, 토픽들은 확률 분포에 기반하여 단어들을 생성한다고 가정합니다.\n",
    "# 데이터가 주어지면 LDA는 문서가 생성되던 과정을 역추적 합니다.\n",
    "\n",
    "# 참고링크 : https://lettier.com/projects/lda-topic-modeling/"
   ]
  },
  {
   "cell_type": "code",
   "execution_count": 88,
   "metadata": {},
   "outputs": [
    {
     "data": {
      "text/plain": [
       "0    [well, sure, story, seem, biased, disagree, st...\n",
       "1    [yeah, expect, people, read, actually, accept,...\n",
       "2    [although, realize, principle, strongest, poin...\n",
       "3    [notwithstanding, legitimate, fuss, proposal, ...\n",
       "4    [well, change, scoring, playoff, pool, unfortu...\n",
       "Name: clean_doc, dtype: object"
      ]
     },
     "execution_count": 88,
     "metadata": {},
     "output_type": "execute_result"
    }
   ],
   "source": [
    "# 개요\n",
    "# LDA를 일종의 블랙박스로 보고 , LDA에 문서 집합을 입력하면, 어떤 결과를 보여주는가 보면..\n",
    "\n",
    "# 실습 : 전처리 과정은 LSA와 동일\n",
    "\n",
    "tokenized_doc[:5]"
   ]
  },
  {
   "cell_type": "code",
   "execution_count": 91,
   "metadata": {},
   "outputs": [
    {
     "name": "stdout",
     "output_type": "stream",
     "text": [
      "[(52, 1), (55, 1), (56, 1), (57, 1), (58, 1), (59, 1), (60, 1), (61, 1), (62, 1), (63, 1), (64, 1), (65, 1), (66, 2), (67, 1), (68, 1), (69, 1), (70, 1), (71, 2), (72, 1), (73, 1), (74, 1), (75, 1), (76, 1), (77, 1), (78, 2), (79, 1), (80, 1), (81, 1), (82, 1), (83, 1), (84, 1), (85, 2), (86, 1), (87, 1), (88, 1), (89, 1)]\n"
     ]
    }
   ],
   "source": [
    "# (word_id,word_frequency) 형태로 변환\n",
    "# word_id는 단어ㅓ가 정수 인코딩된 값\n",
    "from gensim import corpora\n",
    "dictionary=corpora.Dictionary(tokenized_doc)\n",
    "corpus=[dictionary.doc2bow(text) for text in tokenized_doc]\n",
    "print(corpus[1])"
   ]
  },
  {
   "cell_type": "code",
   "execution_count": 92,
   "metadata": {},
   "outputs": [
    {
     "name": "stdout",
     "output_type": "stream",
     "text": [
      "faith\n"
     ]
    }
   ],
   "source": [
    "print(dictionary[66])"
   ]
  },
  {
   "cell_type": "code",
   "execution_count": 93,
   "metadata": {},
   "outputs": [
    {
     "data": {
      "text/plain": [
       "64281"
      ]
     },
     "execution_count": 93,
     "metadata": {},
     "output_type": "execute_result"
    }
   ],
   "source": [
    "len(dictionary)"
   ]
  },
  {
   "cell_type": "code",
   "execution_count": 95,
   "metadata": {},
   "outputs": [
    {
     "name": "stdout",
     "output_type": "stream",
     "text": [
      "(0, '0.016*\"armenian\" + 0.014*\"armenians\" + 0.014*\"said\" + 0.011*\"turkish\"')\n",
      "(1, '0.049*\"space\" + 0.018*\"nasa\" + 0.011*\"launch\" + 0.010*\"earth\"')\n",
      "(2, '0.024*\"drive\" + 0.019*\"card\" + 0.016*\"disk\" + 0.015*\"scsi\"')\n",
      "(3, '0.014*\"gordon\" + 0.013*\"pitt\" + 0.013*\"picture\" + 0.012*\"banks\"')\n",
      "(4, '0.016*\"kent\" + 0.013*\"cheers\" + 0.006*\"turbo\" + 0.006*\"robinson\"')\n",
      "(5, '0.010*\"health\" + 0.008*\"medical\" + 0.007*\"years\" + 0.007*\"pain\"')\n",
      "(6, '0.012*\"information\" + 0.011*\"university\" + 0.009*\"research\" + 0.008*\"list\"')\n",
      "(7, '0.022*\"would\" + 0.018*\"like\" + 0.016*\"know\" + 0.013*\"think\"')\n",
      "(8, '0.016*\"smith\" + 0.013*\"colorado\" + 0.010*\"smokeless\" + 0.010*\"david\"')\n",
      "(9, '0.009*\"jesus\" + 0.007*\"would\" + 0.007*\"believe\" + 0.006*\"people\"')\n",
      "(10, '0.009*\"part\" + 0.008*\"rows\" + 0.007*\"processors\" + 0.007*\"rumor\"')\n",
      "(11, '0.027*\"insurance\" + 0.011*\"weaver\" + 0.009*\"outlet\" + 0.008*\"cryptanalysis\"')\n",
      "(12, '0.010*\"ground\" + 0.010*\"power\" + 0.008*\"wire\" + 0.008*\"engine\"')\n",
      "(13, '0.016*\"president\" + 0.009*\"government\" + 0.009*\"states\" + 0.009*\"guns\"')\n",
      "(14, '0.016*\"hockey\" + 0.016*\"play\" + 0.014*\"period\" + 0.009*\"pittsburgh\"')\n",
      "(15, '0.020*\"sale\" + 0.020*\"bike\" + 0.018*\"price\" + 0.017*\"offer\"')\n",
      "(16, '0.014*\"file\" + 0.010*\"windows\" + 0.010*\"program\" + 0.007*\"files\"')\n",
      "(17, '0.011*\"chip\" + 0.011*\"encryption\" + 0.009*\"keys\" + 0.009*\"system\"')\n",
      "(18, '0.025*\"game\" + 0.025*\"year\" + 0.021*\"games\" + 0.021*\"team\"')\n",
      "(19, '0.016*\"people\" + 0.012*\"would\" + 0.005*\"many\" + 0.005*\"even\"')\n"
     ]
    }
   ],
   "source": [
    "# LDA 모델 훈련 시키기\n",
    "import gensim\n",
    "NUM_TOPICS=20\n",
    "ldamodel=gensim.models.ldamodel.LdaModel(corpus,num_topics=NUM_TOPICS, id2word=dictionary,passes=15)    \n",
    "#passes학습 횟수\n",
    "topics=ldamodel.print_topics(num_words=4)\n",
    "for topic in topics:\n",
    "    print(topic)"
   ]
  },
  {
   "cell_type": "code",
   "execution_count": null,
   "metadata": {},
   "outputs": [],
   "source": [
    "## LDA 시각화 하기(pyLDAVis)\n",
    "!pip install pyLDAvis"
   ]
  },
  {
   "cell_type": "code",
   "execution_count": 97,
   "metadata": {},
   "outputs": [
    {
     "name": "stderr",
     "output_type": "stream",
     "text": [
      "c:\\Users\\djagk\\AppData\\Local\\Programs\\Python\\Python310\\lib\\site-packages\\pyLDAvis\\_prepare.py:247: FutureWarning: In a future version of pandas all arguments of DataFrame.drop except for the argument 'labels' will be keyword-only.\n",
      "  by='saliency', ascending=False).head(R).drop('saliency', 1)\n"
     ]
    },
    {
     "data": {
      "text/html": [
       "\n",
       "<link rel=\"stylesheet\" type=\"text/css\" href=\"https://cdn.jsdelivr.net/gh/bmabey/pyLDAvis@3.3.1/pyLDAvis/js/ldavis.v1.0.0.css\">\n",
       "\n",
       "\n",
       "<div id=\"ldavis_el432427499201947688579812984\"></div>\n",
       "<script type=\"text/javascript\">\n",
       "\n",
       "var ldavis_el432427499201947688579812984_data = {\"mdsDat\": {\"x\": [-0.26731190549132555, -0.24371161128268146, -0.22456097126199354, -0.23502223175610668, -0.08927452431296366, -0.14914133167386087, -0.06076684027444787, -0.09593114766494848, -0.07080287022570728, -0.05953083106947725, 0.015278565564905078, 0.012701215960079169, 0.05478015327926304, 0.13478694935259714, 0.08496616674326261, 0.24920080691339294, 0.2246479585121894, 0.22867433338260346, 0.2407029186031267, 0.25031519670209285], \"y\": [-0.04399439408887038, -0.08420856855835693, 0.15387953258810644, -0.044863290263309506, 0.03663205568839614, 0.11080752296821124, -0.20034291256358827, 0.22288548005798023, -0.11413808545227032, -0.06451216328029125, -0.17901494736441237, 0.14886755184574377, 0.018905777192317234, -0.15504531446544906, 0.111381121432853, 0.02014855264444129, 0.011808301413266208, 0.005477414189872666, 0.02272776554708732, 0.022598600468272032], \"topics\": [1, 2, 3, 4, 5, 6, 7, 8, 9, 10, 11, 12, 13, 14, 15, 16, 17, 18, 19, 20], \"cluster\": [1, 1, 1, 1, 1, 1, 1, 1, 1, 1, 1, 1, 1, 1, 1, 1, 1, 1, 1, 1], \"Freq\": [16.464612973991912, 15.105173466043132, 13.63221458164952, 11.585245122666906, 6.09425154843928, 5.021266699357183, 4.505737301465886, 4.207609470160191, 4.15969777190597, 4.047812044884394, 2.7541728318542735, 2.6492746750981575, 2.637086106810536, 2.3089746653254144, 1.6406336566568258, 0.819931501814481, 0.7958403334652158, 0.7224934616294522, 0.48238923417787527, 0.3655825526033854]}, \"tinfo\": {\"Term\": [\"space\", \"drive\", \"people\", \"file\", \"good\", \"would\", \"year\", \"think\", \"know\", \"system\", \"game\", \"like\", \"said\", \"windows\", \"card\", \"information\", \"used\", \"team\", \"armenian\", \"jesus\", \"government\", \"program\", \"please\", \"president\", \"disk\", \"games\", \"part\", \"scsi\", \"power\", \"last\", \"karina\", \"autos\", \"truck\", \"cooper\", \"ford\", \"gonna\", \"flame\", \"guys\", \"nasty\", \"civic\", \"goaltender\", \"seasons\", \"babies\", \"gotta\", \"uncle\", \"rush\", \"cherry\", \"gainey\", \"coding\", \"swing\", \"drain\", \"dealership\", \"chase\", \"knock\", \"volvo\", \"aggression\", \"carbs\", \"chrysler\", \"hurts\", \"ninja\", \"crazy\", \"lift\", \"mounted\", \"shit\", \"cool\", \"yeah\", \"maybe\", \"getting\", \"pretty\", \"folks\", \"going\", \"really\", \"dealer\", \"know\", \"hear\", \"thing\", \"heard\", \"like\", \"back\", \"anyway\", \"guess\", \"think\", \"something\", \"someone\", \"good\", \"little\", \"remember\", \"around\", \"could\", \"sounds\", \"much\", \"would\", \"money\", \"better\", \"want\", \"anyone\", \"sure\", \"time\", \"well\", \"enough\", \"take\", \"tell\", \"probably\", \"right\", \"even\", \"still\", \"things\", \"make\", \"work\", \"look\", \"also\", \"people\", \"israeli\", \"israel\", \"arab\", \"koresh\", \"tobacco\", \"islamic\", \"palestinian\", \"arabs\", \"guilty\", \"sexual\", \"hitler\", \"lebanon\", \"palestine\", \"palestinians\", \"sabbath\", \"israelis\", \"bosnia\", \"lebanese\", \"prophecy\", \"holocaust\", \"gaza\", \"powers\", \"syria\", \"messiah\", \"criticism\", \"arrest\", \"serbs\", \"courts\", \"african\", \"zionist\", \"jews\", \"jewish\", \"threat\", \"responsibility\", \"defend\", \"freedom\", \"countries\", \"country\", \"trial\", \"peace\", \"rights\", \"murder\", \"people\", \"land\", \"civil\", \"anti\", \"society\", \"attacks\", \"situation\", \"state\", \"political\", \"would\", \"fact\", \"many\", \"government\", \"case\", \"human\", \"even\", \"force\", \"world\", \"right\", \"without\", \"make\", \"years\", \"well\", \"like\", \"must\", \"also\", \"think\", \"could\", \"time\", \"since\", \"never\", \"however\", \"first\", \"much\", \"server\", \"graphics\", \"display\", \"motif\", \"widget\", \"jpeg\", \"contrib\", \"entries\", \"xterm\", \"postscript\", \"client\", \"font\", \"fonts\", \"colors\", \"uuencode\", \"xlib\", \"widgets\", \"formats\", \"echo\", \"clients\", \"characters\", \"routines\", \"toolkit\", \"patch\", \"displays\", \"binaries\", \"pixel\", \"shareware\", \"platforms\", \"menu\", \"windows\", \"entry\", \"visual\", \"file\", \"files\", \"unix\", \"directory\", \"window\", \"color\", \"screen\", \"image\", \"comp\", \"version\", \"info\", \"format\", \"application\", \"null\", \"program\", \"software\", \"user\", \"code\", \"output\", \"available\", \"export\", \"using\", \"line\", \"thanks\", \"source\", \"also\", \"mail\", \"information\", \"please\", \"help\", \"system\", \"name\", \"like\", \"jesus\", \"bible\", \"christians\", \"faith\", \"christ\", \"christianity\", \"belief\", \"lord\", \"matthew\", \"beliefs\", \"atheism\", \"atheists\", \"universe\", \"morality\", \"judas\", \"eternal\", \"religions\", \"catholic\", \"scripture\", \"atheist\", \"biblical\", \"doctrine\", \"pope\", \"worship\", \"passages\", \"satan\", \"divine\", \"resurrection\", \"revelation\", \"testament\", \"church\", \"christian\", \"holy\", \"heaven\", \"spirit\", \"religion\", \"truth\", \"context\", \"islam\", \"objective\", \"argument\", \"believe\", \"exist\", \"meaning\", \"word\", \"life\", \"true\", \"evidence\", \"therefore\", \"must\", \"book\", \"point\", \"things\", \"many\", \"think\", \"question\", \"people\", \"would\", \"science\", \"even\", \"also\", \"world\", \"know\", \"mean\", \"time\", \"good\", \"find\", \"read\", \"newsletter\", \"proceedings\", \"bitnet\", \"avenue\", \"hicnet\", \"terminals\", \"listserv\", \"maryland\", \"courses\", \"prof\", \"explorer\", \"init\", \"sockets\", \"presentations\", \"feedback\", \"icons\", \"laboratories\", \"dept\", \"addresses\", \"atlas\", \"impulse\", \"bethesda\", \"seminar\", \"lawrence\", \"partition\", \"princeton\", \"mechanisms\", \"yale\", \"subscription\", \"wisconsin\", \"university\", \"speakers\", \"centers\", \"educational\", \"mailing\", \"academic\", \"internet\", \"institute\", \"research\", \"australia\", \"monthly\", \"visualization\", \"projects\", \"june\", \"anonymous\", \"formerly\", \"anon\", \"service\", \"center\", \"conference\", \"services\", \"national\", \"contact\", \"information\", \"request\", \"california\", \"list\", \"address\", \"newsgroups\", \"page\", \"send\", \"news\", \"technical\", \"april\", \"washington\", \"international\", \"analysis\", \"mail\", \"technology\", \"available\", \"general\", \"computer\", \"group\", \"email\", \"data\", \"systems\", \"users\", \"posting\", \"also\", \"public\", \"program\", \"encryption\", \"clipper\", \"privacy\", \"ripem\", \"escrow\", \"cryptography\", \"encrypted\", \"crypto\", \"voltage\", \"crypt\", \"wiretap\", \"phones\", \"keys\", \"cipher\", \"slots\", \"cryptographic\", \"classified\", \"analog\", \"plaintext\", \"decrypt\", \"cryptology\", \"ciphertext\", \"denning\", \"telecommunications\", \"purchasing\", \"cryptosystem\", \"encrypt\", \"proprietary\", \"manufactured\", \"hellman\", \"secure\", \"cellular\", \"algorithm\", \"chip\", \"scheme\", \"security\", \"secret\", \"equipment\", \"random\", \"communications\", \"enforcement\", \"voice\", \"technology\", \"agencies\", \"phone\", \"device\", \"public\", \"system\", \"block\", \"data\", \"government\", \"used\", \"access\", \"message\", \"number\", \"chips\", \"information\", \"using\", \"standard\", \"need\", \"computer\", \"would\", \"armenian\", \"armenians\", \"turkish\", \"turkey\", \"armenia\", \"turks\", \"genocide\", \"apartment\", \"azerbaijan\", \"henrik\", \"azerbaijani\", \"sumgait\", \"greece\", \"karabakh\", \"republic\", \"burned\", \"argic\", \"ottoman\", \"serdar\", \"massacre\", \"azeri\", \"mamma\", \"baku\", \"azerbaijanis\", \"cyprus\", \"azeris\", \"kurds\", \"istanbul\", \"wounded\", \"planes\", \"greeks\", \"easter\", \"soldiers\", \"greek\", \"daughter\", \"soviet\", \"killed\", \"russian\", \"muslim\", \"went\", \"said\", \"women\", \"came\", \"children\", \"people\", \"started\", \"town\", \"dead\", \"city\", \"took\", \"told\", \"three\", \"building\", \"first\", \"left\", \"scsi\", \"drives\", \"controller\", \"printf\", \"char\", \"motherboard\", \"bios\", \"simms\", \"cache\", \"ports\", \"exit\", \"adaptec\", \"quadra\", \"connector\", \"eisa\", \"rockefeller\", \"clone\", \"jumper\", \"centris\", \"pins\", \"jumpers\", \"simm\", \"temp\", \"powerbook\", \"sync\", \"cmos\", \"patent\", \"controllers\", \"interrupt\", \"floppy\", \"card\", \"adapter\", \"drive\", \"disk\", \"monitor\", \"modem\", \"boot\", \"port\", \"apple\", \"video\", \"stream\", \"cards\", \"upgrade\", \"memory\", \"vesa\", \"tape\", \"board\", \"mode\", \"external\", \"hard\", \"driver\", \"drivers\", \"switch\", \"serial\", \"system\", \"cable\", \"speed\", \"computer\", \"output\", \"problem\", \"sound\", \"data\", \"work\", \"jobs\", \"firearms\", \"amendment\", \"constitution\", \"senate\", \"firearm\", \"assault\", \"handgun\", \"homicide\", \"liar\", \"senator\", \"republicans\", \"concealed\", \"rkba\", \"regulated\", \"president\", \"homicides\", \"congress\", \"weapon\", \"stimulus\", \"males\", \"laughter\", \"reagan\", \"isaiah\", \"jefferson\", \"dole\", \"briefing\", \"arafat\", \"reich\", \"premises\", \"militia\", \"guns\", \"ships\", \"clinton\", \"batf\", \"federal\", \"constitutional\", \"senior\", \"secretary\", \"investment\", \"economy\", \"funds\", \"bush\", \"weapons\", \"united\", \"states\", \"administration\", \"crime\", \"bill\", \"police\", \"arms\", \"house\", \"american\", \"government\", \"control\", \"defense\", \"state\", \"national\", \"white\", \"right\", \"year\", \"said\", \"going\", \"disease\", \"patients\", \"filename\", \"cancer\", \"diseases\", \"sports\", \"weekend\", \"aids\", \"espn\", \"patient\", \"diet\", \"eating\", \"syndrome\", \"infections\", \"infection\", \"surgery\", \"toyota\", \"shock\", \"cure\", \"clinical\", \"therapy\", \"foods\", \"chronic\", \"deaf\", \"smoking\", \"cuts\", \"rochester\", \"aunt\", \"shaft\", \"immune\", \"pain\", \"doctor\", \"medical\", \"health\", \"medicine\", \"drugs\", \"doctors\", \"food\", \"symptoms\", \"treatment\", \"drug\", \"linked\", \"brain\", \"increased\", \"cause\", \"years\", \"study\", \"among\", \"cross\", \"reported\", \"risk\", \"blood\", \"year\", \"body\", \"problems\", \"time\", \"also\", \"children\", \"three\", \"found\", \"baseball\", \"pitching\", \"cubs\", \"braves\", \"compass\", \"defensive\", \"fans\", \"hitter\", \"maine\", \"mets\", \"finals\", \"reds\", \"games\", \"innings\", \"football\", \"stadium\", \"pitched\", \"giants\", \"vernon\", \"erzurum\", \"lopez\", \"jays\", \"bury\", \"promo\", \"hamilton\", \"batting\", \"lineup\", \"awards\", \"orioles\", \"catcher\", \"winning\", \"wins\", \"stats\", \"score\", \"game\", \"season\", \"league\", \"players\", \"team\", \"player\", \"teams\", \"sharks\", \"career\", \"morris\", \"year\", \"hanging\", \"ball\", \"draft\", \"runs\", \"jose\", \"scored\", \"last\", \"playing\", \"lost\", \"average\", \"play\", \"points\", \"first\", \"home\", \"series\", \"pick\", \"best\", \"good\", \"played\", \"three\", \"myers\", \"wiring\", \"candida\", \"detector\", \"tube\", \"circuits\", \"temperature\", \"electrical\", \"illness\", \"brake\", \"aluminum\", \"conductor\", \"cylinder\", \"deck\", \"mechanical\", \"printers\", \"detectors\", \"yeast\", \"intake\", \"reactions\", \"fuse\", \"overhead\", \"sensor\", \"vacuum\", \"wordperfect\", \"zoom\", \"wires\", \"cassette\", \"pack\", \"excessive\", \"wire\", \"circuit\", \"motor\", \"height\", \"radar\", \"metal\", \"ground\", \"engine\", \"guidelines\", \"water\", \"holes\", \"antenna\", \"model\", \"noise\", \"power\", \"laser\", \"test\", \"speed\", \"high\", \"current\", \"used\", \"usually\", \"system\", \"using\", \"less\", \"light\", \"launch\", \"satellite\", \"shuttle\", \"orbit\", \"lunar\", \"solar\", \"satellites\", \"spacecraft\", \"launched\", \"mars\", \"planetary\", \"telescope\", \"ames\", \"radius\", \"propulsion\", \"orbital\", \"astronomy\", \"payload\", \"venus\", \"aerospace\", \"alomar\", \"observatory\", \"astro\", \"exploration\", \"titan\", \"hulk\", \"orbiter\", \"astronomical\", \"glutamate\", \"probes\", \"moon\", \"flight\", \"space\", \"nasa\", \"atmosphere\", \"probe\", \"missions\", \"rocket\", \"mission\", \"saturn\", \"earth\", \"station\", \"surface\", \"cover\", \"nuclear\", \"first\", \"data\", \"copies\", \"center\", \"montreal\", \"puck\", \"calgary\", \"scorer\", \"quebec\", \"flyers\", \"leafs\", \"islanders\", \"jersey\", \"hartford\", \"pens\", \"playoff\", \"winnipeg\", \"devils\", \"lemieux\", \"jets\", \"sweden\", \"bruins\", \"hawks\", \"lindros\", \"tampa\", \"hockey\", \"edmonton\", \"defenseman\", \"gilmour\", \"gretzky\", \"jagr\", \"blues\", \"recchi\", \"goalie\", \"pittsburgh\", \"kings\", \"playoffs\", \"detroit\", \"wings\", \"buffalo\", \"period\", \"play\", \"goal\", \"goals\", \"flames\", \"chicago\", \"rangers\", \"boston\", \"team\", \"toronto\", \"game\", \"power\", \"louis\", \"second\", \"first\", \"third\", \"division\", \"sale\", \"bike\", \"bikes\", \"plastic\", \"helmet\", \"cursor\", \"motorcycles\", \"outlets\", \"exhaust\", \"riders\", \"kong\", \"contracts\", \"harley\", \"leather\", \"hong\", \"boots\", \"lighter\", \"outline\", \"losses\", \"winfield\", \"panasonic\", \"queen\", \"shipping\", \"motorcycle\", \"boom\", \"rebuilt\", \"distributor\", \"laserwriter\", \"yamaha\", \"scratches\", \"riding\", \"grass\", \"offer\", \"plugs\", \"condition\", \"manuals\", \"ride\", \"asking\", \"brand\", \"excellent\", \"price\", \"honda\", \"selling\", \"sell\", \"miles\", \"rear\", \"tapes\", \"stereo\", \"interested\", \"manual\", \"rider\", \"best\", \"sold\", \"original\", \"please\", \"used\", \"email\", \"good\", \"included\", \"looking\", \"mail\", \"rows\", \"processors\", \"rumor\", \"moore\", \"adapters\", \"viola\", \"messenger\", \"unregistered\", \"fielder\", \"serpent\", \"tiger\", \"sucks\", \"loans\", \"bass\", \"clement\", \"telix\", \"corel\", \"belonging\", \"tippett\", \"anas\", \"davidsson\", \"sane\", \"himmler\", \"benchmarks\", \"bennett\", \"womb\", \"poland\", \"highlights\", \"claremont\", \"hmmmm\", \"bull\", \"gibson\", \"loan\", \"pseudo\", \"racing\", \"godhead\", \"part\", \"twin\", \"cell\", \"smokeless\", \"dodgers\", \"inning\", \"restaurant\", \"pitchers\", \"mask\", \"tigers\", \"bone\", \"burnt\", \"boggs\", \"capitol\", \"sandberg\", \"qemm\", \"eddie\", \"marijuana\", \"darkness\", \"cardinals\", \"willie\", \"wagon\", \"strawberry\", \"royals\", \"majors\", \"totals\", \"promotion\", \"representing\", \"bout\", \"wysiwyg\", \"ozzie\", \"darryl\", \"santo\", \"duke\", \"smith\", \"nolan\", \"colorado\", \"pitch\", \"peak\", \"wave\", \"netcom\", \"frank\", \"chinese\", \"david\", \"uiuc\", \"boys\", \"votes\", \"wood\", \"clemens\", \"mydisplay\", \"michael\", \"main\", \"detail\", \"hits\", \"gordon\", \"pitt\", \"skepticism\", \"intellect\", \"sleeve\", \"shameful\", \"ncsl\", \"cadre\", \"chastity\", \"phillies\", \"vitamin\", \"stewart\", \"kidney\", \"cincinnati\", \"torque\", \"powerpc\", \"runner\", \"redesign\", \"lyme\", \"gifs\", \"challenges\", \"homers\", \"mitre\", \"servant\", \"trades\", \"homer\", \"fires\", \"erase\", \"tempest\", \"walker\", \"banks\", \"surrender\", \"nist\", \"houston\", \"atlanta\", \"picture\", \"cleveland\", \"marc\", \"soon\", \"philadelphia\", \"bell\", \"friday\", \"insurance\", \"weaver\", \"outlet\", \"cryptanalysis\", \"idaho\", \"coprocessor\", \"confidential\", \"praying\", \"defamation\", \"assure\", \"payments\", \"inkjet\", \"celp\", \"lance\", \"defective\", \"cpus\", \"rtrace\", \"visa\", \"advise\", \"pliers\", \"accounting\", \"leftover\", \"paperwork\", \"exotic\", \"sidewalk\", \"resistant\", \"wireless\", \"homeopathy\", \"mindset\", \"repaired\", \"bare\", \"harris\", \"interior\", \"dennis\", \"pocket\", \"abortion\", \"private\", \"coverage\", \"hackers\", \"canada\", \"health\", \"rocks\", \"kent\", \"robinson\", \"bird\", \"forty\", \"dortmund\", \"beef\", \"alarm\", \"polish\", \"charlie\", \"thief\", \"protects\", \"fran\", \"conclusive\", \"prep\", \"dyer\", \"decnet\", \"blaster\", \"kariya\", \"protestant\", \"neural\", \"erich\", \"locking\", \"rainer\", \"sunroof\", \"walsh\", \"mccarthy\", \"cheek\", \"gehrels\", \"sing\", \"comeback\", \"seal\", \"cheers\", \"tomb\", \"oscillator\", \"disc\", \"turbo\", \"contacts\", \"technician\", \"graduate\"], \"Freq\": [1344.0, 1084.0, 4370.0, 1926.0, 2603.0, 6501.0, 1552.0, 3229.0, 3705.0, 2062.0, 832.0, 4218.0, 1905.0, 1306.0, 782.0, 1608.0, 2011.0, 767.0, 679.0, 982.0, 1261.0, 1663.0, 1547.0, 662.0, 698.0, 571.0, 1218.0, 609.0, 1135.0, 1394.0, 130.25422332503143, 79.27675558955636, 64.42374669104872, 59.673365197547774, 89.02936625280883, 46.27585959178478, 141.2120089097261, 198.51908410788516, 47.99294875635113, 40.11216297516804, 38.00160586257498, 36.2248336403777, 34.84239884795455, 34.38150945474487, 34.27483548488552, 34.12217737113687, 33.709608281985226, 33.434849761690074, 32.41974126212443, 32.24044039714689, 31.150664008466467, 30.806207373676013, 30.556286285928923, 30.04661439046916, 28.868672552600167, 28.81379452567868, 28.77480742174626, 28.595966466850903, 28.340945182222228, 27.063836662949917, 69.86714174700262, 49.14789051389096, 46.44271313911502, 78.80312600063709, 67.9864801846476, 178.42559888839298, 647.4463487902037, 578.3140197966064, 459.4709481442543, 194.71428689580404, 1150.6930120999484, 1179.546480162518, 122.10160551606623, 2539.969179789878, 276.29483047576866, 796.1819832603707, 524.1401083466227, 2788.934569809958, 1113.3335596938218, 350.5700982431687, 334.39217305793966, 2079.1312598996456, 1168.29059047261, 767.4607496429247, 1680.752808451323, 755.4236809413751, 491.8772467609416, 790.5673643672508, 1645.1777888592108, 212.19482387282312, 1374.9135739542862, 3451.4402692459917, 440.5965678590419, 824.6236647673613, 1117.9128546367485, 1022.1248877795173, 806.9617264405117, 1675.8031691986314, 1381.185704097246, 615.9141447504193, 840.147080702889, 602.553157378048, 669.0731238852967, 980.1125548173139, 1093.0010859755014, 801.1182965612281, 734.8346460404892, 908.6529435212491, 796.2012399929662, 684.0275509653115, 895.2643890012648, 781.9191877244524, 387.01599945046627, 630.1486381195865, 255.97756200976062, 197.99171134823158, 159.57429425888682, 134.11037044565853, 133.4563478413098, 121.08788949824502, 104.06814565729432, 95.92639131270741, 91.24451646641165, 87.72282011854783, 85.45816713962267, 81.42196013465951, 81.23380583348803, 79.55102221408983, 76.81205380475703, 73.64450704456323, 72.07312306429577, 68.71739681269024, 67.24886878173554, 65.46811611963302, 64.51044616094148, 62.55277404481884, 62.49170450570691, 61.903029582939176, 59.88270933931562, 59.34166076411324, 56.844287750641584, 55.29953825106478, 598.2403287302741, 371.24405416028264, 134.20796583313248, 160.82011957416765, 100.79843567939463, 221.54020287986253, 204.7287403420428, 373.2402295586269, 156.94055387982363, 240.06379566697134, 375.2700927049317, 144.50492156275976, 2279.97469065461, 217.92088595428453, 160.29717018658465, 274.2112655120763, 258.10905937872604, 137.46585319160832, 256.84524823190696, 514.4736106526955, 219.46328436477137, 1686.0150234174287, 458.81426340665126, 729.5880855277521, 501.3985996576147, 472.05233922361487, 311.14917582409083, 668.5841753884175, 247.62876068381496, 428.9382690136946, 522.9113671137094, 396.78373342268844, 464.8982774057237, 389.7854144635142, 481.82198765409595, 483.44333227752526, 352.86273585010395, 460.1155912179488, 441.5449430620537, 412.7949524082569, 394.9762497173076, 339.3414545587601, 313.2931003782461, 310.97213881561623, 329.30445371176256, 317.09534882851716, 652.1323934904502, 635.0883102171999, 605.1178199815332, 466.0665547657544, 410.3262746285122, 280.1272981225199, 258.1898292360701, 253.22043678157166, 208.87499923174582, 191.22392214114288, 189.18812095457426, 188.18132963639906, 179.3282225079824, 173.2126196060746, 151.3943821893155, 146.08736173808387, 140.5873612050457, 138.29151507670093, 125.678956503042, 124.9738888531778, 120.68645130019243, 120.10382817093726, 114.90774891179105, 113.90880835010495, 111.75868620562645, 110.08509588649629, 105.44700384024802, 105.41692695559044, 103.71697294743943, 102.0833260042302, 1293.4257718905526, 709.6124800763611, 147.89408148771653, 1828.4232417262958, 894.9007604788233, 359.55758455134935, 363.3467718734866, 826.8923547640059, 539.1856513959735, 425.08302938953136, 664.0742125290091, 354.81900130645045, 880.8788850240661, 771.5780463678501, 381.3580137849526, 425.2336184174768, 220.72598895825988, 1238.7140621005876, 812.6798787038298, 415.79058301573593, 545.7476107252185, 599.7578448137515, 883.9117019729499, 281.34743905285177, 780.116698871487, 592.5153249258449, 665.4980184510409, 444.54226604032, 815.427219109801, 520.764078632797, 546.2809165540575, 521.5918939212813, 473.99657661477835, 490.0071487171695, 440.1376279083187, 448.4177813720363, 981.1383270185446, 564.4259431793103, 452.1655340373602, 407.0436496576093, 406.05365638937155, 257.3959828373076, 227.7175143008838, 213.58476855438758, 199.89072035305256, 194.6068750404699, 185.7405606581988, 175.65074896199914, 171.1585814125795, 167.94485785141777, 149.57794662617496, 149.2136061252949, 143.77808429210688, 143.67009720406722, 138.01540692024906, 125.90856540689607, 116.57966082102942, 110.04789745037183, 101.1315952474087, 100.71067873457561, 97.22372233799764, 96.33528252821033, 94.04547068051689, 91.94255609439307, 87.99798766806585, 85.4795018269258, 482.78414970286224, 601.7285268217872, 193.38913514881637, 160.39139030952217, 204.14336883172007, 379.8158594688875, 384.68468093237493, 210.2421276787949, 181.70043447827348, 205.23532128279686, 313.7408993307089, 731.6233407858426, 290.42838813150576, 211.09830917966102, 374.51372435847367, 420.45638273610626, 474.00437697666683, 316.52962981494346, 231.94941287511048, 448.37928828352625, 319.6954134975647, 432.02568451517396, 421.0333614569824, 524.3596422831536, 605.451969016308, 392.3610636437794, 650.5999485583166, 739.9157290402559, 277.9501349207873, 457.1566910640872, 478.56085506169984, 340.93963192512996, 424.9477645970275, 308.93542239238593, 369.51275266558656, 356.82499110872624, 321.09087355152394, 316.5843961673223, 125.76368009846027, 88.4692444961406, 81.44795278088483, 74.4256583046511, 71.88001405384054, 69.48670139132487, 66.05032082477469, 60.46677831415178, 51.150634223757514, 48.395047056303056, 47.02208772904731, 44.70763069924835, 44.03489326503644, 43.41607794733232, 43.13413950263516, 39.48189769704746, 36.28054601012041, 107.10089578819989, 114.49119676793566, 33.60028448572374, 33.29495731875669, 33.20600293443416, 32.80752740310835, 32.484258945130094, 32.45609016968483, 31.271876882589403, 31.21554949481689, 31.189006818254814, 29.444805728260693, 28.974781846074507, 615.8387165967872, 67.38455528466845, 85.06922079045376, 72.00025729084047, 177.31770880266524, 68.82391026194847, 412.4976801136882, 163.6202784109349, 497.62495940968387, 91.04002552552048, 73.19200483609467, 64.046912797388, 92.60622976651337, 127.63828754347425, 325.0326126566258, 59.70277608012081, 64.97047598433204, 306.1822510647774, 324.5015829646719, 179.55118272037532, 153.54952280756007, 364.34119531437324, 299.9294130292453, 703.9244930992114, 248.64545224789023, 172.5273163485545, 465.4846813570567, 322.42893022650935, 111.84609624418198, 171.28850001604394, 386.4703142876945, 315.52340320091275, 176.65824440058736, 284.19869504314966, 226.82021050336513, 198.79877316773909, 156.4163622402728, 424.00097462985764, 238.82357107858772, 417.19984315256187, 287.2670081274897, 297.0157690503448, 292.75075559456883, 281.6074251678416, 317.7020233829632, 239.58892161960932, 196.10421891170037, 204.57445958764697, 306.16319860619603, 225.18320320683333, 200.32063911251697, 539.1411902682964, 404.20295456966863, 340.26914376163353, 238.1687279080889, 198.40939135296725, 181.6754275396253, 151.0083064488622, 149.9480224904011, 108.92295486346453, 103.02353782148614, 102.07717032938821, 99.33666594330836, 447.16206767041626, 88.63982824732686, 80.26648787475429, 73.29003937852485, 71.31588923479548, 69.74651489931176, 69.67417129999781, 58.37943683931825, 57.55260180717171, 56.17543848086913, 53.85795350844879, 48.28313084737243, 42.32508640513207, 41.44400344287261, 41.1568425063104, 40.91343998499801, 40.697165615616015, 40.59883269408538, 219.10023017161242, 69.75357117753792, 249.26284969919936, 543.7120507992533, 106.65282064414095, 378.8587682208026, 197.48408104557586, 148.42712657273066, 130.79768532449776, 147.63119625281513, 150.15022058957163, 171.3651555414672, 259.409107888588, 129.7656711389301, 238.8650664530402, 169.54597555878073, 312.95625578766845, 432.2199072666428, 141.2480445424401, 296.24252294924077, 288.2858770194177, 341.07244297969663, 199.23551182529343, 209.5968971806024, 285.7942515857735, 148.23551289089934, 236.0501027006783, 212.05703732216148, 174.56862770116416, 169.36164145511944, 161.45106230371593, 173.71096611176694, 678.127697988171, 597.5880024001142, 478.099183629805, 301.1281970563376, 232.5941452690633, 223.81253786109224, 200.61929682090917, 178.048236836364, 178.02679682703956, 156.9294669787576, 133.24320591107238, 126.61836325417838, 110.94588675585946, 103.92170889725426, 103.41624564938716, 98.93740766412424, 98.88409818299561, 95.8951504905568, 94.75666595803828, 92.57201917614354, 91.50619022662534, 91.39588438425999, 89.71423625102962, 82.93069745035115, 79.11664001588844, 79.03487242892523, 63.37072146693743, 62.11837946434071, 59.02591860538792, 58.95948463257007, 70.0256202116694, 72.67986831929255, 184.45433128597324, 264.25963642379713, 108.17078812838781, 166.13835173143323, 247.87588260679266, 224.71043342916377, 152.91519592451024, 305.94262128100746, 587.8543583911795, 204.0278174808701, 207.48901644411507, 199.95768217802788, 418.1781245977307, 178.76707827048878, 123.44182549884685, 158.00184815542448, 156.3455072481537, 156.13140771578787, 163.22083734108932, 165.81871525597236, 138.70529875386666, 164.5249810110748, 139.63154723146533, 608.9663424074076, 323.1905160801062, 303.74965806972256, 250.4421837473238, 246.42736834551206, 168.0226338973823, 167.23519395408152, 143.41109864317124, 117.59244113954308, 108.9987680943765, 92.83492739716193, 89.67751458266403, 84.97536625693368, 82.89148427785682, 75.61051832016689, 74.61386874005173, 72.4103775844056, 72.33346826171112, 70.16907030050315, 67.10368577536529, 56.82625944317194, 54.57468417293566, 53.62186182013785, 53.51805458335704, 51.826559374971495, 51.00648173661328, 48.44800360560108, 42.83595264215849, 42.729998250148874, 237.41616482735608, 757.7790006331271, 106.59523598219585, 982.8940523419892, 631.4746291843998, 340.4342214867719, 259.4629301776078, 107.13800314317119, 243.95199307428135, 353.13033632099626, 388.94555915477554, 224.90849444027143, 228.15269162035707, 125.30352579401482, 396.86116151426535, 89.9897175019895, 230.11190761501646, 249.5615974970166, 262.78783045574863, 132.32097171792648, 396.9236208097229, 237.51028413716773, 217.96013171552966, 150.10663968709395, 196.1065822684817, 525.8669629821031, 173.78677736181422, 233.10467712791743, 263.93644155570627, 266.01636603298886, 312.3883137830377, 203.8995114281455, 222.46554635868358, 205.67808570969922, 257.8373999619365, 208.9110764833575, 194.77047095015183, 175.65477959331562, 108.58454777514474, 88.66471628446656, 87.8643036034252, 83.29314232385343, 70.27631756372068, 69.55720127570913, 65.7093831971263, 63.28990560828803, 61.4201533134403, 60.01862181114632, 56.683467231586114, 650.7441484978333, 51.12512753728458, 278.5204343504877, 155.9886646231677, 46.261758931153395, 43.78061188437938, 43.70650216833737, 40.79385852589508, 40.03586296282797, 39.146671235367975, 38.92015217131468, 38.74777597781128, 35.84660604554061, 33.75063297535627, 32.95718036437064, 151.45317774918394, 340.9144240174545, 65.83496968379319, 255.56639153527067, 100.39020988074932, 271.70785303509166, 63.117027642292236, 108.34411319561124, 138.1349426462719, 74.17336021750172, 100.83141820207679, 110.11136978770458, 96.43788900944254, 213.38046812728368, 242.4916525177904, 346.4260965576481, 216.35491996659968, 203.58104096077804, 238.07873687088795, 221.3290623654519, 154.28582914461353, 217.15331630840896, 257.77678029529824, 367.2307957455523, 228.02663835051825, 157.80446134503183, 230.1858971872659, 172.30754547688792, 140.81845893262673, 192.88795004837792, 182.28252364626127, 180.92016277079261, 156.32313645486957, 212.8874155901036, 173.75449894337484, 156.18351002249867, 114.73637197677681, 110.53966419978023, 104.97707959145222, 92.54649876759356, 86.4465405054091, 85.38891211051141, 83.1090365429079, 82.02100452682728, 73.03553290320001, 69.01888872756098, 65.71806172074967, 62.99106031148665, 60.18591223528435, 57.59019632643129, 55.02970829600038, 54.939415481403806, 55.16162833024499, 52.26462585617932, 49.8574430002922, 48.69892372568756, 48.03470180802359, 45.329306050817884, 42.812321840099145, 41.48531808155904, 40.002471013136606, 39.555349671717046, 38.92852024789693, 252.5762378788521, 198.93044337595066, 299.48033090051507, 369.43492302168465, 121.78421578214684, 161.44173440172005, 83.95910487028053, 226.434991974438, 72.8191883672692, 127.55491848775519, 153.06205358009078, 78.83246750754655, 91.85782704621633, 86.69916597591313, 176.2765414238108, 254.15285194712175, 129.32879607451696, 144.53582694434056, 106.2249511305014, 106.27984505755727, 97.07771838144183, 100.00336938310527, 121.86914431070876, 99.63926396826379, 105.77164195913416, 118.11338804614392, 112.07436303304425, 98.65568252170004, 98.85351307042737, 97.68354068511955, 194.19862714871036, 105.22307566887265, 96.27191575905661, 92.57886905732323, 81.59406946256797, 79.80540277982382, 132.8504599089302, 59.587995616763386, 57.5944315112043, 57.46032774634083, 53.887048481333856, 47.675009104411494, 560.1922240482913, 43.51088143836746, 42.020809666903475, 41.382463375635304, 39.98471731241323, 39.74559581023307, 39.06556944664502, 38.71141743632197, 37.79955102897109, 37.114328435385474, 35.893722679522895, 34.42207195677154, 34.313260389774825, 34.21193543582705, 33.04335628213807, 30.897236742908614, 30.077365346781537, 29.353641046661235, 118.75781873010469, 75.42762340601314, 111.49844352476356, 100.38131613061246, 666.8315770614381, 358.1294870804515, 297.86894558913013, 294.9744403258556, 544.8032505584649, 214.92922709173052, 207.11228446581404, 65.01264539355994, 89.90427731109348, 72.9938403291578, 645.692982734331, 66.91083402948786, 104.11691863936183, 92.64453691149399, 186.68549709813757, 94.39069677937296, 76.88920624176863, 327.6078915300244, 102.82083128911508, 135.55178912147622, 119.63458226138482, 169.88739911805848, 133.53849342716975, 188.66258759297958, 133.72350003674714, 116.10507748314578, 106.38139709098128, 125.89268038410763, 138.3887408555615, 99.2455310978863, 102.54249463220374, 167.70482852471963, 126.98813266054646, 87.38731422017166, 78.93249333483281, 76.54081577094662, 75.68936927434426, 75.02510799333102, 121.35330158230471, 58.404120010074124, 56.27885856402006, 54.73511070501586, 51.933093647565116, 51.141562207223984, 50.70823691584886, 50.157331787390426, 46.812877588245144, 45.61738930731941, 44.161340337322095, 42.559674394239586, 41.89122182795156, 39.92841907613607, 38.105575209554154, 37.831238946884426, 37.455557818624456, 36.806456442958606, 36.30211493284812, 73.19913318068649, 33.81388170214668, 64.2085228914361, 31.1401892524626, 210.41595175771135, 137.21583481786692, 92.30689348284139, 79.32209141525257, 122.63652409687775, 79.3460138460339, 263.87973931042416, 191.83296511320822, 84.79087337286785, 177.54924161993276, 67.72779462741518, 51.26454977428938, 147.18363605273672, 74.49970991369878, 262.79173702635916, 65.05535691246551, 120.31961222899663, 140.40895210295466, 151.73111283198756, 127.81493805201256, 171.4238387144053, 93.81992684933296, 111.92785207291514, 97.3559872895048, 87.47794376894554, 80.99900609775902, 267.97438960228675, 225.91783827073138, 197.61239431917954, 189.67412051429443, 172.28981184193992, 132.87225282691955, 116.28771377986105, 112.22072978929646, 94.382361842308, 89.6592623171708, 81.58447050990915, 81.57542872828968, 74.25857511307288, 70.37481913291381, 68.0551858268347, 67.82969247147902, 77.1810583608379, 64.10787351011696, 54.64759578431185, 53.4929450259589, 52.51170062806815, 50.963151865778926, 49.823248241520005, 48.613276673381776, 46.57173385698175, 44.680611808340714, 44.18579415235985, 43.2273975508895, 42.49311927378278, 42.37350330481621, 166.28290246394124, 169.93129066575682, 1240.3234100262764, 445.50919706083033, 65.50573177575323, 78.7212689821006, 79.91414501566582, 120.34691081453026, 157.1955835707604, 78.52013331860438, 240.84930274541716, 138.34562672530998, 105.38289123507708, 111.47973760819863, 86.14083066920243, 127.13601053034428, 107.25561894588395, 80.8379371591418, 82.14285036612031, 146.85883283435132, 133.68235501738232, 123.80105684672904, 118.12930136119384, 94.88900804567297, 94.76760706858465, 92.88207728589207, 91.91260479567859, 88.04755008995117, 87.31626913027291, 84.42885013701941, 82.359966167794, 79.26876953005042, 77.4655650737391, 74.74017834120231, 74.68525371746506, 71.08821454108475, 66.46903212155394, 61.88070565534718, 60.88688725320979, 59.66021678666981, 359.92224019363056, 56.30715013973368, 55.322922240226795, 54.63670329424659, 54.574339356638035, 54.5510356674304, 54.4701273532151, 48.61787737598926, 48.534889750443476, 206.5611081850196, 145.8446525834813, 97.91950419487239, 150.97272719826688, 101.35444436720933, 81.33626215762011, 305.08543013786004, 345.8550880847206, 165.53475540383351, 118.32575264205774, 118.33626728305735, 137.15436340652457, 95.83788251845947, 110.07538413340811, 189.27842688900682, 108.07868050491199, 161.70400676800816, 177.3154557009201, 90.80276595540191, 117.59502616540094, 128.41783650650018, 98.2719603006456, 90.82856995230819, 315.559024148063, 308.431293546315, 94.01903423417052, 96.70590146988614, 82.08247200947088, 71.25110595382108, 58.75659400252075, 57.96254091751038, 52.233069992759205, 41.38947213351015, 41.272268618437984, 37.84279994040926, 34.74301357275207, 31.04446345562853, 30.73009552387605, 29.947249149470192, 29.829306910798607, 29.608888204812153, 29.384577063859872, 27.32557381540101, 26.188948149211477, 23.51350103314019, 258.8548195377752, 96.3794330631743, 22.604805341535645, 22.119708353908692, 21.093097783765874, 20.153410357154616, 19.75731770719981, 18.2206266996986, 99.75572458609822, 33.416893447253955, 261.6011640552929, 32.60648265054091, 221.83825184716875, 76.92354012066161, 100.9040622133541, 194.6274829751529, 86.08987060745348, 156.03231584884713, 284.98087221252956, 65.787097634532, 93.79659270232787, 177.56951237247668, 100.1409771512349, 60.24822104644855, 53.28423172252714, 54.658450962387384, 131.73599215341662, 83.69325425798043, 58.787018470763456, 146.3975361035441, 73.02137224341395, 107.24850503054552, 133.79704923588275, 136.3752493181195, 103.96643451071185, 119.58926762470469, 78.97639645916976, 83.90810061681572, 78.06212294838738, 66.46633515403758, 51.84536635915102, 51.20527588914105, 45.039601565305375, 42.617638807312225, 39.84732637799603, 39.487184558904545, 36.75547190580257, 36.16651720583116, 34.36119918187052, 32.18197818678434, 31.817814494165145, 31.41558338574428, 29.571246260586932, 26.97131286426468, 26.288221528876434, 25.444031004671956, 24.711349932224064, 23.821905126648463, 22.890551523801168, 21.659324040758733, 21.270529563298513, 21.139636358438317, 20.564951469936236, 20.157852545414297, 20.05776514155031, 18.842672554573234, 17.911176745862313, 17.353410708827642, 16.743196232244003, 48.53677921187754, 32.974688365203775, 38.47293952277953, 35.662477637966, 24.98632320106771, 22.925687311029606, 73.16858501807542, 25.770032477580397, 22.092616191469492, 77.20828281343279, 43.84900191565102, 36.11887694583989, 35.6314166166398, 30.972844185030862, 69.98499512171831, 28.966195670652628, 28.205732712135866, 26.603260807974355, 25.934511868399248, 25.833751734137113, 25.723991493748226, 25.185790102204745, 24.96578829447721, 24.91109398064205, 24.02578153577832, 22.886976129322548, 21.985719729248036, 21.540166697195744, 21.1060681847971, 20.785883127313394, 20.755893980925258, 20.029256627719715, 19.59381500078112, 17.722208778744758, 17.696956809726128, 16.560639438900363, 16.36886604110872, 16.30907709386048, 16.10995638174751, 24.835224820186223, 121.1222178581076, 28.841682405336737, 96.66683078465651, 43.19552625880891, 23.896557636858535, 43.77335926199508, 38.061763796049995, 46.46262140951961, 32.9461714256445, 74.38467028105666, 36.46006696984435, 32.43509776255621, 28.700784558300917, 28.420344365859844, 28.882232431269596, 27.030741074813804, 31.031778423026402, 32.952488841860095, 26.747361602727324, 26.17179012837127, 95.73596329472541, 91.38397604698442, 68.64397533114257, 62.76061324045731, 62.6606378730513, 60.212308083969944, 60.193049427579936, 59.63761358382713, 58.47371472497339, 49.194425622461154, 37.18784216923819, 36.62915478056268, 35.11008568569545, 31.061031897927094, 30.774163383224742, 30.019695719529377, 29.036492152086698, 28.03121534984265, 25.62978395548883, 25.232229574368766, 22.908962171227497, 21.660354462458088, 20.67679425323041, 18.237332313938246, 17.05909870441983, 17.275217200151868, 16.153055069110312, 16.073287796359786, 15.809586539231704, 15.367524227240331, 85.95506555408298, 68.34397854316535, 71.52546102655745, 44.02894167612367, 40.730079063619726, 89.31387932934655, 35.067362570243674, 35.66873451850231, 83.0133877217294, 48.40795337479833, 36.014079433988485, 34.48658909481058, 122.50228159644452, 52.31718655981222, 42.11071464400466, 34.820344157060795, 29.456540540501187, 26.214658745879323, 20.353321581919573, 18.63569537558195, 18.551072669010487, 16.001133328938412, 15.491879342535226, 15.30641924316469, 14.444973948423309, 13.960042527667882, 13.800276865591938, 13.419033842199518, 12.824721668467546, 12.814823598446488, 12.699998263390736, 12.10807908859862, 11.866986858786792, 11.02220138454466, 10.838594759924494, 10.65359802924155, 10.528013316164426, 10.397794916211382, 10.3537534386361, 9.6906942989462, 9.232540654315152, 9.190212139226174, 21.382748752040033, 21.79801934081478, 23.516424263974606, 19.063899528326562, 15.233750805165476, 17.131472974747137, 28.23389935378195, 17.173763948391517, 12.157727112771223, 18.996608097806277, 16.956013916217128, 13.292228495866652, 55.94069907123012, 20.3692828595124, 18.803722071379678, 16.149879640679814, 15.241652722271775, 15.02060567472714, 14.96273779344751, 14.427618404799233, 13.85572395646266, 12.01743919561942, 11.612525791402895, 11.04782784181567, 11.04060126620495, 10.9422791934919, 10.897275267109867, 10.74003587452175, 10.676784235056541, 10.460966496949897, 9.970380372447591, 9.944759763887562, 9.662777808091501, 9.540899049819055, 9.504037011099223, 8.898258946206784, 8.212302472001891, 7.968611612284903, 7.887031783810143, 7.761751088650085, 7.52055823420326, 7.447469022404986, 16.426401426804645, 45.15096809284046, 11.675295388198009, 9.991093575275123, 15.149027369680203, 21.900108937201246, 16.05240134586147, 11.272000444278552, 9.965744471355586], \"Total\": [1344.0, 1084.0, 4370.0, 1926.0, 2603.0, 6501.0, 1552.0, 3229.0, 3705.0, 2062.0, 832.0, 4218.0, 1905.0, 1306.0, 782.0, 1608.0, 2011.0, 767.0, 679.0, 982.0, 1261.0, 1663.0, 1547.0, 662.0, 698.0, 571.0, 1218.0, 609.0, 1135.0, 1394.0, 131.2044281400674, 80.22660490663225, 65.3736009314772, 60.623214534677, 90.57822450902358, 47.22845196421214, 144.20663133468483, 202.73488900339686, 49.06049364353035, 41.062012295882596, 38.95145524293843, 37.17468299970895, 35.79224817233689, 35.331358837763865, 35.224709774189165, 35.072026690937626, 34.65945761663645, 34.38469908240463, 33.36959063268407, 33.19028972686905, 32.10138886170518, 31.75605668194507, 31.506136018192386, 30.9964636951757, 29.818521857306706, 29.763643877223522, 29.72465673441008, 29.545815771557443, 29.29085896240052, 28.013686026852678, 72.56465489913391, 50.95399986168179, 48.38149092242773, 83.98599720163547, 72.16569358830738, 197.72737003228238, 760.4651710063014, 677.4769484356709, 535.6730839628757, 219.13977552809996, 1472.8529495468722, 1553.0910025384474, 137.65059905626705, 3705.6815104316456, 333.00822543318657, 1059.983719815789, 674.1640888621039, 4218.798986696225, 1567.4082945443104, 444.46927931536084, 422.31090498799335, 3229.02367869126, 1704.8410959444852, 1071.0283728394213, 2603.5983350926304, 1063.4384312918621, 657.6146859521115, 1121.1169091849831, 2686.298504744892, 256.54851427557566, 2216.172012371711, 6501.7120368605465, 596.871945532396, 1249.4057341058763, 1884.7608082160434, 1689.0387070676004, 1266.2770972180251, 3180.166285205782, 2657.276209083902, 937.3138661570412, 1428.2338728655109, 924.7485103670688, 1087.0170209919004, 1950.4585906691466, 2437.7050051447645, 1493.7647588966065, 1319.790222998067, 2150.115614718114, 1763.269695209668, 1181.011159913728, 3592.9946385613107, 4370.672088328322, 387.96582698599514, 631.9425066191068, 256.9273895452895, 199.13999901376, 160.52412186094537, 135.06019798118743, 134.4061753768387, 122.03771703377393, 105.01797319282323, 96.87623093960782, 92.19434448549137, 88.67264765407674, 86.40799468227327, 82.37178767018843, 82.18373295915956, 80.50084974961874, 77.76188134028594, 74.59433458009214, 73.02295059982468, 69.6672243531111, 68.19869631726445, 66.41794434575996, 65.4602736964704, 63.50260158663685, 63.44153204123579, 62.85286094008086, 60.83253687484449, 60.291488304534056, 57.79411584171151, 56.24936578659366, 627.6275141246587, 389.2434454611946, 138.376826039691, 166.58251992552746, 103.679180458748, 238.75467741826736, 222.5112804087913, 443.91503309645066, 173.62722760449196, 280.6950029379028, 477.86954328938873, 161.76102604600496, 4370.672088328322, 275.7293465252697, 189.75436602720202, 369.2446003084563, 347.1132322172754, 158.96479874614388, 363.1763644478145, 965.8472428465363, 305.1299738988081, 6501.7120368605465, 1063.403181837304, 2272.0019658193237, 1261.7310877363511, 1192.2713203734766, 603.0146474651555, 2437.7050051447645, 419.8443825119789, 1195.4222252340517, 1950.4585906691466, 1242.3546076935072, 2150.115614718114, 1469.88929496666, 2657.276209083902, 4218.798986696225, 1427.527989811427, 3592.9946385613107, 3229.02367869126, 2686.298504744892, 3180.166285205782, 1601.7161172496776, 1236.3364009171303, 1183.148639427971, 2296.309701581748, 2216.172012371711, 653.084397790767, 636.0403146478005, 606.0698242909826, 467.0185590594544, 411.2782790648455, 281.0793024162199, 259.1418335297701, 254.17244138111178, 209.82700352544586, 192.17592643484292, 190.1401252482743, 189.1333339300991, 180.28022680168243, 174.1646239096804, 152.34638648301555, 147.0393660317839, 141.53936549874575, 139.24351971446487, 126.63096139420944, 125.92589314687783, 121.6384558553936, 121.05583246463729, 115.85975320549107, 114.86081264380498, 112.71069049932647, 111.03710018019632, 106.39900813394804, 106.36893124929047, 104.66897724775608, 103.03533029793023, 1306.385725037715, 724.9542901466709, 149.49439890947227, 1926.3630599404325, 931.1381676243416, 370.00795700573116, 374.33897880383324, 869.3527636399107, 564.2995987868718, 441.731849612484, 701.9298819151193, 368.71638505417945, 967.274191421813, 855.7066011883131, 408.3298406671359, 469.40122926077095, 231.82463862419812, 1663.8116551999162, 1072.6714002841704, 507.7586957662155, 727.3713431088863, 878.9687922344499, 1498.5824090255132, 325.1056232099316, 1559.6790429902371, 1062.5941937602352, 1297.4683253276144, 749.4957820874118, 3592.9946385613107, 1243.2438749367946, 1608.4780260448138, 1547.6206749036812, 1253.153646995467, 2062.818576823837, 1175.6859792223981, 4218.798986696225, 982.088032907817, 565.3756490480828, 453.1152509471786, 407.9933555468814, 407.0033622581438, 258.3456888823787, 228.69629515986963, 214.53447453977452, 200.8404263120243, 195.5565809092422, 186.69026652287113, 176.60045482667147, 172.10828732081117, 168.89456374068996, 150.52765342564138, 150.1633119899672, 144.72783276370902, 144.61980508592677, 138.96511279312134, 126.85827127156841, 117.52936668980173, 110.99760331504417, 102.08130111208104, 101.66038460334792, 98.17342820266998, 97.2849885142025, 94.99517654518922, 92.89226196726536, 88.94769353273819, 86.42920770389806, 492.77026534885533, 622.8594091667657, 202.68362072728345, 167.28874148870673, 216.35393170232862, 442.77749647133544, 449.7151713306334, 239.99509693265173, 205.4695022529, 239.80159284411582, 416.2206248608712, 1431.161373038215, 410.3564348353962, 261.076781431017, 655.1483532978154, 846.7749689306346, 1040.4721724633675, 561.7405940261414, 334.10420651237104, 1427.527989811427, 684.5519943757182, 1375.8227152814732, 1319.790222998067, 2272.0019658193237, 3229.02367869126, 1146.9608417615798, 4370.672088328322, 6501.7120368605465, 508.1549735323582, 2437.7050051447645, 3592.9946385613107, 1195.4222252340517, 3705.6815104316456, 824.8394798221043, 3180.166285205782, 2603.5983350926304, 1421.6474401951277, 1216.6126010754742, 126.7112641852796, 89.41682666984772, 82.39553498789348, 75.37342520628064, 72.82759624651591, 70.43428357780343, 66.99790301027691, 61.414360480458534, 52.09821641966563, 49.34262925848982, 47.96966989535406, 45.65521287957624, 44.982475483222395, 44.36366212693192, 44.08172173346752, 40.429479888703646, 37.22818139298158, 110.0359812144718, 117.7098163185025, 34.547866657756735, 34.242539497489695, 34.15358510074091, 33.755109569415104, 33.431841147733365, 33.4036723720578, 32.21954120421961, 32.163136290037606, 32.13658906430153, 30.392387991466496, 29.922719010230484, 651.263332854291, 69.75533169911084, 89.24706568296348, 75.63172204660081, 191.5596152530615, 72.36938972371439, 473.0626153533376, 180.13565065931803, 582.093393037072, 98.42792745532527, 78.26359781044408, 68.48226414434353, 103.45950229613902, 150.3435511098641, 445.649243509955, 64.10508898882529, 71.13412050537279, 474.7048903892892, 525.5857870703479, 256.64865270855137, 210.67692356486648, 649.2709000814135, 519.7209147183612, 1608.4780260448138, 420.60210806507047, 255.1410649287009, 1035.0160129642013, 656.2951233710849, 142.3259150017703, 264.9562060516936, 900.5846275891591, 675.011154079898, 280.8004847050048, 590.0567281625654, 418.2109010485137, 346.4479296020854, 238.82836505527482, 1243.2438749367946, 499.1304320143963, 1498.5824090255132, 738.8932456418231, 815.6934020056582, 828.8375239838012, 796.1339527975042, 1321.9425644300427, 679.5290072154921, 404.6116358616865, 520.4651777361538, 3592.9946385613107, 921.5685905546111, 1663.8116551999162, 540.091372849208, 405.15313715058005, 341.22408634076544, 239.11891070073202, 199.35957393387875, 182.6256101205368, 151.95848902977372, 150.89820523672793, 109.87313745012872, 103.97372040239763, 103.0273529102997, 100.28684852421985, 451.51316587461594, 89.59001082823835, 81.21667046836481, 74.24022195943634, 72.26607182059891, 70.6967052363281, 70.6243538809093, 59.32961942022972, 58.50278438808318, 57.1256210617806, 54.80813610069789, 49.357732687831565, 43.275268986043535, 42.39418602378407, 42.107025087221864, 41.863622569609646, 41.6473482121064, 41.54901527499685, 238.42549844212837, 72.87449997731153, 289.93767122725734, 688.4652781105352, 121.27128061865153, 509.1876649963484, 276.0379182716494, 200.64563754663442, 175.3675893211494, 210.75157152168237, 218.72069473860904, 269.5112641631727, 499.1304320143963, 185.09607835506964, 511.57578941448037, 293.59969208778756, 921.5685905546111, 2062.818576823837, 225.71213881133983, 1321.9425644300427, 1261.7310877363511, 2011.296202217394, 539.0189223407089, 621.0916443728007, 1434.042112261408, 263.6419428609919, 1608.4780260448138, 1559.6790429902371, 638.8133632270749, 1744.0238496087393, 815.6934020056582, 6501.7120368605465, 679.0792825950775, 598.5395870070207, 479.05076824081135, 302.0797817042437, 233.54572987596973, 224.76412247209865, 201.57088145241545, 178.99982144327043, 178.978381433946, 157.88105158566404, 134.19479051797882, 127.56994786108481, 111.89747158826447, 104.8732935041607, 104.36783029303783, 99.88900119836251, 99.83568278990205, 96.84673509746324, 95.70825056494472, 93.52360380517611, 92.45777483353177, 92.34746899116642, 90.66582085793605, 83.88228205725758, 80.06822462689485, 79.98645703583166, 64.32230607384386, 63.06996407124712, 59.977503216394304, 59.91106924890288, 72.30916540110786, 75.3375338189526, 213.53410842186796, 337.76627559090116, 121.60084761653327, 209.42011445600073, 393.52837662221253, 351.3628657948258, 212.26439378207067, 621.7387138016979, 1905.8268971729826, 393.3504680371194, 621.1067634925865, 628.7714405696379, 4370.672088328322, 498.0612946915792, 190.79249335596782, 395.35132117949786, 418.42655208786186, 506.94145860451613, 637.7800077447264, 860.2368854959587, 343.8558452047795, 2296.309701581748, 747.3954887404822, 609.9183896252617, 324.1425632963125, 304.70170528017616, 251.3942309614777, 247.37941555966594, 168.974681107836, 168.18724116453524, 144.36314588270147, 118.54448835369692, 109.95103087854615, 93.78721037443776, 90.6295617931177, 85.92741358579283, 83.84353148831049, 76.5625698561205, 75.56591600507282, 73.36249760682489, 73.28551547216479, 71.1211179105753, 68.0557330143191, 57.77830665362559, 55.52673138338931, 54.573909039743334, 54.47017656316679, 52.77861006070182, 51.95852894706693, 49.400050852386194, 43.78799986865517, 43.682045460602524, 242.76589560539003, 782.2231859978781, 109.74250342306681, 1084.3043678289641, 698.0914400604944, 369.03613315546596, 287.5115229802573, 113.19618750630066, 273.0971057463841, 426.8377978966622, 476.28415508143934, 265.218377577128, 275.88137521381503, 139.89541421950975, 568.0540995541407, 95.81747197159531, 331.0232237646779, 379.68719193995247, 412.9711706745107, 160.50349821056187, 840.7993648313011, 420.52875346798413, 368.98178888191177, 201.68622423607917, 328.7126014372236, 2062.818576823837, 264.6361039078615, 530.0037035187513, 815.6934020056582, 878.9687922344499, 1674.898974513728, 408.4621450581015, 1321.9425644300427, 1763.269695209668, 258.78713320641464, 209.86080947860052, 195.7202039405029, 176.60451608252845, 109.53428076549578, 89.6144492748176, 88.81403659787621, 84.24287531420447, 71.22605055407172, 70.50693428134122, 66.65911618747734, 64.23963859863906, 62.36988637724233, 60.96835480149733, 57.63320023195705, 662.7856514917137, 52.074860527635586, 283.7261728232247, 159.0013057325681, 47.211491921504404, 44.73034491238886, 44.65623516358033, 41.74359151624609, 40.985596047073685, 40.096404225718985, 39.86988516166569, 39.69750897934019, 36.79633904409157, 34.70036596980725, 33.90691336511076, 157.34387861702618, 381.04673502071813, 69.55955354787491, 291.3908828257573, 108.4857495109818, 313.93481326786787, 66.88107175504027, 120.33060257883794, 161.3117669899983, 80.63418095947661, 115.93142017510408, 129.40309949159533, 110.56891996807167, 298.70648492745306, 392.8988450775751, 632.8357093923385, 348.87488935612026, 321.6061235769021, 406.4760429031441, 400.87482808966655, 234.0715356596091, 441.6667141628184, 608.7923845586074, 1261.7310877363511, 765.4232986132106, 357.76475682385114, 965.8472428465363, 649.2709000814135, 402.2223479099712, 1950.4585906691466, 1552.256741947664, 1905.8268971729826, 1472.8529495468722, 213.8395330013036, 174.70660725892827, 157.13562203891848, 115.68848029685502, 111.49177259419542, 105.92918790984842, 93.49860711861253, 87.39889755742423, 86.341025713383, 84.0611626742346, 82.973112866032, 73.98764135329077, 69.97099821475, 66.67017043585498, 63.94316865841859, 61.138020547700044, 58.542304675009376, 55.981816613867736, 55.89152380611942, 56.13692094466285, 53.21673422519719, 50.80955132719697, 49.65103204220323, 48.98681012043929, 46.281414378494176, 43.764442716094734, 42.437426817405886, 40.95457934469709, 40.50745800147945, 39.88062856031262, 259.026577860472, 210.60933274937986, 328.8170406806602, 445.1608773731017, 136.69934073840614, 186.34451948349104, 93.77297014073014, 304.09400709806744, 79.82526419992593, 158.52410079658665, 229.4353963239894, 92.22256078625385, 121.31995764956734, 126.2960631647418, 485.92384649414277, 1469.88929496666, 349.0655271576362, 499.2172628358972, 218.03415503033443, 231.80175779040223, 178.05514782919943, 244.60341410221974, 1552.256741947664, 389.9484367570786, 799.9600373679468, 3180.166285205782, 3592.9946385613107, 628.7714405696379, 860.2368854959587, 860.9785945337173, 195.15363317559166, 106.17808113713335, 97.22692155677419, 93.53387452558393, 82.5490749524724, 80.79656010299085, 134.67221498737325, 60.543001085024066, 58.54943697946498, 58.41533322119542, 54.84205423291918, 48.63001602855784, 571.5495794190508, 44.46588690662814, 42.975815147664605, 42.337468843895984, 40.93972278067391, 40.70137914563745, 40.02057494031567, 39.66642293803427, 38.754556510780496, 38.069333903646154, 36.84872822680601, 35.37707747587225, 35.2682658764561, 35.16694090408773, 33.99836175541252, 31.852242214869474, 31.032370815042224, 30.30864651492192, 124.38567437122563, 78.93853083211195, 118.09877167777292, 110.62077626444595, 832.8890814342379, 431.80521064662264, 366.2476231524712, 371.39000317249725, 767.2199846587017, 271.12297800491365, 265.68073823237074, 75.25029567151026, 113.65921843778808, 88.75710434975039, 1552.256741947664, 80.64468725813536, 149.890502819684, 131.89156576270923, 397.8738158048033, 138.0064736268721, 99.99818577249718, 1394.6708109631984, 172.22627179768233, 350.22581177428805, 272.0189391392768, 613.8505933004959, 356.440436285975, 2296.309701581748, 622.4522176154579, 357.50260934979036, 255.58852232127936, 998.35247193001, 2603.5983350926304, 195.43110239961734, 860.2368854959587, 168.6558729180547, 127.93917704243107, 88.33835860288852, 79.88353772405821, 77.49186121545056, 76.64041365266635, 75.97618393405888, 123.25139742760547, 59.355164437139926, 57.230081218276894, 55.6861550883517, 52.88413805258576, 52.09260658554605, 51.669744522034044, 51.10869275594258, 47.76392197483564, 46.56843368564147, 45.11238472003893, 43.5116585052873, 42.8422770569607, 40.87946345445814, 39.05661960391925, 38.78228332960126, 38.4066022114623, 37.75750084888007, 37.253159333317925, 75.18937918633213, 34.764926091156305, 66.08595621366672, 32.09123363078468, 221.92017377118194, 147.0358656607945, 98.74538389591845, 85.51128486248207, 140.21329711306547, 88.4098045274765, 355.37242803624713, 259.55849309818205, 107.26227467591407, 285.76346445064036, 82.26538248952097, 56.83724256300714, 369.29128470908523, 110.8406777470901, 1135.885393061534, 89.87554230125589, 367.6261053942724, 530.0037035187513, 883.5100359717043, 724.3340060425223, 2011.296202217394, 439.0684330481268, 2062.818576823837, 1559.6790429902371, 762.8132797295273, 371.4878328013049, 268.9221957464038, 226.86597138585475, 198.56020401863987, 190.6219266430054, 173.23761797726752, 133.82005903769684, 117.23551991518863, 113.16853591800742, 95.33017790799052, 90.60706844588177, 82.53227701576708, 82.52323485700065, 75.20799004988417, 71.32276480411575, 69.00299195554567, 68.77749860018999, 78.28310573830626, 65.05567963882793, 55.5954019130228, 54.440751154669854, 53.45950676920605, 51.910958001106486, 50.771476713052294, 49.56108348372176, 47.519541864810876, 45.628417937051665, 45.1336002810708, 44.17520397073144, 43.44092541128326, 43.32130943352716, 170.28628982842764, 174.25186623695046, 1344.2551245188956, 486.62659962007825, 67.61848548855178, 83.21367924451766, 85.63769718679323, 135.14249857898605, 191.25708286500836, 86.31394328326664, 402.49037615052316, 250.7063612887513, 178.2675450441502, 297.2022787379462, 179.51302854420427, 2296.309701581748, 1321.9425644300427, 194.6756977598497, 525.5857870703479, 147.81270416158236, 134.63622583029147, 124.75492765963818, 119.08317217410298, 95.84287886872958, 95.7214778814938, 93.83594810478169, 92.86647560858773, 89.00142090286032, 88.27013994318206, 85.38272095439751, 83.31383698668363, 80.22264034295956, 78.41943588664824, 75.69404915411145, 75.6391245303742, 72.04208565626625, 67.42290293446308, 62.834576468256294, 61.84075806611891, 60.61408759957892, 365.68749009751446, 57.261020952642795, 56.27679305313591, 55.5905741071557, 55.52821016954715, 55.504906480339514, 55.42399823917197, 49.571748188898376, 49.48876056933308, 224.84990913729516, 165.13697736109302, 108.0307601401332, 178.86586571814658, 115.74163405673124, 90.56069343899907, 518.7100722885783, 613.8505933004959, 262.3619509778115, 165.97137056743492, 179.0888342747278, 232.10596286799483, 129.9115308979167, 191.80694450792882, 767.2199846587017, 198.68975275676564, 832.8890814342379, 1135.885393061534, 135.15656480480763, 1012.2940718302785, 2296.309701581748, 462.0096448621325, 266.68207739133544, 316.51636367399095, 309.3886370376768, 94.97637338206984, 97.77332552083001, 83.03981512145653, 72.20844510912075, 59.71393315042005, 58.91988008891396, 53.19040915213745, 42.346811281409444, 42.229607772063524, 38.800139115389776, 35.70035272065137, 32.001802603527835, 31.687434671775353, 30.904588301937757, 30.786646066966345, 30.5662273738771, 30.34191628494588, 28.282913136091793, 27.146288555168933, 24.47084020990672, 269.55989389897314, 100.44979368497204, 23.562144502966238, 23.077047787889764, 22.05478999767926, 21.11074951907506, 20.714656855099115, 19.177965901570747, 106.60103449046002, 36.808022892789744, 354.37504762298806, 35.938668147661204, 313.0245867254986, 95.90436067699619, 135.16062599660947, 311.2888884398268, 119.44642077986258, 251.43975710571172, 593.0450694748239, 88.69520510333552, 146.0144046888394, 352.30909924487656, 201.09913985912746, 91.85263116716101, 77.6717884633723, 86.1520903831018, 541.1932138183756, 225.85567667979186, 101.39592211338463, 998.35247193001, 175.2240439633781, 571.8912851372678, 1547.6206749036812, 2011.296202217394, 796.1339527975042, 2603.5983350926304, 339.77090286485793, 711.7793134049379, 1243.2438749367946, 67.39427975611507, 52.77331098186624, 52.133220523336554, 45.96754630813878, 43.54558341866387, 40.77527098249147, 40.41512915741949, 37.68341651239628, 37.0944618197633, 35.289143809203104, 33.10992279974977, 32.74575911236197, 32.34352798877547, 30.499190896269795, 27.899263870806898, 27.21616612739139, 26.371975606887084, 25.639299720452176, 24.74984979034245, 23.818496122316123, 22.58726865646555, 22.198474175373644, 22.06758095695327, 21.49289606845119, 21.085797176418197, 20.985709740065264, 19.770617213259, 18.83912143150115, 18.281355356228293, 17.671140938595045, 53.26743317725203, 35.97869248758641, 42.98143064738456, 53.031164748348324, 33.64777168493041, 29.59632589617418, 1218.7859005716514, 47.29566441330737, 68.95409321740645, 78.16962131865847, 44.81034040043966, 37.08021543062852, 36.59914806213855, 31.93418941795601, 72.18246920530915, 29.92753415544127, 29.167071202945436, 27.564599310027273, 26.89585035318789, 26.79509022863369, 26.685415711153247, 26.147128597549763, 25.927148531301516, 25.872432467944947, 24.987120031070813, 23.848314617248874, 22.947058222974608, 22.5015051760039, 22.067406663605254, 21.747221612102035, 21.717232468704143, 20.99059637777014, 20.55515349658114, 18.68354729462966, 18.6582952920968, 17.52197797499364, 17.330204519916876, 17.27041612923283, 17.071294869526394, 27.477061918760942, 183.05551013658993, 34.8411106848815, 156.0094956195052, 58.565111818878606, 31.18062735304882, 88.55912980260477, 71.0232381908573, 120.38210963552623, 59.00515717489752, 466.17751986268746, 91.17032030861195, 67.39305019480744, 48.70552601728827, 47.871756044296355, 51.39440508684038, 43.80142807724252, 175.8520570570256, 331.6435652520889, 101.13164806240634, 75.94232090687692, 96.69936998026154, 92.34738272812578, 69.60738201228394, 63.72401992159867, 63.62404455419266, 61.17571477000324, 61.15645611417295, 60.60102026496849, 59.43712140611475, 50.15783230958299, 38.15124885966625, 37.59256149230178, 36.073492389584395, 32.02443859006271, 31.737570073681326, 30.983102413507428, 29.999898849789798, 28.99462203671025, 26.593190641024954, 26.195636292801137, 23.872368882973966, 22.623761165509134, 21.640200950140212, 19.200739088376295, 18.02250541123899, 18.254370745482916, 17.116461774379463, 17.036694482393084, 16.77299323127638, 16.33093136632103, 109.71872717751603, 86.70169494377261, 109.88612833053047, 64.86738872954527, 59.968365235205425, 233.8179378079633, 57.14081700591657, 59.79615491537861, 343.68183996490995, 146.88602739264942, 94.13207562367596, 118.71428833456646, 123.48262468595652, 53.28463009086497, 43.07815817082391, 35.78778768663309, 30.42398468054626, 27.18210226795161, 21.3207651097672, 19.60314017009234, 19.518516186514514, 16.968576863098466, 16.45932287117211, 16.273862760668717, 15.412417471378996, 14.927486136281237, 14.767720409538141, 14.386477377108497, 13.792165200772258, 13.782267131559044, 13.667441780894762, 13.075522617581598, 12.834430387423675, 11.989644950242697, 11.806039926696004, 11.621041589134956, 11.495456837768428, 11.365238444726788, 11.321196977946762, 10.658137820844994, 10.199984175919154, 10.15765568049847, 25.236480616801746, 27.855145941907143, 38.90918673316482, 31.293185260293544, 26.056397093207305, 44.754692505492, 359.3338720810278, 102.46966692780393, 20.12004829211667, 258.5611314901367, 445.1608773731017, 51.05781603908402, 56.91258270288892, 21.34132975189951, 19.77560569272169, 17.12176327101374, 16.21353635232773, 15.992489348041326, 15.934621580633191, 15.399502040885867, 14.827607619437758, 12.98932286805165, 12.584409471387012, 12.019711485902254, 12.012484891941726, 11.914162943917114, 11.869158907094091, 11.71191955676088, 11.648667860966812, 11.432850149341252, 10.942263993789602, 10.916643417080264, 10.634661439750296, 10.512782686340188, 10.475920639841576, 9.870142571111312, 9.184236489200915, 8.940495254127384, 8.858915427860387, 8.733634715718338, 8.49244187040334, 8.419352684674116, 20.674585669434514, 80.09282543260173, 18.492887432680103, 13.884795854759759, 31.13848117323674, 90.86853816368247, 49.163102972202125, 32.808109934040075, 44.077396708699624], \"Category\": [\"Default\", \"Default\", \"Default\", \"Default\", \"Default\", \"Default\", \"Default\", \"Default\", \"Default\", \"Default\", \"Default\", \"Default\", \"Default\", \"Default\", \"Default\", \"Default\", \"Default\", \"Default\", \"Default\", \"Default\", \"Default\", \"Default\", \"Default\", \"Default\", \"Default\", \"Default\", \"Default\", \"Default\", \"Default\", \"Default\", \"Topic1\", \"Topic1\", \"Topic1\", \"Topic1\", \"Topic1\", \"Topic1\", \"Topic1\", \"Topic1\", \"Topic1\", \"Topic1\", \"Topic1\", \"Topic1\", \"Topic1\", \"Topic1\", \"Topic1\", \"Topic1\", \"Topic1\", \"Topic1\", \"Topic1\", \"Topic1\", \"Topic1\", \"Topic1\", \"Topic1\", \"Topic1\", \"Topic1\", \"Topic1\", \"Topic1\", \"Topic1\", \"Topic1\", \"Topic1\", \"Topic1\", \"Topic1\", \"Topic1\", \"Topic1\", \"Topic1\", \"Topic1\", \"Topic1\", \"Topic1\", \"Topic1\", \"Topic1\", \"Topic1\", \"Topic1\", \"Topic1\", \"Topic1\", \"Topic1\", \"Topic1\", \"Topic1\", \"Topic1\", \"Topic1\", \"Topic1\", \"Topic1\", \"Topic1\", \"Topic1\", \"Topic1\", \"Topic1\", \"Topic1\", \"Topic1\", \"Topic1\", \"Topic1\", \"Topic1\", \"Topic1\", \"Topic1\", \"Topic1\", \"Topic1\", \"Topic1\", \"Topic1\", \"Topic1\", \"Topic1\", \"Topic1\", \"Topic1\", \"Topic1\", \"Topic1\", \"Topic1\", \"Topic1\", \"Topic1\", \"Topic1\", \"Topic1\", \"Topic1\", \"Topic1\", \"Topic1\", \"Topic1\", \"Topic1\", \"Topic2\", \"Topic2\", \"Topic2\", \"Topic2\", \"Topic2\", \"Topic2\", \"Topic2\", \"Topic2\", \"Topic2\", \"Topic2\", \"Topic2\", \"Topic2\", \"Topic2\", \"Topic2\", \"Topic2\", \"Topic2\", \"Topic2\", \"Topic2\", \"Topic2\", \"Topic2\", \"Topic2\", \"Topic2\", \"Topic2\", \"Topic2\", \"Topic2\", \"Topic2\", \"Topic2\", \"Topic2\", \"Topic2\", \"Topic2\", \"Topic2\", \"Topic2\", \"Topic2\", \"Topic2\", \"Topic2\", \"Topic2\", \"Topic2\", \"Topic2\", \"Topic2\", \"Topic2\", \"Topic2\", \"Topic2\", \"Topic2\", \"Topic2\", \"Topic2\", \"Topic2\", \"Topic2\", \"Topic2\", \"Topic2\", \"Topic2\", \"Topic2\", \"Topic2\", \"Topic2\", \"Topic2\", \"Topic2\", \"Topic2\", \"Topic2\", \"Topic2\", \"Topic2\", \"Topic2\", \"Topic2\", \"Topic2\", \"Topic2\", \"Topic2\", \"Topic2\", \"Topic2\", \"Topic2\", \"Topic2\", \"Topic2\", \"Topic2\", \"Topic2\", \"Topic2\", \"Topic2\", \"Topic2\", \"Topic2\", \"Topic2\", \"Topic3\", \"Topic3\", \"Topic3\", \"Topic3\", \"Topic3\", \"Topic3\", \"Topic3\", \"Topic3\", \"Topic3\", \"Topic3\", \"Topic3\", \"Topic3\", \"Topic3\", \"Topic3\", \"Topic3\", \"Topic3\", \"Topic3\", \"Topic3\", \"Topic3\", \"Topic3\", \"Topic3\", \"Topic3\", \"Topic3\", \"Topic3\", \"Topic3\", \"Topic3\", \"Topic3\", \"Topic3\", \"Topic3\", \"Topic3\", \"Topic3\", \"Topic3\", \"Topic3\", \"Topic3\", \"Topic3\", \"Topic3\", \"Topic3\", \"Topic3\", \"Topic3\", \"Topic3\", \"Topic3\", \"Topic3\", \"Topic3\", \"Topic3\", \"Topic3\", \"Topic3\", \"Topic3\", \"Topic3\", \"Topic3\", \"Topic3\", \"Topic3\", \"Topic3\", \"Topic3\", \"Topic3\", \"Topic3\", \"Topic3\", \"Topic3\", \"Topic3\", \"Topic3\", \"Topic3\", \"Topic3\", \"Topic3\", \"Topic3\", \"Topic3\", \"Topic3\", \"Topic3\", \"Topic4\", \"Topic4\", \"Topic4\", \"Topic4\", \"Topic4\", \"Topic4\", \"Topic4\", \"Topic4\", \"Topic4\", \"Topic4\", \"Topic4\", \"Topic4\", \"Topic4\", \"Topic4\", \"Topic4\", \"Topic4\", \"Topic4\", \"Topic4\", \"Topic4\", \"Topic4\", \"Topic4\", \"Topic4\", \"Topic4\", \"Topic4\", \"Topic4\", \"Topic4\", \"Topic4\", \"Topic4\", \"Topic4\", \"Topic4\", \"Topic4\", \"Topic4\", \"Topic4\", \"Topic4\", \"Topic4\", \"Topic4\", \"Topic4\", \"Topic4\", \"Topic4\", \"Topic4\", \"Topic4\", \"Topic4\", \"Topic4\", \"Topic4\", \"Topic4\", \"Topic4\", \"Topic4\", \"Topic4\", \"Topic4\", \"Topic4\", \"Topic4\", \"Topic4\", \"Topic4\", \"Topic4\", \"Topic4\", \"Topic4\", \"Topic4\", \"Topic4\", \"Topic4\", \"Topic4\", \"Topic4\", \"Topic4\", \"Topic4\", \"Topic4\", \"Topic4\", \"Topic4\", \"Topic4\", \"Topic4\", \"Topic5\", \"Topic5\", \"Topic5\", \"Topic5\", \"Topic5\", \"Topic5\", \"Topic5\", \"Topic5\", \"Topic5\", \"Topic5\", \"Topic5\", \"Topic5\", \"Topic5\", \"Topic5\", \"Topic5\", \"Topic5\", \"Topic5\", \"Topic5\", \"Topic5\", \"Topic5\", \"Topic5\", \"Topic5\", \"Topic5\", \"Topic5\", \"Topic5\", \"Topic5\", \"Topic5\", \"Topic5\", \"Topic5\", \"Topic5\", \"Topic5\", \"Topic5\", \"Topic5\", \"Topic5\", \"Topic5\", \"Topic5\", \"Topic5\", \"Topic5\", \"Topic5\", \"Topic5\", \"Topic5\", \"Topic5\", \"Topic5\", \"Topic5\", \"Topic5\", \"Topic5\", \"Topic5\", \"Topic5\", \"Topic5\", \"Topic5\", \"Topic5\", \"Topic5\", \"Topic5\", \"Topic5\", \"Topic5\", \"Topic5\", \"Topic5\", \"Topic5\", \"Topic5\", \"Topic5\", \"Topic5\", \"Topic5\", \"Topic5\", \"Topic5\", \"Topic5\", \"Topic5\", \"Topic5\", \"Topic5\", \"Topic5\", \"Topic5\", \"Topic5\", \"Topic5\", \"Topic5\", \"Topic5\", \"Topic5\", \"Topic5\", \"Topic5\", \"Topic5\", \"Topic5\", \"Topic5\", \"Topic5\", \"Topic6\", \"Topic6\", \"Topic6\", \"Topic6\", \"Topic6\", \"Topic6\", \"Topic6\", \"Topic6\", \"Topic6\", \"Topic6\", \"Topic6\", \"Topic6\", \"Topic6\", \"Topic6\", \"Topic6\", \"Topic6\", \"Topic6\", \"Topic6\", \"Topic6\", \"Topic6\", \"Topic6\", \"Topic6\", \"Topic6\", \"Topic6\", \"Topic6\", \"Topic6\", \"Topic6\", \"Topic6\", \"Topic6\", \"Topic6\", \"Topic6\", \"Topic6\", \"Topic6\", \"Topic6\", \"Topic6\", \"Topic6\", \"Topic6\", \"Topic6\", \"Topic6\", \"Topic6\", \"Topic6\", \"Topic6\", \"Topic6\", \"Topic6\", \"Topic6\", \"Topic6\", \"Topic6\", \"Topic6\", \"Topic6\", \"Topic6\", \"Topic6\", \"Topic6\", \"Topic6\", \"Topic6\", \"Topic6\", \"Topic6\", \"Topic6\", \"Topic6\", \"Topic6\", \"Topic6\", \"Topic6\", \"Topic6\", \"Topic7\", \"Topic7\", \"Topic7\", \"Topic7\", \"Topic7\", \"Topic7\", \"Topic7\", \"Topic7\", \"Topic7\", \"Topic7\", \"Topic7\", \"Topic7\", \"Topic7\", \"Topic7\", \"Topic7\", \"Topic7\", \"Topic7\", \"Topic7\", \"Topic7\", \"Topic7\", \"Topic7\", \"Topic7\", \"Topic7\", \"Topic7\", \"Topic7\", \"Topic7\", \"Topic7\", \"Topic7\", \"Topic7\", \"Topic7\", \"Topic7\", \"Topic7\", \"Topic7\", \"Topic7\", \"Topic7\", \"Topic7\", \"Topic7\", \"Topic7\", \"Topic7\", \"Topic7\", \"Topic7\", \"Topic7\", \"Topic7\", \"Topic7\", \"Topic7\", \"Topic7\", \"Topic7\", \"Topic7\", \"Topic7\", \"Topic7\", \"Topic7\", \"Topic7\", \"Topic7\", \"Topic7\", \"Topic7\", \"Topic8\", \"Topic8\", \"Topic8\", \"Topic8\", \"Topic8\", \"Topic8\", \"Topic8\", \"Topic8\", \"Topic8\", \"Topic8\", \"Topic8\", \"Topic8\", \"Topic8\", \"Topic8\", \"Topic8\", \"Topic8\", \"Topic8\", \"Topic8\", \"Topic8\", \"Topic8\", \"Topic8\", \"Topic8\", \"Topic8\", \"Topic8\", \"Topic8\", \"Topic8\", \"Topic8\", \"Topic8\", \"Topic8\", \"Topic8\", \"Topic8\", \"Topic8\", \"Topic8\", \"Topic8\", \"Topic8\", \"Topic8\", \"Topic8\", \"Topic8\", \"Topic8\", \"Topic8\", \"Topic8\", \"Topic8\", \"Topic8\", \"Topic8\", \"Topic8\", \"Topic8\", \"Topic8\", \"Topic8\", \"Topic8\", \"Topic8\", \"Topic8\", \"Topic8\", \"Topic8\", \"Topic8\", \"Topic8\", \"Topic8\", \"Topic8\", \"Topic8\", \"Topic8\", \"Topic8\", \"Topic8\", \"Topic8\", \"Topic8\", \"Topic9\", \"Topic9\", \"Topic9\", \"Topic9\", \"Topic9\", \"Topic9\", \"Topic9\", \"Topic9\", \"Topic9\", \"Topic9\", \"Topic9\", \"Topic9\", \"Topic9\", \"Topic9\", \"Topic9\", \"Topic9\", \"Topic9\", \"Topic9\", \"Topic9\", \"Topic9\", \"Topic9\", \"Topic9\", \"Topic9\", \"Topic9\", \"Topic9\", \"Topic9\", \"Topic9\", \"Topic9\", \"Topic9\", \"Topic9\", \"Topic9\", \"Topic9\", \"Topic9\", \"Topic9\", \"Topic9\", \"Topic9\", \"Topic9\", \"Topic9\", \"Topic9\", \"Topic9\", \"Topic9\", \"Topic9\", \"Topic9\", \"Topic9\", \"Topic9\", \"Topic9\", \"Topic9\", \"Topic9\", \"Topic9\", \"Topic9\", \"Topic9\", \"Topic9\", \"Topic9\", \"Topic9\", \"Topic9\", \"Topic9\", \"Topic9\", \"Topic9\", \"Topic9\", \"Topic9\", \"Topic9\", \"Topic9\", \"Topic9\", \"Topic10\", \"Topic10\", \"Topic10\", \"Topic10\", \"Topic10\", \"Topic10\", \"Topic10\", \"Topic10\", \"Topic10\", \"Topic10\", \"Topic10\", \"Topic10\", \"Topic10\", \"Topic10\", \"Topic10\", \"Topic10\", \"Topic10\", \"Topic10\", \"Topic10\", \"Topic10\", \"Topic10\", \"Topic10\", \"Topic10\", \"Topic10\", \"Topic10\", \"Topic10\", \"Topic10\", \"Topic10\", \"Topic10\", \"Topic10\", \"Topic10\", \"Topic10\", \"Topic10\", \"Topic10\", \"Topic10\", \"Topic10\", \"Topic10\", \"Topic10\", \"Topic10\", \"Topic10\", \"Topic10\", \"Topic10\", \"Topic10\", \"Topic10\", \"Topic10\", \"Topic10\", \"Topic10\", \"Topic10\", \"Topic10\", \"Topic10\", \"Topic10\", \"Topic10\", \"Topic10\", \"Topic10\", \"Topic10\", \"Topic10\", \"Topic10\", \"Topic10\", \"Topic10\", \"Topic10\", \"Topic11\", \"Topic11\", \"Topic11\", \"Topic11\", \"Topic11\", \"Topic11\", \"Topic11\", \"Topic11\", \"Topic11\", \"Topic11\", \"Topic11\", \"Topic11\", \"Topic11\", \"Topic11\", \"Topic11\", \"Topic11\", \"Topic11\", \"Topic11\", \"Topic11\", \"Topic11\", \"Topic11\", \"Topic11\", \"Topic11\", \"Topic11\", \"Topic11\", \"Topic11\", \"Topic11\", \"Topic11\", \"Topic11\", \"Topic11\", \"Topic11\", \"Topic11\", \"Topic11\", \"Topic11\", \"Topic11\", \"Topic11\", \"Topic11\", \"Topic11\", \"Topic11\", \"Topic11\", \"Topic11\", \"Topic11\", \"Topic11\", \"Topic11\", \"Topic11\", \"Topic11\", \"Topic11\", \"Topic11\", \"Topic11\", \"Topic11\", \"Topic11\", \"Topic11\", \"Topic11\", \"Topic11\", \"Topic11\", \"Topic11\", \"Topic11\", \"Topic11\", \"Topic11\", \"Topic11\", \"Topic11\", \"Topic11\", \"Topic11\", \"Topic11\", \"Topic11\", \"Topic12\", \"Topic12\", \"Topic12\", \"Topic12\", \"Topic12\", \"Topic12\", \"Topic12\", \"Topic12\", \"Topic12\", \"Topic12\", \"Topic12\", \"Topic12\", \"Topic12\", \"Topic12\", \"Topic12\", \"Topic12\", \"Topic12\", \"Topic12\", \"Topic12\", \"Topic12\", \"Topic12\", \"Topic12\", \"Topic12\", \"Topic12\", \"Topic12\", \"Topic12\", \"Topic12\", \"Topic12\", \"Topic12\", \"Topic12\", \"Topic12\", \"Topic12\", \"Topic12\", \"Topic12\", \"Topic12\", \"Topic12\", \"Topic12\", \"Topic12\", \"Topic12\", \"Topic12\", \"Topic12\", \"Topic12\", \"Topic12\", \"Topic12\", \"Topic12\", \"Topic12\", \"Topic12\", \"Topic12\", \"Topic12\", \"Topic12\", \"Topic12\", \"Topic12\", \"Topic12\", \"Topic12\", \"Topic12\", \"Topic12\", \"Topic13\", \"Topic13\", \"Topic13\", \"Topic13\", \"Topic13\", \"Topic13\", \"Topic13\", \"Topic13\", \"Topic13\", \"Topic13\", \"Topic13\", \"Topic13\", \"Topic13\", \"Topic13\", \"Topic13\", \"Topic13\", \"Topic13\", \"Topic13\", \"Topic13\", \"Topic13\", \"Topic13\", \"Topic13\", \"Topic13\", \"Topic13\", \"Topic13\", \"Topic13\", \"Topic13\", \"Topic13\", \"Topic13\", \"Topic13\", \"Topic13\", \"Topic13\", \"Topic13\", \"Topic13\", \"Topic13\", \"Topic13\", \"Topic13\", \"Topic13\", \"Topic13\", \"Topic13\", \"Topic13\", \"Topic13\", \"Topic13\", \"Topic13\", \"Topic13\", \"Topic13\", \"Topic13\", \"Topic13\", \"Topic13\", \"Topic14\", \"Topic14\", \"Topic14\", \"Topic14\", \"Topic14\", \"Topic14\", \"Topic14\", \"Topic14\", \"Topic14\", \"Topic14\", \"Topic14\", \"Topic14\", \"Topic14\", \"Topic14\", \"Topic14\", \"Topic14\", \"Topic14\", \"Topic14\", \"Topic14\", \"Topic14\", \"Topic14\", \"Topic14\", \"Topic14\", \"Topic14\", \"Topic14\", \"Topic14\", \"Topic14\", \"Topic14\", \"Topic14\", \"Topic14\", \"Topic14\", \"Topic14\", \"Topic14\", \"Topic14\", \"Topic14\", \"Topic14\", \"Topic14\", \"Topic14\", \"Topic14\", \"Topic14\", \"Topic14\", \"Topic14\", \"Topic14\", \"Topic14\", \"Topic14\", \"Topic14\", \"Topic14\", \"Topic14\", \"Topic14\", \"Topic14\", \"Topic14\", \"Topic14\", \"Topic14\", \"Topic15\", \"Topic15\", \"Topic15\", \"Topic15\", \"Topic15\", \"Topic15\", \"Topic15\", \"Topic15\", \"Topic15\", \"Topic15\", \"Topic15\", \"Topic15\", \"Topic15\", \"Topic15\", \"Topic15\", \"Topic15\", \"Topic15\", \"Topic15\", \"Topic15\", \"Topic15\", \"Topic15\", \"Topic15\", \"Topic15\", \"Topic15\", \"Topic15\", \"Topic15\", \"Topic15\", \"Topic15\", \"Topic15\", \"Topic15\", \"Topic15\", \"Topic15\", \"Topic15\", \"Topic15\", \"Topic15\", \"Topic15\", \"Topic15\", \"Topic15\", \"Topic15\", \"Topic15\", \"Topic15\", \"Topic15\", \"Topic15\", \"Topic15\", \"Topic15\", \"Topic15\", \"Topic15\", \"Topic15\", \"Topic15\", \"Topic15\", \"Topic15\", \"Topic15\", \"Topic15\", \"Topic15\", \"Topic15\", \"Topic15\", \"Topic15\", \"Topic15\", \"Topic15\", \"Topic15\", \"Topic15\", \"Topic16\", \"Topic16\", \"Topic16\", \"Topic16\", \"Topic16\", \"Topic16\", \"Topic16\", \"Topic16\", \"Topic16\", \"Topic16\", \"Topic16\", \"Topic16\", \"Topic16\", \"Topic16\", \"Topic16\", \"Topic16\", \"Topic16\", \"Topic16\", \"Topic16\", \"Topic16\", \"Topic16\", \"Topic16\", \"Topic16\", \"Topic16\", \"Topic16\", \"Topic16\", \"Topic16\", \"Topic16\", \"Topic16\", \"Topic16\", \"Topic16\", \"Topic16\", \"Topic16\", \"Topic16\", \"Topic16\", \"Topic16\", \"Topic16\", \"Topic16\", \"Topic16\", \"Topic17\", \"Topic17\", \"Topic17\", \"Topic17\", \"Topic17\", \"Topic17\", \"Topic17\", \"Topic17\", \"Topic17\", \"Topic17\", \"Topic17\", \"Topic17\", \"Topic17\", \"Topic17\", \"Topic17\", \"Topic17\", \"Topic17\", \"Topic17\", \"Topic17\", \"Topic17\", \"Topic17\", \"Topic17\", \"Topic17\", \"Topic17\", \"Topic17\", \"Topic17\", \"Topic17\", \"Topic17\", \"Topic17\", \"Topic17\", \"Topic17\", \"Topic17\", \"Topic17\", \"Topic17\", \"Topic17\", \"Topic17\", \"Topic17\", \"Topic17\", \"Topic17\", \"Topic17\", \"Topic17\", \"Topic17\", \"Topic17\", \"Topic17\", \"Topic17\", \"Topic17\", \"Topic17\", \"Topic17\", \"Topic17\", \"Topic17\", \"Topic17\", \"Topic18\", \"Topic18\", \"Topic18\", \"Topic18\", \"Topic18\", \"Topic18\", \"Topic18\", \"Topic18\", \"Topic18\", \"Topic18\", \"Topic18\", \"Topic18\", \"Topic18\", \"Topic18\", \"Topic18\", \"Topic18\", \"Topic18\", \"Topic18\", \"Topic18\", \"Topic18\", \"Topic18\", \"Topic18\", \"Topic18\", \"Topic18\", \"Topic18\", \"Topic18\", \"Topic18\", \"Topic18\", \"Topic18\", \"Topic18\", \"Topic18\", \"Topic18\", \"Topic18\", \"Topic18\", \"Topic18\", \"Topic18\", \"Topic18\", \"Topic18\", \"Topic18\", \"Topic18\", \"Topic18\", \"Topic18\", \"Topic19\", \"Topic19\", \"Topic19\", \"Topic19\", \"Topic19\", \"Topic19\", \"Topic19\", \"Topic19\", \"Topic19\", \"Topic19\", \"Topic19\", \"Topic19\", \"Topic19\", \"Topic19\", \"Topic19\", \"Topic19\", \"Topic19\", \"Topic19\", \"Topic19\", \"Topic19\", \"Topic19\", \"Topic19\", \"Topic19\", \"Topic19\", \"Topic19\", \"Topic19\", \"Topic19\", \"Topic19\", \"Topic19\", \"Topic19\", \"Topic19\", \"Topic19\", \"Topic19\", \"Topic19\", \"Topic19\", \"Topic19\", \"Topic19\", \"Topic19\", \"Topic19\", \"Topic19\", \"Topic19\", \"Topic19\", \"Topic20\", \"Topic20\", \"Topic20\", \"Topic20\", \"Topic20\", \"Topic20\", \"Topic20\", \"Topic20\", \"Topic20\", \"Topic20\", \"Topic20\", \"Topic20\", \"Topic20\", \"Topic20\", \"Topic20\", \"Topic20\", \"Topic20\", \"Topic20\", \"Topic20\", \"Topic20\", \"Topic20\", \"Topic20\", \"Topic20\", \"Topic20\", \"Topic20\", \"Topic20\", \"Topic20\", \"Topic20\", \"Topic20\", \"Topic20\", \"Topic20\", \"Topic20\", \"Topic20\", \"Topic20\", \"Topic20\", \"Topic20\", \"Topic20\", \"Topic20\", \"Topic20\"], \"logprob\": [30.0, 29.0, 28.0, 27.0, 26.0, 25.0, 24.0, 23.0, 22.0, 21.0, 20.0, 19.0, 18.0, 17.0, 16.0, 15.0, 14.0, 13.0, 12.0, 11.0, 10.0, 9.0, 8.0, 7.0, 6.0, 5.0, 4.0, 3.0, 2.0, 1.0, -7.096, -7.5926, -7.8, -7.8766, -7.4765, -8.1309, -7.0153, -6.6746, -8.0945, -8.2738, -8.3279, -8.3758, -8.4147, -8.428, -8.4311, -8.4356, -8.4477, -8.4559, -8.4867, -8.4923, -8.5267, -8.5378, -8.5459, -8.5628, -8.6028, -8.6047, -8.606, -8.6122, -8.6212, -8.6673, -7.7189, -8.0707, -8.1273, -7.5986, -7.7462, -6.7813, -5.4925, -5.6054, -5.8354, -6.694, -4.9174, -4.8926, -7.1607, -4.1256, -6.344, -5.2857, -5.7038, -4.0321, -4.9504, -6.106, -6.1532, -4.3258, -4.9022, -5.3224, -4.5385, -5.3382, -5.7673, -5.2928, -4.5599, -6.608, -4.7394, -3.819, -5.8774, -5.2506, -4.9463, -5.0359, -5.2722, -4.5415, -4.7348, -5.5424, -5.2319, -5.5643, -5.4596, -5.0778, -4.9688, -5.2795, -5.3659, -5.1536, -5.2857, -5.4375, -5.1684, -5.3038, -5.9209, -5.4334, -6.3342, -6.5911, -6.8068, -6.9807, -6.9856, -7.0828, -7.2343, -7.3158, -7.3658, -7.4052, -7.4313, -7.4797, -7.482, -7.5029, -7.538, -7.5801, -7.6017, -7.6493, -7.6709, -7.6978, -7.7125, -7.7433, -7.7443, -7.7538, -7.787, -7.796, -7.839, -7.8666, -5.4853, -5.9625, -6.9799, -6.7991, -7.2662, -6.4787, -6.5577, -5.9571, -6.8235, -6.3984, -5.9517, -6.906, -4.1474, -6.4952, -6.8023, -6.2654, -6.326, -6.956, -6.3309, -5.6362, -6.4882, -4.4492, -5.7507, -5.2869, -5.6619, -5.7222, -6.1391, -5.3742, -6.3674, -5.818, -5.6199, -5.8959, -5.7375, -5.9137, -5.7018, -5.6984, -6.0133, -5.7479, -5.7891, -5.8564, -5.9005, -6.0523, -6.1322, -6.1396, -6.0824, -6.1201, -5.2965, -5.323, -5.3713, -5.6324, -5.7598, -6.1415, -6.223, -6.2425, -6.435, -6.5233, -6.534, -6.5393, -6.5875, -6.6222, -6.7568, -6.7925, -6.8309, -6.8474, -6.943, -6.9486, -6.9835, -6.9884, -7.0326, -7.0413, -7.0604, -7.0755, -7.1185, -7.1188, -7.1351, -7.1509, -4.6117, -5.212, -6.7802, -4.2655, -4.98, -5.8919, -5.8814, -5.0591, -5.4867, -5.7245, -5.2783, -5.9051, -4.9958, -5.1283, -5.833, -5.7241, -6.3798, -4.6549, -5.0764, -5.7466, -5.4746, -5.3802, -4.9924, -6.1371, -5.1173, -5.3924, -5.2762, -5.6797, -5.073, -5.5214, -5.4736, -5.5199, -5.6155, -5.5823, -5.6896, -5.671, -4.7253, -5.2782, -5.5, -5.6051, -5.6075, -6.0634, -6.1859, -6.25, -6.3163, -6.3431, -6.3897, -6.4455, -6.4714, -6.4904, -6.6062, -6.6087, -6.6458, -6.6465, -6.6867, -6.7785, -6.8555, -6.9131, -6.9976, -7.0018, -7.037, -7.0462, -7.0703, -7.0929, -7.1367, -7.1658, -5.4345, -5.2142, -6.3493, -6.5364, -6.2952, -5.6743, -5.6616, -6.2658, -6.4117, -6.2899, -5.8655, -5.0188, -5.9427, -6.2617, -5.6884, -5.5727, -5.4528, -5.8566, -6.1675, -5.5084, -5.8467, -5.5455, -5.5713, -5.3519, -5.2081, -5.6419, -5.1361, -5.0075, -5.9866, -5.489, -5.4432, -5.7823, -5.5621, -5.8809, -5.7018, -5.7368, -5.8423, -5.8564, -6.1372, -6.489, -6.5717, -6.6618, -6.6966, -6.7305, -6.7812, -6.8696, -7.0369, -7.0922, -7.121, -7.1715, -7.1867, -7.2008, -7.2073, -7.2958, -7.3804, -6.2979, -6.2311, -7.4571, -7.4662, -7.4689, -7.481, -7.4909, -7.4918, -7.5289, -7.5307, -7.5316, -7.5891, -7.6052, -4.5487, -6.7612, -6.5282, -6.695, -5.7937, -6.7401, -4.9494, -5.8741, -4.7618, -6.4603, -6.6786, -6.812, -6.4433, -6.1224, -5.1877, -6.8823, -6.7977, -5.2475, -5.1894, -5.7812, -5.9376, -5.0736, -5.2681, -4.415, -5.4556, -5.8211, -4.8286, -5.1958, -6.2545, -5.8283, -5.0146, -5.2174, -5.7974, -5.322, -5.5475, -5.6794, -5.9191, -4.9219, -5.4959, -4.9381, -5.3112, -5.2779, -5.2923, -5.3311, -5.2105, -5.4927, -5.693, -5.6507, -5.2475, -5.5547, -5.6717, -4.488, -4.7761, -4.9482, -5.305, -5.4877, -5.5758, -5.7606, -5.7677, -6.0873, -6.143, -6.1523, -6.1795, -4.6751, -6.2934, -6.3926, -6.4836, -6.5109, -6.5331, -6.5342, -6.711, -6.7253, -6.7495, -6.7916, -6.9009, -7.0326, -7.0536, -7.0606, -7.0665, -7.0718, -7.0742, -5.3885, -6.533, -5.2595, -4.4796, -6.1084, -4.8408, -5.4923, -5.7779, -5.9043, -5.7833, -5.7663, -5.6342, -5.2196, -5.9123, -5.3021, -5.6449, -5.0319, -4.709, -5.8275, -5.0868, -5.114, -4.9459, -5.4835, -5.4328, -5.1227, -5.7792, -5.3139, -5.4211, -5.6157, -5.6459, -5.6938, -5.6206, -4.1503, -4.2768, -4.4998, -4.9621, -5.2204, -5.2588, -5.3682, -5.4876, -5.4877, -5.6139, -5.7775, -5.8285, -5.9606, -6.026, -6.0309, -6.0752, -6.0757, -6.1064, -6.1183, -6.1417, -6.1532, -6.1545, -6.173, -6.2516, -6.2987, -6.2998, -6.5207, -6.5406, -6.5917, -6.5928, -6.4208, -6.3836, -5.4523, -5.0927, -5.9859, -5.5568, -5.1567, -5.2548, -5.6398, -4.9463, -4.2932, -5.3514, -5.3346, -5.3715, -4.6337, -5.4836, -5.8539, -5.607, -5.6176, -5.619, -5.5745, -5.5588, -5.7373, -5.5666, -5.7306, -4.1894, -4.823, -4.885, -5.078, -5.0941, -5.4771, -5.4818, -5.6355, -5.834, -5.9099, -6.0704, -6.105, -6.1588, -6.1837, -6.2756, -6.2889, -6.3188, -6.3199, -6.3503, -6.395, -6.5612, -6.6016, -6.6192, -6.6212, -6.6533, -6.6692, -6.7207, -6.8438, -6.8463, -5.1314, -3.9708, -5.9322, -3.7107, -4.1531, -4.771, -5.0426, -5.9271, -5.1042, -4.7344, -4.6378, -5.1855, -5.1712, -5.7705, -4.6176, -6.1015, -5.1626, -5.0815, -5.0298, -5.716, -4.6175, -5.131, -5.2169, -5.5898, -5.3225, -4.3361, -5.4434, -5.1497, -5.0255, -5.0176, -4.8569, -5.2836, -5.1964, -5.2749, -5.0374, -5.2478, -5.3179, -5.4212, -5.9022, -6.1049, -6.1139, -6.1674, -6.3373, -6.3476, -6.4045, -6.442, -6.472, -6.4951, -6.5523, -4.1116, -6.6555, -4.9603, -5.54, -6.7554, -6.8106, -6.8122, -6.8812, -6.9, -6.9224, -6.9282, -6.9327, -7.0105, -7.0707, -7.0945, -5.5695, -4.7581, -6.4026, -5.0463, -5.9807, -4.985, -6.4448, -5.9044, -5.6615, -6.2833, -5.9763, -5.8883, -6.0208, -5.2267, -5.0988, -4.7421, -5.2128, -5.2737, -5.1171, -5.1901, -5.5509, -5.2091, -5.0376, -4.6838, -5.1603, -5.5284, -5.1509, -5.4405, -5.6423, -5.3276, -5.3842, -5.3917, -5.5378, -5.2017, -5.4048, -5.5114, -5.8198, -5.8571, -5.9087, -6.0348, -6.103, -6.1153, -6.1423, -6.1555, -6.2715, -6.3281, -6.3771, -6.4195, -6.465, -6.5091, -6.5546, -6.5562, -6.5522, -6.6062, -6.6533, -6.6768, -6.6906, -6.7485, -6.8057, -6.8371, -6.8735, -6.8848, -6.9007, -5.0308, -5.2695, -4.8604, -4.6505, -5.7602, -5.4783, -6.1321, -5.14, -6.2745, -5.7139, -5.5316, -6.1952, -6.0422, -6.1, -5.3904, -5.0245, -5.7001, -5.5889, -5.8969, -5.8964, -5.987, -5.9573, -5.7595, -5.9609, -5.9012, -5.7908, -5.8433, -5.9708, -5.9688, -5.9807, -4.9085, -5.5213, -5.6102, -5.6494, -5.7757, -5.7978, -5.2882, -6.09, -6.124, -6.1263, -6.1905, -6.313, -3.8491, -6.4044, -6.4393, -6.4546, -6.4889, -6.4949, -6.5122, -6.5213, -6.5451, -6.5634, -6.5969, -6.6387, -6.6419, -6.6448, -6.6796, -6.7468, -6.7736, -6.798, -5.4003, -5.8542, -5.4634, -5.5684, -3.6749, -4.2965, -4.4808, -4.4905, -3.877, -4.8071, -4.8442, -6.0028, -5.6787, -5.887, -3.7071, -5.9741, -5.5319, -5.6486, -4.948, -5.63, -5.8351, -4.3856, -5.5444, -5.2681, -5.393, -5.0423, -5.283, -4.9375, -5.2816, -5.4229, -5.5104, -5.342, -5.2474, -5.5798, -5.5471, -5.0164, -5.2945, -5.6682, -5.77, -5.8008, -5.8119, -5.8208, -5.3399, -6.0712, -6.1083, -6.1361, -6.1886, -6.204, -6.2125, -6.2234, -6.2924, -6.3183, -6.3507, -6.3877, -6.4035, -6.4515, -6.4982, -6.5055, -6.5154, -6.5329, -6.5467, -5.8454, -6.6177, -5.9765, -6.7001, -4.7895, -5.217, -5.6135, -5.7651, -5.3294, -5.7648, -4.5631, -4.882, -5.6984, -4.9593, -5.9231, -6.2016, -5.1469, -5.8278, -4.5672, -5.9633, -5.3484, -5.194, -5.1165, -5.288, -4.9944, -5.5972, -5.4207, -5.5602, -5.6672, -5.7441, -4.5431, -4.7138, -4.8477, -4.8887, -4.9848, -5.2446, -5.3779, -5.4135, -5.5866, -5.638, -5.7323, -5.7324, -5.8264, -5.8801, -5.9137, -5.917, -5.7878, -5.9734, -6.1331, -6.1544, -6.1729, -6.2029, -6.2255, -6.2501, -6.293, -6.3344, -6.3456, -6.3675, -6.3846, -6.3875, -5.0203, -4.9986, -3.0108, -4.0348, -5.9518, -5.7681, -5.753, -5.3436, -5.0765, -5.7706, -4.6498, -5.2042, -5.4764, -5.4201, -5.678, -5.2887, -5.4588, -5.7415, -5.7255, -5.0116, -5.1056, -5.1824, -5.2293, -5.4484, -5.4497, -5.4698, -5.4803, -5.5232, -5.5316, -5.5652, -5.59, -5.6283, -5.6513, -5.6871, -5.6878, -5.7372, -5.8044, -5.8759, -5.8921, -5.9124, -4.1152, -5.9703, -5.9879, -6.0004, -6.0015, -6.002, -6.0035, -6.1171, -6.1188, -4.6705, -5.0186, -5.417, -4.984, -5.3825, -5.6025, -4.2805, -4.1551, -4.8919, -5.2277, -5.2276, -5.08, -5.4384, -5.2999, -4.7579, -5.3182, -4.9153, -4.8232, -5.4924, -5.2339, -5.1458, -5.4134, -5.4921, -3.905, -3.9279, -5.1159, -5.0877, -5.2517, -5.3932, -5.586, -5.5996, -5.7037, -5.9364, -5.9392, -6.0259, -6.1114, -6.224, -6.2341, -6.2599, -6.2639, -6.2713, -6.2789, -6.3516, -6.394, -6.5018, -4.1031, -5.0911, -6.5412, -6.5629, -6.6104, -6.656, -6.6759, -6.7568, -5.0567, -6.1503, -4.0926, -6.1749, -4.2574, -5.3166, -5.0452, -4.3883, -5.204, -4.6093, -4.007, -5.473, -5.1183, -4.48, -5.0528, -5.5609, -5.6837, -5.6583, -4.7786, -5.2322, -5.5855, -4.6731, -5.3686, -4.9842, -4.7631, -4.744, -5.0153, -4.8753, -5.2902, -5.2297, -5.3019, -4.7691, -5.0175, -5.0299, -5.1582, -5.2135, -5.2807, -5.2898, -5.3615, -5.3776, -5.4288, -5.4944, -5.5057, -5.5185, -5.579, -5.671, -5.6966, -5.7293, -5.7585, -5.7952, -5.835, -5.8903, -5.9084, -5.9146, -5.9422, -5.9622, -5.9671, -6.0296, -6.0803, -6.112, -6.1478, -5.0834, -5.47, -5.3158, -5.3917, -5.7474, -5.8335, -4.673, -5.7166, -5.8705, -4.5894, -5.1552, -5.3491, -5.3627, -5.5028, -4.6877, -5.5698, -5.5964, -5.6549, -5.6804, -5.6843, -5.6885, -5.7097, -5.7184, -5.7206, -5.7568, -5.8054, -5.8456, -5.866, -5.8864, -5.9017, -5.9031, -5.9387, -5.9607, -6.0611, -6.0626, -6.1289, -6.1406, -6.1442, -6.1565, -5.7237, -4.1391, -5.5741, -4.3647, -5.1702, -5.7622, -5.1569, -5.2967, -5.0973, -5.4411, -4.6267, -5.3397, -5.4567, -5.579, -5.5888, -5.5727, -5.639, -5.5009, -5.4409, -5.6495, -5.6713, -4.2777, -4.3242, -4.6103, -4.6999, -4.7015, -4.7414, -4.7417, -4.751, -4.7707, -4.9435, -5.2233, -5.2384, -5.2808, -5.4033, -5.4126, -5.4374, -5.4707, -5.5059, -5.5955, -5.6111, -5.7077, -5.7638, -5.8102, -5.9358, -6.0026, -5.99, -6.0571, -6.0621, -6.0786, -6.107, -4.3854, -4.6147, -4.5692, -5.0544, -5.1323, -4.3471, -5.282, -5.265, -4.4203, -4.9596, -5.2553, -5.2987, -3.6272, -4.478, -4.695, -4.8851, -5.0524, -5.169, -5.4221, -5.5102, -5.5148, -5.6626, -5.695, -5.707, -5.765, -5.7991, -5.8106, -5.8386, -5.8839, -5.8847, -5.8937, -5.9414, -5.9615, -6.0354, -6.0522, -6.0694, -6.0813, -6.0937, -6.0979, -6.1641, -6.2126, -6.2172, -5.3727, -5.3535, -5.2776, -5.4875, -5.7118, -5.5944, -5.0948, -5.5919, -5.9373, -5.491, -5.6047, -5.8481, -4.1337, -5.144, -5.224, -5.3761, -5.434, -5.4486, -5.4525, -5.4889, -5.5293, -5.6717, -5.706, -5.7558, -5.7565, -5.7654, -5.7695, -5.7841, -5.79, -5.8104, -5.8584, -5.861, -5.8898, -5.9024, -5.9063, -5.9722, -6.0524, -6.0825, -6.0928, -6.1088, -6.1404, -6.1502, -5.3591, -4.348, -5.7006, -5.8563, -5.4401, -5.0715, -5.3822, -5.7357, -5.8589], \"loglift\": [30.0, 29.0, 28.0, 27.0, 26.0, 25.0, 24.0, 23.0, 22.0, 21.0, 20.0, 19.0, 18.0, 17.0, 16.0, 15.0, 14.0, 13.0, 12.0, 11.0, 10.0, 9.0, 8.0, 7.0, 6.0, 5.0, 4.0, 3.0, 2.0, 1.0, 1.7967, 1.792, 1.7893, 1.7882, 1.7867, 1.7836, 1.783, 1.7829, 1.782, 1.7806, 1.7793, 1.7781, 1.7771, 1.7767, 1.7766, 1.7765, 1.7762, 1.7759, 1.7751, 1.7749, 1.7739, 1.7736, 1.7733, 1.7728, 1.7716, 1.7715, 1.7715, 1.7713, 1.771, 1.7695, 1.7661, 1.7679, 1.7631, 1.7403, 1.7443, 1.7012, 1.6431, 1.6457, 1.6505, 1.6858, 1.5571, 1.5288, 1.6841, 1.4262, 1.6173, 1.5178, 1.5522, 1.3901, 1.4619, 1.5666, 1.5705, 1.3637, 1.426, 1.4707, 1.3663, 1.462, 1.5136, 1.4546, 1.3136, 1.6141, 1.3266, 1.1707, 1.5004, 1.3885, 1.2816, 1.3017, 1.3534, 1.1633, 1.1496, 1.384, 1.2733, 1.3756, 1.3187, 1.1158, 1.0018, 1.1809, 1.2184, 0.9426, 1.0089, 1.2578, 0.4143, 0.083, 1.8877, 1.8873, 1.8864, 1.8843, 1.8842, 1.8831, 1.883, 1.8823, 1.881, 1.8803, 1.8798, 1.8794, 1.8791, 1.8785, 1.8785, 1.8783, 1.8778, 1.8773, 1.877, 1.8764, 1.8761, 1.8757, 1.8755, 1.8751, 1.875, 1.8749, 1.8744, 1.8743, 1.8736, 1.8731, 1.8422, 1.8428, 1.8595, 1.8549, 1.862, 1.8153, 1.8068, 1.7167, 1.7891, 1.7338, 1.6484, 1.7773, 1.2394, 1.6548, 1.7214, 1.5926, 1.5939, 1.7448, 1.5437, 1.2603, 1.5606, 0.5404, 1.0495, 0.7542, 0.9673, 0.9636, 1.2285, 0.5965, 1.3622, 0.8652, 0.5737, 0.7488, 0.3587, 0.5628, 0.1827, -0.2762, 0.4925, -0.1651, -0.0995, 0.0172, -0.1957, 0.3383, 0.5174, 0.5539, -0.0519, -0.0542, 1.9913, 1.9912, 1.9912, 1.9907, 1.9904, 1.9893, 1.9891, 1.989, 1.9882, 1.9878, 1.9877, 1.9877, 1.9874, 1.9873, 1.9865, 1.9862, 1.986, 1.9859, 1.9852, 1.9851, 1.9849, 1.9848, 1.9845, 1.9844, 1.9843, 1.9841, 1.9837, 1.9837, 1.9836, 1.9835, 1.9828, 1.9713, 1.982, 1.9406, 1.953, 1.9641, 1.9629, 1.9427, 1.9472, 1.9543, 1.9373, 1.9543, 1.8992, 1.8892, 1.9244, 1.8939, 1.9437, 1.6977, 1.7152, 1.7929, 1.7055, 1.6105, 1.4648, 1.8482, 1.2999, 1.4086, 1.3251, 1.4704, 0.5097, 1.1226, 0.9128, 0.9051, 1.0205, 0.5553, 1.0102, -0.2488, 2.1545, 2.1538, 2.1533, 2.1531, 2.1531, 2.1518, 2.1511, 2.151, 2.1507, 2.1506, 2.1503, 2.15, 2.1499, 2.1498, 2.1491, 2.1491, 2.1489, 2.1488, 2.1486, 2.1479, 2.1473, 2.1468, 2.1461, 2.1461, 2.1457, 2.1456, 2.1454, 2.1452, 2.1447, 2.1444, 2.135, 2.1209, 2.1085, 2.1133, 2.0973, 2.0021, 1.9992, 2.0231, 2.0325, 1.9998, 1.8728, 1.4845, 1.8098, 1.9429, 1.5962, 1.4553, 1.3692, 1.5818, 1.7905, 0.9974, 1.394, 0.9971, 1.0129, 0.6892, 0.4815, 1.0827, 0.2507, -0.0178, 1.5521, 0.4817, 0.1395, 0.9009, -0.0102, 1.1734, 0.0029, 0.168, 0.6676, 0.8092, 2.7903, 2.7872, 2.7863, 2.7852, 2.7847, 2.7843, 2.7836, 2.7823, 2.7795, 2.7784, 2.7779, 2.7769, 2.7765, 2.7762, 2.7761, 2.7741, 2.772, 2.7708, 2.7701, 2.77, 2.7698, 2.7697, 2.7694, 2.7691, 2.769, 2.768, 2.7679, 2.7679, 2.7661, 2.7656, 2.7419, 2.7632, 2.7499, 2.7486, 2.7206, 2.7476, 2.6608, 2.7017, 2.641, 2.7198, 2.7308, 2.7309, 2.687, 2.6341, 2.4822, 2.7267, 2.7072, 2.3593, 2.3156, 2.4406, 2.4815, 2.2201, 2.2481, 1.9715, 2.2722, 2.4066, 1.9987, 2.0871, 2.5568, 2.3616, 1.9518, 2.0373, 2.3344, 2.0673, 2.186, 2.2424, 2.3746, 1.7221, 2.0607, 1.5191, 1.8531, 1.7876, 1.7571, 1.7586, 1.3721, 1.7553, 2.0735, 1.864, 0.3352, 1.3887, 0.6809, 2.9897, 2.9891, 2.9887, 2.9875, 2.9867, 2.9863, 2.9852, 2.9852, 2.9828, 2.9823, 2.9822, 2.982, 2.9818, 2.9808, 2.9797, 2.9786, 2.9783, 2.978, 2.9779, 2.9753, 2.9751, 2.9747, 2.974, 2.9695, 2.9693, 2.9688, 2.9687, 2.9685, 2.9684, 2.9684, 2.907, 2.9477, 2.8403, 2.7554, 2.863, 2.6958, 2.6566, 2.69, 2.6983, 2.6355, 2.6153, 2.5387, 2.337, 2.6363, 2.2299, 2.4424, 1.9115, 1.4286, 2.5227, 1.4958, 1.5152, 1.217, 1.9962, 1.9052, 1.3785, 2.4157, 1.0725, 0.9961, 1.6942, 0.6596, 1.3717, -0.6309, 3.0984, 3.0982, 3.0978, 3.0967, 3.0957, 3.0956, 3.0951, 3.0945, 3.0945, 3.0938, 3.0927, 3.0923, 3.0913, 3.0907, 3.0907, 3.0902, 3.0902, 3.0899, 3.0898, 3.0896, 3.0895, 3.0895, 3.0893, 3.0884, 3.0879, 3.0879, 3.0849, 3.0846, 3.0838, 3.0838, 3.0677, 3.0639, 2.9534, 2.8544, 2.9828, 2.8683, 2.6376, 2.6528, 2.7719, 2.3907, 1.9236, 2.4434, 2.0034, 1.9542, 0.7531, 2.0752, 2.6644, 2.1827, 2.1154, 1.9221, 1.7369, 1.4535, 2.1919, 0.4638, 1.4222, 3.1667, 3.1653, 3.1651, 3.1645, 3.1644, 3.1626, 3.1626, 3.1617, 3.1602, 3.1596, 3.1581, 3.1577, 3.1571, 3.1569, 3.1558, 3.1556, 3.1552, 3.1552, 3.1548, 3.1542, 3.1517, 3.151, 3.1507, 3.1506, 3.1501, 3.1498, 3.1488, 3.1463, 3.1462, 3.146, 3.1365, 3.1392, 3.0701, 3.068, 3.0876, 3.0656, 3.1133, 3.0554, 2.9787, 2.9657, 3.0034, 2.9783, 3.0581, 2.8096, 3.1055, 2.8047, 2.7486, 2.7162, 2.9752, 2.4177, 2.597, 2.6418, 2.8729, 2.6518, 1.8015, 2.7477, 2.3469, 2.0399, 1.9731, 1.489, 2.4735, 1.3862, 1.0197, 3.1761, 3.1752, 3.1749, 3.1743, 3.171, 3.1691, 3.169, 3.1684, 3.1663, 3.1662, 3.1654, 3.1648, 3.1644, 3.164, 3.1631, 3.1614, 3.1613, 3.1612, 3.1606, 3.1594, 3.1583, 3.1582, 3.1567, 3.1563, 3.1558, 3.1556, 3.1555, 3.1536, 3.152, 3.1513, 3.1416, 3.0684, 3.1247, 3.0485, 3.1022, 3.0353, 3.1218, 3.0748, 3.0246, 3.0962, 3.0402, 3.0183, 3.043, 2.8433, 2.6971, 2.5772, 2.7019, 2.7225, 2.6448, 2.5857, 2.7629, 2.4698, 2.3203, 1.9455, 1.9688, 2.3612, 1.7456, 1.8532, 2.1302, 0.866, 1.0378, 0.8251, 0.9367, 3.2025, 3.2015, 3.2009, 3.1987, 3.1984, 3.198, 3.1968, 3.196, 3.1959, 3.1956, 3.1955, 3.194, 3.1933, 3.1926, 3.192, 3.1913, 3.1906, 3.1898, 3.1898, 3.1895, 3.1889, 3.1881, 3.1876, 3.1874, 3.1862, 3.185, 3.1843, 3.1835, 3.1832, 3.1828, 3.1818, 3.1499, 3.1135, 3.0205, 3.0915, 3.0635, 3.0964, 2.9121, 3.1151, 2.9896, 2.8022, 3.0501, 2.9288, 2.8308, 2.193, 1.452, 2.2141, 1.9675, 2.4879, 2.4272, 2.6004, 2.3126, 0.6625, 1.8425, 1.1837, -0.086, -0.2606, 1.3549, 1.0434, 1.0307, 3.5871, 3.583, 3.5822, 3.5818, 3.5804, 3.5797, 3.5784, 3.5762, 3.5756, 3.5756, 3.5745, 3.5722, 3.572, 3.5703, 3.5696, 3.5692, 3.5684, 3.5683, 3.5679, 3.5677, 3.5671, 3.5666, 3.5658, 3.5647, 3.5646, 3.5645, 3.5636, 3.5616, 3.5608, 3.56, 3.5458, 3.5466, 3.5345, 3.4949, 3.3697, 3.405, 3.3854, 3.3617, 3.2497, 3.3598, 3.343, 3.4458, 3.3576, 3.3965, 2.7149, 3.4054, 3.2277, 3.2388, 2.8353, 3.2122, 3.3293, 2.1435, 3.0762, 2.6428, 2.7706, 2.3074, 2.6103, 1.093, 2.0542, 2.4674, 2.7155, 1.5214, 0.6575, 2.9144, 1.4651, 3.6252, 3.6234, 3.6201, 3.6189, 3.6185, 3.6184, 3.6183, 3.6154, 3.6147, 3.6141, 3.6137, 3.6127, 3.6125, 3.6121, 3.6121, 3.6108, 3.6103, 3.6096, 3.6088, 3.6084, 3.6073, 3.6062, 3.6061, 3.6058, 3.6054, 3.605, 3.6041, 3.6031, 3.6021, 3.6008, 3.5777, 3.5618, 3.5635, 3.5558, 3.4969, 3.5227, 3.3332, 3.3285, 3.3958, 3.155, 3.4364, 3.5277, 2.711, 3.2336, 2.1671, 3.3077, 2.514, 2.3026, 1.8691, 1.8962, 1.1685, 2.0876, 0.7169, 0.857, 1.4653, 2.1078, 3.632, 3.6313, 3.6307, 3.6305, 3.63, 3.6284, 3.6274, 3.6271, 3.6255, 3.625, 3.6239, 3.6239, 3.6228, 3.6221, 3.6217, 3.6216, 3.6213, 3.6208, 3.6183, 3.6179, 3.6176, 3.6171, 3.6166, 3.6162, 3.6153, 3.6145, 3.6143, 3.6138, 3.6134, 3.6134, 3.6117, 3.6104, 3.555, 3.5472, 3.6038, 3.58, 3.5663, 3.5195, 3.4394, 3.5409, 3.122, 3.041, 3.1098, 2.6549, 2.9012, 0.7417, 1.1239, 2.7566, 1.7794, 3.7619, 3.7613, 3.7607, 3.7603, 3.7584, 3.7584, 3.7581, 3.758, 3.7576, 3.7575, 3.7571, 3.7569, 3.7564, 3.7561, 3.7557, 3.7557, 3.755, 3.7541, 3.7531, 3.7528, 3.7525, 3.7525, 3.7516, 3.7513, 3.7511, 3.751, 3.751, 3.751, 3.7489, 3.7489, 3.6835, 3.6441, 3.6701, 3.5988, 3.6356, 3.6609, 3.2376, 3.1946, 3.3078, 3.43, 3.354, 3.2423, 3.4642, 3.213, 2.3688, 3.1595, 2.1292, 1.9111, 3.3706, 1.6156, 0.8846, 2.2205, 2.6913, 4.1071, 4.107, 4.1, 4.0991, 4.0985, 4.0967, 4.0939, 4.0937, 4.0919, 4.0872, 4.0872, 4.0851, 4.0829, 4.0797, 4.0794, 4.0786, 4.0785, 4.0783, 4.078, 4.0757, 4.0742, 4.0702, 4.0696, 4.0687, 4.0686, 4.0677, 4.0655, 4.0637, 4.0628, 4.0589, 4.0437, 4.0134, 3.8066, 4.0128, 3.7658, 3.8895, 3.8178, 3.6405, 3.7826, 3.6329, 3.3772, 3.8113, 3.6675, 3.4249, 3.4129, 3.6884, 3.7332, 3.6551, 2.6971, 3.1173, 3.565, 2.1903, 3.2348, 2.4363, 1.6619, 1.419, 2.0744, 1.0295, 2.651, 1.972, 1.3421, 4.7898, 4.786, 4.7857, 4.7833, 4.7822, 4.7807, 4.7805, 4.7788, 4.7784, 4.7771, 4.7753, 4.775, 4.7746, 4.7728, 4.7699, 4.769, 4.7679, 4.7668, 4.7655, 4.764, 4.7618, 4.761, 4.7607, 4.7596, 4.7587, 4.7585, 4.7556, 4.7532, 4.7516, 4.7498, 4.7107, 4.7165, 4.6929, 4.4069, 4.5061, 4.5483, 1.9909, 4.1965, 3.6655, 4.8212, 4.8118, 4.8073, 4.8067, 4.803, 4.8026, 4.8009, 4.8, 4.798, 4.7971, 4.797, 4.7968, 4.7961, 4.7957, 4.7957, 4.7943, 4.7924, 4.7907, 4.7899, 4.789, 4.7883, 4.7883, 4.7866, 4.7856, 4.7807, 4.7806, 4.7771, 4.7765, 4.7763, 4.7756, 4.7324, 4.4205, 4.6446, 4.3549, 4.5291, 4.5675, 4.1289, 4.2097, 3.8815, 4.2508, 2.9982, 3.917, 4.1022, 4.3047, 4.3121, 4.2572, 4.3508, 3.0989, 2.5245, 3.5035, 3.7682, 4.9202, 4.9197, 4.9163, 4.915, 4.915, 4.9143, 4.9143, 4.9142, 4.9139, 4.9108, 4.9046, 4.9043, 4.9031, 4.8997, 4.8994, 4.8986, 4.8976, 4.8964, 4.8933, 4.8927, 4.889, 4.8867, 4.8847, 4.8787, 4.8753, 4.8751, 4.8723, 4.872, 4.8711, 4.8694, 4.6861, 4.6923, 4.5008, 4.5427, 4.5434, 3.9678, 4.442, 4.4136, 3.5095, 3.8202, 3.9694, 3.6941, 5.3262, 5.3159, 5.3115, 5.3068, 5.3019, 5.2979, 5.2877, 5.2836, 5.2833, 5.2755, 5.2736, 5.2729, 5.2693, 5.2672, 5.2664, 5.2646, 5.2614, 5.2614, 5.2608, 5.2573, 5.2558, 5.25, 5.2487, 5.2473, 5.2463, 5.2452, 5.2448, 5.239, 5.2345, 5.2341, 5.1685, 5.089, 4.8306, 4.8386, 4.7974, 4.3739, 2.7904, 3.548, 4.8304, 2.7233, 2.0664, 3.9884, 5.5942, 5.5648, 5.561, 5.553, 5.5496, 5.5487, 5.5485, 5.5462, 5.5436, 5.5337, 5.5311, 5.5271, 5.5271, 5.5263, 5.526, 5.5248, 5.5243, 5.5226, 5.5184, 5.5182, 5.5156, 5.5144, 5.5141, 5.5078, 5.4996, 5.4964, 5.4952, 5.4935, 5.4899, 5.4888, 5.3814, 5.0383, 5.1515, 5.2823, 4.8909, 4.1885, 4.4921, 4.5431, 4.1246]}, \"token.table\": {\"Topic\": [2, 19, 2, 5, 1, 2, 3, 5, 6, 8, 9, 19, 8, 8, 15, 16, 2, 3, 4, 5, 8, 9, 13, 3, 5, 5, 6, 7, 9, 19, 13, 2, 2, 5, 6, 9, 1, 10, 20, 3, 6, 13, 1, 2, 3, 4, 5, 6, 7, 8, 9, 10, 11, 12, 13, 15, 12, 9, 1, 2, 5, 9, 10, 11, 13, 2, 3, 4, 5, 7, 10, 11, 6, 4, 5, 6, 9, 11, 13, 16, 3, 5, 3, 5, 6, 12, 13, 2, 3, 4, 7, 9, 10, 1, 2, 3, 4, 6, 8, 1, 2, 3, 4, 6, 10, 7, 3, 8, 18, 3, 4, 5, 6, 9, 12, 5, 6, 7, 8, 9, 10, 13, 14, 2, 2, 9, 7, 2, 3, 4, 9, 7, 7, 7, 2, 7, 9, 1, 2, 3, 4, 7, 8, 10, 11, 13, 15, 2, 2, 3, 4, 9, 15, 9, 19, 13, 13, 13, 4, 4, 4, 10, 18, 5, 2, 13, 2, 6, 10, 3, 5, 1, 1, 3, 5, 6, 9, 10, 12, 5, 1, 9, 10, 11, 11, 7, 7, 7, 7, 7, 1, 1, 2, 3, 4, 6, 7, 8, 9, 10, 11, 15, 7, 1, 11, 12, 13, 6, 18, 3, 19, 11, 16, 2, 9, 11, 20, 4, 4, 1, 2, 3, 4, 8, 9, 11, 1, 3, 5, 17, 18, 16, 16, 16, 1, 2, 3, 4, 6, 8, 10, 11, 14, 15, 5, 1, 2, 3, 4, 6, 8, 10, 11, 4, 4, 15, 15, 1, 4, 5, 9, 11, 14, 17, 18, 3, 8, 20, 5, 20, 1, 3, 6, 7, 8, 10, 2, 4, 7, 10, 18, 14, 1, 3, 5, 8, 9, 1, 2, 3, 4, 5, 7, 10, 12, 13, 15, 17, 17, 1, 2, 3, 4, 5, 7, 12, 13, 15, 15, 2, 8, 15, 2, 7, 10, 11, 14, 17, 1, 2, 17, 2, 4, 10, 12, 8, 12, 15, 11, 9, 14, 4, 14, 1, 2, 3, 5, 6, 7, 9, 16, 17, 7, 17, 11, 2, 4, 9, 8, 12, 13, 15, 8, 18, 14, 2, 5, 9, 10, 11, 1, 2, 3, 4, 7, 8, 11, 14, 5, 6, 9, 10, 14, 19, 20, 10, 12, 17, 1, 3, 8, 13, 17, 2, 3, 6, 8, 11, 1, 2, 11, 1, 2, 3, 4, 6, 8, 9, 10, 12, 15, 12, 11, 4, 1, 2, 3, 4, 6, 8, 9, 10, 12, 3, 4, 10, 12, 15, 16, 6, 15, 19, 1, 2, 5, 10, 11, 13, 14, 5, 14, 8, 18, 8, 3, 20, 1, 18, 20, 3, 8, 20, 1, 1, 5, 11, 14, 18, 2, 4, 7, 9, 10, 2, 3, 13, 17, 6, 8, 6, 8, 15, 4, 2, 4, 14, 4, 4, 10, 1, 2, 4, 18, 6, 6, 6, 8, 12, 12, 1, 2, 5, 7, 9, 10, 11, 14, 1, 2, 9, 16, 6, 1, 17, 16, 5, 18, 3, 3, 10, 6, 9, 17, 6, 8, 8, 3, 4, 5, 6, 9, 1, 2, 3, 15, 3, 9, 10, 13, 15, 17, 3, 20, 5, 6, 3, 6, 11, 3, 5, 6, 8, 15, 9, 20, 2, 6, 7, 10, 15, 12, 5, 9, 14, 19, 7, 9, 8, 9, 6, 9, 1, 3, 5, 12, 14, 15, 18, 2, 6, 20, 3, 4, 9, 15, 3, 1, 2, 3, 5, 6, 8, 9, 10, 12, 13, 15, 8, 8, 1, 2, 1, 3, 4, 5, 6, 13, 19, 16, 1, 2, 3, 4, 6, 7, 8, 9, 10, 2, 6, 9, 2, 3, 9, 5, 2, 1, 2, 4, 5, 6, 7, 13, 15, 19, 1, 2, 9, 13, 14, 19, 19, 1, 2, 2, 7, 9, 2, 1, 3, 4, 10, 12, 14, 6, 19, 6, 6, 6, 6, 6, 11, 10, 1, 2, 3, 4, 5, 6, 8, 10, 11, 12, 13, 15, 10, 12, 7, 17, 17, 3, 5, 6, 8, 13, 7, 10, 20, 2, 3, 4, 5, 6, 9, 11, 14, 17, 16, 1, 2, 4, 7, 10, 1, 9, 1, 12, 20, 6, 19, 19, 2, 9, 2, 5, 9, 11, 13, 14, 14, 11, 6, 2, 11, 19, 2, 5, 2, 4, 5, 6, 7, 13, 17, 12, 12, 11, 14, 3, 6, 8, 14, 10, 3, 6, 12, 20, 10, 10, 3, 6, 8, 3, 3, 15, 4, 5, 9, 11, 14, 1, 10, 4, 10, 19, 4, 17, 9, 20, 3, 10, 11, 14, 1, 1, 8, 12, 1, 2, 3, 8, 12, 14, 1, 2, 3, 8, 12, 8, 2, 6, 9, 10, 2, 10, 3, 17, 20, 2, 4, 5, 13, 7, 11, 10, 3, 2, 9, 17, 14, 5, 9, 8, 6, 12, 3, 5, 8, 13, 15, 6, 6, 6, 6, 9, 1, 12, 15, 1, 2, 3, 4, 6, 10, 13, 3, 3, 11, 1, 6, 18, 20, 11, 6, 10, 4, 1, 2, 3, 4, 6, 7, 8, 10, 11, 2, 4, 10, 1, 3, 4, 5, 11, 14, 15, 12, 15, 2, 3, 4, 6, 13, 8, 19, 13, 5, 3, 6, 3, 4, 8, 13, 1, 2, 3, 4, 6, 7, 9, 10, 11, 4, 11, 14, 5, 6, 9, 5, 16, 3, 6, 7, 9, 10, 3, 5, 6, 7, 11, 1, 2, 3, 4, 6, 7, 10, 9, 9, 18, 1, 2, 3, 4, 5, 6, 7, 8, 9, 10, 11, 12, 13, 14, 18, 1, 2, 1, 2, 3, 11, 14, 9, 13, 5, 8, 14, 1, 2, 3, 6, 3, 3, 2, 7, 10, 17, 10, 11, 2, 6, 9, 11, 12, 13, 1, 10, 3, 8, 3, 3, 5, 20, 1, 2, 3, 4, 6, 7, 8, 10, 13, 20, 1, 4, 11, 13, 17, 2, 5, 6, 9, 1, 3, 7, 10, 18, 5, 9, 12, 1, 3, 11, 14, 11, 14, 2, 20, 1, 2, 3, 4, 5, 6, 7, 9, 10, 12, 7, 1, 2, 3, 6, 8, 10, 11, 3, 16, 18, 14, 13, 1, 2, 5, 9, 13, 14, 14, 2, 5, 8, 9, 14, 1, 2, 16, 1, 2, 3, 4, 6, 7, 9, 11, 1, 1, 2, 3, 4, 6, 8, 10, 11, 13, 15, 18, 1, 2, 6, 7, 9, 2, 3, 10, 20, 3, 1, 7, 15, 7, 4, 7, 2, 7, 14, 1, 2, 4, 7, 12, 13, 2, 3, 4, 5, 7, 10, 13, 17, 1, 2, 4, 6, 6, 12, 2, 1, 2, 9, 12, 1, 6, 8, 19, 11, 9, 3, 11, 1, 2, 4, 8, 11, 12, 15, 3, 19, 14, 14, 5, 9, 10, 19, 1, 2, 4, 6, 8, 17, 1, 2, 3, 4, 7, 4, 7, 12, 17, 6, 15, 1, 2, 3, 4, 6, 7, 8, 10, 7, 5, 1, 2, 3, 4, 5, 6, 8, 9, 10, 11, 12, 13, 14, 15, 16, 16, 2, 1, 17, 11, 16, 11, 14, 6, 12, 2, 2, 4, 1, 2, 3, 6, 7, 10, 11, 19, 18, 18, 9, 9, 1, 15, 15, 1, 2, 4, 6, 7, 9, 10, 15, 13, 18, 1, 2, 3, 4, 5, 6, 8, 10, 11, 12, 13, 2, 4, 5, 7, 13, 1, 5, 19, 12, 3, 4, 5, 13, 10, 5, 2, 3, 4, 5, 6, 7, 8, 9, 10, 15, 1, 2, 7, 9, 10, 11, 10, 10, 3, 5, 8, 10, 13, 2, 3, 5, 6, 8, 9, 18, 5, 19, 17, 11, 2, 5, 6, 19, 12, 18, 1, 2, 3, 4, 5, 6, 10, 15, 1, 13, 19, 2, 3, 5, 7, 9, 2, 3, 5, 6, 8, 17, 8, 5, 9, 10, 9, 2, 4, 11, 2, 14, 2, 3, 2, 2, 7, 14, 11, 9, 14, 4, 14, 2, 4, 7, 2, 7, 9, 11, 14, 3, 4, 8, 8, 5, 7, 9, 11, 7, 1, 20, 20, 3, 6, 18, 2, 7, 9, 4, 14, 1, 1, 2, 3, 4, 6, 8, 9, 15, 2, 7, 5, 19, 1, 2, 5, 7, 13, 3, 12, 15, 15, 1, 2, 3, 4, 5, 6, 7, 8, 9, 10, 11, 13, 9, 13, 13, 5, 14, 11, 13, 14, 15, 2, 2, 1, 2, 4, 6, 7, 8, 10, 11, 13, 14, 19, 14, 1, 2, 3, 4, 6, 8, 9, 10, 11, 12, 15, 9, 1, 2, 4, 7, 13, 1, 2, 1, 4, 6, 7, 8, 10, 12, 13, 15, 15, 1, 2, 3, 4, 6, 7, 8, 10, 15, 14, 1, 2, 3, 4, 6, 7, 8, 11, 12, 14, 17, 11, 5, 10, 1, 2, 3, 4, 5, 6, 7, 10, 11, 13, 14, 5, 1, 2, 3, 4, 6, 7, 8, 9, 10, 11, 12, 13, 16, 16, 20, 1, 2, 3, 4, 8, 9, 13, 1, 3, 4, 9, 15, 11, 4, 15, 1, 2, 3, 4, 7, 11, 18, 11, 13, 14, 18, 13, 18, 1, 3, 5, 6, 15, 3, 5, 1, 2, 3, 6, 8, 12, 13, 17, 11, 17, 1, 2, 3, 4, 6, 8, 9, 11, 15, 9, 7, 3, 8, 12, 15, 3, 8, 15, 6, 1, 2, 3, 4, 5, 6, 7, 9, 10, 11, 12, 13, 2, 3, 6, 18, 17, 13, 5, 6, 17, 7, 4, 1, 2, 4, 8, 20, 1, 2, 3, 4, 9, 12, 2, 3, 4, 8, 10, 11, 12, 5, 5, 10, 9, 10, 1, 2, 3, 8, 11, 3, 2, 3, 4, 5, 6, 8, 16, 2, 7, 12, 11, 3, 4, 5, 8, 10, 14, 15, 17, 18, 20, 1, 7, 12, 15, 18, 2, 9, 19, 4, 5, 13, 5, 13, 18, 3, 4, 6, 8, 1, 3, 4, 5, 8, 12, 15, 3, 5, 8, 1, 2, 5, 8, 9, 10, 3, 8, 10, 15, 3, 5, 14, 4, 13, 16, 4, 11, 17, 8, 3, 10, 11, 12, 10, 15, 15, 1, 20, 1, 2, 3, 4, 6, 8, 10, 11, 12, 2, 7, 9, 2, 4, 7, 1, 2, 3, 4, 5, 6, 7, 8, 10, 11, 12, 15, 17, 9, 17, 12, 1, 2, 3, 4, 5, 6, 7, 10, 14, 5, 13, 1, 2, 5, 6, 7, 9, 11, 18, 1, 2, 3, 4, 5, 6, 8, 9, 10, 15, 3, 6, 11, 17, 20, 1, 2, 3, 4, 7, 8, 10, 15, 1, 2, 3, 4, 5, 6, 7, 10, 11, 3, 4, 5, 6, 5, 1, 6, 18, 6, 7, 8, 10, 12, 15, 14, 17, 2, 8, 9, 13, 3, 8, 1, 2, 3, 4, 5, 6, 7, 8, 9, 10, 11, 2, 4, 13, 13, 1, 2, 3, 4, 6, 8, 13, 15, 19, 13, 13, 13, 1, 2, 3, 4, 6, 8, 13, 15, 11, 6, 20, 7, 19, 15, 15, 3, 6, 8, 12, 17, 11, 12, 3, 5, 7, 12, 2, 10, 2, 2, 2, 15, 19, 1, 2, 3, 4, 5, 6, 7, 8, 9, 10, 11, 16, 5, 4, 3, 8, 10, 10, 13, 19, 2, 4, 7, 13, 17, 14, 1, 2, 3, 4, 6, 7, 9, 10, 2, 3, 4, 5, 7, 9, 10, 12, 13, 14, 3, 10, 14, 18, 18, 1, 3, 5, 6, 8, 15, 6, 1, 3, 6, 11, 14, 1, 2, 3, 4, 11, 18, 8, 1, 15, 17, 11, 17, 11, 18, 5, 14, 3, 6, 7, 13, 15, 3, 1, 2, 4, 6, 8, 9, 10, 11, 14, 2, 7, 11, 14, 11, 12, 14, 11, 14, 1, 2, 11, 14, 14, 11, 14, 1, 2, 3, 4, 5, 6, 8, 15, 19, 6, 15, 10, 19, 1, 2, 3, 4, 5, 6, 9, 11, 12, 14, 1, 2, 3, 4, 6, 11, 13, 14, 16, 1, 2, 6, 7, 9, 20, 2, 5, 7, 9, 4, 3, 8, 8, 1, 2, 3, 4, 5, 6, 10, 3, 1, 2, 4, 7, 8, 9, 12, 13, 14, 15, 8, 18, 2, 19, 9, 20, 5, 5, 6, 9, 1, 2, 3, 4, 11, 1, 2, 3, 5, 6, 8, 13, 14, 15, 5, 12, 8, 6, 2, 5, 6, 9, 19, 1, 2, 3, 4, 6, 8, 10, 11, 18, 5, 13, 13, 1, 2, 3, 4, 6, 8, 10, 12, 1, 2, 3, 4, 8, 10, 12, 5, 16, 5, 3, 5, 6, 9, 13, 3, 5, 11, 17, 2, 6, 13, 20, 20, 10, 16, 19, 2, 3, 5, 6, 9, 14, 6, 17, 8, 14, 15, 1, 2, 3, 4, 6, 8, 9, 10, 16, 12, 13, 13, 20, 2, 3, 4, 6, 11, 14, 12, 1, 2, 3, 4, 6, 8, 10, 9, 1, 2, 3, 4, 6, 10, 11, 1, 15, 15, 14, 18, 11, 9, 9, 2, 4, 4, 1, 2, 3, 4, 7, 8, 10, 19, 2, 5, 7, 8, 9, 10, 17, 7, 9, 3, 5, 6, 2, 5, 10, 19, 2, 3, 17, 4, 4, 1, 10, 15, 13, 15, 15, 2, 15, 1, 2, 3, 4, 6, 8, 9, 11, 14, 2, 3, 6, 9, 6, 2, 8, 9, 10, 9, 20, 10, 8, 7, 10, 13, 2, 19, 3, 16, 17, 19, 16, 18, 1, 3, 5, 8, 11, 12, 1, 7, 9, 13, 2, 1, 2, 4, 7, 9, 10, 11, 15, 17, 16, 17, 4, 13, 13, 1, 13, 3, 6, 7, 4, 5, 13, 11, 14, 11, 14, 14, 15, 3, 8, 4, 8, 13, 20, 11, 14, 1, 1, 2, 3, 4, 6, 7, 8, 9, 11, 12, 13, 14, 2, 6, 7, 7, 9, 2, 6, 2, 5, 6, 9, 1, 2, 6, 9, 14, 15, 1, 9, 15, 5, 9, 9, 1, 2, 3, 4, 5, 6, 8, 13, 14, 15, 5, 6, 9, 12, 2, 7, 3, 6, 8, 1, 3, 5, 6, 8, 11, 13, 14, 15, 16, 18, 3, 1, 2, 4, 5, 6, 7, 10, 12, 2, 5, 6, 19, 2, 10, 18, 3, 11, 14, 3, 15, 6, 9, 1, 2, 10, 13, 19, 8, 8, 1, 2, 3, 4, 6, 7, 8, 9, 10, 11, 12, 13, 14, 20, 1, 2, 3, 8, 9, 10, 18, 18, 6, 1, 5, 13, 14, 17, 18, 17, 10, 2, 4, 5, 13, 5, 3, 5, 8, 13, 1, 2, 8, 13, 15, 2, 7, 1, 2, 3, 4, 6, 8, 1, 2, 3, 4, 6, 8, 9, 1, 2, 3, 6, 7, 10, 18, 1, 2, 3, 4, 8, 12, 15, 1, 2, 3, 4, 8, 1, 2, 3, 4, 5, 6, 7, 12, 2, 7, 9, 13, 3, 5, 13, 13, 5, 13, 1, 3, 6, 8, 12, 2, 4, 10, 11, 1, 2, 3, 4, 5, 6, 8, 15, 1, 2, 3, 7, 10, 11, 14, 1, 2, 3, 5, 6, 7, 8, 9, 10, 2, 4, 5, 9, 10, 1, 5, 6, 7, 8, 9, 10, 13, 3, 11, 6, 8, 15, 18, 1, 2, 3, 4, 6, 7, 8, 10, 11, 12, 13, 15, 9, 17, 6, 7, 8, 2, 4, 5, 9, 10, 13, 5, 16, 7, 20, 1, 2, 3, 4, 6, 8, 9, 10, 11, 1, 4, 5, 12, 13, 10, 2, 9, 18, 14, 1, 1, 3, 8, 10, 8, 10, 8, 10, 2, 2, 3, 4, 5, 6, 8, 12, 13, 2, 3, 4, 5, 6, 8, 12, 1, 2, 3, 4, 6, 8, 9, 10, 14, 3, 6, 7, 8, 15, 6, 15, 11, 13, 14, 11, 14, 1, 3, 5, 6, 6, 8, 20, 5, 6, 6, 13, 16, 1, 2, 3, 4, 8, 8, 12, 18, 5, 1, 3, 4, 5, 8, 10, 12, 13, 4, 1, 3, 5, 8, 13, 15, 10, 2, 3, 4, 8, 12, 20, 1, 2, 3, 4, 6, 8, 9, 13, 1, 2, 3, 4, 9, 1, 2, 3, 4, 8, 9, 11, 1, 2, 3, 4, 6, 7, 8, 11, 13, 14, 2, 9, 11, 1, 2, 3, 4, 5, 6, 7, 8, 10, 11, 12, 13, 16, 17, 1, 2, 3, 4, 5, 6, 7, 8, 9, 10, 11, 12, 13, 16, 13, 2, 1, 2, 4, 7, 10, 2, 20, 1, 2, 4, 7, 10, 14, 3, 3, 11, 14, 18, 17, 1, 2, 7, 9, 10, 10, 18, 2, 7, 10, 2, 3, 9, 10, 1, 1, 2, 3, 4, 6, 8, 11, 2, 4, 12, 3, 8, 20, 7, 7, 7, 10, 16, 3, 16, 17, 1, 2, 5, 7, 9, 4, 5, 7, 17, 3, 5, 8, 16, 3, 8, 1, 2, 3, 4, 6, 8, 9, 10, 12, 13, 15, 3, 5, 6, 3, 5, 6, 1, 2, 3, 4, 5, 6, 8, 9, 12, 13, 1, 2, 3, 4, 6, 8, 10, 12, 18, 3, 12, 13, 11, 2, 3, 4, 5, 6, 3, 8, 3, 5, 6, 7, 8, 16, 19, 3, 20, 3, 5, 18, 4, 5, 6, 7, 10, 6, 1, 9, 17, 17, 18, 20, 1, 2, 3, 4, 6, 7, 8, 9, 10, 12, 5, 7, 9, 14, 2, 4, 7, 10, 12, 6, 7, 8, 12, 13, 17, 9, 20, 2, 7, 9, 19, 10, 1, 2, 3, 4, 5, 6, 7, 8, 9, 10, 11, 12, 1, 7, 11, 14, 1, 2, 3, 4, 6, 9, 11, 12, 13, 15, 3, 3, 17, 3, 4, 7, 3, 7, 15, 9, 10, 14, 3, 11, 14, 1, 11, 6, 12, 19, 6, 12, 6, 12, 5, 1, 2, 3, 4, 6, 8, 10, 11, 16, 1, 2, 4, 7, 10, 4, 14, 17, 2, 3, 4, 5, 8, 11, 12, 1, 2, 3, 4, 5, 6, 7, 8, 9, 10, 12, 1, 2, 3, 4, 5, 7, 11, 14, 4, 1, 2, 3, 4, 6, 8, 9, 10, 11, 13, 7, 17, 3, 3, 5, 15, 1, 2, 11, 1, 2, 3, 5, 7, 8, 9, 10, 11, 13, 15, 1, 2, 4, 5, 6, 7, 9, 10, 11, 13, 15, 12, 2, 12], \"Freq\": [0.6032886941785319, 0.37984843707537197, 0.041453990581558596, 0.9534417833758477, 0.005565667318268519, 0.007420889757691358, 0.19294313369997532, 0.21149535809420372, 0.3691892654451451, 0.1873774663817068, 0.024117891712496915, 0.9349850081199299, 0.9930534609164853, 0.9750096513427052, 0.01822447946434963, 0.9874709815363266, 0.007618523773751829, 0.33673875079983084, 0.04418743788776061, 0.4906329310296178, 0.06399559969951536, 0.047234847397261345, 0.007618523773751829, 0.0169909363768638, 0.9684833734812365, 0.0773916404526302, 0.25797213484210063, 0.04299535580701677, 0.6191331236210416, 0.9511655661977828, 0.9735354284407909, 0.9862595727930771, 0.054025996060364984, 0.048623396454328484, 0.7023379487847448, 0.19449358581731394, 0.9743430649696795, 0.9839941052287862, 0.9413464840753343, 0.13796068593186506, 0.85880526992586, 0.9914045827023841, 0.24909583509937314, 0.128026909660013, 0.22683028559328391, 0.1333149776677092, 0.08516572686079125, 0.03618151794739498, 0.013359329703653531, 0.04286118279922174, 0.01168941349069684, 0.031171769308524905, 0.01168941349069684, 0.011967732859522955, 0.011132774753044609, 0.007514622958305111, 0.9876781744535416, 0.996320237124207, 0.0016425961056083672, 0.3104506639599814, 0.14454845729353633, 0.42378979524695876, 0.04106490264020918, 0.07720201696359326, 0.9839380091253211, 0.23036062364254184, 0.05608780401731453, 0.1442257817588088, 0.1742728196252273, 0.09214424945701673, 0.2904546993753788, 0.0120188151465674, 0.9901451526772128, 0.07536793209564556, 0.6531887448289282, 0.09630346878888044, 0.1004905761275274, 0.020935536693234877, 0.04605818072511673, 0.9656361124517322, 0.07028975637116856, 0.9137668328251914, 0.2535626429207117, 0.7292730880462946, 0.015707420357920193, 0.8972989839094281, 0.08797048861857137, 0.7420555365497783, 0.005416463770436339, 0.010832927540872677, 0.06770579713045423, 0.08937165221219959, 0.08395518844176324, 0.6050779036167443, 0.033154953622835305, 0.22142772598107865, 0.07578275113790928, 0.006512580175914078, 0.058021168839961786, 0.7897058724523404, 0.11699346258553191, 0.024748617085400982, 0.05399698273178396, 0.0044997485609819966, 0.008999497121963993, 0.9944143997730897, 0.14759705047314567, 0.8270120447146099, 0.02342810324970566, 0.9054087921101197, 0.019173362656449595, 0.017042989027955195, 0.014912615399460795, 0.017042989027955195, 0.023434109913438392, 0.48130965455537644, 0.020337027657269427, 0.10507464289589204, 0.010168513828634713, 0.1457486982104309, 0.049147816838401116, 0.05253732144794602, 0.13388543207702372, 0.996390460561909, 0.9914967515043998, 0.9783581990823232, 0.9916294177938294, 0.20902376000488015, 0.02162314758671174, 0.7544075935808318, 0.014415431724474494, 0.997663284718331, 0.9984106677633382, 0.9990984940365951, 0.09826055925675217, 0.23497090257049433, 0.6579185271973841, 0.7055464006648801, 0.06778954039258013, 0.08741282840095858, 0.042814446563734815, 0.028542964375823213, 0.019623288008378457, 0.002675902910233426, 0.013379514551167131, 0.014271482187911607, 0.017839352734889506, 0.9864308334207108, 0.25699600265514866, 0.03533695036508294, 0.041761850431461654, 0.03533695036508294, 0.6264277564719248, 0.9908343700043505, 0.9429193814594535, 0.9848049187654618, 0.9733967505501485, 0.9836094170484807, 0.996302611080227, 0.9932344082654958, 0.996599924800529, 0.3001582572644952, 0.6836938082135724, 0.9841418092994252, 0.014788855337041024, 0.9760644522447075, 0.8618260211103705, 0.13210471856436337, 0.976691755599226, 0.0609583088369233, 0.9245343506933367, 0.984710746415609, 0.016682432577235982, 0.5898908159310643, 0.2782629753882962, 0.09275432512943206, 0.010676756849431028, 0.005338378424715514, 0.005338378424715514, 0.981778389365723, 0.3602690324066843, 0.08455293617707896, 0.11028643849184212, 0.4411457539673685, 0.9732438862821524, 0.9945335217242028, 0.9910965953792465, 0.9894819020701494, 0.9950488227263096, 0.9876671992686242, 0.9778653699392595, 0.7100893901570046, 0.07017954440006335, 0.029985805334572523, 0.02551983432729576, 0.022329855036383794, 0.022967850894566186, 0.01722588817092464, 0.0012759917163647882, 0.05805762309459786, 0.03636576391639646, 0.005741962723641547, 0.9926563190887631, 0.20681763965587951, 0.6938398233616604, 0.053372294104743104, 0.040029220578557324, 0.209626930531083, 0.783822435898832, 0.11887552965696348, 0.8321287075987444, 0.9940885898109123, 0.9836326511753186, 0.06452460375260073, 0.921780053608582, 0.9668171050967902, 0.9379402839394181, 0.9969553719294714, 0.9971538625463057, 0.2885768214406469, 0.14184284443692813, 0.0020961996714816966, 0.511472719841534, 0.0020961996714816966, 0.05240499178704241, 0.0013974664476544643, 0.010623371399966044, 0.15935057099949065, 0.3399478847989134, 0.09561034259969439, 0.38244137039877757, 0.975065632547592, 0.9770670240584888, 0.9485057563945212, 0.3575891381426135, 0.06009901481388462, 0.16326899024438654, 0.11218482765258463, 0.003004950740694231, 0.008013201975184616, 0.003004950740694231, 0.1262079311091577, 0.020033004937961542, 0.14624093604711924, 0.9662236014948871, 0.6603139216344339, 0.09604566132864494, 0.0912433782622127, 0.07043348497433963, 0.0024011415332161235, 0.0024011415332161235, 0.0032015220442881648, 0.07443538752969983, 0.9975668406476315, 0.9954958772882789, 0.9955116740841788, 0.9897198287605476, 0.1402296666561037, 0.019681356723663675, 0.08610593566602859, 0.5855203625289943, 0.06150423976144899, 0.05166356139961715, 0.03936271344732735, 0.009840678361831837, 0.9906598769374086, 0.9929409558280715, 0.9607796744750454, 0.9830629780109016, 0.9443139877701883, 0.208229828699132, 0.022152109436077875, 0.624689486097396, 0.06645632830823363, 0.0177216875488623, 0.0531650626465869, 0.1594417647159328, 0.18397126697992247, 0.22076552037590697, 0.40882503773316103, 0.02452950226398966, 0.9743071903072209, 0.11061737370019661, 0.010534987971447297, 0.21333350642180773, 0.658436748215456, 0.007901240978585472, 0.14873761383003453, 0.01795109132431451, 0.005128883235518433, 0.3615862681040495, 0.1102709895636463, 0.05641771559070276, 0.2564441617759216, 0.015386649706555297, 0.012822208088796081, 0.015386649706555297, 0.9666918747158442, 0.9599866851620131, 0.042363473101041424, 0.040902663683764134, 0.11832556279946053, 0.467459013528733, 0.15776741706594738, 0.03359861659737768, 0.037981044849209555, 0.039441854266486845, 0.06281480494292349, 0.9761420484075434, 0.04417109895791935, 0.945261517699474, 0.970729643990079, 0.9902023803031211, 0.04692218012798782, 0.08863078468619921, 0.28674665633770335, 0.5734933126754067, 0.9647183581462752, 0.20773655383650647, 0.29676650548072353, 0.47482640876915766, 0.214309339565556, 0.016485333812735075, 0.7583253553858135, 0.9785063869892944, 0.2679025440115562, 0.008371954500361132, 0.7199880870310574, 0.9942921799370356, 0.982429401812008, 0.9788958518169089, 0.08833854618603085, 0.8944277801335624, 0.2617375893272994, 0.0029081954369699933, 0.15704255359637964, 0.14250157641152966, 0.011632781747879973, 0.40423916573882906, 0.020357368058789953, 0.9198866376186783, 0.0750927867443819, 0.991100109244289, 0.9795172313706775, 0.9769672314989533, 0.08139719554644177, 0.03617653135397412, 0.8682367524953789, 0.6575066569925835, 0.2040537901011466, 0.06046038225219159, 0.07557547781523949, 0.995406885961055, 0.9900823408196657, 0.9939487147016925, 0.011758201294794898, 0.6780562746665058, 0.16069541769553028, 0.0156776017263932, 0.13325961467434216, 0.41699755214964973, 0.008050145794394782, 0.003220058317757913, 0.1400725368224692, 0.33327603588794397, 0.024150437383184346, 0.054740991401884515, 0.016100291588789565, 0.28233168527414465, 0.07735114665045059, 0.13923206397081106, 0.08121870398297311, 0.32874237326441497, 0.07348358931792806, 0.019337786662612648, 0.9940488431079016, 0.9848496324353851, 0.9703270180525818, 0.9756210226114673, 0.015340890189405038, 0.9690328969640849, 0.015340890189405038, 0.9644287392688408, 0.061620687466939626, 0.02899797057267747, 0.007249492643169367, 0.8264421613213079, 0.07249492643169368, 0.04399115240033763, 0.15836814864121546, 0.7918407432060773, 0.13503637741581093, 0.3958830443494581, 0.13335890688890645, 0.09561582003355557, 0.04109802790915985, 0.0863897321355809, 0.011742293688331384, 0.052001586334038986, 0.025162057903567254, 0.02432332264011501, 0.977997189202974, 0.9568226672782094, 0.9957142447705658, 0.0555642621674165, 0.27987924647291273, 0.07408568288988866, 0.1317078806931354, 0.0020579356358302408, 0.03704284144494433, 0.006173806907490722, 0.36219667190612237, 0.049390455259925775, 0.1450240229897715, 0.0580096091959086, 0.2320384367836344, 0.2030336321856801, 0.0290048045979543, 0.31905285057749727, 0.9605554758083217, 0.027444442165952047, 0.9083584730298236, 0.007610555875752046, 0.0837161146332725, 0.6183576649048538, 0.034247501440884204, 0.07800819772645846, 0.15601639545291693, 0.020929028658318125, 0.9524122653169289, 0.03361455054059749, 0.9842364976323216, 0.9634569620111665, 0.994423887062126, 0.9947512005894533, 0.9441846830130011, 0.9839353192057531, 0.9758211472541652, 0.9030450809859653, 0.17479717970220726, 0.24971025671743893, 0.5618480776142376, 0.9809732274540871, 0.017233508138155468, 0.12494293400162715, 0.25850262207233204, 0.5902476537318248, 0.004308377034538867, 0.3403462469703234, 0.14790748116000035, 0.3180806046451621, 0.03657926953419364, 0.1574498992993552, 0.2542150672616364, 0.0847383557538788, 0.0847383557538788, 0.5592731479756, 0.7901633056833102, 0.2091608750338174, 0.5613674303638198, 0.4134395264165969, 0.0227581390688035, 0.9975347568320396, 0.02247698243609837, 0.9665102447522299, 0.009632992472613587, 0.9947911308750681, 0.9975387035752001, 0.9868878447148923, 0.9815264612838046, 0.018264089034731985, 0.9801727781972833, 0.968010724460269, 0.9934143235079018, 0.9802956879792475, 0.02040318521278932, 0.04080637042557864, 0.9317454580507124, 0.9916439170648439, 0.062137548084043384, 0.04062839682418221, 0.08364669934390455, 0.3728252885042603, 0.1672933986878091, 0.05018801960634273, 0.15534387021010845, 0.06930726517066377, 0.9741363796730175, 0.8431953548676892, 0.15282915806976866, 0.9299091707775514, 0.9824804117796531, 0.4280621589612122, 0.5642637549943252, 0.9677674696016669, 0.36751312109915374, 0.6125218684985896, 0.9940037630311561, 0.9926473172138006, 0.979747358324416, 0.09952267455581684, 0.8785449891823831, 0.020590898183962106, 0.9971538239622431, 0.981427873214909, 0.9815520383950161, 0.7506482145231623, 0.06324142466678657, 0.03849478023195704, 0.11823396785529663, 0.02749627159425503, 0.9589569243518793, 0.030125841018754058, 0.9551663711240257, 0.012404758066545788, 0.006409866245827246, 0.10255785993323593, 0.18588612112899014, 0.06409866245827246, 0.012819732491654492, 0.6217570258452428, 0.9933130857258111, 0.8314178372337594, 0.2941852321780736, 0.7022486187476594, 0.9627996324270646, 0.035257451328315044, 0.9933485026599205, 0.10910962351928236, 0.36410739533962766, 0.19737808299555573, 0.323651018079669, 0.0049038033042374096, 0.9780360931081931, 0.9157139508561691, 0.03833564681142184, 0.012778548937140614, 0.051114195748562456, 0.18848359682282406, 0.7092094660113041, 0.9832816022886369, 0.7013479248784793, 0.08572030192959192, 0.2104043774635438, 0.9380526400920692, 0.014098100151275772, 0.9833424855514851, 0.9899392180489428, 0.9965770066590712, 0.04485574051486271, 0.941970550812117, 0.0731161647027277, 0.20010739813378112, 0.5772328792320609, 0.01346876718208142, 0.003848219194880406, 0.12891534302849358, 0.001924109597440203, 0.4068091473255549, 0.26442594576161066, 0.3254473178604439, 0.0833350358220546, 0.8750178761315733, 0.037500766119924575, 0.9793779317901361, 0.9955937892612042, 0.03266166583287294, 0.16853419569762434, 0.11758199699834257, 0.045726332166022114, 0.05095219869928178, 0.09537206423198898, 0.2978743923958012, 0.10059793076524864, 0.037887532366132605, 0.02743579929961327, 0.02482286603298343, 0.997697074653616, 0.9820042050100752, 0.9422759848734784, 0.04157099933265346, 0.9897198698640352, 0.3236151236386797, 0.07705121991397136, 0.16951268381073697, 0.010273495988529514, 0.41607658753544535, 0.9565117423112142, 0.9479760019750363, 0.6123667928543257, 0.15374315224853283, 0.04243757713397758, 0.10088231055533267, 0.050255025553394506, 0.018985231875726812, 0.01116778345630989, 0.008189707867960586, 0.001861297242718315, 0.9213016060281525, 0.04044738758172377, 0.0314590792302296, 0.8402508862973272, 0.015768783388957885, 0.14191905050062095, 0.9789202683865568, 0.9785792598449269, 0.040376541024373595, 0.21870626388202363, 0.026917694016249064, 0.05720009978452926, 0.04710596452843586, 0.033647117520311326, 0.37348300447545574, 0.1749650111056189, 0.026917694016249064, 0.0195179711222163, 0.0390359422444326, 0.12686681229440597, 0.18542072566105489, 0.448913335810975, 0.16590275453883857, 0.9036263471060237, 0.9646569682898812, 0.02756162766542518, 0.3606896495310737, 0.0031093935304402904, 0.6343162802098192, 0.9772777864144451, 0.06421012340040129, 0.13300668418654554, 0.20638968235843272, 0.48616236288875264, 0.041277936471686545, 0.06421012340040129, 0.9906349373800499, 0.97798724823308, 0.9940476082182764, 0.9832944739832004, 0.9965743571226189, 0.9914058041280922, 0.9671137447242907, 0.9873808453756531, 0.9840490338175069, 0.09249876361053624, 0.07869297799702336, 0.3465252188991731, 0.02485041410432317, 0.1270132276443184, 0.08421529224242852, 0.0027611571227025744, 0.04970082820864634, 0.008283471368107722, 0.17671405585296476, 0.008283471368107722, 0.9832644906382549, 0.9825327898939838, 0.9790256879591582, 0.9866585698400008, 0.9604948457507966, 0.9264397499326923, 0.28594283153517736, 0.2405550804978476, 0.22391290511749337, 0.16793467883812002, 0.0809414893499047, 0.888151703848123, 0.09868352264979145, 0.008223626887482622, 0.19520460795021613, 0.0922395400204318, 0.19091439678647512, 0.25097735307884933, 0.02145105581870507, 0.04933742838302166, 0.030031478146187097, 0.010725527909352535, 0.15873781305841753, 0.9740000145481315, 0.22764562852981612, 0.13658737711788968, 0.23270442027492316, 0.399644547863455, 0.9798555954549172, 0.8863019909570491, 0.10897155626521096, 0.9761917328238388, 0.9870379749652441, 0.9392141012145261, 0.9775892811512565, 0.9734346514069159, 0.9480136142716863, 0.9741589348324953, 0.019290275937277133, 0.15932256856721214, 0.0391318589463328, 0.4416309795371845, 0.27112787984244874, 0.03633672616445189, 0.05310752285573738, 0.9773122634772315, 0.9901411631636856, 0.985255180011721, 0.12782335728141464, 0.2236908752424756, 0.6071609470867195, 0.018175872818380998, 0.9724091957833834, 0.24720253727668903, 0.2076501313124188, 0.039552405964270246, 0.05932860894640537, 0.09888101491067561, 0.07910481192854049, 0.2669787402588242, 0.9889396770695081, 0.9877935837507728, 0.1509511045698685, 0.8442080292611164, 0.06130796620392205, 0.5790196808148194, 0.357629802856212, 0.9818994376763948, 0.9882719494012093, 0.9697093291217871, 0.026713755623189728, 0.48171906383450624, 0.48171906383450624, 0.9960740047009994, 0.9955891579911877, 0.061596515201896414, 0.03151449614980747, 0.9038930486603869, 0.998234816768457, 0.9936945599731667, 0.9521741083097933, 0.9895239255151463, 0.2737341808421498, 0.1087437156770184, 0.2737341808421498, 0.3412302802278854, 0.05222940434975757, 0.9448774059637961, 0.05332026907643249, 0.8957805204840658, 0.04265621526114599, 0.9910123886890361, 0.9819162185960162, 0.9781818994928515, 0.9251528891688391, 0.05307390172768096, 0.060655887688778234, 0.705124694382047, 0.17438567710523742, 0.9656903049755874, 0.09038052682220525, 0.9065720190431404, 0.0027667508210879157, 0.22828403339442213, 0.007133876043575692, 0.11176405801601917, 0.5659541661236716, 0.049937132305029844, 0.03566938021787846, 0.1815807772058977, 0.02168128683055495, 0.19242142062117518, 0.5908150661326224, 0.010840643415277474, 0.9964751210557065, 0.026151152333649966, 0.19177511711343306, 0.11332166011248318, 0.6668543845080741, 0.128793699254065, 0.8639910658293527, 0.07278798606318344, 0.909849825789793, 0.9267716513109785, 0.04720609765062902, 0.34286534083088444, 0.009938125821185056, 0.5987720807263996, 0.9689725200645665, 0.026547192330536068, 0.986651265870542, 0.9950173212991315, 0.12076104975557314, 0.8712047160937777, 0.9642402429953999, 0.9779776725656758, 0.9519814973356931, 0.03966589572232055, 0.9926521555222387, 0.008113498271590575, 0.9817332908624595, 0.4672580521064874, 0.35421174917749854, 0.035169960911240986, 0.011304630292898889, 0.1306312833846094, 0.9737092543363314, 0.9936924285316767, 0.9979792810919186, 0.6858061610460022, 0.310898793007521, 0.1386970604209142, 0.7397176555782091, 0.11943357980689835, 0.657197148406202, 0.1248247830576715, 0.04800953194525827, 0.107754727254913, 0.038407625556206616, 0.017070055802758496, 0.00533439243836203, 0.9953872206808062, 0.9793720923513047, 0.019311562384391925, 0.2541794609820335, 0.7376188279478619, 0.9391493177585313, 0.940321425054675, 0.9831993184997967, 0.9931802927391404, 0.9844682675205335, 0.992253021230346, 0.44837254618308153, 0.27443845690437474, 0.0266644240639527, 0.1874714122650213, 0.037740415598209974, 0.006563550538819126, 0.00533288481279054, 0.004102219086761954, 0.009435103899552493, 0.4147822010334489, 0.5643174151399284, 0.019581992323467547, 0.04772514950750168, 0.007954191584583614, 0.1153357779764624, 0.09942739480729516, 0.08749610743041975, 0.015908383169167227, 0.6204269435975218, 0.9659958964700605, 0.9776198534451467, 0.1023500460443546, 0.11209766947715027, 0.7067026988776866, 0.06579645817137081, 0.009747623432795676, 0.9916064208403802, 0.9465588704444878, 0.988678950412655, 0.9797857709367316, 0.8643344806698372, 0.13226470700641638, 0.031151968995969066, 0.04361275659435669, 0.8224119814935834, 0.09968630078710101, 0.15328146725908356, 0.43163308878478135, 0.002821131299246937, 0.29245727802193244, 0.06488601988267956, 0.03385357559096325, 0.010344148097238768, 0.001880754199497958, 0.007523016797991832, 0.9975652653814671, 0.9875830735573032, 0.007425436643287995, 0.012741498651782089, 0.11785886252898431, 0.866421908321182, 0.975460991746013, 0.9704952770286536, 0.9489384623356129, 0.01038225888769817, 0.004672016499464177, 0.03581879316255869, 0.9927729815545121, 0.9611892532377416, 0.004295817891565326, 0.03007072524095728, 0.0032218634186739945, 0.9846458298344751, 0.3383398628945447, 0.12661367010606664, 0.24478642887172883, 0.22579437835581884, 0.05838297010446406, 0.0042204556702022215, 0.0007034092783670369, 0.9931434129229173, 0.995898188514858, 0.9347726306349935, 0.25693398394545613, 0.14327335714924588, 0.09319300434631798, 0.10320907490690356, 0.0074031825882589055, 0.053564203432696786, 0.0718544192389835, 0.013064439861633362, 0.023080510422218942, 0.032661099654083404, 0.08230597112829019, 0.0030483693010477848, 0.055306128747581236, 0.05574161007630235, 0.005225775944653345, 0.9777636346885973, 0.013868987726079394, 0.09492495759909564, 0.16751463105722758, 0.00558382103524092, 0.061422031387650115, 0.6588908821584285, 0.017216458364471988, 0.9755993073200794, 0.016476778956224975, 0.9762491531563299, 0.9924627377526807, 0.8898430215604353, 0.07301276074342034, 0.0319430828252464, 0.004563297546463771, 0.9940077515340687, 0.9928986843183265, 0.21374969082846185, 0.0361730246017397, 0.743191232726652, 0.0032884567819763365, 0.9840669459569968, 0.977293853663701, 0.5906950535248, 0.028582018718941938, 0.16911027742040646, 0.011909174466225808, 0.045254862971658066, 0.15243743316769034, 0.9825761156439277, 0.011040181074650872, 0.9330692054676093, 0.06367401402141167, 0.9910694607762368, 0.06239754227152348, 0.9359631340728521, 0.9344831923407779, 0.22416352883258794, 0.11730837519218333, 0.2659764150397028, 0.13589188017312326, 0.00813028342916122, 0.10337074645647838, 0.01626056685832244, 0.1138239680082571, 0.015099097797013697, 0.915163397466049, 0.024920646507050937, 0.3322752867606792, 0.1578307612113226, 0.09137570385918678, 0.3821165797747811, 0.9298247154801691, 0.004188399619280041, 0.05863759466992057, 0.004188399619280041, 0.2190132322296834, 0.07581227269489041, 0.2779783332145982, 0.13477737367980516, 0.286401919069586, 0.13910022302958122, 0.8500569185141076, 0.9784864237409107, 0.9597292074859771, 0.0036019201918627503, 0.8008269226574848, 0.1945036903605885, 0.9797925152341284, 0.017496294914895148, 0.9824234716791647, 0.9159989237472937, 0.028420885051884347, 0.10420991185690927, 0.08932278159163652, 0.10962341377155391, 0.38841876237575274, 0.06631539845439681, 0.04601476627447942, 0.11233016472887623, 0.04195463983849594, 0.012180379307950434, 0.9971678376941056, 0.8531655598535591, 0.060518664280269766, 0.056090469332932956, 0.002952129964891208, 0.020664909754238455, 0.005904259929782416, 0.9827676810869779, 0.05558845699270624, 0.917209540379653, 0.9543574250521369, 0.9893763625103543, 0.9668302321453539, 0.007623056592413983, 0.24012628266104044, 0.019057641481034955, 0.05717292444310487, 0.0419268112582769, 0.6327136971703605, 0.9901238066237619, 0.12050271038687307, 0.0783267617514675, 0.01807540655803096, 0.06627649071278019, 0.7109659912825511, 0.9755733069020337, 0.20272786632531306, 0.7771234875803668, 0.7814765217085037, 0.06517962300957111, 0.0027158176253987967, 0.010863270501595187, 0.0013579088126993983, 0.025800267441288566, 0.10591688739055306, 0.007468498469846691, 0.973989154564223, 0.6456449051079124, 0.054923986573724846, 0.05569215421811261, 0.1371179245232152, 0.0038408382219388007, 0.0011522514665816403, 0.0011522514665816403, 0.053003567462755447, 0.0011522514665816403, 0.046090058663265605, 0.9927675849345834, 0.9623179271457614, 0.3970735165912691, 0.22825782989677743, 0.08242643857383629, 0.29087022073651847, 0.38568520986732147, 0.11343682643156515, 0.27224838343575636, 0.2268736528631303, 0.9983643888227799, 0.0543359801156768, 0.0271679900578384, 0.8965436719086672, 0.9919795186117629, 0.2161257806816001, 0.78160556301291, 0.013829505491494427, 0.9680653844046099, 0.9904875347515373, 0.04783713833383281, 0.011255797255019486, 0.0393952903925682, 0.08723242872640101, 0.742882618831286, 0.06753478353011691, 0.30042076136126583, 0.17615032593873417, 0.07601007215164557, 0.3535071609592405, 0.05911894500683545, 0.02654319979898734, 0.00603254540886076, 0.002413018163544304, 0.7908865152546698, 0.14207542190203648, 0.05919809245918187, 0.004735847396734549, 0.2051047310573224, 0.7924500972669275, 0.990306676449048, 0.013121750012444384, 0.08135485007715518, 0.894903350848707, 0.007873050007466631, 0.9815774728180393, 0.014797650343990543, 0.3479116897916543, 0.596420039642836, 0.9640394602643974, 0.9852465231087038, 0.16120094753902803, 0.8308048834703752, 0.33420577102407795, 0.10109427237383141, 0.07849672913732791, 0.47216971920483614, 0.010704099427817443, 0.0023786887617372097, 0.9803824705562016, 0.17950004679306547, 0.7898002058894881, 0.9856107632320553, 0.9867178786718183, 0.008985515581701688, 0.12130446035297279, 0.8289138124119808, 0.038188441222232174, 0.8288083564331522, 0.04804686124250158, 0.09309079365734681, 0.012011715310625394, 0.006005857655312697, 0.006005857655312697, 0.7772588434433519, 0.05636609933367819, 0.025216412859803403, 0.07416592017589237, 0.06526600975478528, 0.956430173221198, 0.03586613149579493, 0.9238546716617179, 0.058471814662134046, 0.986786322819852, 0.9874781137224876, 0.3630839690654835, 0.0933644491882672, 0.378245717224262, 0.02074765537517049, 0.031121483062755733, 0.02393960235596595, 0.0662328998515058, 0.023141615610767084, 0.9944195229458173, 0.9886362273482904, 0.199205433819924, 0.07696573579406155, 0.015845886781130317, 0.010186641502155204, 0.07696573579406155, 0.0747020376824715, 0.11205305652370724, 0.028296226394875567, 0.10073456596575701, 0.03282362261805566, 0.17204105648084345, 0.07583388673826652, 0.013582188669540272, 0.011318490557950226, 0.9554585687792189, 0.9516222027672278, 0.9870453606221006, 0.6452265273810301, 0.34236509616136296, 0.9910311501694226, 0.9620205089797442, 0.013672876801628344, 0.9844471297172407, 0.1580251571997, 0.8265931299676615, 0.9904226936079835, 0.03947038231946836, 0.9522229734571742, 0.3775390196218718, 0.038557176472020956, 0.06426196078670159, 0.016065490196675396, 0.21206447059611525, 0.07711435294404191, 0.2152775686354503, 0.9382502054385317, 0.9312838134509067, 0.9724289360665598, 0.9827864869028369, 0.9793593200875657, 0.2480404659346422, 0.7441213978039266, 0.9783057644490336, 0.027169808398955452, 0.006792452099738863, 0.03169810979878136, 0.1539622475940809, 0.18792450809277522, 0.4913207018811111, 0.020377356299216588, 0.0792452744969534, 0.30832133667946715, 0.6783069406948278, 0.15044601672876834, 0.26285792810475817, 0.14791040970524977, 0.2425730719166096, 0.03549849832925994, 0.04564092642333421, 0.04310531939981564, 0.015213642141111403, 0.02028485618814854, 0.037188903011605656, 0.9862274879238938, 0.5157420326476743, 0.3830752718379831, 0.0381416937327862, 0.05472503883399759, 0.006633338040484557, 0.9559296310136366, 0.9646426347150943, 0.9531953261383022, 0.9771685505382584, 0.9459634318293548, 0.03704073678849883, 0.004273931167903712, 0.012821793503711135, 0.9779183881472474, 0.9637135704382911, 0.0588631923197817, 0.28548648275094124, 0.06180635193577079, 0.24428224812709406, 0.014715798079945426, 0.026488436543901765, 0.03531791539186902, 0.026488436543901765, 0.014715798079945426, 0.23250960966313772, 0.00791790317878389, 0.07126112860905501, 0.055425322251487226, 0.12668645086054223, 0.6888575765541984, 0.03958951589391945, 0.9852498917678454, 0.9899479717619776, 0.9021783855914277, 0.015192123073430777, 0.059599867441920744, 0.00934899881441894, 0.012854873369826042, 0.06527910129937615, 0.33945132675675604, 0.4376808315691506, 0.14672255149193117, 0.005595351539946528, 0.001865117179982176, 0.0024868229066429015, 0.9856486732127505, 0.9217233929397859, 0.9708681457730621, 0.9895225994793169, 0.027756859798154346, 0.9104250013794626, 0.05551371959630869, 0.9960915579241699, 0.9882408870894883, 0.9886381944753415, 0.27716533794220855, 0.014782151356917789, 0.15521258924763678, 0.04434645407075336, 0.2586876487460613, 0.00554330675884417, 0.0018477689196147236, 0.2439054973891435, 0.231307841557344, 0.154205227704896, 0.616820910819584, 0.17895907206375983, 0.11834390249377666, 0.5744008925917453, 0.08947953603187991, 0.0346372397542761, 0.002113885070484982, 0.04016381633921466, 0.8709206490398126, 0.01056942535242491, 0.05284712676212455, 0.01902496563436484, 0.984386137292548, 0.06200844282789692, 0.9177249538528744, 0.012401688565579385, 0.9759526237963775, 0.10707185133938528, 0.8857762247167328, 0.004866902333608422, 0.9921501819408327, 0.9906696619753317, 0.9969261339461097, 0.0015824224348350948, 0.9975105359317381, 0.9937783296551959, 0.9830352833237952, 0.9909033901260899, 0.9719108848515016, 0.9726557967755194, 0.9887482593794394, 0.9988921228328224, 0.9915503446881176, 0.9531310143461019, 0.028259949212418117, 0.015414517752228064, 0.9527944306807842, 0.044612448259300934, 0.9969583758022977, 0.681127468368967, 0.3115795865943147, 0.9961601497977903, 0.9964946412593748, 0.9824588056196036, 0.9865294312224924, 0.8513833753099495, 0.0332571630980449, 0.01995429785882694, 0.09312005667452572, 0.9916728704231449, 0.990820217296465, 0.8746725330407823, 0.9839651855609323, 0.0066443245219411666, 0.9900043537692338, 0.9702415175666677, 0.3608380194049388, 0.6301959775522875, 0.007623338438132511, 0.10900042066678203, 0.8841145231861209, 0.9678523426099478, 0.6854339729007459, 0.07448022697661649, 0.0887825894032856, 0.11468875530819568, 0.003777982527799387, 0.029144436643023845, 0.0035081266329565737, 0.9708828038683097, 0.9942753890759977, 0.9794424958532143, 0.9670093636856211, 0.9378672250763654, 0.06165466322041279, 0.7906303871794111, 0.04352093874382079, 0.058027918325094394, 0.04352093874382079, 0.14464446797355615, 0.7232223398677808, 0.12239147290070138, 0.9473846478983885, 0.37069679521215865, 0.05234210067792569, 0.06811643238908138, 0.04875702528902667, 0.01075522616669706, 0.01075522616669706, 0.07456956808909962, 0.00358507538889902, 0.04302090466678824, 0.04732299513346706, 0.2351809455117757, 0.035133738811210395, 0.985304736031229, 0.9965707711710288, 0.9860466230402469, 0.9571713343155065, 0.9910913874515529, 0.8136571575126392, 0.01365196573007784, 0.1720147681989808, 0.9686954320686486, 0.9920324434363845, 0.9924142599564544, 0.44822320317258685, 0.1110523160099245, 0.026759594219258918, 0.005351918843851783, 0.18731715953481243, 0.04682928988370311, 0.01605575653155535, 0.07225090439199908, 0.05218120872755489, 0.0321115130631107, 0.9174583605811726, 0.9908308623746843, 0.30544827442256306, 0.23072487681704335, 0.06685777680493869, 0.08914370240658492, 0.035395293602614605, 0.013109368000968371, 0.011798431200871535, 0.09045463920668176, 0.0065546840004841855, 0.11405150160842484, 0.035395293602614605, 0.9928101500014394, 0.16297127934033742, 0.3247616073811072, 0.49599954581841826, 0.0011809512995676625, 0.014171415594811951, 0.961651688444753, 0.019625544662137815, 0.3822467049033893, 0.22880964730132455, 0.00538375640708999, 0.07806446790280486, 0.01615126922126997, 0.018843147424814966, 0.21804213448714457, 0.008075634610634985, 0.045761929460264916, 0.9744484649203018, 0.6610886199591339, 0.11448755949812178, 0.10619135953448977, 0.0604437425921761, 0.021570119905443236, 0.005451788547529609, 0.017066468496614428, 0.003555514270128006, 0.010192474241033617, 0.9864044670147804, 0.20515828270109082, 0.030114977277224342, 0.5580681726685636, 0.04329027983600999, 0.04987793111540281, 0.010352023439045867, 0.03199716335705086, 0.012234209518872389, 0.01411639559869891, 0.040467000716270206, 0.004705465199566303, 0.970635004045347, 0.13012000423424208, 0.8566233612087605, 0.09371835680319565, 0.008695517641533618, 0.31980181548306974, 0.038646745073482744, 0.4492684114792369, 0.0009661686268370686, 0.045409925461342225, 0.0038646745073482743, 0.015458698029393097, 0.015458698029393097, 0.00676318038785948, 0.9851054590451309, 0.7099611766736962, 0.10437839815997386, 0.01880691858738268, 0.10908012780681954, 0.01598588079927528, 0.0009403459293691339, 0.0075227674349530715, 0.0075227674349530715, 0.014105188940537009, 0.0037613837174765357, 0.008463113364322206, 0.09306344483541293, 0.8841027259364228, 0.958460685264708, 0.9512229348175841, 0.5791647219065784, 0.08890686520495722, 0.20744935214490018, 0.09314052545281233, 0.01524117689227838, 0.0025401961487130633, 0.011854248693994296, 0.5689965869654204, 0.27115145996129913, 0.032313386420258446, 0.009834508910513441, 0.11801410692616128, 0.9805298633576003, 0.9975086776103417, 0.9557735156756836, 0.3397807814253639, 0.0828037198431559, 0.0513954123164416, 0.06852721642192212, 0.03997420957945457, 0.38832089305755874, 0.028553006842467553, 0.28855424119667133, 0.014797653394701094, 0.6732932294588998, 0.02219648009205164, 0.9928559513128961, 0.9776938897993742, 0.07319561498312337, 0.4190650044638162, 0.3410433049763111, 0.10376081684420786, 0.06273909855696289, 0.06786399097130277, 0.9239943386092763, 0.2804215421134701, 0.1959935509395221, 0.18694769474231338, 0.015076426995347853, 0.09045856197208713, 0.11156555976557411, 0.024122283192556566, 0.09950441816929582, 0.9906158452103018, 0.9669740391765977, 0.4227679636283988, 0.21626744013993998, 0.11720299981777392, 0.11394736093394688, 0.035812027722097586, 0.015813103150017115, 0.03534693645297944, 0.007441460305890408, 0.03534693645297944, 0.983672271836505, 0.9854087068558932, 0.38077413534275245, 0.1682490365467976, 0.07526930582356735, 0.371918922892921, 0.14597876364716822, 0.0417082181849052, 0.8028832000594252, 0.9844564362463245, 0.1817780117329542, 0.321302538898442, 0.13556326298728788, 0.23063360326408716, 0.014964775784310998, 0.03653165853228861, 0.025968287390422028, 0.004841545106688852, 0.03169011342559976, 0.00792252835639994, 0.005721826035177735, 0.003080983249711088, 0.15051134998122337, 0.06689393332498816, 0.1672348333124704, 0.6020453999248935, 0.966279457139337, 0.9932999879998947, 0.9769701993248213, 0.013853779331872014, 0.969764553231041, 0.9944013726602446, 0.9958154524591647, 0.8507950458057715, 0.09073393842441767, 0.04207950767509225, 0.014464830763312961, 0.894805016121092, 0.3721936298032335, 0.17457942244842226, 0.013335928103698921, 0.3746183440039061, 0.049706641113786885, 0.014548285204035187, 0.09192697975074968, 0.02298174493768742, 0.8081913636420075, 0.02681203576063532, 0.015321163291791612, 0.034472617406531125, 0.9783071587990545, 0.9638363535337852, 0.08515373759838979, 0.9093202693542337, 0.10241453926826916, 0.8924695564806312, 0.0017603957101707192, 0.031687122783072945, 0.2552573779747543, 0.6988770969377756, 0.010562374261024314, 0.9899516962294725, 0.014490615163706644, 0.3091331234924084, 0.16583704020686493, 0.1384658782309746, 0.3381143538198217, 0.03542150373350513, 0.9649851630584311, 0.9920853386463049, 0.090487701480142, 0.8935660521164023, 0.9757712034982986, 0.15353815276237795, 0.2900165107733806, 0.1364783580110026, 0.056865982504584425, 0.08529897375687663, 0.02274639300183377, 0.028432991252292213, 0.1762845457642117, 0.04549278600366754, 0.005686598250458442, 0.19393419597577594, 0.12928946398385063, 0.16907083751734311, 0.49726716916865626, 0.004972671691686563, 0.031777531124486655, 0.9596814399594971, 0.8823543100437193, 0.0731999034507986, 0.104571290643998, 0.8208846315553844, 0.05838550269624816, 0.9341680431399706, 0.9704161272986671, 0.2978416139778054, 0.01210738268202461, 0.05327248380090828, 0.6368483290744945, 0.04874201137505796, 0.04874201137505796, 0.059573569458404176, 0.14893392364601044, 0.14081025508350078, 0.39805975956297335, 0.15434970268768353, 0.0834749152006962, 0.010434364400087026, 0.90083345987418, 0.738851948564341, 0.1072256796102445, 0.023455617414740983, 0.0016754012439100703, 0.12062888956152507, 0.006701604975640281, 0.04606594984247332, 0.9213189968494664, 0.016258570532637642, 0.013548808777198036, 0.05110932939331611, 0.932745261428019, 0.9945017976215769, 0.01761739012003055, 0.9748289199750239, 0.9789515345967581, 0.9947034189800009, 0.8224693734074628, 0.16900055617961565, 0.9942317919972047, 0.9978190180246675, 0.030381167013965118, 0.020254111342643412, 0.9316891217615969, 0.029865666119818224, 0.9557013158341832, 0.9880441111018153, 0.95077681822071, 0.02066906126566761, 0.6204392043235387, 0.1430394383785904, 0.06948919088423634, 0.11190467103435463, 0.006768427683529514, 0.006768427683529514, 0.013536855367059028, 0.0027073710734118054, 0.024817568172941548, 0.8963840273785225, 0.06800154690457758, 0.03709175285704231, 0.1177776430354457, 0.16017759452820615, 0.7207991753769277, 0.07775679411698459, 0.2472806155251852, 0.1548130765752576, 0.31382922310278466, 0.021015349761347186, 0.06374656094275313, 0.0028020466348462913, 0.053238886062079535, 0.01751279146778932, 0.00490358161098101, 0.02942148966588606, 0.011208186539385165, 0.0021015349761347186, 0.36528489372046213, 0.6164182581532799, 0.9961111765234918, 0.19222820038176947, 0.049332900982931985, 0.374249593663622, 0.16671118263197707, 0.13524019407389976, 0.005953970808284895, 0.06379254437448102, 0.003402269033305654, 0.008505672583264135, 0.08219854819121893, 0.9165138123320911, 0.9783839589704129, 0.036964539758351386, 0.5606288530016627, 0.05236643132433113, 0.023102837348969615, 0.2649125349348516, 0.060067377107321004, 0.9810902039187169, 0.39219647148371917, 0.0819942915528828, 0.24196916807913665, 0.06249914530954004, 0.007454026504807527, 0.09690234456249786, 0.10894346430103309, 0.0022935466168638547, 0.003440319925295782, 0.0022935466168638547, 0.15487888584353524, 0.07039949356524329, 0.22527837940877854, 0.535036151095849, 0.9160324852558547, 0.5233203515807243, 0.2531673416456982, 0.004853048082665141, 0.14640028382706508, 0.013750302900884566, 0.021838716371993135, 0.0024265240413325704, 0.03397133657865599, 0.22073709315677997, 0.1644417271167958, 0.1022205330726028, 0.005925828004208858, 0.4681404123324998, 0.007407285005261072, 0.022221855015783217, 0.005925828004208858, 0.002962914002104429, 0.04215676393104776, 0.08431352786209552, 0.7869262600462249, 0.08431352786209552, 0.9943867327829704, 0.9638146145465826, 0.3367121998211308, 0.6552237401924708, 0.09021958547400284, 0.09924154402140313, 0.027065875642200855, 0.07217566837920228, 0.667624932507621, 0.04510979273700142, 0.14350862821860713, 0.8323500436679214, 0.37323196284609256, 0.02228250524454284, 0.12255377884498561, 0.479073862757671, 0.9533067809856677, 0.04313605343826551, 0.06973295912649687, 0.09832347236836059, 0.28102382527978237, 0.036261138745778375, 0.1269139856102243, 0.19943626310178106, 0.02580119487680384, 0.03207716119818856, 0.05229971934487265, 0.05369437852740259, 0.023709206103008935, 0.07506205353565348, 0.8548733874893869, 0.06672182536502531, 0.9824515278433684, 0.0028218691093168566, 0.0649029895142877, 0.09876541882608998, 0.05925925129565399, 0.0028218691093168566, 0.00846560732795057, 0.014109345546584284, 0.7393297066410165, 0.00846560732795057, 0.9967373814022448, 0.988695451041195, 0.9748834510428755, 0.010491504514813255, 0.04896035440246186, 0.23955601975490268, 0.34796823307463964, 0.02098300902962651, 0.1293952223493635, 0.013988672686417673, 0.1870984971808364, 0.9667324542750757, 0.21606367363129714, 0.7202122454376572, 0.9912569577424463, 0.9749720457743681, 0.9843876109807792, 0.9814753922048941, 0.6826180921335376, 0.013652361842670753, 0.30262735417920167, 0.9729464655509198, 0.9232435763589444, 0.015131807986054348, 0.9684357111074783, 0.2717430215088173, 0.6453896760834411, 0.052838920848936696, 0.026419460424468348, 0.023163646177003415, 0.9767337471303107, 0.9837052730195796, 0.9895378663004423, 0.9833463894740153, 0.9577736546622442, 0.9317264779976414, 0.16245675299257348, 0.23301877701965087, 0.14358551400858768, 0.15999528703814056, 0.0730234899815103, 0.12061183176721366, 0.015589284378075234, 0.0065639092118211515, 0.01476879572659759, 0.004102443257388219, 0.005743420560343507, 0.059895671557868006, 0.9579785013927998, 0.9880473950624649, 0.9925056020065395, 0.9716589188021338, 0.9873763026768145, 0.9959554634480364, 0.9837726752731079, 0.9113376119665252, 0.8550205649834614, 0.13894084180981248, 0.0035625856874310887, 0.1924271738366202, 0.7697086953464808, 0.9838056114991227, 0.1789198512714543, 0.5216589014052632, 0.014643056881551247, 0.1489473442170291, 0.010753494897389197, 0.09563746525763159, 0.026540540597811635, 0.002745573165290859, 0.14266158294075107, 0.03470146612072324, 0.04434076226536857, 0.019278592289290686, 0.005783577686787206, 0.07325865069930461, 0.05783577686787206, 0.005783577686787206, 0.02506216997607789, 0.5879970648233659, 0.02723199797151142, 0.06127199543590069, 0.5718719574017398, 0.32678397565813705, 0.9769162211309961, 0.06646131561252029, 0.021502190345227153, 0.30689489856369667, 0.4671839538644809, 0.0547328481514873, 0.08209927222723096, 0.9871683222361, 0.43429180227612496, 0.054775542629421164, 0.003912538759244369, 0.4147291084799031, 0.08607585270337612, 0.1967342644078069, 0.059875645689332534, 0.21811842358256853, 0.11975129137866507, 0.021384159174761618, 0.38063803331075685, 0.9844872288114659, 0.13660009776368565, 0.11952508554322495, 0.7342255254798105, 0.9770461860304165, 0.9707464183377477, 0.9889046672861623, 0.9854096273405764, 0.07560599008123087, 0.920614114518517, 0.9868513047397321, 0.9911595101887641, 0.9847929729793703, 0.9935506805941463, 0.992090628842677, 0.9936086387261378, 0.016290609000201354, 0.008145304500100677, 0.02117779170026176, 0.03258121800040271, 0.06190431420076515, 0.009774365400120813, 0.008145304500100677, 0.276940353003423, 0.5636550714069669, 0.051168927960872926, 0.0665196063491348, 0.5065723868126419, 0.3684162813182851, 0.7929980763050761, 0.051637084038470074, 0.15122288896980524, 0.79431324882211, 0.20463663359484865, 0.3193473296838801, 0.005806315085161456, 0.59805045377163, 0.06967578102193747, 0.9842302667335605, 0.08330960541539797, 0.9071490367454446, 0.23843051852674774, 0.04975379383891484, 0.33729195303783827, 0.08335375850935084, 0.12664602068087413, 0.0019384595002174612, 0.075599920508481, 0.0865845243430466, 0.9177453437971627, 0.0556503649991313, 0.9182310224856665, 0.38378291381685, 0.5756743707252749, 0.33579907852116075, 0.1715337284220648, 0.07195694539739159, 0.3139939435522542, 0.01380991881364081, 0.025439324130390965, 0.025439324130390965, 0.009448891819859502, 0.024712486298094083, 0.007268378322968848, 0.04488828530992783, 0.07294346362863273, 0.131859338097913, 0.14588692725726546, 0.011222071327481958, 0.3759393894706456, 0.12063726677043106, 0.09819312411546714, 0.9610220963287786, 0.0024945442565336698, 0.1247272128266835, 0.11973812431361616, 0.1995635405226936, 0.551294280693941, 0.9091203055027253, 0.7177269319094431, 0.04588208697137993, 0.08193229816317844, 0.15075542862024832, 0.9894074517046583, 0.10252763361762844, 0.8934550929536192, 0.9913504141712262, 0.10567469708392646, 0.10759605521272513, 0.14218050153110107, 0.2171134685542489, 0.3938784164037259, 0.023056297545583956, 0.011528148772791978, 0.9938809898999414, 0.11885001851827379, 0.18751891810660976, 0.05370260096010889, 0.015846669135769837, 0.16286854389541222, 0.031693338271539674, 0.2315374434837482, 0.03785593182433906, 0.15582557983507006, 0.003521482030171075, 0.9913681836037094, 0.9682697232708745, 0.9786511859147823, 0.9692324716928502, 0.9732528480152385, 0.9232709047022184, 0.9692617322025794, 0.009052700502034048, 0.007543917085028373, 0.9822180044706942, 0.8568659015016153, 0.009334051214614546, 0.05040387655891855, 0.06720516874522474, 0.013067671700460366, 0.29508718478171103, 0.04552773708060684, 0.01348969987573536, 0.02192076229806996, 0.00168621248446692, 0.11634866142821748, 0.0252931872670038, 0.00337242496893384, 0.4805705580730722, 0.9621490201710292, 0.9840062971537783, 0.9944540057417175, 0.9964126613865617, 0.11966586882269685, 0.041743907728847736, 0.4146561501065542, 0.34230004337655145, 0.07792196109384911, 0.6154457447129384, 0.10395421397991338, 0.08003554527657047, 0.0864751868505474, 0.06347646694348692, 0.0009199487962824192, 0.02299871990706048, 0.02299871990706048, 0.003679795185129677, 0.04806901985725539, 0.9493631421807939, 0.9694997808052271, 0.2835991944755392, 0.1397099189626867, 0.2591201061102822, 0.07821367258167504, 0.006567560293117751, 0.18627989195024894, 0.04298766737313437, 0.0023882037429519094, 0.3462672971907371, 0.06250312223659514, 0.24376217672272107, 0.04000199823142089, 0.16125805537041546, 0.1325066191415817, 0.015000749336782835, 0.9841548093058698, 0.9853465517421872, 0.9727896693251543, 0.7446756344852791, 0.12020591355694578, 0.01983397573689605, 0.07753281424423003, 0.03786486277043792, 0.09665617732604526, 0.898902449132221, 0.9610743008149433, 0.9729920043324669, 0.985991382278832, 0.9793705724301895, 0.9854645149852077, 0.9535608347204709, 0.9138876566746704, 0.16971152797997538, 0.6788461119199015, 0.15085469153775588, 0.21593617885809172, 0.06619149201177686, 0.24414894594507858, 0.33963831147026485, 0.13238298402355372, 0.9952744825817278, 0.9705312291310121, 0.956127932240435, 0.9892070115101641, 0.9912056182089019, 0.980759131853752, 0.23802033169738226, 0.2476108945130277, 0.08369945730017839, 0.3417727839757284, 0.03661851256882804, 0.021796733671921455, 0.028771688446936318, 0.23775720053351715, 0.7429912516672411, 0.8772349166057698, 0.12124385026258606, 0.9814538204211706, 0.954570041507228, 0.05702307957080411, 0.09693923527036699, 0.09123692731328657, 0.7470023423775338, 0.2540190218059327, 0.7389644270718042, 0.9803400492499301, 0.20548858344801157, 0.12986878473914332, 0.31891828151131396, 0.2605595238120787, 0.04027576235581027, 0.04191967102339436, 0.0016439086675840925, 0.9821866904778259, 0.7597751825690514, 0.12104892739235736, 0.005151018186908824, 0.10688362737835809, 0.001287754546727206, 0.0019316318200908087, 0.0038632636401816174, 0.3374971365118941, 0.6532202642165693, 0.9533281814125735, 0.9884662492289021, 0.9656963268756891, 0.9870447085975077, 0.989013273088973, 0.979816755523079, 0.14002518306395853, 0.858218863940391, 0.9949710242334844, 0.7481584741187307, 0.05626395028941674, 0.018247767661432455, 0.11252790057883348, 0.053222655679178, 0.007603236525596856, 0.0030412946102387427, 0.8860312145920602, 0.08628062267795322, 0.10353674721354388, 0.12510690288303217, 0.03451224907118129, 0.18550333875759945, 0.4572873001931521, 0.9634144799244769, 0.9868941388433838, 0.980702902044886, 0.3851621209062921, 0.5920084450967082, 0.023775439562116796, 0.1271273663044087, 0.8555328164810208, 0.015461436442428086, 0.8798759523289872, 0.9664879608735467, 0.03001515406439586, 0.9836294533107353, 0.9903946577640689, 0.9893454962675409, 0.22195813151052257, 0.022195813151052256, 0.7472590427520927, 0.4142178415521885, 0.5818774440852171, 0.9681956860350261, 0.056284632027064935, 0.9380772004510822, 0.5024459399898308, 0.2681420679741648, 0.022558797305665873, 0.06049859277428575, 0.017431797918014538, 0.015380998162954004, 0.09895108818167077, 0.0005126999387651335, 0.014355598285423737, 0.7847329993426828, 0.025111455978965847, 0.05440815462109267, 0.1360203865527317, 0.9953206933845045, 0.34259048808021353, 0.01684871252853509, 0.08985980015218716, 0.5447750384226346, 0.9841170914870488, 0.9371487265557984, 0.9661283229166874, 0.9925109621507819, 0.05919677439827917, 0.044397580798709375, 0.8879516159741875, 0.7246686770087666, 0.2546133189490261, 0.9912781363512929, 0.9793116009079604, 0.9656405942133677, 0.9425641159860888, 0.9782629864036639, 0.9666699259622069, 0.02262023697587427, 0.3594104319500023, 0.02010687731188824, 0.06534735126363678, 0.46999825716538757, 0.06283399159965075, 0.9694335687987307, 0.6403636294661431, 0.2959902998421284, 0.06261333265891178, 0.9855965053358211, 0.27809451151422937, 0.12120723049016412, 0.15741198764956377, 0.30852749579314503, 0.09497189921523681, 0.03672946378489821, 0.00262353312749273, 0.9983686035439141, 0.9743149696983444, 0.9460109660733711, 0.9372458341494212, 0.9867915026374814, 0.9961828943293487, 0.9894612152009694, 0.08109929559152772, 0.91526347881867, 0.09895170512575918, 0.882319370704686, 0.016491950854293197, 0.547077199830452, 0.3502868401792103, 0.10233098701864571, 0.903989317168989, 0.08135903854520901, 0.7700139698052157, 0.2200039913729188, 0.9909040702029724, 0.938577119825087, 0.9621221570797708, 0.036221069443003136, 0.9930549993899684, 0.9984942417856494, 0.14510568907967167, 0.7738970084249156, 0.8290775358266281, 0.16905770981939625, 0.9684009948459239, 0.26474520345203895, 0.04346563041749893, 0.052356327548350984, 0.1057005103334633, 0.05136847231158964, 0.055319893258635, 0.04939276183806696, 0.13138474648925813, 0.09483410272908857, 0.01382997331465875, 0.021732815208749465, 0.11656691793783804, 0.2572110398620264, 0.7136700683495663, 0.021736144213692372, 0.13638186730273713, 0.8554862585353511, 0.0754952809897094, 0.9185259187081309, 0.17478820898113911, 0.03535042428832027, 0.7443228225151879, 0.045169986590631456, 0.3548020765512993, 0.017030499674462365, 0.10502141465918459, 0.011353666449641578, 0.005676833224820789, 0.5052381570090502, 0.31503741085016396, 0.041091836197847474, 0.6437721004329438, 0.9776297698615888, 0.9951222506619674, 0.9901121373163186, 0.0777272872038557, 0.019987016709562894, 0.3997403341912579, 0.0011103898171979385, 0.4286104694384043, 0.016655847257969078, 0.006662338903187632, 0.008883118537583508, 0.0011103898171979385, 0.03886364360192785, 0.06648350318663598, 0.024931313694988494, 0.8975272930195858, 0.9798288480605222, 0.9863142831515093, 0.9925999006275418, 0.021295198204735803, 0.38027139651313935, 0.5962655497326025, 0.0195802766663194, 0.06713237714166652, 0.11468447761701363, 0.03636337095173603, 0.13146757190243025, 0.3244731561847215, 0.13146757190243025, 0.12027884237881917, 0.055943647618055425, 0.9634691106088296, 0.9374639130895125, 0.9983395748016103, 0.14956660745958472, 0.0021065719360504886, 0.012639431616302934, 0.6446110124314496, 0.10111545293042347, 0.02106571936050489, 0.04423801065706027, 0.02106571936050489, 0.12341171287321706, 0.7309770685567472, 0.10442529550810674, 0.03797283473022063, 0.9909551503902535, 0.987472479723094, 0.9807813480492469, 0.9871303468671487, 0.8637839814443279, 0.11960085896921463, 0.03709750681140958, 0.9608254264155082, 0.04312851142633091, 0.94882725137928, 0.9406329939779726, 0.04762698703685937, 0.982461865776172, 0.9971786692030832, 0.9568997696428558, 0.9905139133843041, 0.990557521628068, 0.38770915352111535, 0.2116479920187731, 0.08366026823160942, 0.12486607198747675, 0.05743839311423931, 0.0006243303599373838, 0.04183013411580471, 0.01311093755868506, 0.053692410954615, 0.01311093755868506, 0.0056189732394364535, 0.0043703125195616865, 0.0018729910798121513, 0.9420141017250258, 0.18723685420274935, 0.7076451695603909, 0.044055730400646906, 0.030288314650444747, 0.0027534831500404316, 0.024781348350363885, 0.9912741724408376, 0.9901916868290082, 0.9850194490694035, 0.005462823813682709, 0.09833082864628877, 0.021851295254730837, 0.19666165729257754, 0.6610016814556078, 0.010925647627365418, 0.9850373930572017, 0.9723125493094347, 0.7432733069608392, 0.03457085148655066, 0.1498070231083862, 0.06914170297310132, 0.9781587057477786, 0.7579208318452616, 0.12119275293958671, 0.1202605009938976, 0.9938719273956842, 0.3880745955972345, 0.08560469020527232, 0.0627767728171997, 0.03994885542912708, 0.4166094923323253, 0.13112659240687624, 0.8616890358166154, 0.7161341561536726, 0.07936297688795589, 0.04481673988966921, 0.1465880867224597, 0.007469456648278201, 0.004668410405173876, 0.6851078395391013, 0.04927145421342852, 0.06921466187124482, 0.18242169357590796, 0.0017596947933367327, 0.0041059545177857095, 0.007625344104459176, 0.4684565236744489, 0.10474804256074634, 0.07565136407165013, 0.043645017733644306, 0.03200634633800582, 0.03200634633800582, 0.2415024314594985, 0.3011294963025372, 0.017137451009087486, 0.004896414574024996, 0.11261753520257489, 0.49943428655054956, 0.019585658296099984, 0.04406773116622496, 0.8263544250046868, 0.046774778773850195, 0.007795796462308366, 0.07406006639192948, 0.04287688054269601, 0.014676533561488538, 0.0453638310082373, 0.5937324940784, 0.1280861110820818, 0.07471689813121438, 0.02535037615166202, 0.08005381942630112, 0.03735844906560719, 0.028650543027282142, 0.792665023754806, 0.03820072403637619, 0.13370253412731667, 0.07587845353128593, 0.0007439064071694699, 0.9224439448901427, 0.9896743745200164, 0.9605000559527701, 0.01433582173063836, 0.2679226561196588, 0.007547117073793206, 0.018867792684483013, 0.4396195695484542, 0.26414909758276217, 0.050842616602569494, 0.9428994351749251, 0.9912282164322904, 0.9684093338497062, 0.021915634214783184, 0.010957817107391592, 0.2833378423482683, 0.17532507371826547, 0.012523219551304676, 0.2739454276847898, 0.203502317708701, 0.01721942688304393, 0.38549472132520274, 0.10641260536581118, 0.050194625172552444, 0.3593935162354755, 0.05822576520016083, 0.010038925034510489, 0.030116775103531467, 0.031060812382281353, 0.5321752521497538, 0.043485137335193894, 0.1325261328310671, 0.014495045778397964, 0.0031060812382281353, 0.0031060812382281353, 0.2381328949308237, 0.0010353604127427117, 0.2986557129993211, 0.02528302332269385, 0.12325473869813251, 0.5467453793532545, 0.003160377915336731, 0.11567317179718156, 0.035898570557746, 0.04387603068168956, 0.0917407914253509, 0.035898570557746, 0.035898570557746, 0.08376333130140734, 0.5504447485521053, 0.05080493145492423, 0.9398912319160982, 0.03482213822856273, 0.32500662346658543, 0.6384058675236499, 0.9842372674598636, 0.5362290114486779, 0.170040160933788, 0.05422540565211349, 0.10845081130422699, 0.0033472472624761418, 0.034141922077256644, 0.02343073083733299, 0.02008348357485685, 0.03949751769721847, 0.0040166967149713705, 0.0006694494524952284, 0.005355595619961827, 0.9743390460204334, 0.9516297188937167, 0.12819624458381462, 0.018852388909384503, 0.8483575009223027, 0.014323958142512382, 0.24637208005121297, 0.19194103910966592, 0.14610437305362628, 0.36955812007681943, 0.025783124656522285, 0.954186291914362, 0.9772257802971368, 0.9955322717407908, 0.9118409318971631, 0.6373012682397526, 0.11450890197616374, 0.13425181610998507, 0.059228742401464, 0.018953197568468482, 0.019742914133821333, 0.008686882218881387, 0.005528015957469974, 0.0015794331307057068, 0.05048591429119101, 0.03365727619412734, 0.22999138732653682, 0.08414319048531835, 0.5890023333972284, 0.9813860419832834, 0.13840559873462896, 0.06920279936731448, 0.784298392829564, 0.9855350432074059, 0.9641374107709143, 0.10412213367343787, 0.11403852735662243, 0.7437295262388419, 0.029749181049553677, 0.07516417339969879, 0.9144974430296685, 0.985247620962236, 0.9861228474721787, 0.9929686560950751, 0.13234319443658665, 0.23753906693746324, 0.006302056877932698, 0.07853332417116131, 0.2094221977897635, 0.25499091675327684, 0.05429464387142017, 0.02617777472372044, 0.004414822572906944, 0.28696346723895133, 0.05444947839918564, 0.3531858058325555, 0.1412743223330222, 0.11625699441988285, 0.04120501068046481, 0.5881389707658182, 0.19604632358860608, 0.04060959560049697, 0.1260297794498182, 0.011202647062206061, 0.0007001654413878788, 0.0056013235311030305, 0.030807279421066668, 0.9898688964249428, 0.12990025144147713, 0.036251232960412216, 0.024167488640274813, 0.6948152984079009, 0.111774634961271, 0.29611781130604603, 0.6823584347487147, 0.7103568870699368, 0.041709028231629315, 0.24634394799306064, 0.7791306263947251, 0.21830713203330462, 0.07834744310755773, 0.11752116466133661, 0.6303407922744417, 0.17093987587103507, 0.06096053701420022, 0.579125101634902, 0.33528295357810123, 0.4788327552688804, 0.5189024419022595, 0.9724919964128277, 0.9936595450007828, 0.9553145684921657, 0.6520691769058874, 0.16220626291191229, 0.06920800550908257, 0.08975413214459146, 0.02703437715198538, 0.9894838202019689, 0.9871514482103216, 0.9539144134491755, 0.979636570361093, 0.00272015503068673, 0.28561627822210667, 0.09792558110472228, 0.08976511601266209, 0.05168294558304787, 0.11424651128884265, 0.3264186036824076, 0.02448139527618057, 0.9834638342538734, 0.3067512263927552, 0.5125365968622668, 0.012331707593678602, 0.1225463442121811, 0.005395122072234388, 0.03930731795485054, 0.977136247781603, 0.23645317377072542, 0.029930781489965242, 0.6943941305671937, 0.02095154704297567, 0.017958468893979146, 0.9238356858089213, 0.7509549298911252, 0.0613216965363356, 0.011320928591323496, 0.15188912526692358, 0.0009434107159436247, 0.011320928591323496, 0.004717053579718123, 0.0075472857275489975, 0.5569066865265575, 0.06895035166519284, 0.04697716267298853, 0.318990088473035, 0.007576961721449762, 0.6438478645169395, 0.13688348057551095, 0.0012387645300951217, 0.18736313517688716, 0.00030969113252378043, 0.026943128529568896, 0.003096911325237804, 0.04545359655049317, 0.14934753152304897, 0.036795768636113516, 0.06060479540065756, 0.04545359655049317, 0.17315655828759302, 0.06709816633644229, 0.17748547224478284, 0.03246685467892369, 0.21211678390230146, 0.9683702382475836, 0.007226643569011818, 0.014453287138023636, 0.18832022054785635, 0.006974822983253939, 0.0337116444190607, 0.10578481524601807, 0.06509834784370343, 0.05463611336882252, 0.1929701025366923, 0.030224232927433734, 0.11508457922368999, 0.11973446121252596, 0.027899291933015755, 0.05928599535765848, 0.966477638547736, 0.9690073311545239, 0.5270164669680314, 0.12420734155869474, 0.09433468979141373, 0.11634611740941027, 0.005031183455542066, 0.032073794529080664, 0.019181386924254123, 0.024527019345767568, 0.004402285523599307, 0.037104977984622735, 0.007232326217341719, 0.0022011427617996534, 0.006603428285398961, 0.9697028548983337, 0.9890667745432199, 0.9967349339471896, 0.5785694056244132, 0.07369312212560276, 0.07996487720012214, 0.2555740192866649, 0.010975571380408923, 0.32444906301635573, 0.6488981260327115, 0.5306332623504303, 0.023671372298160458, 0.07101411689448138, 0.307727839876086, 0.0019726143581800383, 0.06312365946176123, 0.992579362706166, 0.11072538817304896, 0.3372091367088309, 0.5435609964858767, 0.9767603483200196, 0.952807611563661, 0.2148931505575796, 0.062895556260755, 0.6446794516727389, 0.01572388906518875, 0.05765425990569209, 0.990736533554326, 0.9432650795265488, 0.15139653768354175, 0.044157323491033004, 0.8074482009788893, 0.9042360588607257, 0.03455679205837168, 0.03455679205837168, 0.023037861372247788, 0.978988446224387, 0.12302107003684096, 0.25757536538963577, 0.08746029197931662, 0.45556239998017667, 0.01345542953527948, 0.048055105483141, 0.01345542953527948, 0.14231229916178834, 0.856097424645133, 0.9936527371037969, 0.4181865447373016, 0.33014727216102757, 0.24210799958475357, 0.9964255081947163, 0.9978065618291981, 0.9966003361048269, 0.4440153291110405, 0.5497332646136692, 0.515518645112848, 0.07677937267638162, 0.39486534519281974, 0.9652315155457557, 0.10180737485268576, 0.24179251527512868, 0.03817776556975716, 0.6159346178587488, 0.9935605232144032, 0.945853956340913, 0.02303215802778197, 0.030709544037042628, 0.9729520492296436, 0.0027026445811934546, 0.021621156649547637, 0.9818642634971417, 0.10007475997771174, 0.8935246426581406, 0.15462665302958947, 0.11584569181959598, 0.2003682995849664, 0.0929748685419075, 0.16954240734112544, 0.07855630604075606, 0.013921370690766897, 0.020882056036150346, 0.08501979957575498, 0.0004971918103845321, 0.06761808621229635, 0.819286805856175, 0.07877757748617066, 0.1004414112948676, 0.3039952119470104, 0.484415134484667, 0.20760648620771444, 0.01731125395404124, 0.1173318323551684, 0.5001028920056358, 0.02564630215413517, 0.003846945323120276, 0.1359254014169164, 0.11540835969360827, 0.00897620575394731, 0.06219228272377779, 0.012181993523214207, 0.2892487604229097, 0.061493830956051675, 0.15259580274279488, 0.1298203097961091, 0.011387746473342902, 0.009110197178674322, 0.1275427605014405, 0.21408963369884657, 0.006832647884005741, 0.9911623339804935, 0.9633760309303668, 0.9892904468259033, 0.9744987436627861, 0.0020676660431311264, 0.9108068919992612, 0.05686081618610598, 0.012405996258786758, 0.01654132834504901, 0.05218254977006938, 0.9392858958612488, 0.11547728265408201, 0.0230954565308164, 0.027294630445510292, 0.014697108701428619, 0.8167393264079619, 0.9809867362298006, 0.9432410412530907, 0.9900036461541465, 0.006689213825365854, 0.05840928377556264, 0.9345485404090023, 0.9698240845561584, 0.07791882118621125, 0.14470638220296375, 0.6344818296591488, 0.08905008135567001, 0.04823546073432125, 0.9920532218302673, 0.972549884892898, 0.3900994723526003, 0.5954149841171268, 0.9777123720355065, 0.9185024211744724, 0.8710577095229012, 0.5931787180242808, 0.15227396428709175, 0.16447710428222456, 0.05730170084671049, 0.010611426082724165, 0.0010611426082724165, 0.010080854778587956, 0.007427998257906915, 0.002122285216544833, 0.002122285216544833, 0.5427883382065819, 0.004782276107546977, 0.29889225672168607, 0.15303283544150326, 0.034993976641570605, 0.04899156729819885, 0.07698674861145532, 0.21346325751358067, 0.6228927842199568, 0.011291890539450481, 0.07904323377615337, 0.11291890539450482, 0.28229726348626205, 0.011291890539450481, 0.4968431837358212, 0.9811240183296598, 0.012578513055508458, 0.17743170193600627, 0.1071285747538151, 0.7130745757050818, 0.9758911699551198, 0.9946672241012104, 0.5197051007641019, 0.18138874624786178, 0.07714666593529391, 0.11402653550436125, 0.01467668278769006, 0.0037632519968436055, 0.015053007987374422, 0.0018816259984218027, 0.04440637356275454, 0.005644877995265409, 0.01994523558327111, 0.002257951198106163, 0.4310492398989939, 0.49216816197422436, 0.02251749760666386, 0.054685351330469374, 0.06712705084711844, 0.19889496547294352, 0.022375683615706146, 0.022375683615706146, 0.027348057752529735, 0.350552376646063, 0.07955798618917742, 0.10193366980488357, 0.05966848964188306, 0.06961323791553024, 0.996891936360578, 0.9961892898357628, 0.9587285562370512, 0.9512824190463455, 0.004601124155000462, 0.043710679472504385, 0.9897536196383893, 0.009185648442119622, 0.9546399930615822, 0.025919799944499985, 0.09503926646316661, 0.8726332647981662, 0.04019755510652808, 0.9567018115353684, 0.9847594103393673, 0.03800425430238194, 0.9501063575595485, 0.049567372866884604, 0.9462862092768879, 0.8832988260410626, 0.013299750720402001, 0.9708818025893461, 0.9900283479942054, 0.9926591911551879, 0.9691632632076314, 0.2390621793172202, 0.3195544955856445, 0.14327632295779527, 0.1569600167234274, 0.06439385301473945, 0.045075697110317614, 0.028977233856632752, 0.0024147694880527295, 0.9530294780460354, 0.012711310666416098, 0.26947978612802126, 0.04576071839909795, 0.5186214751897767, 0.15253572799699316, 0.06266743165268601, 0.3342263021476587, 0.5848960287584027, 0.19995471154065528, 0.18011187757097194, 0.5723894414331735, 0.018316462125861552, 0.018316462125861552, 0.009158231062930776, 0.9799377386784184, 0.45143406148391196, 0.06351836040979666, 0.20303190202417146, 0.06238410397390743, 0.03175918020489833, 0.019849487628061456, 0.0011342564358892261, 0.11682841289659028, 0.028923539115175263, 0.009641179705058421, 0.010775436140947647, 0.10121946660002026, 0.3588690179455264, 0.038480127798354816, 0.28525486041823894, 0.12213257953390876, 0.06106628976695438, 0.022586161968599566, 0.010038294208266473, 0.9935040123453736, 0.5307832737646697, 0.25931631398644833, 0.045834081594283274, 0.113816175771039, 0.02676218187048755, 0.011074006291236227, 0.006921253932022643, 0.002153279001073711, 0.0019994733581398744, 0.0012304451434706919, 0.9837021689137752, 0.9702100998107305, 0.9929313757272372, 0.9960586411112449, 0.9646325544373315, 0.9654999423790506, 0.9002294420389977, 0.07080456285699982, 0.025287343877499934, 0.16943073455104202, 0.012884466505782663, 0.08761437223932211, 0.04831674939668499, 0.01224024318049353, 0.005153786602313065, 0.11724864520262224, 0.07859524568527425, 0.41616826813678004, 0.03285538958974579, 0.019326699758673994, 0.29594065450341733, 0.2653261040375466, 0.012926143530034321, 0.026532610403754656, 0.009524526811604235, 0.06395039430648558, 0.034016167184300845, 0.17280212929624827, 0.06531104099385762, 0.03265552049692881, 0.021090023654266522, 0.9753419215822388, 0.9777888022536348, 0.9663609917723907], \"Term\": [\"abortion\", \"abortion\", \"academic\", \"academic\", \"access\", \"access\", \"access\", \"access\", \"access\", \"access\", \"access\", \"accounting\", \"adaptec\", \"adapter\", \"adapter\", \"adapters\", \"address\", \"address\", \"address\", \"address\", \"address\", \"address\", \"address\", \"addresses\", \"addresses\", \"administration\", \"administration\", \"administration\", \"administration\", \"advise\", \"aerospace\", \"african\", \"agencies\", \"agencies\", \"agencies\", \"agencies\", \"aggression\", \"aids\", \"alarm\", \"algorithm\", \"algorithm\", \"alomar\", \"also\", \"also\", \"also\", \"also\", \"also\", \"also\", \"also\", \"also\", \"also\", \"also\", \"also\", \"also\", \"also\", \"also\", \"aluminum\", \"amendment\", \"american\", \"american\", \"american\", \"american\", \"american\", \"american\", \"ames\", \"among\", \"among\", \"among\", \"among\", \"among\", \"among\", \"among\", \"analog\", \"analysis\", \"analysis\", \"analysis\", \"analysis\", \"analysis\", \"analysis\", \"anas\", \"anon\", \"anon\", \"anonymous\", \"anonymous\", \"anonymous\", \"antenna\", \"antenna\", \"anti\", \"anti\", \"anti\", \"anti\", \"anti\", \"anti\", \"anyone\", \"anyone\", \"anyone\", \"anyone\", \"anyone\", \"anyone\", \"anyway\", \"anyway\", \"anyway\", \"anyway\", \"anyway\", \"anyway\", \"apartment\", \"apple\", \"apple\", \"apple\", \"application\", \"application\", \"application\", \"application\", \"application\", \"application\", \"april\", \"april\", \"april\", \"april\", \"april\", \"april\", \"april\", \"april\", \"arab\", \"arabs\", \"arafat\", \"argic\", \"argument\", \"argument\", \"argument\", \"argument\", \"armenia\", \"armenian\", \"armenians\", \"arms\", \"arms\", \"arms\", \"around\", \"around\", \"around\", \"around\", \"around\", \"around\", \"around\", \"around\", \"around\", \"around\", \"arrest\", \"asking\", \"asking\", \"asking\", \"asking\", \"asking\", \"assault\", \"assure\", \"astro\", \"astronomical\", \"astronomy\", \"atheism\", \"atheist\", \"atheists\", \"atlanta\", \"atlanta\", \"atlas\", \"atmosphere\", \"atmosphere\", \"attacks\", \"attacks\", \"aunt\", \"australia\", \"australia\", \"autos\", \"available\", \"available\", \"available\", \"available\", \"available\", \"available\", \"available\", \"avenue\", \"average\", \"average\", \"average\", \"average\", \"awards\", \"azerbaijan\", \"azerbaijani\", \"azerbaijanis\", \"azeri\", \"azeris\", \"babies\", \"back\", \"back\", \"back\", \"back\", \"back\", \"back\", \"back\", \"back\", \"back\", \"back\", \"back\", \"baku\", \"ball\", \"ball\", \"ball\", \"ball\", \"banks\", \"banks\", \"bare\", \"bare\", \"baseball\", \"bass\", \"batf\", \"batf\", \"batting\", \"beef\", \"belief\", \"beliefs\", \"believe\", \"believe\", \"believe\", \"believe\", \"believe\", \"believe\", \"believe\", \"bell\", \"bell\", \"bell\", \"bell\", \"bell\", \"belonging\", \"benchmarks\", \"bennett\", \"best\", \"best\", \"best\", \"best\", \"best\", \"best\", \"best\", \"best\", \"best\", \"best\", \"bethesda\", \"better\", \"better\", \"better\", \"better\", \"better\", \"better\", \"better\", \"better\", \"bible\", \"biblical\", \"bike\", \"bikes\", \"bill\", \"bill\", \"bill\", \"bill\", \"bill\", \"bill\", \"bill\", \"bill\", \"binaries\", \"bios\", \"bird\", \"bitnet\", \"blaster\", \"block\", \"block\", \"block\", \"block\", \"block\", \"block\", \"blood\", \"blood\", \"blood\", \"blood\", \"blood\", \"blues\", \"board\", \"board\", \"board\", \"board\", \"board\", \"body\", \"body\", \"body\", \"body\", \"body\", \"body\", \"body\", \"body\", \"body\", \"body\", \"boggs\", \"bone\", \"book\", \"book\", \"book\", \"book\", \"book\", \"book\", \"book\", \"book\", \"book\", \"boom\", \"boot\", \"boot\", \"boots\", \"bosnia\", \"boston\", \"boston\", \"boston\", \"boston\", \"bout\", \"boys\", \"boys\", \"boys\", \"brain\", \"brain\", \"brain\", \"brake\", \"brand\", \"brand\", \"brand\", \"braves\", \"briefing\", \"bruins\", \"buffalo\", \"buffalo\", \"building\", \"building\", \"building\", \"building\", \"building\", \"building\", \"building\", \"bull\", \"bull\", \"burned\", \"burnt\", \"bury\", \"bush\", \"bush\", \"bush\", \"cable\", \"cable\", \"cable\", \"cable\", \"cache\", \"cadre\", \"calgary\", \"california\", \"california\", \"california\", \"california\", \"california\", \"came\", \"came\", \"came\", \"came\", \"came\", \"came\", \"came\", \"came\", \"canada\", \"canada\", \"canada\", \"canada\", \"canada\", \"canada\", \"canada\", \"cancer\", \"candida\", \"capitol\", \"carbs\", \"card\", \"card\", \"card\", \"cardinals\", \"cards\", \"cards\", \"cards\", \"cards\", \"cards\", \"career\", \"career\", \"career\", \"case\", \"case\", \"case\", \"case\", \"case\", \"case\", \"case\", \"case\", \"case\", \"case\", \"cassette\", \"catcher\", \"catholic\", \"cause\", \"cause\", \"cause\", \"cause\", \"cause\", \"cause\", \"cause\", \"cause\", \"cause\", \"cell\", \"cell\", \"cell\", \"cell\", \"cell\", \"cell\", \"cellular\", \"cellular\", \"celp\", \"center\", \"center\", \"center\", \"center\", \"center\", \"center\", \"center\", \"centers\", \"centers\", \"centris\", \"challenges\", \"char\", \"characters\", \"charlie\", \"chase\", \"chastity\", \"cheek\", \"cheers\", \"cheers\", \"cheers\", \"cherry\", \"chicago\", \"chicago\", \"chicago\", \"chicago\", \"chicago\", \"children\", \"children\", \"children\", \"children\", \"children\", \"chinese\", \"chinese\", \"chinese\", \"chinese\", \"chip\", \"chip\", \"chips\", \"chips\", \"chips\", \"christ\", \"christian\", \"christian\", \"christian\", \"christianity\", \"christians\", \"chronic\", \"chrysler\", \"church\", \"church\", \"cincinnati\", \"cipher\", \"ciphertext\", \"circuit\", \"circuit\", \"circuit\", \"circuits\", \"city\", \"city\", \"city\", \"city\", \"city\", \"city\", \"city\", \"city\", \"civic\", \"civil\", \"civil\", \"claremont\", \"classified\", \"clemens\", \"clemens\", \"clement\", \"cleveland\", \"cleveland\", \"client\", \"clients\", \"clinical\", \"clinton\", \"clinton\", \"clinton\", \"clipper\", \"clone\", \"cmos\", \"code\", \"code\", \"code\", \"code\", \"code\", \"coding\", \"color\", \"color\", \"color\", \"colorado\", \"colorado\", \"colorado\", \"colorado\", \"colorado\", \"colorado\", \"colors\", \"comeback\", \"communications\", \"communications\", \"comp\", \"comp\", \"compass\", \"computer\", \"computer\", \"computer\", \"computer\", \"computer\", \"concealed\", \"conclusive\", \"condition\", \"condition\", \"condition\", \"condition\", \"condition\", \"conductor\", \"conference\", \"conference\", \"conference\", \"confidential\", \"congress\", \"congress\", \"connector\", \"constitution\", \"constitutional\", \"constitutional\", \"contact\", \"contact\", \"contact\", \"contact\", \"contact\", \"contact\", \"contact\", \"contacts\", \"contacts\", \"contacts\", \"context\", \"context\", \"context\", \"contracts\", \"contrib\", \"control\", \"control\", \"control\", \"control\", \"control\", \"control\", \"control\", \"control\", \"control\", \"control\", \"control\", \"controller\", \"controllers\", \"cool\", \"cool\", \"cooper\", \"copies\", \"copies\", \"copies\", \"copies\", \"copies\", \"coprocessor\", \"corel\", \"could\", \"could\", \"could\", \"could\", \"could\", \"could\", \"could\", \"could\", \"could\", \"countries\", \"countries\", \"countries\", \"country\", \"country\", \"country\", \"courses\", \"courts\", \"cover\", \"cover\", \"cover\", \"cover\", \"cover\", \"cover\", \"cover\", \"cover\", \"cover\", \"coverage\", \"coverage\", \"coverage\", \"coverage\", \"coverage\", \"coverage\", \"cpus\", \"crazy\", \"crazy\", \"crime\", \"crime\", \"crime\", \"criticism\", \"cross\", \"cross\", \"cross\", \"cross\", \"cross\", \"cross\", \"crypt\", \"cryptanalysis\", \"crypto\", \"cryptographic\", \"cryptography\", \"cryptology\", \"cryptosystem\", \"cubs\", \"cure\", \"current\", \"current\", \"current\", \"current\", \"current\", \"current\", \"current\", \"current\", \"current\", \"current\", \"current\", \"cursor\", \"cuts\", \"cylinder\", \"cyprus\", \"darkness\", \"darryl\", \"data\", \"data\", \"data\", \"data\", \"data\", \"daughter\", \"daughter\", \"daughter\", \"david\", \"david\", \"david\", \"david\", \"david\", \"david\", \"david\", \"david\", \"david\", \"davidsson\", \"dead\", \"dead\", \"dead\", \"dead\", \"deaf\", \"dealer\", \"dealer\", \"dealership\", \"deck\", \"decnet\", \"decrypt\", \"defamation\", \"defective\", \"defend\", \"defend\", \"defense\", \"defense\", \"defense\", \"defense\", \"defense\", \"defense\", \"defenseman\", \"defensive\", \"denning\", \"dennis\", \"dennis\", \"dennis\", \"dept\", \"dept\", \"detail\", \"detail\", \"detail\", \"detail\", \"detail\", \"detail\", \"detail\", \"detector\", \"detectors\", \"detroit\", \"detroit\", \"device\", \"device\", \"device\", \"devils\", \"diet\", \"directory\", \"directory\", \"disc\", \"disc\", \"disease\", \"diseases\", \"disk\", \"disk\", \"disk\", \"display\", \"displays\", \"distributor\", \"divine\", \"division\", \"division\", \"division\", \"division\", \"doctor\", \"doctor\", \"doctors\", \"doctors\", \"doctors\", \"doctrine\", \"dodgers\", \"dole\", \"dortmund\", \"draft\", \"draft\", \"draft\", \"draft\", \"drain\", \"drive\", \"drive\", \"drive\", \"driver\", \"driver\", \"driver\", \"driver\", \"driver\", \"driver\", \"drivers\", \"drivers\", \"drivers\", \"drivers\", \"drivers\", \"drives\", \"drug\", \"drug\", \"drug\", \"drug\", \"drugs\", \"drugs\", \"duke\", \"duke\", \"dyer\", \"earth\", \"earth\", \"earth\", \"earth\", \"easter\", \"easter\", \"eating\", \"echo\", \"economy\", \"economy\", \"eddie\", \"edmonton\", \"educational\", \"educational\", \"eisa\", \"electrical\", \"electrical\", \"email\", \"email\", \"email\", \"email\", \"email\", \"encrypt\", \"encrypted\", \"encryption\", \"enforcement\", \"enforcement\", \"engine\", \"engine\", \"engine\", \"enough\", \"enough\", \"enough\", \"enough\", \"enough\", \"enough\", \"enough\", \"entries\", \"entry\", \"entry\", \"equipment\", \"equipment\", \"erase\", \"erich\", \"erzurum\", \"escrow\", \"espn\", \"eternal\", \"even\", \"even\", \"even\", \"even\", \"even\", \"even\", \"even\", \"even\", \"even\", \"evidence\", \"evidence\", \"evidence\", \"excellent\", \"excellent\", \"excellent\", \"excellent\", \"excellent\", \"excellent\", \"excellent\", \"excessive\", \"exhaust\", \"exist\", \"exist\", \"exist\", \"exist\", \"exist\", \"exit\", \"exotic\", \"exploration\", \"explorer\", \"export\", \"export\", \"external\", \"external\", \"external\", \"external\", \"fact\", \"fact\", \"fact\", \"fact\", \"fact\", \"fact\", \"fact\", \"fact\", \"fact\", \"faith\", \"fans\", \"fans\", \"federal\", \"federal\", \"federal\", \"feedback\", \"fielder\", \"file\", \"file\", \"file\", \"file\", \"filename\", \"files\", \"files\", \"files\", \"files\", \"finals\", \"find\", \"find\", \"find\", \"find\", \"find\", \"find\", \"find\", \"firearm\", \"firearms\", \"fires\", \"first\", \"first\", \"first\", \"first\", \"first\", \"first\", \"first\", \"first\", \"first\", \"first\", \"first\", \"first\", \"first\", \"first\", \"first\", \"flame\", \"flame\", \"flames\", \"flames\", \"flames\", \"flames\", \"flames\", \"flight\", \"flight\", \"floppy\", \"floppy\", \"flyers\", \"folks\", \"folks\", \"folks\", \"folks\", \"font\", \"fonts\", \"food\", \"food\", \"food\", \"food\", \"foods\", \"football\", \"force\", \"force\", \"force\", \"force\", \"force\", \"force\", \"ford\", \"ford\", \"format\", \"format\", \"formats\", \"formerly\", \"formerly\", \"forty\", \"found\", \"found\", \"found\", \"found\", \"found\", \"found\", \"found\", \"found\", \"found\", \"fran\", \"frank\", \"frank\", \"frank\", \"frank\", \"frank\", \"freedom\", \"freedom\", \"freedom\", \"freedom\", \"friday\", \"friday\", \"friday\", \"friday\", \"friday\", \"funds\", \"funds\", \"fuse\", \"gainey\", \"game\", \"game\", \"game\", \"games\", \"games\", \"gaza\", \"gehrels\", \"general\", \"general\", \"general\", \"general\", \"general\", \"general\", \"general\", \"general\", \"general\", \"general\", \"genocide\", \"getting\", \"getting\", \"getting\", \"getting\", \"getting\", \"getting\", \"giants\", \"gibson\", \"gibson\", \"gifs\", \"gilmour\", \"glutamate\", \"goal\", \"goal\", \"goal\", \"goal\", \"goal\", \"goal\", \"goalie\", \"goals\", \"goals\", \"goals\", \"goals\", \"goals\", \"goaltender\", \"godhead\", \"godhead\", \"going\", \"going\", \"going\", \"going\", \"going\", \"going\", \"going\", \"going\", \"gonna\", \"good\", \"good\", \"good\", \"good\", \"good\", \"good\", \"good\", \"good\", \"good\", \"good\", \"gordon\", \"gotta\", \"government\", \"government\", \"government\", \"government\", \"graduate\", \"graduate\", \"graduate\", \"graduate\", \"graphics\", \"grass\", \"grass\", \"grass\", \"greece\", \"greek\", \"greek\", \"greeks\", \"greeks\", \"gretzky\", \"ground\", \"ground\", \"ground\", \"ground\", \"ground\", \"ground\", \"group\", \"group\", \"group\", \"group\", \"group\", \"group\", \"group\", \"group\", \"guess\", \"guess\", \"guess\", \"guess\", \"guidelines\", \"guidelines\", \"guilty\", \"guns\", \"guns\", \"guns\", \"guns\", \"guys\", \"guys\", \"hackers\", \"hackers\", \"hamilton\", \"handgun\", \"hanging\", \"hanging\", \"hard\", \"hard\", \"hard\", \"hard\", \"hard\", \"hard\", \"harley\", \"harris\", \"harris\", \"hartford\", \"hawks\", \"health\", \"health\", \"health\", \"health\", \"hear\", \"hear\", \"hear\", \"hear\", \"hear\", \"hear\", \"heard\", \"heard\", \"heard\", \"heard\", \"heard\", \"heaven\", \"heaven\", \"height\", \"height\", \"hellman\", \"helmet\", \"help\", \"help\", \"help\", \"help\", \"help\", \"help\", \"help\", \"help\", \"henrik\", \"hicnet\", \"high\", \"high\", \"high\", \"high\", \"high\", \"high\", \"high\", \"high\", \"high\", \"high\", \"high\", \"high\", \"high\", \"high\", \"highlights\", \"himmler\", \"hitler\", \"hits\", \"hits\", \"hitter\", \"hmmmm\", \"hockey\", \"hockey\", \"holes\", \"holes\", \"holocaust\", \"holy\", \"holy\", \"home\", \"home\", \"home\", \"home\", \"home\", \"home\", \"home\", \"homeopathy\", \"homer\", \"homers\", \"homicide\", \"homicides\", \"honda\", \"honda\", \"hong\", \"house\", \"house\", \"house\", \"house\", \"house\", \"house\", \"house\", \"house\", \"houston\", \"houston\", \"however\", \"however\", \"however\", \"however\", \"however\", \"however\", \"however\", \"however\", \"however\", \"however\", \"hulk\", \"human\", \"human\", \"human\", \"human\", \"human\", \"hurts\", \"icons\", \"idaho\", \"illness\", \"image\", \"image\", \"image\", \"image\", \"immune\", \"impulse\", \"included\", \"included\", \"included\", \"included\", \"included\", \"included\", \"included\", \"included\", \"included\", \"included\", \"increased\", \"increased\", \"increased\", \"increased\", \"increased\", \"increased\", \"infection\", \"infections\", \"info\", \"info\", \"info\", \"info\", \"info\", \"information\", \"information\", \"information\", \"information\", \"information\", \"information\", \"information\", \"init\", \"inkjet\", \"inning\", \"innings\", \"institute\", \"institute\", \"institute\", \"insurance\", \"intake\", \"intellect\", \"interested\", \"interested\", \"interested\", \"interested\", \"interested\", \"interested\", \"interested\", \"interested\", \"interior\", \"interior\", \"interior\", \"international\", \"international\", \"international\", \"international\", \"international\", \"internet\", \"internet\", \"internet\", \"internet\", \"internet\", \"internet\", \"interrupt\", \"investment\", \"investment\", \"investment\", \"isaiah\", \"islam\", \"islam\", \"islam\", \"islamic\", \"islanders\", \"israel\", \"israel\", \"israeli\", \"israelis\", \"istanbul\", \"jagr\", \"jays\", \"jefferson\", \"jersey\", \"jesus\", \"jets\", \"jewish\", \"jewish\", \"jewish\", \"jews\", \"jews\", \"jobs\", \"jose\", \"jose\", \"jpeg\", \"judas\", \"jumper\", \"jumpers\", \"june\", \"june\", \"june\", \"june\", \"karabakh\", \"karina\", \"kariya\", \"kent\", \"keys\", \"keys\", \"kidney\", \"killed\", \"killed\", \"killed\", \"kings\", \"kings\", \"knock\", \"know\", \"know\", \"know\", \"know\", \"know\", \"know\", \"know\", \"kong\", \"koresh\", \"kurds\", \"laboratories\", \"lance\", \"land\", \"land\", \"land\", \"land\", \"land\", \"laser\", \"laser\", \"laser\", \"laserwriter\", \"last\", \"last\", \"last\", \"last\", \"last\", \"last\", \"last\", \"last\", \"last\", \"last\", \"last\", \"last\", \"laughter\", \"launch\", \"launched\", \"lawrence\", \"leafs\", \"league\", \"league\", \"league\", \"leather\", \"lebanese\", \"lebanon\", \"left\", \"left\", \"left\", \"left\", \"left\", \"left\", \"left\", \"left\", \"left\", \"left\", \"leftover\", \"lemieux\", \"less\", \"less\", \"less\", \"less\", \"less\", \"less\", \"less\", \"less\", \"less\", \"less\", \"less\", \"liar\", \"life\", \"life\", \"life\", \"life\", \"life\", \"lift\", \"lift\", \"light\", \"light\", \"light\", \"light\", \"light\", \"light\", \"light\", \"light\", \"light\", \"lighter\", \"like\", \"like\", \"like\", \"like\", \"like\", \"like\", \"like\", \"like\", \"like\", \"lindros\", \"line\", \"line\", \"line\", \"line\", \"line\", \"line\", \"line\", \"line\", \"line\", \"line\", \"line\", \"lineup\", \"linked\", \"linked\", \"list\", \"list\", \"list\", \"list\", \"list\", \"list\", \"list\", \"list\", \"list\", \"list\", \"list\", \"listserv\", \"little\", \"little\", \"little\", \"little\", \"little\", \"little\", \"little\", \"little\", \"little\", \"little\", \"little\", \"loan\", \"loan\", \"loans\", \"locking\", \"look\", \"look\", \"look\", \"look\", \"look\", \"look\", \"look\", \"looking\", \"looking\", \"looking\", \"looking\", \"looking\", \"lopez\", \"lord\", \"losses\", \"lost\", \"lost\", \"lost\", \"lost\", \"lost\", \"lost\", \"lost\", \"louis\", \"louis\", \"louis\", \"louis\", \"lunar\", \"lyme\", \"mail\", \"mail\", \"mail\", \"mail\", \"mail\", \"mailing\", \"mailing\", \"main\", \"main\", \"main\", \"main\", \"main\", \"main\", \"main\", \"main\", \"maine\", \"majors\", \"make\", \"make\", \"make\", \"make\", \"make\", \"make\", \"make\", \"make\", \"make\", \"males\", \"mamma\", \"manual\", \"manual\", \"manual\", \"manual\", \"manuals\", \"manuals\", \"manuals\", \"manufactured\", \"many\", \"many\", \"many\", \"many\", \"many\", \"many\", \"many\", \"many\", \"many\", \"many\", \"many\", \"many\", \"marc\", \"marc\", \"marc\", \"marc\", \"marijuana\", \"mars\", \"maryland\", \"mask\", \"mask\", \"massacre\", \"matthew\", \"maybe\", \"maybe\", \"maybe\", \"maybe\", \"mccarthy\", \"mean\", \"mean\", \"mean\", \"mean\", \"mean\", \"mean\", \"meaning\", \"meaning\", \"meaning\", \"meaning\", \"meaning\", \"meaning\", \"mechanical\", \"mechanisms\", \"medical\", \"medical\", \"medicine\", \"medicine\", \"memory\", \"memory\", \"memory\", \"memory\", \"memory\", \"menu\", \"message\", \"message\", \"message\", \"message\", \"message\", \"message\", \"messenger\", \"messiah\", \"metal\", \"metal\", \"mets\", \"michael\", \"michael\", \"michael\", \"michael\", \"michael\", \"michael\", \"michael\", \"michael\", \"michael\", \"michael\", \"miles\", \"miles\", \"miles\", \"miles\", \"miles\", \"militia\", \"militia\", \"mindset\", \"mission\", \"mission\", \"mission\", \"missions\", \"missions\", \"mitre\", \"mode\", \"mode\", \"mode\", \"mode\", \"model\", \"model\", \"model\", \"model\", \"model\", \"model\", \"model\", \"modem\", \"modem\", \"modem\", \"money\", \"money\", \"money\", \"money\", \"money\", \"money\", \"monitor\", \"monitor\", \"monitor\", \"monitor\", \"monthly\", \"monthly\", \"montreal\", \"moon\", \"moon\", \"moore\", \"morality\", \"morris\", \"morris\", \"motherboard\", \"motif\", \"motor\", \"motor\", \"motor\", \"motorcycle\", \"motorcycle\", \"motorcycles\", \"mounted\", \"mounted\", \"much\", \"much\", \"much\", \"much\", \"much\", \"much\", \"much\", \"much\", \"much\", \"murder\", \"murder\", \"murder\", \"muslim\", \"muslim\", \"muslim\", \"must\", \"must\", \"must\", \"must\", \"must\", \"must\", \"must\", \"must\", \"must\", \"must\", \"must\", \"must\", \"must\", \"mydisplay\", \"mydisplay\", \"myers\", \"name\", \"name\", \"name\", \"name\", \"name\", \"name\", \"name\", \"name\", \"name\", \"nasa\", \"nasa\", \"nasty\", \"national\", \"national\", \"national\", \"national\", \"national\", \"national\", \"ncsl\", \"need\", \"need\", \"need\", \"need\", \"need\", \"need\", \"need\", \"need\", \"need\", \"need\", \"netcom\", \"netcom\", \"netcom\", \"netcom\", \"neural\", \"never\", \"never\", \"never\", \"never\", \"never\", \"never\", \"never\", \"never\", \"news\", \"news\", \"news\", \"news\", \"news\", \"news\", \"news\", \"news\", \"news\", \"newsgroups\", \"newsgroups\", \"newsgroups\", \"newsgroups\", \"newsletter\", \"ninja\", \"nist\", \"nist\", \"noise\", \"noise\", \"noise\", \"noise\", \"noise\", \"noise\", \"nolan\", \"nolan\", \"nuclear\", \"nuclear\", \"nuclear\", \"nuclear\", \"null\", \"null\", \"number\", \"number\", \"number\", \"number\", \"number\", \"number\", \"number\", \"number\", \"number\", \"number\", \"number\", \"objective\", \"objective\", \"objective\", \"observatory\", \"offer\", \"offer\", \"offer\", \"offer\", \"offer\", \"offer\", \"offer\", \"offer\", \"offer\", \"orbit\", \"orbital\", \"orbiter\", \"original\", \"original\", \"original\", \"original\", \"original\", \"original\", \"original\", \"original\", \"orioles\", \"oscillator\", \"oscillator\", \"ottoman\", \"outlet\", \"outlets\", \"outline\", \"output\", \"output\", \"output\", \"overhead\", \"ozzie\", \"pack\", \"pack\", \"page\", \"page\", \"page\", \"page\", \"pain\", \"pain\", \"palestine\", \"palestinian\", \"palestinians\", \"panasonic\", \"paperwork\", \"part\", \"part\", \"part\", \"part\", \"part\", \"part\", \"part\", \"part\", \"part\", \"part\", \"part\", \"part\", \"partition\", \"passages\", \"patch\", \"patent\", \"patient\", \"patients\", \"payload\", \"payments\", \"peace\", \"peace\", \"peace\", \"peak\", \"peak\", \"pens\", \"people\", \"people\", \"people\", \"people\", \"people\", \"people\", \"people\", \"people\", \"period\", \"period\", \"period\", \"period\", \"period\", \"period\", \"period\", \"period\", \"period\", \"period\", \"philadelphia\", \"philadelphia\", \"philadelphia\", \"philadelphia\", \"phillies\", \"phone\", \"phone\", \"phone\", \"phone\", \"phone\", \"phone\", \"phones\", \"pick\", \"pick\", \"pick\", \"pick\", \"pick\", \"picture\", \"picture\", \"picture\", \"picture\", \"picture\", \"picture\", \"pins\", \"pitch\", \"pitch\", \"pitch\", \"pitched\", \"pitchers\", \"pitching\", \"pitt\", \"pittsburgh\", \"pittsburgh\", \"pixel\", \"plaintext\", \"planes\", \"planetary\", \"plastic\", \"platforms\", \"play\", \"play\", \"play\", \"play\", \"play\", \"play\", \"play\", \"play\", \"play\", \"played\", \"played\", \"played\", \"played\", \"player\", \"player\", \"player\", \"players\", \"players\", \"playing\", \"playing\", \"playing\", \"playing\", \"playoff\", \"playoffs\", \"playoffs\", \"please\", \"please\", \"please\", \"please\", \"please\", \"please\", \"please\", \"please\", \"pliers\", \"plugs\", \"plugs\", \"pocket\", \"pocket\", \"point\", \"point\", \"point\", \"point\", \"point\", \"point\", \"point\", \"point\", \"point\", \"point\", \"points\", \"points\", \"points\", \"points\", \"points\", \"points\", \"points\", \"points\", \"poland\", \"police\", \"police\", \"police\", \"police\", \"police\", \"polish\", \"political\", \"political\", \"political\", \"political\", \"pope\", \"port\", \"port\", \"ports\", \"posting\", \"posting\", \"posting\", \"posting\", \"posting\", \"posting\", \"posting\", \"postscript\", \"power\", \"power\", \"power\", \"power\", \"power\", \"power\", \"power\", \"power\", \"power\", \"power\", \"powerbook\", \"powerpc\", \"powers\", \"praying\", \"premises\", \"prep\", \"presentations\", \"president\", \"president\", \"president\", \"pretty\", \"pretty\", \"pretty\", \"pretty\", \"pretty\", \"price\", \"price\", \"price\", \"price\", \"price\", \"price\", \"price\", \"price\", \"price\", \"princeton\", \"printers\", \"printf\", \"privacy\", \"private\", \"private\", \"private\", \"private\", \"private\", \"probably\", \"probably\", \"probably\", \"probably\", \"probably\", \"probably\", \"probably\", \"probably\", \"probably\", \"probe\", \"probe\", \"probes\", \"problem\", \"problem\", \"problem\", \"problem\", \"problem\", \"problem\", \"problem\", \"problem\", \"problems\", \"problems\", \"problems\", \"problems\", \"problems\", \"problems\", \"problems\", \"proceedings\", \"processors\", \"prof\", \"program\", \"program\", \"program\", \"program\", \"program\", \"projects\", \"projects\", \"promo\", \"promotion\", \"prophecy\", \"proprietary\", \"propulsion\", \"protects\", \"protestant\", \"pseudo\", \"pseudo\", \"pseudo\", \"public\", \"public\", \"public\", \"public\", \"public\", \"puck\", \"purchasing\", \"qemm\", \"quadra\", \"quebec\", \"queen\", \"question\", \"question\", \"question\", \"question\", \"question\", \"question\", \"question\", \"racing\", \"racing\", \"radar\", \"radar\", \"radius\", \"rainer\", \"random\", \"random\", \"random\", \"random\", \"rangers\", \"rangers\", \"reactions\", \"read\", \"read\", \"read\", \"read\", \"read\", \"read\", \"read\", \"reagan\", \"really\", \"really\", \"really\", \"really\", \"really\", \"really\", \"really\", \"rear\", \"rear\", \"rebuilt\", \"recchi\", \"redesign\", \"reds\", \"regulated\", \"reich\", \"religion\", \"religion\", \"religions\", \"remember\", \"remember\", \"remember\", \"remember\", \"remember\", \"remember\", \"remember\", \"repaired\", \"reported\", \"reported\", \"reported\", \"reported\", \"reported\", \"reported\", \"representing\", \"republic\", \"republicans\", \"request\", \"request\", \"request\", \"research\", \"research\", \"research\", \"resistant\", \"responsibility\", \"responsibility\", \"restaurant\", \"resurrection\", \"revelation\", \"ride\", \"ride\", \"ride\", \"rider\", \"rider\", \"riders\", \"riding\", \"riding\", \"right\", \"right\", \"right\", \"right\", \"right\", \"right\", \"right\", \"right\", \"right\", \"rights\", \"rights\", \"rights\", \"rights\", \"ripem\", \"risk\", \"risk\", \"risk\", \"risk\", \"rkba\", \"robinson\", \"rochester\", \"rockefeller\", \"rocket\", \"rocket\", \"rocket\", \"rocks\", \"rocks\", \"routines\", \"rows\", \"royals\", \"rtrace\", \"rumor\", \"runner\", \"runs\", \"runs\", \"runs\", \"runs\", \"runs\", \"runs\", \"rush\", \"russian\", \"russian\", \"russian\", \"sabbath\", \"said\", \"said\", \"said\", \"said\", \"said\", \"said\", \"said\", \"sale\", \"sandberg\", \"sane\", \"santo\", \"satan\", \"satellite\", \"satellites\", \"saturn\", \"saturn\", \"scheme\", \"scheme\", \"scheme\", \"science\", \"science\", \"science\", \"score\", \"score\", \"scored\", \"scored\", \"scorer\", \"scratches\", \"screen\", \"screen\", \"scripture\", \"scsi\", \"seal\", \"seal\", \"season\", \"season\", \"seasons\", \"second\", \"second\", \"second\", \"second\", \"second\", \"second\", \"second\", \"second\", \"second\", \"second\", \"second\", \"second\", \"secret\", \"secret\", \"secret\", \"secretary\", \"secretary\", \"secure\", \"secure\", \"security\", \"security\", \"security\", \"security\", \"sell\", \"sell\", \"sell\", \"sell\", \"sell\", \"sell\", \"selling\", \"selling\", \"selling\", \"seminar\", \"senate\", \"senator\", \"send\", \"send\", \"send\", \"send\", \"send\", \"send\", \"send\", \"send\", \"send\", \"send\", \"senior\", \"senior\", \"senior\", \"sensor\", \"serbs\", \"serdar\", \"serial\", \"serial\", \"serial\", \"series\", \"series\", \"series\", \"series\", \"series\", \"series\", \"series\", \"series\", \"series\", \"serpent\", \"servant\", \"server\", \"service\", \"service\", \"service\", \"service\", \"service\", \"service\", \"service\", \"service\", \"services\", \"services\", \"services\", \"services\", \"sexual\", \"shaft\", \"shameful\", \"shareware\", \"sharks\", \"sharks\", \"shipping\", \"shipping\", \"ships\", \"ships\", \"shit\", \"shit\", \"shock\", \"shuttle\", \"sidewalk\", \"simm\", \"simms\", \"since\", \"since\", \"since\", \"since\", \"since\", \"since\", \"since\", \"since\", \"since\", \"since\", \"since\", \"since\", \"since\", \"sing\", \"situation\", \"situation\", \"situation\", \"situation\", \"situation\", \"situation\", \"skepticism\", \"sleeve\", \"slots\", \"smith\", \"smith\", \"smith\", \"smith\", \"smith\", \"smith\", \"smokeless\", \"smoking\", \"society\", \"society\", \"society\", \"society\", \"sockets\", \"software\", \"software\", \"software\", \"solar\", \"sold\", \"sold\", \"sold\", \"sold\", \"sold\", \"soldiers\", \"soldiers\", \"someone\", \"someone\", \"someone\", \"someone\", \"someone\", \"someone\", \"something\", \"something\", \"something\", \"something\", \"something\", \"something\", \"something\", \"soon\", \"soon\", \"soon\", \"soon\", \"soon\", \"soon\", \"soon\", \"sound\", \"sound\", \"sound\", \"sound\", \"sound\", \"sound\", \"sound\", \"sounds\", \"sounds\", \"sounds\", \"sounds\", \"sounds\", \"source\", \"source\", \"source\", \"source\", \"source\", \"source\", \"source\", \"source\", \"soviet\", \"soviet\", \"soviet\", \"soviet\", \"space\", \"space\", \"space\", \"spacecraft\", \"speakers\", \"speakers\", \"speed\", \"speed\", \"speed\", \"speed\", \"speed\", \"spirit\", \"spirit\", \"sports\", \"stadium\", \"standard\", \"standard\", \"standard\", \"standard\", \"standard\", \"standard\", \"standard\", \"standard\", \"started\", \"started\", \"started\", \"started\", \"started\", \"started\", \"started\", \"state\", \"state\", \"state\", \"state\", \"state\", \"state\", \"state\", \"state\", \"state\", \"states\", \"states\", \"states\", \"states\", \"states\", \"station\", \"station\", \"station\", \"station\", \"station\", \"station\", \"station\", \"station\", \"stats\", \"stats\", \"stereo\", \"stereo\", \"stereo\", \"stewart\", \"still\", \"still\", \"still\", \"still\", \"still\", \"still\", \"still\", \"still\", \"still\", \"still\", \"still\", \"still\", \"stimulus\", \"strawberry\", \"stream\", \"stream\", \"stream\", \"study\", \"study\", \"study\", \"study\", \"study\", \"study\", \"subscription\", \"sucks\", \"sumgait\", \"sunroof\", \"sure\", \"sure\", \"sure\", \"sure\", \"sure\", \"sure\", \"sure\", \"sure\", \"sure\", \"surface\", \"surface\", \"surface\", \"surface\", \"surface\", \"surgery\", \"surrender\", \"surrender\", \"surrender\", \"sweden\", \"swing\", \"switch\", \"switch\", \"switch\", \"switch\", \"symptoms\", \"symptoms\", \"sync\", \"syndrome\", \"syria\", \"system\", \"system\", \"system\", \"system\", \"system\", \"system\", \"system\", \"system\", \"systems\", \"systems\", \"systems\", \"systems\", \"systems\", \"systems\", \"systems\", \"take\", \"take\", \"take\", \"take\", \"take\", \"take\", \"take\", \"take\", \"tampa\", \"tape\", \"tape\", \"tape\", \"tape\", \"tape\", \"tapes\", \"tapes\", \"team\", \"team\", \"team\", \"teams\", \"teams\", \"technical\", \"technical\", \"technical\", \"technical\", \"technician\", \"technician\", \"technician\", \"technology\", \"technology\", \"telecommunications\", \"telescope\", \"telix\", \"tell\", \"tell\", \"tell\", \"tell\", \"tell\", \"temp\", \"temperature\", \"tempest\", \"terminals\", \"test\", \"test\", \"test\", \"test\", \"test\", \"test\", \"test\", \"test\", \"testament\", \"thanks\", \"thanks\", \"thanks\", \"thanks\", \"thanks\", \"thanks\", \"therapy\", \"therefore\", \"therefore\", \"therefore\", \"therefore\", \"therefore\", \"thief\", \"thing\", \"thing\", \"thing\", \"thing\", \"thing\", \"thing\", \"thing\", \"thing\", \"things\", \"things\", \"things\", \"things\", \"things\", \"think\", \"think\", \"think\", \"think\", \"think\", \"think\", \"think\", \"third\", \"third\", \"third\", \"third\", \"third\", \"third\", \"third\", \"third\", \"third\", \"third\", \"threat\", \"threat\", \"threat\", \"three\", \"three\", \"three\", \"three\", \"three\", \"three\", \"three\", \"three\", \"three\", \"three\", \"three\", \"three\", \"tiger\", \"tigers\", \"time\", \"time\", \"time\", \"time\", \"time\", \"time\", \"time\", \"time\", \"time\", \"time\", \"time\", \"time\", \"time\", \"tippett\", \"titan\", \"tobacco\", \"told\", \"told\", \"told\", \"told\", \"told\", \"tomb\", \"tomb\", \"took\", \"took\", \"took\", \"took\", \"took\", \"took\", \"toolkit\", \"toronto\", \"toronto\", \"toronto\", \"torque\", \"totals\", \"town\", \"town\", \"town\", \"town\", \"town\", \"toyota\", \"trades\", \"treatment\", \"treatment\", \"treatment\", \"trial\", \"trial\", \"trial\", \"trial\", \"truck\", \"true\", \"true\", \"true\", \"true\", \"true\", \"true\", \"true\", \"truth\", \"truth\", \"tube\", \"turbo\", \"turbo\", \"turbo\", \"turkey\", \"turkish\", \"turks\", \"twin\", \"twin\", \"uiuc\", \"uiuc\", \"uiuc\", \"uncle\", \"united\", \"united\", \"united\", \"united\", \"universe\", \"university\", \"university\", \"university\", \"unix\", \"unix\", \"unix\", \"unregistered\", \"upgrade\", \"upgrade\", \"used\", \"used\", \"used\", \"used\", \"used\", \"used\", \"used\", \"used\", \"used\", \"used\", \"used\", \"user\", \"user\", \"user\", \"users\", \"users\", \"users\", \"using\", \"using\", \"using\", \"using\", \"using\", \"using\", \"using\", \"using\", \"using\", \"using\", \"usually\", \"usually\", \"usually\", \"usually\", \"usually\", \"usually\", \"usually\", \"usually\", \"usually\", \"uuencode\", \"vacuum\", \"venus\", \"vernon\", \"version\", \"version\", \"version\", \"version\", \"version\", \"vesa\", \"vesa\", \"video\", \"video\", \"video\", \"video\", \"video\", \"viola\", \"visa\", \"visual\", \"visual\", \"visualization\", \"visualization\", \"vitamin\", \"voice\", \"voice\", \"voice\", \"voice\", \"voice\", \"voltage\", \"volvo\", \"votes\", \"votes\", \"wagon\", \"walker\", \"walsh\", \"want\", \"want\", \"want\", \"want\", \"want\", \"want\", \"want\", \"want\", \"want\", \"want\", \"washington\", \"washington\", \"washington\", \"washington\", \"water\", \"water\", \"water\", \"water\", \"water\", \"wave\", \"wave\", \"wave\", \"wave\", \"wave\", \"wave\", \"weapon\", \"weapon\", \"weapons\", \"weapons\", \"weapons\", \"weaver\", \"weekend\", \"well\", \"well\", \"well\", \"well\", \"well\", \"well\", \"well\", \"well\", \"well\", \"well\", \"well\", \"well\", \"went\", \"went\", \"went\", \"went\", \"white\", \"white\", \"white\", \"white\", \"white\", \"white\", \"white\", \"white\", \"white\", \"white\", \"widget\", \"widgets\", \"willie\", \"window\", \"window\", \"window\", \"windows\", \"windows\", \"winfield\", \"wings\", \"wings\", \"wings\", \"winning\", \"winning\", \"winnipeg\", \"wins\", \"wins\", \"wire\", \"wire\", \"wireless\", \"wires\", \"wires\", \"wiretap\", \"wiring\", \"wisconsin\", \"without\", \"without\", \"without\", \"without\", \"without\", \"without\", \"without\", \"without\", \"womb\", \"women\", \"women\", \"women\", \"women\", \"women\", \"wood\", \"wood\", \"wood\", \"word\", \"word\", \"word\", \"word\", \"word\", \"word\", \"wordperfect\", \"work\", \"work\", \"work\", \"work\", \"work\", \"work\", \"work\", \"work\", \"work\", \"work\", \"work\", \"world\", \"world\", \"world\", \"world\", \"world\", \"world\", \"world\", \"world\", \"worship\", \"would\", \"would\", \"would\", \"would\", \"would\", \"would\", \"would\", \"would\", \"would\", \"would\", \"wounded\", \"wysiwyg\", \"xlib\", \"xterm\", \"yale\", \"yamaha\", \"yeah\", \"yeah\", \"yeah\", \"year\", \"year\", \"year\", \"year\", \"year\", \"year\", \"year\", \"year\", \"year\", \"year\", \"year\", \"years\", \"years\", \"years\", \"years\", \"years\", \"years\", \"years\", \"years\", \"years\", \"years\", \"years\", \"yeast\", \"zionist\", \"zoom\"]}, \"R\": 30, \"lambda.step\": 0.01, \"plot.opts\": {\"xlab\": \"PC1\", \"ylab\": \"PC2\"}, \"topic.order\": [8, 20, 17, 10, 7, 18, 1, 3, 14, 6, 19, 13, 2, 15, 16, 11, 9, 4, 12, 5]};\n",
       "\n",
       "function LDAvis_load_lib(url, callback){\n",
       "  var s = document.createElement('script');\n",
       "  s.src = url;\n",
       "  s.async = true;\n",
       "  s.onreadystatechange = s.onload = callback;\n",
       "  s.onerror = function(){console.warn(\"failed to load library \" + url);};\n",
       "  document.getElementsByTagName(\"head\")[0].appendChild(s);\n",
       "}\n",
       "\n",
       "if(typeof(LDAvis) !== \"undefined\"){\n",
       "   // already loaded: just create the visualization\n",
       "   !function(LDAvis){\n",
       "       new LDAvis(\"#\" + \"ldavis_el432427499201947688579812984\", ldavis_el432427499201947688579812984_data);\n",
       "   }(LDAvis);\n",
       "}else if(typeof define === \"function\" && define.amd){\n",
       "   // require.js is available: use it to load d3/LDAvis\n",
       "   require.config({paths: {d3: \"https://d3js.org/d3.v5\"}});\n",
       "   require([\"d3\"], function(d3){\n",
       "      window.d3 = d3;\n",
       "      LDAvis_load_lib(\"https://cdn.jsdelivr.net/gh/bmabey/pyLDAvis@3.3.1/pyLDAvis/js/ldavis.v3.0.0.js\", function(){\n",
       "        new LDAvis(\"#\" + \"ldavis_el432427499201947688579812984\", ldavis_el432427499201947688579812984_data);\n",
       "      });\n",
       "    });\n",
       "}else{\n",
       "    // require.js not available: dynamically load d3 & LDAvis\n",
       "    LDAvis_load_lib(\"https://d3js.org/d3.v5.js\", function(){\n",
       "         LDAvis_load_lib(\"https://cdn.jsdelivr.net/gh/bmabey/pyLDAvis@3.3.1/pyLDAvis/js/ldavis.v3.0.0.js\", function(){\n",
       "                 new LDAvis(\"#\" + \"ldavis_el432427499201947688579812984\", ldavis_el432427499201947688579812984_data);\n",
       "            })\n",
       "         });\n",
       "}\n",
       "</script>"
      ],
      "text/plain": [
       "<IPython.core.display.HTML object>"
      ]
     },
     "execution_count": 97,
     "metadata": {},
     "output_type": "execute_result"
    }
   ],
   "source": [
    "import pyLDAvis.gensim_models\n",
    "pyLDAvis.enable_notebook()\n",
    "vis=pyLDAvis.gensim_models.prepare(ldamodel,corpus,dictionary)\n",
    "pyLDAvis.display(vis)"
   ]
  },
  {
   "cell_type": "code",
   "execution_count": 100,
   "metadata": {},
   "outputs": [
    {
     "name": "stdout",
     "output_type": "stream",
     "text": [
      "0 번째 문서의 topic 비율은 [(0, 0.12048503), (13, 0.02187417), (18, 0.12046835), (19, 0.72403157)]\n",
      "1 번째 문서의 topic 비율은 [(3, 0.027505232), (7, 0.41013247), (9, 0.43626806), (12, 0.07589926), (17, 0.03043306)]\n",
      "2 번째 문서의 topic 비율은 [(7, 0.253666), (9, 0.025135966), (11, 0.08243667), (19, 0.625616)]\n",
      "3 번째 문서의 topic 비율은 [(5, 0.09195621), (7, 0.2674107), (9, 0.06994225), (12, 0.033782333), (17, 0.3909952), (19, 0.1347738)]\n",
      "4 번째 문서의 topic 비율은 [(7, 0.30601895), (14, 0.26210335), (16, 0.110095546), (17, 0.29213816)]\n",
      "5 번째 문서의 topic 비율은 [(4, 0.13227111), (7, 0.18127052), (8, 0.04562685), (9, 0.44483104), (12, 0.08300838), (19, 0.08252639)]\n",
      "6 번째 문서의 topic 비율은 [(2, 0.2339308), (7, 0.28485832), (9, 0.06157649), (12, 0.10178331), (16, 0.27931428), (19, 0.028653199)]\n",
      "7 번째 문서의 topic 비율은 [(7, 0.24981228), (12, 0.035356335), (19, 0.7008817)]\n",
      "8 번째 문서의 topic 비율은 [(1, 0.14288881), (4, 0.03170734), (5, 0.16683061), (7, 0.117920145), (15, 0.065806866), (16, 0.24855888), (19, 0.20711064)]\n",
      "9 번째 문서의 topic 비율은 [(2, 0.09641926), (7, 0.48889336), (12, 0.07062968), (15, 0.0900146), (16, 0.10023206), (17, 0.039031267), (19, 0.10571228)]\n"
     ]
    }
   ],
   "source": [
    "## 문서 별 토픽 분포 보기\n",
    "for i,topic_list in enumerate(ldamodel[corpus]):\n",
    "    if i==10:\n",
    "        break\n",
    "    print(i,'번째 문서의 topic 비율은', topic_list)"
   ]
  },
  {
   "cell_type": "code",
   "execution_count": 103,
   "metadata": {},
   "outputs": [],
   "source": [
    "def make_topictable_per_doc(ldamodel,corpus):\n",
    "    topic_table=pd.DataFrame()\n",
    "    # 몇번째 문서인지를 의믜하는 문서 번호와 해당 문서의 토픽 비중을 한줄 씩 꺼내온다.\n",
    "    for i, topic_list in enumerate(ldamodel[corpus]):\n",
    "        doc=topic_list[0] if ldamodel.per_word_topics else topic_list\n",
    "        doc=sorted(doc,key=lambda x: (x[1]), reverse=True)\n",
    "        # 각 문서에 대해서 비중이 높은 토픽순으로 토픽 정렬\n",
    "        # ex) 정렬 전 0번 문서 (2번,48.5%),(8번,25%),(10번,5%)(12번,21.5%)\n",
    "        # ex) 정렬 후 0번 문서 (2번,48.5%),(8번,25%),(12번,21.5%),(10번,5%)\n",
    "        # 모든 문서에 대해서 각각 아래 수행\n",
    "        for j,(topic_num,prop_topic) in enumerate(doc):     # 몇번 토픽인지와 비중을 나누어 저장\n",
    "            if j==0:    # 정렬을 한 상태이므로 가장 앞에 있는 것이 비중이 높은 토픽\n",
    "                topic_table=topic_table.append(pd.Series([int(topic_num),round(prop_topic,4),topic_list]),ignore_index=True)\n",
    "                # 가장 비중이 높은 토픽과, 가장 비중이 높은 토픽의 비중과, 전체 토픽의 비중 저장\n",
    "            else:\n",
    "                break\n",
    "    return (topic_table)"
   ]
  },
  {
   "cell_type": "code",
   "execution_count": 104,
   "metadata": {},
   "outputs": [
    {
     "name": "stderr",
     "output_type": "stream",
     "text": [
      "C:\\Users\\djagk\\AppData\\Local\\Temp\\ipykernel_4324\\296598485.py:13: FutureWarning: The frame.append method is deprecated and will be removed from pandas in a future version. Use pandas.concat instead.\n",
      "  topic_table=topic_table.append(pd.Series([int(topic_num),round(prop_topic,4),topic_list]),ignore_index=True)\n",
      "C:\\Users\\djagk\\AppData\\Local\\Temp\\ipykernel_4324\\296598485.py:13: FutureWarning: The frame.append method is deprecated and will be removed from pandas in a future version. Use pandas.concat instead.\n",
      "  topic_table=topic_table.append(pd.Series([int(topic_num),round(prop_topic,4),topic_list]),ignore_index=True)\n"
     ]
    },
    {
     "data": {
      "text/html": [
       "<div>\n",
       "<style scoped>\n",
       "    .dataframe tbody tr th:only-of-type {\n",
       "        vertical-align: middle;\n",
       "    }\n",
       "\n",
       "    .dataframe tbody tr th {\n",
       "        vertical-align: top;\n",
       "    }\n",
       "\n",
       "    .dataframe thead th {\n",
       "        text-align: right;\n",
       "    }\n",
       "</style>\n",
       "<table border=\"1\" class=\"dataframe\">\n",
       "  <thead>\n",
       "    <tr style=\"text-align: right;\">\n",
       "      <th></th>\n",
       "      <th>문서 번호</th>\n",
       "      <th>가장 비중이 높은 토픽</th>\n",
       "      <th>가장 높은 토픽의 비중</th>\n",
       "      <th>각 토픽의 비중</th>\n",
       "    </tr>\n",
       "  </thead>\n",
       "  <tbody>\n",
       "    <tr>\n",
       "      <th>0</th>\n",
       "      <td>0</td>\n",
       "      <td>19</td>\n",
       "      <td>0.7240</td>\n",
       "      <td>[(0, 0.12048077), (13, 0.02187292), (18, 0.120...</td>\n",
       "    </tr>\n",
       "    <tr>\n",
       "      <th>1</th>\n",
       "      <td>1</td>\n",
       "      <td>9</td>\n",
       "      <td>0.4362</td>\n",
       "      <td>[(3, 0.027505232), (7, 0.41018945), (9, 0.4362...</td>\n",
       "    </tr>\n",
       "    <tr>\n",
       "      <th>2</th>\n",
       "      <td>2</td>\n",
       "      <td>19</td>\n",
       "      <td>0.6256</td>\n",
       "      <td>[(7, 0.25362468), (9, 0.025229482), (11, 0.082...</td>\n",
       "    </tr>\n",
       "    <tr>\n",
       "      <th>3</th>\n",
       "      <td>3</td>\n",
       "      <td>17</td>\n",
       "      <td>0.3910</td>\n",
       "      <td>[(5, 0.091967046), (7, 0.26743728), (9, 0.0698...</td>\n",
       "    </tr>\n",
       "    <tr>\n",
       "      <th>4</th>\n",
       "      <td>4</td>\n",
       "      <td>7</td>\n",
       "      <td>0.3060</td>\n",
       "      <td>[(7, 0.30596596), (14, 0.2621071), (16, 0.1101...</td>\n",
       "    </tr>\n",
       "    <tr>\n",
       "      <th>5</th>\n",
       "      <td>5</td>\n",
       "      <td>9</td>\n",
       "      <td>0.4448</td>\n",
       "      <td>[(4, 0.13226983), (7, 0.18111986), (8, 0.04562...</td>\n",
       "    </tr>\n",
       "    <tr>\n",
       "      <th>6</th>\n",
       "      <td>6</td>\n",
       "      <td>7</td>\n",
       "      <td>0.2849</td>\n",
       "      <td>[(2, 0.23393887), (7, 0.2848849), (9, 0.061551...</td>\n",
       "    </tr>\n",
       "    <tr>\n",
       "      <th>7</th>\n",
       "      <td>7</td>\n",
       "      <td>19</td>\n",
       "      <td>0.7009</td>\n",
       "      <td>[(7, 0.24980555), (12, 0.035357926), (19, 0.70...</td>\n",
       "    </tr>\n",
       "    <tr>\n",
       "      <th>8</th>\n",
       "      <td>8</td>\n",
       "      <td>16</td>\n",
       "      <td>0.2486</td>\n",
       "      <td>[(1, 0.14289139), (4, 0.031707328), (5, 0.1668...</td>\n",
       "    </tr>\n",
       "    <tr>\n",
       "      <th>9</th>\n",
       "      <td>9</td>\n",
       "      <td>7</td>\n",
       "      <td>0.4890</td>\n",
       "      <td>[(2, 0.09642101), (7, 0.48896253), (12, 0.0705...</td>\n",
       "    </tr>\n",
       "  </tbody>\n",
       "</table>\n",
       "</div>"
      ],
      "text/plain": [
       "   문서 번호  가장 비중이 높은 토픽  가장 높은 토픽의 비중  \\\n",
       "0      0            19        0.7240   \n",
       "1      1             9        0.4362   \n",
       "2      2            19        0.6256   \n",
       "3      3            17        0.3910   \n",
       "4      4             7        0.3060   \n",
       "5      5             9        0.4448   \n",
       "6      6             7        0.2849   \n",
       "7      7            19        0.7009   \n",
       "8      8            16        0.2486   \n",
       "9      9             7        0.4890   \n",
       "\n",
       "                                            각 토픽의 비중  \n",
       "0  [(0, 0.12048077), (13, 0.02187292), (18, 0.120...  \n",
       "1  [(3, 0.027505232), (7, 0.41018945), (9, 0.4362...  \n",
       "2  [(7, 0.25362468), (9, 0.025229482), (11, 0.082...  \n",
       "3  [(5, 0.091967046), (7, 0.26743728), (9, 0.0698...  \n",
       "4  [(7, 0.30596596), (14, 0.2621071), (16, 0.1101...  \n",
       "5  [(4, 0.13226983), (7, 0.18111986), (8, 0.04562...  \n",
       "6  [(2, 0.23393887), (7, 0.2848849), (9, 0.061551...  \n",
       "7  [(7, 0.24980555), (12, 0.035357926), (19, 0.70...  \n",
       "8  [(1, 0.14289139), (4, 0.031707328), (5, 0.1668...  \n",
       "9  [(2, 0.09642101), (7, 0.48896253), (12, 0.0705...  "
      ]
     },
     "execution_count": 104,
     "metadata": {},
     "output_type": "execute_result"
    }
   ],
   "source": [
    "topictable=make_topictable_per_doc(ldamodel,corpus)\n",
    "topictable=topictable.reset_index()         # 문서 번호를 의미하는 열로 사용하기 위해 인덱스 열을 하나 더 만든다.\n",
    "topictable.columns=['문서 번호','가장 비중이 높은 토픽','가장 높은 토픽의 비중','각 토픽의 비중']\n",
    "topictable[:10]"
   ]
  },
  {
   "cell_type": "code",
   "execution_count": 1,
   "metadata": {},
   "outputs": [
    {
     "name": "stderr",
     "output_type": "stream",
     "text": [
      "C:\\Users\\djagk\\AppData\\Local\\Temp\\ipykernel_22156\\832956756.py:11: FutureWarning: The error_bad_lines argument has been deprecated and will be removed in a future version. Use on_bad_lines in the future.\n",
      "\n",
      "\n",
      "  data = pd.read_csv('data/abcnews-date-text.csv', error_bad_lines=False)\n"
     ]
    },
    {
     "name": "stdout",
     "output_type": "stream",
     "text": [
      "뉴스 제목 개수 : 1226258\n"
     ]
    }
   ],
   "source": [
    "import pandas as pd\n",
    "import urllib.request\n",
    "import nltk\n",
    "from nltk.corpus import stopwords\n",
    "from nltk.stem import WordNetLemmatizer\n",
    "from sklearn.feature_extraction.text import TfidfVectorizer\n",
    "from sklearn.decomposition import LatentDirichletAllocation\n",
    "\n",
    "#urllib.request.urlretrieve(\"https://www.kaggle.com/datasets/therohk/million-headlines?select=abcnews-date-text.csv\", filename=\"abcnews-date-text.csv\")\n",
    "\n",
    "data = pd.read_csv('data/abcnews-date-text.csv', error_bad_lines=False)\n",
    "print('뉴스 제목 개수 :',len(data))"
   ]
  },
  {
   "cell_type": "code",
   "execution_count": 2,
   "metadata": {},
   "outputs": [
    {
     "data": {
      "text/html": [
       "<div>\n",
       "<style scoped>\n",
       "    .dataframe tbody tr th:only-of-type {\n",
       "        vertical-align: middle;\n",
       "    }\n",
       "\n",
       "    .dataframe tbody tr th {\n",
       "        vertical-align: top;\n",
       "    }\n",
       "\n",
       "    .dataframe thead th {\n",
       "        text-align: right;\n",
       "    }\n",
       "</style>\n",
       "<table border=\"1\" class=\"dataframe\">\n",
       "  <thead>\n",
       "    <tr style=\"text-align: right;\">\n",
       "      <th></th>\n",
       "      <th>publish_date</th>\n",
       "      <th>headline_text</th>\n",
       "    </tr>\n",
       "  </thead>\n",
       "  <tbody>\n",
       "    <tr>\n",
       "      <th>0</th>\n",
       "      <td>20030219</td>\n",
       "      <td>aba decides against community broadcasting lic...</td>\n",
       "    </tr>\n",
       "    <tr>\n",
       "      <th>1</th>\n",
       "      <td>20030219</td>\n",
       "      <td>act fire witnesses must be aware of defamation</td>\n",
       "    </tr>\n",
       "    <tr>\n",
       "      <th>2</th>\n",
       "      <td>20030219</td>\n",
       "      <td>a g calls for infrastructure protection summit</td>\n",
       "    </tr>\n",
       "    <tr>\n",
       "      <th>3</th>\n",
       "      <td>20030219</td>\n",
       "      <td>air nz staff in aust strike for pay rise</td>\n",
       "    </tr>\n",
       "    <tr>\n",
       "      <th>4</th>\n",
       "      <td>20030219</td>\n",
       "      <td>air nz strike to affect australian travellers</td>\n",
       "    </tr>\n",
       "  </tbody>\n",
       "</table>\n",
       "</div>"
      ],
      "text/plain": [
       "   publish_date                                      headline_text\n",
       "0      20030219  aba decides against community broadcasting lic...\n",
       "1      20030219     act fire witnesses must be aware of defamation\n",
       "2      20030219     a g calls for infrastructure protection summit\n",
       "3      20030219           air nz staff in aust strike for pay rise\n",
       "4      20030219      air nz strike to affect australian travellers"
      ]
     },
     "execution_count": 2,
     "metadata": {},
     "output_type": "execute_result"
    }
   ],
   "source": [
    "data.head(5)"
   ]
  },
  {
   "cell_type": "code",
   "execution_count": 4,
   "metadata": {},
   "outputs": [
    {
     "data": {
      "text/html": [
       "<div>\n",
       "<style scoped>\n",
       "    .dataframe tbody tr th:only-of-type {\n",
       "        vertical-align: middle;\n",
       "    }\n",
       "\n",
       "    .dataframe tbody tr th {\n",
       "        vertical-align: top;\n",
       "    }\n",
       "\n",
       "    .dataframe thead th {\n",
       "        text-align: right;\n",
       "    }\n",
       "</style>\n",
       "<table border=\"1\" class=\"dataframe\">\n",
       "  <thead>\n",
       "    <tr style=\"text-align: right;\">\n",
       "      <th></th>\n",
       "      <th>headline_text</th>\n",
       "    </tr>\n",
       "  </thead>\n",
       "  <tbody>\n",
       "    <tr>\n",
       "      <th>0</th>\n",
       "      <td>aba decides against community broadcasting lic...</td>\n",
       "    </tr>\n",
       "    <tr>\n",
       "      <th>1</th>\n",
       "      <td>act fire witnesses must be aware of defamation</td>\n",
       "    </tr>\n",
       "    <tr>\n",
       "      <th>2</th>\n",
       "      <td>a g calls for infrastructure protection summit</td>\n",
       "    </tr>\n",
       "    <tr>\n",
       "      <th>3</th>\n",
       "      <td>air nz staff in aust strike for pay rise</td>\n",
       "    </tr>\n",
       "    <tr>\n",
       "      <th>4</th>\n",
       "      <td>air nz strike to affect australian travellers</td>\n",
       "    </tr>\n",
       "  </tbody>\n",
       "</table>\n",
       "</div>"
      ],
      "text/plain": [
       "                                       headline_text\n",
       "0  aba decides against community broadcasting lic...\n",
       "1     act fire witnesses must be aware of defamation\n",
       "2     a g calls for infrastructure protection summit\n",
       "3           air nz staff in aust strike for pay rise\n",
       "4      air nz strike to affect australian travellers"
      ]
     },
     "execution_count": 4,
     "metadata": {},
     "output_type": "execute_result"
    }
   ],
   "source": [
    "text=data[['headline_text']]\n",
    "text.head()"
   ]
  },
  {
   "cell_type": "code",
   "execution_count": 6,
   "metadata": {},
   "outputs": [
    {
     "name": "stderr",
     "output_type": "stream",
     "text": [
      "C:\\Users\\djagk\\AppData\\Local\\Temp\\ipykernel_22156\\287272305.py:1: SettingWithCopyWarning: \n",
      "A value is trying to be set on a copy of a slice from a DataFrame.\n",
      "Try using .loc[row_indexer,col_indexer] = value instead\n",
      "\n",
      "See the caveats in the documentation: https://pandas.pydata.org/pandas-docs/stable/user_guide/indexing.html#returning-a-view-versus-a-copy\n",
      "  text['headline_text']=text.apply(lambda row: nltk.word_tokenize(row['headline_text']),axis=1)\n"
     ]
    }
   ],
   "source": [
    "# 토큰화\n",
    "text['headline_text']=text.apply(lambda row: nltk.word_tokenize(row['headline_text']),axis=1)"
   ]
  },
  {
   "cell_type": "code",
   "execution_count": 7,
   "metadata": {},
   "outputs": [
    {
     "data": {
      "text/html": [
       "<div>\n",
       "<style scoped>\n",
       "    .dataframe tbody tr th:only-of-type {\n",
       "        vertical-align: middle;\n",
       "    }\n",
       "\n",
       "    .dataframe tbody tr th {\n",
       "        vertical-align: top;\n",
       "    }\n",
       "\n",
       "    .dataframe thead th {\n",
       "        text-align: right;\n",
       "    }\n",
       "</style>\n",
       "<table border=\"1\" class=\"dataframe\">\n",
       "  <thead>\n",
       "    <tr style=\"text-align: right;\">\n",
       "      <th></th>\n",
       "      <th>headline_text</th>\n",
       "    </tr>\n",
       "  </thead>\n",
       "  <tbody>\n",
       "    <tr>\n",
       "      <th>0</th>\n",
       "      <td>[aba, decides, against, community, broadcastin...</td>\n",
       "    </tr>\n",
       "    <tr>\n",
       "      <th>1</th>\n",
       "      <td>[act, fire, witnesses, must, be, aware, of, de...</td>\n",
       "    </tr>\n",
       "    <tr>\n",
       "      <th>2</th>\n",
       "      <td>[a, g, calls, for, infrastructure, protection,...</td>\n",
       "    </tr>\n",
       "    <tr>\n",
       "      <th>3</th>\n",
       "      <td>[air, nz, staff, in, aust, strike, for, pay, r...</td>\n",
       "    </tr>\n",
       "    <tr>\n",
       "      <th>4</th>\n",
       "      <td>[air, nz, strike, to, affect, australian, trav...</td>\n",
       "    </tr>\n",
       "  </tbody>\n",
       "</table>\n",
       "</div>"
      ],
      "text/plain": [
       "                                       headline_text\n",
       "0  [aba, decides, against, community, broadcastin...\n",
       "1  [act, fire, witnesses, must, be, aware, of, de...\n",
       "2  [a, g, calls, for, infrastructure, protection,...\n",
       "3  [air, nz, staff, in, aust, strike, for, pay, r...\n",
       "4  [air, nz, strike, to, affect, australian, trav..."
      ]
     },
     "execution_count": 7,
     "metadata": {},
     "output_type": "execute_result"
    }
   ],
   "source": [
    "text.head(5)"
   ]
  },
  {
   "cell_type": "code",
   "execution_count": 8,
   "metadata": {},
   "outputs": [
    {
     "name": "stderr",
     "output_type": "stream",
     "text": [
      "C:\\Users\\djagk\\AppData\\Local\\Temp\\ipykernel_22156\\3825330280.py:3: SettingWithCopyWarning: \n",
      "A value is trying to be set on a copy of a slice from a DataFrame.\n",
      "Try using .loc[row_indexer,col_indexer] = value instead\n",
      "\n",
      "See the caveats in the documentation: https://pandas.pydata.org/pandas-docs/stable/user_guide/indexing.html#returning-a-view-versus-a-copy\n",
      "  text['headline_text']=text['headline_text'].apply(lambda x: [word for word in x if word not in (stop_words)])\n"
     ]
    }
   ],
   "source": [
    "# 불용어 제거\n",
    "stop_words=stopwords.words('english')\n",
    "text['headline_text']=text['headline_text'].apply(lambda x: [word for word in x if word not in (stop_words)])\n"
   ]
  },
  {
   "cell_type": "code",
   "execution_count": 9,
   "metadata": {},
   "outputs": [
    {
     "data": {
      "text/html": [
       "<div>\n",
       "<style scoped>\n",
       "    .dataframe tbody tr th:only-of-type {\n",
       "        vertical-align: middle;\n",
       "    }\n",
       "\n",
       "    .dataframe tbody tr th {\n",
       "        vertical-align: top;\n",
       "    }\n",
       "\n",
       "    .dataframe thead th {\n",
       "        text-align: right;\n",
       "    }\n",
       "</style>\n",
       "<table border=\"1\" class=\"dataframe\">\n",
       "  <thead>\n",
       "    <tr style=\"text-align: right;\">\n",
       "      <th></th>\n",
       "      <th>headline_text</th>\n",
       "    </tr>\n",
       "  </thead>\n",
       "  <tbody>\n",
       "    <tr>\n",
       "      <th>0</th>\n",
       "      <td>[aba, decides, community, broadcasting, licence]</td>\n",
       "    </tr>\n",
       "    <tr>\n",
       "      <th>1</th>\n",
       "      <td>[act, fire, witnesses, must, aware, defamation]</td>\n",
       "    </tr>\n",
       "    <tr>\n",
       "      <th>2</th>\n",
       "      <td>[g, calls, infrastructure, protection, summit]</td>\n",
       "    </tr>\n",
       "    <tr>\n",
       "      <th>3</th>\n",
       "      <td>[air, nz, staff, aust, strike, pay, rise]</td>\n",
       "    </tr>\n",
       "    <tr>\n",
       "      <th>4</th>\n",
       "      <td>[air, nz, strike, affect, australian, travellers]</td>\n",
       "    </tr>\n",
       "  </tbody>\n",
       "</table>\n",
       "</div>"
      ],
      "text/plain": [
       "                                       headline_text\n",
       "0   [aba, decides, community, broadcasting, licence]\n",
       "1    [act, fire, witnesses, must, aware, defamation]\n",
       "2     [g, calls, infrastructure, protection, summit]\n",
       "3          [air, nz, staff, aust, strike, pay, rise]\n",
       "4  [air, nz, strike, affect, australian, travellers]"
      ]
     },
     "execution_count": 9,
     "metadata": {},
     "output_type": "execute_result"
    }
   ],
   "source": [
    "text.head(5)"
   ]
  },
  {
   "cell_type": "code",
   "execution_count": 10,
   "metadata": {},
   "outputs": [
    {
     "name": "stdout",
     "output_type": "stream",
     "text": [
      "                                       headline_text\n",
      "0       [aba, decide, community, broadcast, licence]\n",
      "1      [act, fire, witness, must, aware, defamation]\n",
      "2      [g, call, infrastructure, protection, summit]\n",
      "3          [air, nz, staff, aust, strike, pay, rise]\n",
      "4  [air, nz, strike, affect, australian, travellers]\n"
     ]
    },
    {
     "name": "stderr",
     "output_type": "stream",
     "text": [
      "C:\\Users\\djagk\\AppData\\Local\\Temp\\ipykernel_22156\\1704790864.py:2: SettingWithCopyWarning: \n",
      "A value is trying to be set on a copy of a slice from a DataFrame.\n",
      "Try using .loc[row_indexer,col_indexer] = value instead\n",
      "\n",
      "See the caveats in the documentation: https://pandas.pydata.org/pandas-docs/stable/user_guide/indexing.html#returning-a-view-versus-a-copy\n",
      "  text['headline_text']=text['headline_text'].apply(lambda x:[WordNetLemmatizer().lemmatize(word, pos='v') for word in x])\n"
     ]
    }
   ],
   "source": [
    "# 표제어 추출   복수 -> 단수, 3인칭단수->1인칭으로 변경 과거형-> 현재형으로\n",
    "text['headline_text']=text['headline_text'].apply(lambda x:[WordNetLemmatizer().lemmatize(word, pos='v') for word in x])\n",
    "print(text.head(5))"
   ]
  },
  {
   "cell_type": "code",
   "execution_count": 11,
   "metadata": {},
   "outputs": [
    {
     "data": {
      "text/plain": [
       "0       [decide, community, broadcast, licence]\n",
       "1      [fire, witness, must, aware, defamation]\n",
       "2    [call, infrastructure, protection, summit]\n",
       "3                   [staff, aust, strike, rise]\n",
       "4      [strike, affect, australian, travellers]\n",
       "Name: headline_text, dtype: object"
      ]
     },
     "execution_count": 11,
     "metadata": {},
     "output_type": "execute_result"
    }
   ],
   "source": [
    "# 길이 3 이하인 단어 제거\n",
    "tokenized_doc=text['headline_text'].apply(lambda x: [word for word in x if len(word)>3])\n",
    "tokenized_doc.head()"
   ]
  },
  {
   "cell_type": "code",
   "execution_count": 12,
   "metadata": {},
   "outputs": [
    {
     "name": "stderr",
     "output_type": "stream",
     "text": [
      "C:\\Users\\djagk\\AppData\\Local\\Temp\\ipykernel_22156\\3446064961.py:8: SettingWithCopyWarning: \n",
      "A value is trying to be set on a copy of a slice from a DataFrame.\n",
      "Try using .loc[row_indexer,col_indexer] = value instead\n",
      "\n",
      "See the caveats in the documentation: https://pandas.pydata.org/pandas-docs/stable/user_guide/indexing.html#returning-a-view-versus-a-copy\n",
      "  text['headline_text']=detokenized_doc\n"
     ]
    }
   ],
   "source": [
    "# 역토큰화 (토큰화 작업을 되돌림)\n",
    "detokenized_doc=[]\n",
    "for i in range(len(text)):\n",
    "    t=' '.join(tokenized_doc[i])\n",
    "    detokenized_doc.append(t)\n",
    "\n",
    "# 다시 text['headline_text']에 재저장\n",
    "text['headline_text']=detokenized_doc\n"
   ]
  },
  {
   "cell_type": "code",
   "execution_count": 13,
   "metadata": {},
   "outputs": [
    {
     "data": {
      "text/plain": [
       "0       decide community broadcast licence\n",
       "1       fire witness must aware defamation\n",
       "2    call infrastructure protection summit\n",
       "3                   staff aust strike rise\n",
       "4      strike affect australian travellers\n",
       "Name: headline_text, dtype: object"
      ]
     },
     "execution_count": 13,
     "metadata": {},
     "output_type": "execute_result"
    }
   ],
   "source": [
    "text['headline_text'][:5]"
   ]
  },
  {
   "cell_type": "code",
   "execution_count": 14,
   "metadata": {},
   "outputs": [
    {
     "name": "stdout",
     "output_type": "stream",
     "text": [
      "TF-IDF 행렬 크기 :  (1226258, 1000)\n"
     ]
    }
   ],
   "source": [
    "# 상위 1000개의 단어 보존\n",
    "vectorizer=TfidfVectorizer(stop_words='english',max_features=1000)\n",
    "X=vectorizer.fit_transform(text['headline_text'])\n",
    "\n",
    "# TF-IDF 행렬의 크기 확인\n",
    "print('TF-IDF 행렬 크기 : ',X.shape)"
   ]
  },
  {
   "cell_type": "code",
   "execution_count": 15,
   "metadata": {},
   "outputs": [],
   "source": [
    "lda_model=LatentDirichletAllocation(n_components=10,learning_method='online',random_state=777,max_iter=1)\n",
    "lda_top=lda_model.fit_transform(X)"
   ]
  },
  {
   "cell_type": "code",
   "execution_count": 16,
   "metadata": {},
   "outputs": [
    {
     "data": {
      "text/plain": [
       "array([[1.00000865e-01, 1.00000439e-01, 1.00001997e-01, ...,\n",
       "        1.00006873e-01, 1.00003405e-01, 1.00005209e-01],\n",
       "       [1.00001642e-01, 1.00000829e-01, 6.40533260e+02, ...,\n",
       "        1.00009111e-01, 1.00004890e-01, 5.79474578e+02],\n",
       "       [1.00001468e-01, 1.00000275e-01, 1.00001496e-01, ...,\n",
       "        1.00004592e-01, 1.00001786e-01, 1.00005396e-01],\n",
       "       ...,\n",
       "       [1.00002822e-01, 1.00000923e-01, 1.00001462e-01, ...,\n",
       "        1.00009141e-01, 1.00005015e-01, 1.00008595e-01],\n",
       "       [1.00004695e-01, 1.00002038e-01, 1.00001419e-01, ...,\n",
       "        1.00004812e-01, 1.00002548e-01, 1.00007925e-01],\n",
       "       [1.07423402e+02, 2.03964360e+02, 1.00002187e-01, ...,\n",
       "        1.00006822e-01, 1.00003052e-01, 1.00006310e-01]])"
      ]
     },
     "execution_count": 16,
     "metadata": {},
     "output_type": "execute_result"
    }
   ],
   "source": [
    "lda_model.components_"
   ]
  },
  {
   "cell_type": "code",
   "execution_count": 22,
   "metadata": {},
   "outputs": [
    {
     "name": "stdout",
     "output_type": "stream",
     "text": [
      "Topic 1 :  [('queensland', 12908.75), ('sydney', 10948.96), ('melbourne', 8900.08), ('change', 7262.83)]\n",
      "Topic 2 :  [('australia', 19355.9), ('australian', 13286.11), ('leave', 4930.96), ('speak', 4845.83)]\n",
      "Topic 3 :  [('donald', 9114.15), ('live', 7908.02), ('federal', 4711.88), ('rise', 4630.85)]\n",
      "Topic 4 :  [('health', 6349.63), ('tasmania', 6141.91), ('report', 5567.09), ('plan', 4834.44)]\n",
      "Topic 5 :  [('state', 6086.17), ('open', 6074.01), ('coast', 6015.08), ('restrictions', 5961.35)]\n",
      "Topic 6 :  [('trump', 15903.94), ('police', 13931.38), ('home', 7318.39), ('test', 7241.0)]\n",
      "Topic 7 :  [('government', 9187.9), ('record', 6384.64), ('border', 6378.89), ('help', 5807.23)]\n",
      "Topic 8 :  [('coronavirus', 48038.98), ('covid', 19540.99), ('victoria', 10827.28), ('china', 8358.46)]\n",
      "Topic 9 :  [('case', 10138.89), ('charge', 8386.79), ('court', 8195.91), ('murder', 7177.55)]\n",
      "Topic 10 :  [('election', 9987.75), ('news', 8582.48), ('kill', 6939.16), ('world', 6872.76)]\n"
     ]
    },
    {
     "name": "stderr",
     "output_type": "stream",
     "text": [
      "c:\\Users\\djagk\\AppData\\Local\\Programs\\Python\\Python310\\lib\\site-packages\\sklearn\\utils\\deprecation.py:87: FutureWarning: Function get_feature_names is deprecated; get_feature_names is deprecated in 1.0 and will be removed in 1.2. Please use get_feature_names_out instead.\n",
      "  warnings.warn(msg, category=FutureWarning)\n"
     ]
    }
   ],
   "source": [
    "# 단어 집합 1000개의 단어가 저장됨\n",
    "terms=vectorizer.get_feature_names()\n",
    "def get_topics(components,feature_names,n=4):\n",
    "    for idx, topic in enumerate(components):\n",
    "        print(f\"Topic {idx+1} : \",[(feature_names[i],topic[i].round(2)) for i in topic.argsort()[:-n-1:-1]])\n",
    "get_topics(lda_model.components_,terms)"
   ]
  },
  {
   "cell_type": "code",
   "execution_count": 23,
   "metadata": {},
   "outputs": [
    {
     "name": "stderr",
     "output_type": "stream",
     "text": [
      "c:\\Users\\djagk\\AppData\\Local\\Programs\\Python\\Python310\\lib\\site-packages\\sklearn\\utils\\deprecation.py:87: FutureWarning: Function get_feature_names is deprecated; get_feature_names is deprecated in 1.0 and will be removed in 1.2. Please use get_feature_names_out instead.\n",
      "  warnings.warn(msg, category=FutureWarning)\n",
      "c:\\Users\\djagk\\AppData\\Local\\Programs\\Python\\Python310\\lib\\site-packages\\pyLDAvis\\_prepare.py:247: FutureWarning: In a future version of pandas all arguments of DataFrame.drop except for the argument 'labels' will be keyword-only.\n",
      "  by='saliency', ascending=False).head(R).drop('saliency', 1)\n"
     ]
    },
    {
     "data": {
      "text/html": [
       "\n",
       "<link rel=\"stylesheet\" type=\"text/css\" href=\"https://cdn.jsdelivr.net/gh/bmabey/pyLDAvis@3.3.1/pyLDAvis/js/ldavis.v1.0.0.css\">\n",
       "\n",
       "\n",
       "<div id=\"ldavis_el2215620515635870561891674025\"></div>\n",
       "<script type=\"text/javascript\">\n",
       "\n",
       "var ldavis_el2215620515635870561891674025_data = {\"mdsDat\": {\"x\": [-0.03579989776774152, -0.24902547816150006, -0.2659849303483098, 0.10472015832268462, 0.18311502526423656, -0.018535431064210444, -0.02765543449463181, 0.20076015849909978, -0.041106885471053296, 0.14951271522142562], \"y\": [0.18271876323390795, -0.17992378894224392, -0.16320922203584828, -0.0056115165244615605, -0.1440279567908636, 0.18995728430432077, 0.09927724208569214, -0.1044499696400368, 0.2424074496416491, -0.11713828533211569], \"topics\": [1, 2, 3, 4, 5, 6, 7, 8, 9, 10], \"cluster\": [1, 1, 1, 1, 1, 1, 1, 1, 1, 1], \"Freq\": [10.980874793996733, 10.943603364371898, 10.56228101740337, 10.088099387224352, 9.8600760120006, 9.756543675580915, 9.717016009165489, 9.427268032402873, 9.332936011883005, 9.33130169597077]}, \"tinfo\": {\"Term\": [\"coronavirus\", \"australia\", \"covid\", \"trump\", \"australian\", \"police\", \"queensland\", \"case\", \"donald\", \"government\", \"sydney\", \"election\", \"charge\", \"court\", \"live\", \"victoria\", \"news\", \"melbourne\", \"murder\", \"health\", \"tasmania\", \"record\", \"border\", \"state\", \"open\", \"kill\", \"coast\", \"world\", \"restrictions\", \"report\", \"queensland\", \"sydney\", \"melbourne\", \"change\", \"crash\", \"year\", \"brisbane\", \"morrison\", \"protest\", \"island\", \"dead\", \"child\", \"game\", \"rule\", \"beach\", \"drug\", \"monday\", \"students\", \"turn\", \"wednesday\", \"hong\", \"lead\", \"history\", \"star\", \"weather\", \"launch\", \"investigation\", \"head\", \"free\", \"india\", \"trump\", \"police\", \"home\", \"test\", \"market\", \"house\", \"family\", \"indigenous\", \"life\", \"jail\", \"finance\", \"royal\", \"talk\", \"high\", \"bank\", \"australians\", \"beat\", \"price\", \"power\", \"christmas\", \"want\", \"baby\", \"officer\", \"race\", \"young\", \"trade\", \"residents\", \"share\", \"centre\", \"campaign\", \"election\", \"news\", \"kill\", \"world\", \"school\", \"make\", \"adelaide\", \"labor\", \"australias\", \"tell\", \"budget\", \"premier\", \"allege\", \"workers\", \"meet\", \"vote\", \"season\", \"country\", \"service\", \"extend\", \"black\", \"support\", \"build\", \"force\", \"bushfires\", \"party\", \"mark\", \"league\", \"emergency\", \"river\", \"care\", \"case\", \"charge\", \"court\", \"murder\", \"years\", \"attack\", \"face\", \"bushfire\", \"trial\", \"sentence\", \"break\", \"regional\", \"climate\", \"abuse\", \"need\", \"aboriginal\", \"inquiry\", \"body\", \"issue\", \"green\", \"cost\", \"stab\", \"drop\", \"cancer\", \"delay\", \"ease\", \"like\", \"energy\", \"light\", \"start\", \"government\", \"record\", \"border\", \"help\", \"people\", \"north\", \"fight\", \"national\", \"final\", \"business\", \"close\", \"guilty\", \"commission\", \"west\", \"president\", \"train\", \"deal\", \"risk\", \"flood\", \"road\", \"mother\", \"continue\", \"fish\", \"group\", \"despite\", \"plead\", \"catch\", \"tree\", \"university\", \"study\", \"fund\", \"state\", \"open\", \"coast\", \"restrictions\", \"woman\", \"warn\", \"miss\", \"women\", \"water\", \"tasmanian\", \"gold\", \"claim\", \"hear\", \"travel\", \"storm\", \"friday\", \"search\", \"public\", \"question\", \"northern\", \"play\", \"grow\", \"join\", \"russia\", \"east\", \"urge\", \"super\", \"protesters\", \"economy\", \"challenge\", \"australia\", \"australian\", \"leave\", \"speak\", \"perth\", \"work\", \"interview\", \"announce\", \"community\", \"assault\", \"children\", \"michael\", \"hotel\", \"wall\", \"video\", \"david\", \"cricket\", \"port\", \"city\", \"doctor\", \"sexual\", \"social\", \"crisis\", \"george\", \"investigate\", \"film\", \"hold\", \"battle\", \"steal\", \"international\", \"donald\", \"live\", \"federal\", \"rise\", \"victorian\", \"drum\", \"release\", \"farm\", \"street\", \"save\", \"park\", \"review\", \"program\", \"look\", \"peter\", \"violence\", \"bring\", \"media\", \"land\", \"future\", \"food\", \"grand\", \"award\", \"debate\", \"turnbull\", \"tourism\", \"mount\", \"victims\", \"domestic\", \"send\", \"council\", \"victoria\", \"china\", \"death\", \"south\", \"canberra\", \"shoot\", \"scott\", \"return\", \"lose\", \"amid\", \"fall\", \"chinese\", \"john\", \"fear\", \"tuesday\", \"drought\", \"million\", \"rain\", \"outback\", \"number\", \"johnson\", \"company\", \"appeal\", \"club\", \"post\", \"increase\", \"inquest\", \"long\", \"facebook\", \"track\", \"coronavirus\", \"covid\", \"health\", \"tasmania\", \"report\", \"plan\", \"time\", \"arrest\", \"minister\", \"accuse\", \"hospital\", \"darwin\", \"update\", \"farmers\", \"concern\", \"reveal\", \"rescue\", \"industry\", \"thursday\", \"second\", \"rural\", \"parliament\", \"sport\", \"zealand\", \"near\", \"deaths\", \"mental\", \"drive\", \"town\", \"latest\", \"result\", \"ahead\"], \"Freq\": [34211.0, 18264.0, 13897.0, 13839.0, 12537.0, 12122.0, 11029.0, 10325.0, 9164.0, 9285.0, 9354.0, 9192.0, 8541.0, 8347.0, 7951.0, 7684.0, 7899.0, 7604.0, 7309.0, 6795.0, 6573.0, 6453.0, 6447.0, 6201.0, 6189.0, 6387.0, 6129.0, 6325.0, 6074.0, 5958.0, 11028.233974868805, 9353.945553213567, 7603.536651413101, 6204.802906595072, 5256.8418527635295, 5220.142551081964, 4251.184860642179, 3964.29570519903, 3944.4770587474604, 3647.258172458404, 3642.2607432949276, 3203.0261480043478, 3031.937131454941, 2911.0084050367395, 2898.0061041462213, 2829.253081492244, 2597.0247713467274, 2596.2149497834876, 2563.1340869474266, 2459.432061576925, 2407.7428784807503, 2314.5628261991806, 2314.366341465495, 2299.473642739552, 2296.5518728082043, 2232.422510371604, 2199.2332388318846, 2167.238287319746, 2149.577930667172, 2127.6269949134858, 13838.185127823614, 12121.839542778314, 6367.804399535735, 6300.4703130122125, 5680.995980064235, 5516.984738210399, 4607.883542240829, 4200.30490401815, 4140.961493840941, 4057.4331134685885, 3707.014821660783, 3627.532226821066, 3270.889504452977, 3245.768740260325, 3031.4199614997015, 2980.097681059035, 2968.0971250956536, 2890.8434354011706, 2885.136227940824, 2772.1708685381373, 2649.188051486001, 2635.4537447875405, 2632.0281464036125, 2508.1338057626986, 2503.717319985191, 2459.068562518627, 2346.614733576086, 2305.3161737498745, 2300.504115927008, 2269.5428242064613, 9191.871986120872, 7898.585845874208, 6386.2095904583975, 6325.105832052329, 5719.099608912683, 5621.583801844482, 5613.614526604799, 3620.8479584346715, 3474.0481865794527, 3352.058579150572, 3277.248997571334, 3197.878280943978, 3118.677901772498, 3094.4370208617997, 3044.728520331696, 3024.139000191198, 3011.0696165340314, 2965.2490290422975, 2859.6572995214724, 2782.9520276835483, 2775.6869787498767, 2725.8453645754075, 2665.6306639154955, 2663.506268388538, 2613.8492340449025, 2552.336372790334, 2551.5225788181665, 2534.768983792621, 2304.326772551781, 2270.1933323171297, 2481.082931636238, 10324.775340215892, 8540.55428305487, 8346.177713944659, 7309.1461537068635, 5935.029295864981, 5934.565730047391, 5800.197163348658, 5462.463548514794, 4664.906144346036, 4529.2801724537, 3939.919208040466, 3653.2044084884583, 3584.010616718714, 3452.844222218496, 3406.955011348796, 2866.5399751438845, 2832.6996560493644, 2699.570165714283, 2435.1887438224335, 2376.19702456945, 2344.4501856849624, 2299.798578219648, 2244.793972760166, 2217.8893720258684, 2191.6273204221116, 2185.6361453740656, 2180.517948121197, 2114.1485124937094, 2036.4044676868505, 2026.5232063540252, 9285.106481321869, 6452.194177769608, 6446.383118600752, 5868.6718574364695, 5680.024732109101, 4975.908006172839, 4495.150224804437, 4423.273633533467, 3851.906086169525, 3791.4864538093057, 3776.579732573177, 3695.9113168422095, 3590.87225130176, 3562.379134531305, 3473.4613408438886, 3281.091330046407, 3116.07675580018, 3087.8454983913725, 3040.7462469453003, 2611.6103203842626, 2525.349622705859, 2461.9190312355854, 2052.335756901998, 1972.318232812571, 1941.3344805501997, 1927.687975833319, 1915.3064000699976, 1913.0005429501155, 1898.6777387492025, 1886.640439326482, 2354.4027506670254, 6201.149221293287, 6188.764195411262, 6128.719470805893, 6073.975234389141, 6033.668446102156, 5446.083779308817, 4818.7972891597465, 4725.672373180947, 4332.20874220407, 4080.141961657938, 4011.645774039348, 3655.4290435489074, 3568.3453080225117, 3376.302493067053, 3247.53189619394, 3242.2239491474065, 3218.3026043307405, 2975.280374370599, 2881.0134535977327, 2764.857685360257, 2401.0688848218288, 2326.8026877696248, 2247.032939547855, 2214.273969084195, 2196.560530624071, 2166.0429986472054, 2094.001494114189, 2090.641409787904, 2071.11221982234, 2065.4863447613743, 18263.877848747266, 12536.534721450906, 4652.766363809456, 4572.437871425557, 4443.518995583808, 4293.166051059264, 4125.502898539253, 3483.26982172409, 3262.837670424023, 3226.7889056134636, 3133.29569104635, 2962.0782172235718, 2923.734663619408, 2868.6220537648423, 2855.900403431046, 2621.6784500564354, 2559.1555428643987, 2479.6859761741434, 2476.0501300652886, 2438.5910980803565, 2412.3150698660593, 2397.5885257026544, 2373.8499227440984, 2358.1752371756525, 2319.705406432126, 2145.202601567468, 2094.858705747322, 2034.722098600723, 2028.0402564801327, 2008.8711180650275, 9163.256836623948, 7950.628870735622, 4737.266856663614, 4655.799678846053, 4592.4959377193545, 4309.773802618386, 3738.1387399921023, 3643.036825690489, 3371.4780673235236, 3356.8418597306027, 3270.005201252721, 3247.9308655464915, 3243.906576285875, 2977.891688704768, 2688.5086808224137, 2630.428746034703, 2591.4672663912243, 2582.7190357198833, 2550.923298231857, 2498.6857205721735, 2494.533699358815, 2305.4065146274897, 2195.772031952709, 2159.823181722927, 2119.628127466339, 2091.7789180034565, 1967.52206126511, 1963.4009789192405, 1925.109604104805, 1871.4065379419349, 2489.356949854337, 7683.272551089531, 5931.342960185455, 5096.422064522715, 4971.578355908201, 4368.426530727184, 3770.499083783229, 3145.282814099213, 3066.522166753466, 2809.086376468718, 2652.096062093813, 2481.6952297839885, 2363.610155473943, 2329.219945539374, 2204.2280362904526, 2156.4723591140673, 2118.0869646195483, 2108.4608562089775, 1704.9806728492529, 1631.4864451654212, 1607.4041759166698, 1587.0706713521952, 1586.0232436244148, 1583.4922269953427, 1570.826629938964, 1563.909452737154, 1562.5748157393682, 1523.3440320853495, 1484.3209095602415, 1454.4696742289875, 1414.7773082957372, 34089.50709224725, 13866.712402863492, 6794.702292591302, 6572.41847819024, 5957.310412864805, 5173.302515748959, 5076.967805668007, 5046.521860974185, 4884.527605130614, 4413.012185391714, 4311.790618907929, 3777.5824838437165, 3760.07865898491, 3715.614960344558, 3708.749798599154, 3503.7358255440477, 3421.2214678902574, 3245.9261457871676, 3158.247208338324, 3143.354604171027, 3102.568598963579, 3096.2793534736124, 2914.153171629006, 2856.8060161768276, 2823.805945760637, 2750.1904010153844, 2712.371803966833, 2444.817129796837, 2437.0409188598187, 2414.4677218402303, 2336.199260514686, 2320.8731953496913], \"Total\": [34211.0, 18264.0, 13897.0, 13839.0, 12537.0, 12122.0, 11029.0, 10325.0, 9164.0, 9285.0, 9354.0, 9192.0, 8541.0, 8347.0, 7951.0, 7684.0, 7899.0, 7604.0, 7309.0, 6795.0, 6573.0, 6453.0, 6447.0, 6201.0, 6189.0, 6387.0, 6129.0, 6325.0, 6074.0, 5958.0, 11029.090797913763, 9354.802347476767, 7604.393448965721, 6205.659712480811, 5257.698613361072, 5220.999316929338, 4252.041630926373, 3965.152529223287, 3945.3338443678986, 3648.11494011102, 3643.117495653195, 3203.88293695943, 3032.7938804128185, 2911.865186537578, 2898.862872582106, 2830.109854460801, 2597.8815022646663, 2597.071717370722, 2563.9908301496193, 2460.2887876436357, 2408.599639344941, 2315.419591997274, 2315.2230832220353, 2300.330380158758, 2297.4086516436396, 2233.2792691933882, 2200.089994421468, 2168.095038839527, 2150.4346890989123, 2128.483780517496, 13839.040361337959, 12122.694827038142, 6368.659600460325, 6301.325531883629, 5681.851148431758, 5517.839927724414, 4608.738737479755, 4201.160096183928, 4141.8166677403415, 4058.288308359626, 3707.8699957437, 3628.387418208967, 3271.7446610224943, 3246.6239523651534, 3032.275133966513, 2980.952864395845, 2968.952323084482, 2891.698601482934, 2885.991407246999, 2773.026067039752, 2650.043234704147, 2636.3089223014, 2632.8833170601106, 2508.988981324555, 2504.5724930165084, 2459.923756342259, 2347.46993088415, 2306.171334915361, 2301.359302461137, 2270.3980013994915, 9192.7221730847, 7899.43602590193, 6387.059785922598, 6325.955982311123, 5719.94980417438, 5622.433955986427, 5614.464697260791, 3621.698108073962, 3474.898328932814, 3352.9087621675826, 3278.0991706501745, 3198.7284511015587, 3119.528090171568, 3095.28719177616, 3045.5786659591104, 3024.9891458687284, 3011.919785792465, 2966.0991604686687, 2860.5074737484993, 2783.8021639568365, 2776.5371520149442, 2726.6955376157325, 2666.4808187567082, 2664.3564320561704, 2614.6994234136996, 2553.1865254387344, 2552.3727191257667, 2535.6191201035954, 2305.17694360431, 2271.043482137498, 3766.728052550395, 10325.615764567023, 8541.3946356272, 8347.018083238354, 7309.98649098707, 5935.869636308348, 5935.406084772623, 5801.037528634217, 5463.303937707112, 4665.746490097865, 4530.120504963866, 3940.7595536692256, 3654.0447823339, 3584.8509771659647, 3453.68457581677, 3407.79535873997, 2867.3803224974563, 2833.5400229124125, 2700.4104988456793, 2436.0290979000133, 2377.037367707556, 2345.2905377273332, 2300.638911083988, 2245.6343144145712, 2218.729703024411, 2192.4676810588376, 2186.476564131687, 2181.3582822028316, 2114.9888455725036, 2037.2448071198048, 2027.3635493286085, 9285.947633513479, 6453.035346373781, 6447.224333721814, 5869.5129971590795, 5680.865858940994, 4976.749138904908, 4495.9913491705, 4424.114770667698, 3852.7472224810595, 3792.327574839934, 3777.4208627298867, 3696.752425545548, 3591.7133956004486, 3563.220259443698, 3474.302461660459, 3281.9324489716405, 3116.917882994417, 3088.686629210161, 3041.587381461938, 2612.4514394757653, 2526.1907379696104, 2462.7601633669315, 2053.1768741085884, 1973.159354364478, 1942.1756144575922, 1928.5290621242248, 1916.1475059583136, 1913.8416580354583, 1899.5188516489584, 1887.481548329876, 3593.6256532305024, 6201.989543676028, 6189.604499185389, 6129.559758700051, 6074.81562717486, 6034.508757031527, 5446.924095242253, 4819.637577235247, 4726.512657932706, 4333.049043356207, 4080.9822413776133, 4012.486042197221, 3656.2693423172514, 3569.1856173325323, 3377.142807653425, 3248.372182233513, 3243.0642249057, 3219.142880540358, 2976.120681873347, 2881.8537458605856, 2765.697987001711, 2401.9091646744487, 2327.642968034908, 2247.873211745112, 2215.1142473310265, 2197.400827716337, 2166.8833044220146, 2094.8417758343703, 2091.481705171901, 2071.952519457084, 2066.326629613418, 18264.725736871173, 12537.382568728026, 4653.614201111131, 4573.285681902796, 4444.366823163946, 4294.013885142883, 4126.350691520475, 3484.1176606263407, 3263.6855131932675, 3227.6367319179603, 3134.143515946508, 2962.9260311727935, 2924.5825258627633, 2869.46991880102, 2856.748215481035, 2622.5262552485406, 2560.0033486852967, 2480.5338036626026, 2476.897952815918, 2439.4389321147237, 2413.1628837613857, 2398.43636419605, 2374.6977641139138, 2359.0230572297673, 2320.5532415318353, 2146.050411906807, 2095.706523326415, 2035.5699099936064, 2028.8880755899459, 2009.7189399967926, 9164.098508130453, 7951.4705503540545, 4738.10852363507, 4656.641343633501, 4593.337606482358, 4310.61544120895, 3738.980384738765, 3643.878461912639, 3372.319720345965, 3357.6834985855494, 3270.8468503347376, 3248.7725006578444, 3244.7482035199314, 2978.733324405814, 2689.3503112494773, 2631.2703643431314, 2592.3089038451194, 2583.5606814359794, 2551.7649430658134, 2499.52735178255, 2495.375326742445, 2306.2481599920225, 2196.6136507303736, 2160.6648037537275, 2120.469735420685, 2092.6205884639185, 1968.3636881499083, 1964.2426232929797, 1925.9512128818214, 1872.2481767015963, 3098.2579424487467, 7684.143812520759, 5932.214205293745, 5097.293302239112, 4972.449604892069, 4369.297755119184, 3771.370303825807, 3146.1540619085335, 3067.39339411821, 2809.957598602692, 2652.967303079599, 2482.566448942314, 2364.4813761629002, 2330.0911527693415, 2205.09926240852, 2157.3435547886543, 2118.9581818750917, 2109.3320707285316, 1705.8519170892143, 1632.3576548379654, 1608.275385131219, 1587.9418804565296, 1586.894454046871, 1584.3634482839043, 1571.697845533726, 1564.780666508614, 1563.4460301759266, 1524.2152449031255, 1485.1921240892557, 1455.3408760361203, 1415.6485213444103, 34211.88359866734, 13897.251958517736, 6795.537476043882, 6573.2536485284245, 5958.145606335545, 5174.137718858127, 5077.802976269485, 5047.3570417817655, 4885.362781149234, 4413.84737476603, 4312.62579787331, 3778.4176529232527, 3760.913866695667, 3716.4501403045515, 3709.584973781958, 3504.5709863633983, 3422.0566350649915, 3246.7613174276435, 3159.0823564829943, 3144.1897826850586, 3103.4037370469186, 3097.114511676912, 2914.9883361171483, 2857.6411842351654, 2824.6411160021357, 2751.0255960038817, 2713.206942707371, 2445.6522983549858, 2437.8760825655204, 2415.3029072925683, 2337.034424234046, 2321.7083685195166], \"Category\": [\"Default\", \"Default\", \"Default\", \"Default\", \"Default\", \"Default\", \"Default\", \"Default\", \"Default\", \"Default\", \"Default\", \"Default\", \"Default\", \"Default\", \"Default\", \"Default\", \"Default\", \"Default\", \"Default\", \"Default\", \"Default\", \"Default\", \"Default\", \"Default\", \"Default\", \"Default\", \"Default\", \"Default\", \"Default\", \"Default\", \"Topic1\", \"Topic1\", \"Topic1\", \"Topic1\", \"Topic1\", \"Topic1\", \"Topic1\", \"Topic1\", \"Topic1\", \"Topic1\", \"Topic1\", \"Topic1\", \"Topic1\", \"Topic1\", \"Topic1\", \"Topic1\", \"Topic1\", \"Topic1\", \"Topic1\", \"Topic1\", \"Topic1\", \"Topic1\", \"Topic1\", \"Topic1\", \"Topic1\", \"Topic1\", \"Topic1\", \"Topic1\", \"Topic1\", \"Topic1\", \"Topic2\", \"Topic2\", \"Topic2\", \"Topic2\", \"Topic2\", \"Topic2\", \"Topic2\", \"Topic2\", \"Topic2\", \"Topic2\", \"Topic2\", \"Topic2\", \"Topic2\", \"Topic2\", \"Topic2\", \"Topic2\", \"Topic2\", \"Topic2\", \"Topic2\", \"Topic2\", \"Topic2\", \"Topic2\", \"Topic2\", \"Topic2\", \"Topic2\", \"Topic2\", \"Topic2\", \"Topic2\", \"Topic2\", \"Topic2\", \"Topic3\", \"Topic3\", \"Topic3\", \"Topic3\", \"Topic3\", \"Topic3\", \"Topic3\", \"Topic3\", \"Topic3\", \"Topic3\", \"Topic3\", \"Topic3\", \"Topic3\", \"Topic3\", \"Topic3\", \"Topic3\", \"Topic3\", \"Topic3\", \"Topic3\", \"Topic3\", \"Topic3\", \"Topic3\", \"Topic3\", \"Topic3\", \"Topic3\", \"Topic3\", \"Topic3\", \"Topic3\", \"Topic3\", \"Topic3\", \"Topic3\", \"Topic4\", \"Topic4\", \"Topic4\", \"Topic4\", \"Topic4\", \"Topic4\", \"Topic4\", \"Topic4\", \"Topic4\", \"Topic4\", \"Topic4\", \"Topic4\", \"Topic4\", \"Topic4\", \"Topic4\", \"Topic4\", \"Topic4\", \"Topic4\", \"Topic4\", \"Topic4\", \"Topic4\", \"Topic4\", \"Topic4\", \"Topic4\", \"Topic4\", \"Topic4\", \"Topic4\", \"Topic4\", \"Topic4\", \"Topic4\", \"Topic5\", \"Topic5\", \"Topic5\", \"Topic5\", \"Topic5\", \"Topic5\", \"Topic5\", \"Topic5\", \"Topic5\", \"Topic5\", \"Topic5\", \"Topic5\", \"Topic5\", \"Topic5\", \"Topic5\", \"Topic5\", \"Topic5\", \"Topic5\", \"Topic5\", \"Topic5\", \"Topic5\", \"Topic5\", \"Topic5\", \"Topic5\", \"Topic5\", \"Topic5\", \"Topic5\", \"Topic5\", \"Topic5\", \"Topic5\", \"Topic5\", \"Topic6\", \"Topic6\", \"Topic6\", \"Topic6\", \"Topic6\", \"Topic6\", \"Topic6\", \"Topic6\", \"Topic6\", \"Topic6\", \"Topic6\", \"Topic6\", \"Topic6\", \"Topic6\", \"Topic6\", \"Topic6\", \"Topic6\", \"Topic6\", \"Topic6\", \"Topic6\", \"Topic6\", \"Topic6\", \"Topic6\", \"Topic6\", \"Topic6\", \"Topic6\", \"Topic6\", \"Topic6\", \"Topic6\", \"Topic6\", \"Topic7\", \"Topic7\", \"Topic7\", \"Topic7\", \"Topic7\", \"Topic7\", \"Topic7\", \"Topic7\", \"Topic7\", \"Topic7\", \"Topic7\", \"Topic7\", \"Topic7\", \"Topic7\", \"Topic7\", \"Topic7\", \"Topic7\", \"Topic7\", \"Topic7\", \"Topic7\", \"Topic7\", \"Topic7\", \"Topic7\", \"Topic7\", \"Topic7\", \"Topic7\", \"Topic7\", \"Topic7\", \"Topic7\", \"Topic7\", \"Topic8\", \"Topic8\", \"Topic8\", \"Topic8\", \"Topic8\", \"Topic8\", \"Topic8\", \"Topic8\", \"Topic8\", \"Topic8\", \"Topic8\", \"Topic8\", \"Topic8\", \"Topic8\", \"Topic8\", \"Topic8\", \"Topic8\", \"Topic8\", \"Topic8\", \"Topic8\", \"Topic8\", \"Topic8\", \"Topic8\", \"Topic8\", \"Topic8\", \"Topic8\", \"Topic8\", \"Topic8\", \"Topic8\", \"Topic8\", \"Topic8\", \"Topic9\", \"Topic9\", \"Topic9\", \"Topic9\", \"Topic9\", \"Topic9\", \"Topic9\", \"Topic9\", \"Topic9\", \"Topic9\", \"Topic9\", \"Topic9\", \"Topic9\", \"Topic9\", \"Topic9\", \"Topic9\", \"Topic9\", \"Topic9\", \"Topic9\", \"Topic9\", \"Topic9\", \"Topic9\", \"Topic9\", \"Topic9\", \"Topic9\", \"Topic9\", \"Topic9\", \"Topic9\", \"Topic9\", \"Topic9\", \"Topic9\", \"Topic9\", \"Topic10\", \"Topic10\", \"Topic10\", \"Topic10\", \"Topic10\", \"Topic10\", \"Topic10\", \"Topic10\", \"Topic10\", \"Topic10\", \"Topic10\", \"Topic10\", \"Topic10\", \"Topic10\", \"Topic10\", \"Topic10\", \"Topic10\", \"Topic10\", \"Topic10\", \"Topic10\", \"Topic10\", \"Topic10\", \"Topic10\", \"Topic10\", \"Topic10\", \"Topic10\", \"Topic10\", \"Topic10\", \"Topic10\", \"Topic10\"], \"logprob\": [30.0, 29.0, 28.0, 27.0, 26.0, 25.0, 24.0, 23.0, 22.0, 21.0, 20.0, 19.0, 18.0, 17.0, 16.0, 15.0, 14.0, 13.0, 12.0, 11.0, 10.0, 9.0, 8.0, 7.0, 6.0, 5.0, 4.0, 3.0, 2.0, 1.0, -2.9238, -3.0885, -3.2957, -3.499, -3.6648, -3.6718, -3.8771, -3.947, -3.952, -4.0303, -4.0317, -4.1602, -4.2151, -4.2558, -4.2603, -4.2843, -4.3699, -4.3702, -4.3831, -4.4244, -4.4456, -4.4851, -4.4852, -4.4916, -4.4929, -4.5212, -4.5362, -4.5508, -4.559, -4.5693, -2.6935, -2.8259, -3.4696, -3.4803, -3.5838, -3.6131, -3.7931, -3.8857, -3.9, -3.9203, -4.0107, -4.0323, -4.1358, -4.1435, -4.2119, -4.2289, -4.233, -4.2593, -4.2613, -4.3013, -4.3466, -4.3518, -4.3531, -4.4013, -4.4031, -4.4211, -4.4679, -4.4857, -4.4878, -4.5013, -3.0671, -3.2187, -3.4313, -3.4409, -3.5416, -3.5588, -3.5602, -3.9987, -4.0401, -4.0758, -4.0984, -4.1229, -4.148, -4.1558, -4.172, -4.1788, -4.1831, -4.1985, -4.2347, -4.2619, -4.2645, -4.2826, -4.305, -4.3058, -4.3246, -4.3484, -4.3487, -4.3553, -4.4506, -4.4656, -4.3767, -2.9049, -3.0947, -3.1177, -3.2504, -3.4586, -3.4587, -3.4816, -3.5416, -3.6994, -3.7289, -3.8683, -3.9439, -3.963, -4.0003, -4.0137, -4.1864, -4.1983, -4.2464, -4.3495, -4.374, -4.3874, -4.4067, -4.4309, -4.4429, -4.4548, -4.4576, -4.4599, -4.4908, -4.5283, -4.5332, -2.9882, -3.3522, -3.3531, -3.447, -3.4797, -3.612, -3.7136, -3.7297, -3.8681, -3.8839, -3.8878, -3.9094, -3.9382, -3.9462, -3.9715, -4.0285, -4.0801, -4.0892, -4.1045, -4.2567, -4.2902, -4.3157, -4.4976, -4.5374, -4.5533, -4.5603, -4.5667, -4.568, -4.5755, -4.5818, -4.3603, -3.3813, -3.3833, -3.3931, -3.4021, -3.4087, -3.5112, -3.6335, -3.6531, -3.74, -3.7999, -3.8169, -3.9099, -3.934, -3.9893, -4.0282, -4.0298, -4.0372, -4.1157, -4.1479, -4.1891, -4.3302, -4.3616, -4.3965, -4.4111, -4.4192, -4.4332, -4.467, -4.4686, -4.478, -4.4807, -2.2971, -2.6734, -3.6645, -3.682, -3.7106, -3.745, -3.7848, -3.954, -4.0194, -4.0305, -4.0599, -4.1161, -4.1291, -4.1482, -4.1526, -4.2382, -4.2623, -4.2939, -4.2953, -4.3106, -4.3214, -4.3275, -4.3375, -4.3441, -4.3606, -4.4388, -4.4625, -4.4917, -4.4949, -4.5044, -2.9565, -3.0985, -3.6163, -3.6336, -3.6473, -3.7109, -3.8532, -3.8789, -3.9564, -3.9607, -3.9869, -3.9937, -3.995, -4.0805, -4.1828, -4.2046, -4.2195, -4.2229, -4.2353, -4.256, -4.2576, -4.3365, -4.3852, -4.4017, -4.4205, -4.4337, -4.495, -4.4971, -4.5168, -4.545, -4.2597, -3.1226, -3.3814, -3.5331, -3.5579, -3.6873, -3.8345, -4.0158, -4.0411, -4.1288, -4.1863, -4.2527, -4.3015, -4.3161, -4.3713, -4.3932, -4.4112, -4.4157, -4.6281, -4.6722, -4.6871, -4.6998, -4.7005, -4.7021, -4.7101, -4.7145, -4.7153, -4.7408, -4.7667, -4.787, -4.8147, -1.6327, -2.5322, -3.2454, -3.2786, -3.3769, -3.518, -3.5368, -3.5428, -3.5754, -3.677, -3.7002, -3.8324, -3.8371, -3.849, -3.8508, -3.9077, -3.9315, -3.9841, -4.0115, -4.0162, -4.0293, -4.0313, -4.0919, -4.1118, -4.1234, -4.1498, -4.1637, -4.2675, -4.2707, -4.28, -4.313, -4.3196], \"loglift\": [30.0, 29.0, 28.0, 27.0, 26.0, 25.0, 24.0, 23.0, 22.0, 21.0, 20.0, 19.0, 18.0, 17.0, 16.0, 15.0, 14.0, 13.0, 12.0, 11.0, 10.0, 9.0, 8.0, 7.0, 6.0, 5.0, 4.0, 3.0, 2.0, 1.0, 2.2089, 2.2089, 2.2089, 2.2089, 2.2089, 2.2089, 2.2088, 2.2088, 2.2088, 2.2088, 2.2088, 2.2087, 2.2087, 2.2087, 2.2087, 2.2087, 2.2087, 2.2087, 2.2087, 2.2087, 2.2087, 2.2086, 2.2086, 2.2086, 2.2086, 2.2086, 2.2086, 2.2086, 2.2086, 2.2086, 2.2124, 2.2123, 2.2123, 2.2123, 2.2123, 2.2123, 2.2122, 2.2122, 2.2122, 2.2122, 2.2122, 2.2122, 2.2122, 2.2122, 2.2121, 2.2121, 2.2121, 2.2121, 2.2121, 2.2121, 2.2121, 2.2121, 2.2121, 2.2121, 2.2121, 2.2121, 2.2121, 2.212, 2.212, 2.212, 2.2478, 2.2478, 2.2477, 2.2477, 2.2477, 2.2477, 2.2477, 2.2476, 2.2476, 2.2476, 2.2476, 2.2476, 2.2476, 2.2476, 2.2476, 2.2476, 2.2476, 2.2476, 2.2476, 2.2476, 2.2476, 2.2476, 2.2476, 2.2476, 2.2476, 2.2475, 2.2475, 2.2475, 2.2475, 2.2475, 1.8304, 2.2937, 2.2937, 2.2937, 2.2937, 2.2937, 2.2937, 2.2937, 2.2937, 2.2936, 2.2936, 2.2936, 2.2936, 2.2936, 2.2936, 2.2936, 2.2935, 2.2935, 2.2935, 2.2935, 2.2935, 2.2935, 2.2934, 2.2934, 2.2934, 2.2934, 2.2934, 2.2934, 2.2934, 2.2934, 2.2934, 2.3166, 2.3165, 2.3165, 2.3165, 2.3165, 2.3165, 2.3165, 2.3165, 2.3165, 2.3165, 2.3165, 2.3164, 2.3164, 2.3164, 2.3164, 2.3164, 2.3164, 2.3164, 2.3164, 2.3164, 2.3163, 2.3163, 2.3163, 2.3162, 2.3162, 2.3162, 2.3162, 2.3162, 2.3162, 2.3162, 1.8938, 2.3271, 2.3271, 2.3271, 2.3271, 2.3271, 2.3271, 2.3271, 2.3271, 2.327, 2.327, 2.327, 2.327, 2.327, 2.327, 2.327, 2.327, 2.327, 2.3269, 2.3269, 2.3269, 2.3269, 2.3269, 2.3269, 2.3269, 2.3268, 2.3268, 2.3268, 2.3268, 2.3268, 2.3268, 2.3312, 2.3312, 2.3311, 2.3311, 2.3311, 2.3311, 2.3311, 2.331, 2.331, 2.331, 2.331, 2.331, 2.331, 2.331, 2.331, 2.331, 2.331, 2.3309, 2.3309, 2.3309, 2.3309, 2.3309, 2.3309, 2.3309, 2.3309, 2.3309, 2.3309, 2.3309, 2.3309, 2.3309, 2.3615, 2.3615, 2.3614, 2.3614, 2.3614, 2.3614, 2.3613, 2.3613, 2.3613, 2.3613, 2.3613, 2.3613, 2.3613, 2.3613, 2.3613, 2.3612, 2.3612, 2.3612, 2.3612, 2.3612, 2.3612, 2.3612, 2.3612, 2.3612, 2.3612, 2.3612, 2.3611, 2.3611, 2.3611, 2.3611, 2.1427, 2.3715, 2.3715, 2.3714, 2.3714, 2.3714, 2.3714, 2.3713, 2.3713, 2.3713, 2.3713, 2.3713, 2.3713, 2.3712, 2.3712, 2.3712, 2.3712, 2.3712, 2.3711, 2.3711, 2.3711, 2.3711, 2.3711, 2.3711, 2.3711, 2.3711, 2.3711, 2.371, 2.371, 2.371, 2.371, 2.368, 2.3694, 2.3717, 2.3717, 2.3717, 2.3716, 2.3716, 2.3716, 2.3716, 2.3716, 2.3716, 2.3716, 2.3716, 2.3716, 2.3716, 2.3716, 2.3716, 2.3715, 2.3715, 2.3715, 2.3715, 2.3715, 2.3715, 2.3715, 2.3715, 2.3715, 2.3715, 2.3715, 2.3715, 2.3714, 2.3714, 2.3714]}, \"token.table\": {\"Topic\": [4, 4, 10, 3, 10, 3, 9, 7, 9, 10, 7, 4, 7, 7, 2, 3, 8, 2, 2, 7, 1, 2, 3, 4, 5, 4, 8, 1, 3, 3, 4, 3, 5, 2, 9, 4, 2, 3, 4, 5, 2, 6, 1, 4, 1, 7, 9, 9, 2, 7, 6, 4, 5, 9, 6, 5, 7, 9, 10, 5, 1, 6, 9, 4, 4, 8, 3, 4, 6, 9, 1, 7, 7, 10, 7, 1, 5, 9, 10, 8, 4, 5, 7, 8, 8, 10, 4, 9, 1, 8, 4, 6, 6, 3, 3, 4, 3, 4, 9, 9, 2, 8, 10, 9, 8, 5, 7, 5, 2, 5, 5, 8, 3, 1, 6, 2, 5, 8, 10, 8, 1, 7, 6, 5, 8, 4, 5, 6, 5, 1, 10, 6, 5, 2, 1, 7, 2, 1, 10, 7, 2, 9, 1, 2, 10, 9, 4, 7, 7, 7, 1, 1, 4, 2, 9, 9, 6, 3, 3, 8, 10, 1, 1, 3, 7, 2, 4, 4, 8, 9, 8, 9, 3, 3, 2, 8, 3, 1, 10, 7, 9, 10, 6, 1, 1, 5, 8, 4, 5, 10, 4, 3, 5, 6, 9, 2, 6, 9, 8, 10, 3, 5, 7, 8, 10, 6, 5, 2, 7, 9, 2, 3, 5, 2, 8, 1, 6, 6, 1, 6, 2, 9, 5, 4, 8, 10, 10, 2, 6, 10, 9, 10, 8, 8, 5, 3, 5, 2, 1, 10, 6, 8, 3, 9, 6, 3, 10, 8, 4, 3, 7, 2, 9, 7, 9, 7, 10, 4, 1, 4, 6, 7, 6, 8, 1, 5, 6, 3, 1, 2, 10, 6, 3, 2, 10, 10, 8, 10, 9, 2, 5, 6, 5, 4, 2, 9, 1, 8, 5, 10, 6, 8, 9, 8, 7, 8, 3, 7, 2, 6, 6, 1, 1, 5, 6, 6, 7, 3, 3, 1, 4, 2, 10], \"Freq\": [0.9998673623814489, 0.9998017839204068, 0.9998080190151398, 0.9999172321341664, 0.9996948934116268, 0.9998307147246945, 0.9996353882392459, 0.9996792127203478, 0.9991394346509438, 0.9999292616355827, 0.9998027250366611, 0.999931582647114, 0.9999602656573316, 0.9999694857578184, 0.9996803490564289, 0.9997414805131608, 0.9997206378417208, 0.9995035019263762, 0.9995794794633808, 0.9997200243574006, 0.9997023410143795, 0.9996792393474704, 0.9998065388699897, 0.9998479865021059, 0.9998100990971556, 0.9998072570379184, 0.9994950818387508, 0.9997550280508082, 0.9996646926792161, 0.9998196803992265, 0.9997613279945653, 0.9997325033204825, 0.9996499313907528, 0.9998246997225834, 0.9997029831355247, 0.999671116755044, 0.34114488279289124, 0.6586618320693877, 0.9999403653417808, 0.9994011390277913, 0.9998438738093819, 0.9993579768104396, 0.9998936918053234, 0.9999537972843973, 0.9997244165979835, 0.9996351424430023, 0.9997953200522224, 0.9997964136373612, 0.9996299829085822, 0.9996374687883701, 0.9996528312882861, 0.9997626185380132, 0.9998885846334892, 0.999555992561987, 0.9999086788085789, 0.9998013773589723, 0.9997899573379554, 0.9994363493774964, 0.9998423074855833, 0.9996913368267691, 0.0019291542311505735, 0.0016368581355216986, 0.9964373899988341, 0.99944973225851, 0.19623930973270085, 0.803354674218244, 0.9996294255824896, 0.9998780303063679, 0.0021587001580994406, 0.9978231697454982, 0.9998671256356733, 0.9996080674324852, 0.9997061671912703, 0.9998894635369572, 0.9997993327054449, 0.9996932584099941, 0.9997055158240051, 0.9997462766683362, 0.9996271950339642, 0.9996923151834692, 0.9997866873647088, 0.999394691989313, 0.9998200684145254, 0.9995061074883625, 0.9998801291660627, 0.9997332824639772, 0.9997175344131056, 0.9995478051981924, 0.9996078405016499, 0.9998572266031744, 0.9997820401373126, 0.9998175900767483, 0.9995402793026679, 0.9999214407798798, 0.999489434593047, 0.9995324582564236, 0.9997118459180676, 0.9998211477465719, 0.999078651566654, 0.999771829292805, 0.9998397094038446, 0.9997589211819711, 0.9998788789604172, 0.9995014907368299, 0.9997660408938418, 0.9997795037637955, 0.9995105371705255, 0.9998060546311734, 0.9997653650897419, 0.9994268033487863, 0.9998068832526338, 0.9998495910661523, 0.999866222082045, 0.999797859892646, 0.9996718458741807, 0.011130819918330074, 0.6550487521937248, 0.1722494382361579, 0.16139688881578607, 0.9997890193991381, 0.9997382346298093, 0.9995663216488572, 0.9998788675668626, 0.9998979497245861, 0.9994587919835882, 0.9995635879680947, 0.9994124375398704, 0.9997237686175511, 0.9997964630954596, 0.9994949304251379, 0.9999209075005802, 0.9996678185279088, 0.9999125997064274, 0.9998078150182134, 0.9994717212216401, 0.9996628710563472, 0.9998964302535062, 0.9997510423338335, 0.9998548916825525, 0.9998008174303129, 0.9998477796138677, 0.9997147134168255, 0.9997727112031934, 0.9997238628956365, 0.9997655148151615, 0.9992027078149303, 0.9998094175808191, 0.9996422683876414, 0.9999150117024237, 0.9997615906750452, 0.9995045682566478, 0.9996943791165236, 0.9995775510641887, 0.9996825488329717, 0.9995317124104588, 0.999406854578167, 0.9996115387022055, 0.9998340729603105, 0.999807242886312, 0.9997002298084343, 0.9994605615351042, 0.9994271790317337, 0.9998187836024519, 0.9997558307954508, 0.9998680163235311, 0.9998028237834131, 0.9993889751906818, 0.999835752702454, 0.9999408222226223, 0.9991973266825753, 0.9997538133407896, 0.999659212436811, 0.9999228170593334, 0.9998539715132615, 0.9998501987451761, 0.999782981123684, 0.9998099980258011, 0.9999482603092066, 0.9995551600991531, 0.9996874605835412, 0.9993684869504348, 0.9999257412058252, 0.9998677126184221, 0.9996606841906, 0.9997093354631902, 0.9995286428883959, 0.9998152332558775, 0.9998650488631837, 0.9997480240171233, 0.9997730274481584, 0.9997666060733575, 0.9999448029073847, 0.999849472239006, 0.999747627179471, 0.999206985853909, 0.999664505808371, 0.9999023363794135, 0.9991682859243858, 0.9997410914134818, 0.9996401451503617, 0.999535276632979, 0.9998475832799975, 0.999917463346627, 0.9998697413096346, 0.9997801143069732, 0.9996214824907536, 0.9997256654646199, 0.9999426837804585, 0.9997848029074168, 0.999501101639787, 0.9996564760225863, 0.9997722685396105, 0.9996251156383672, 0.9997584113771139, 0.999769410914807, 0.9996619185041077, 0.9997696823401755, 0.9996234420599364, 0.9999010981110094, 0.9997037511491303, 0.9996058247637131, 0.999500591416711, 0.9998395566863952, 0.9997140751150749, 0.999737793559237, 0.9998077243472655, 0.9996912280602944, 0.9997998138855934, 0.9998657363079116, 0.9995573774081719, 0.9998717497015661, 0.9998370738199853, 0.9997622176813895, 0.9998622733454924, 0.9997776954114842, 0.999540527451057, 0.9998271969886431, 0.9998932257875709, 0.9997028754828423, 0.9998699050845048, 0.9994969797461377, 0.9997964374587904, 0.9998339488619836, 0.9996331832816117, 0.9996449736520654, 0.9996946180981301, 0.9996215932347307, 0.9993333273242678, 0.9997526544906172, 0.9998225931051897, 0.9995181080526263, 0.9994920867770634, 0.9996366562508018, 0.9998180630503423, 0.9999095808046748, 0.9997188712903103, 0.9996609468021184, 0.9997222897166044, 0.9994216569192699, 0.9998206787683793, 0.9998404473807866, 0.9995622845830529, 0.9998854250028527, 0.9996086609647351, 0.9995873362435261, 0.9997448725629652, 0.9995981673441494, 0.9997449155557937, 0.9999142314880674, 0.9997723963512906, 0.9998092803662453, 0.9997593125087254, 0.9997289630490884, 0.9997896423733511, 0.9996573826317718, 0.9998418654143854, 0.9997034395688642, 0.9996406369578069, 0.9995418909887361, 0.9996244776530666, 0.9997158841669844, 0.999661605173807, 0.999560225877661, 0.9998400062885009, 0.9999248241705498, 0.9993772179745447, 0.9996135594020196, 0.9997784757722129, 0.999726851013609, 0.9997570094056768, 0.9995923617943744, 0.9993673779001412, 0.9998511463933177, 0.9997087942152412, 0.9997380884052083, 0.9995172049363128, 0.9996730084568801, 0.9998362349791713, 0.9996063329494081, 0.99983034548929, 0.9997578971883977, 0.9998221249652963, 0.9994761640787422, 0.9996575402712016, 0.999915692055143, 0.9998915356903053, 0.9997638840558036, 0.9995841446378289, 0.9998488793924908, 0.9998085966174908, 0.9998534947090096, 0.9997714208639978, 0.9997756246520023], \"Term\": [\"aboriginal\", \"abuse\", \"accuse\", \"adelaide\", \"ahead\", \"allege\", \"amid\", \"announce\", \"appeal\", \"arrest\", \"assault\", \"attack\", \"australia\", \"australian\", \"australians\", \"australias\", \"award\", \"baby\", \"bank\", \"battle\", \"beach\", \"beat\", \"black\", \"body\", \"border\", \"break\", \"bring\", \"brisbane\", \"budget\", \"build\", \"bushfire\", \"bushfires\", \"business\", \"campaign\", \"canberra\", \"cancer\", \"care\", \"care\", \"case\", \"catch\", \"centre\", \"challenge\", \"change\", \"charge\", \"child\", \"children\", \"china\", \"chinese\", \"christmas\", \"city\", \"claim\", \"climate\", \"close\", \"club\", \"coast\", \"commission\", \"community\", \"company\", \"concern\", \"continue\", \"coronavirus\", \"coronavirus\", \"coronavirus\", \"cost\", \"council\", \"council\", \"country\", \"court\", \"covid\", \"covid\", \"crash\", \"cricket\", \"crisis\", \"darwin\", \"david\", \"dead\", \"deal\", \"death\", \"deaths\", \"debate\", \"delay\", \"despite\", \"doctor\", \"domestic\", \"donald\", \"drive\", \"drop\", \"drought\", \"drug\", \"drum\", \"ease\", \"east\", \"economy\", \"election\", \"emergency\", \"energy\", \"extend\", \"face\", \"facebook\", \"fall\", \"family\", \"farm\", \"farmers\", \"fear\", \"federal\", \"fight\", \"film\", \"final\", \"finance\", \"fish\", \"flood\", \"food\", \"force\", \"free\", \"friday\", \"fund\", \"fund\", \"fund\", \"fund\", \"future\", \"game\", \"george\", \"gold\", \"government\", \"grand\", \"green\", \"group\", \"grow\", \"guilty\", \"head\", \"health\", \"hear\", \"help\", \"high\", \"history\", \"hold\", \"home\", \"hong\", \"hospital\", \"hotel\", \"house\", \"increase\", \"india\", \"indigenous\", \"industry\", \"inquest\", \"inquiry\", \"international\", \"interview\", \"investigate\", \"investigation\", \"island\", \"issue\", \"jail\", \"john\", \"johnson\", \"join\", \"kill\", \"labor\", \"land\", \"latest\", \"launch\", \"lead\", \"league\", \"leave\", \"life\", \"light\", \"like\", \"live\", \"long\", \"look\", \"lose\", \"make\", \"mark\", \"market\", \"media\", \"meet\", \"melbourne\", \"mental\", \"michael\", \"million\", \"minister\", \"miss\", \"monday\", \"morrison\", \"mother\", \"mount\", \"murder\", \"national\", \"near\", \"need\", \"news\", \"north\", \"northern\", \"number\", \"officer\", \"open\", \"outback\", \"park\", \"parliament\", \"party\", \"people\", \"perth\", \"peter\", \"plan\", \"play\", \"plead\", \"police\", \"port\", \"post\", \"power\", \"premier\", \"president\", \"price\", \"program\", \"protest\", \"protesters\", \"public\", \"queensland\", \"question\", \"race\", \"rain\", \"record\", \"regional\", \"release\", \"report\", \"rescue\", \"residents\", \"restrictions\", \"result\", \"return\", \"reveal\", \"review\", \"rise\", \"risk\", \"river\", \"road\", \"royal\", \"rule\", \"rural\", \"russia\", \"save\", \"school\", \"scott\", \"search\", \"season\", \"second\", \"send\", \"sentence\", \"service\", \"sexual\", \"share\", \"shoot\", \"social\", \"south\", \"speak\", \"sport\", \"stab\", \"star\", \"start\", \"state\", \"steal\", \"storm\", \"street\", \"students\", \"study\", \"super\", \"support\", \"sydney\", \"talk\", \"tasmania\", \"tasmanian\", \"tell\", \"test\", \"thursday\", \"time\", \"tourism\", \"town\", \"track\", \"trade\", \"train\", \"travel\", \"tree\", \"trial\", \"trump\", \"tuesday\", \"turn\", \"turnbull\", \"university\", \"update\", \"urge\", \"victims\", \"victoria\", \"victorian\", \"video\", \"violence\", \"vote\", \"wall\", \"want\", \"warn\", \"water\", \"weather\", \"wednesday\", \"west\", \"woman\", \"women\", \"work\", \"workers\", \"world\", \"year\", \"years\", \"young\", \"zealand\"]}, \"R\": 30, \"lambda.step\": 0.01, \"plot.opts\": {\"xlab\": \"PC1\", \"ylab\": \"PC2\"}, \"topic.order\": [1, 6, 10, 9, 7, 5, 2, 3, 8, 4]};\n",
       "\n",
       "function LDAvis_load_lib(url, callback){\n",
       "  var s = document.createElement('script');\n",
       "  s.src = url;\n",
       "  s.async = true;\n",
       "  s.onreadystatechange = s.onload = callback;\n",
       "  s.onerror = function(){console.warn(\"failed to load library \" + url);};\n",
       "  document.getElementsByTagName(\"head\")[0].appendChild(s);\n",
       "}\n",
       "\n",
       "if(typeof(LDAvis) !== \"undefined\"){\n",
       "   // already loaded: just create the visualization\n",
       "   !function(LDAvis){\n",
       "       new LDAvis(\"#\" + \"ldavis_el2215620515635870561891674025\", ldavis_el2215620515635870561891674025_data);\n",
       "   }(LDAvis);\n",
       "}else if(typeof define === \"function\" && define.amd){\n",
       "   // require.js is available: use it to load d3/LDAvis\n",
       "   require.config({paths: {d3: \"https://d3js.org/d3.v5\"}});\n",
       "   require([\"d3\"], function(d3){\n",
       "      window.d3 = d3;\n",
       "      LDAvis_load_lib(\"https://cdn.jsdelivr.net/gh/bmabey/pyLDAvis@3.3.1/pyLDAvis/js/ldavis.v3.0.0.js\", function(){\n",
       "        new LDAvis(\"#\" + \"ldavis_el2215620515635870561891674025\", ldavis_el2215620515635870561891674025_data);\n",
       "      });\n",
       "    });\n",
       "}else{\n",
       "    // require.js not available: dynamically load d3 & LDAvis\n",
       "    LDAvis_load_lib(\"https://d3js.org/d3.v5.js\", function(){\n",
       "         LDAvis_load_lib(\"https://cdn.jsdelivr.net/gh/bmabey/pyLDAvis@3.3.1/pyLDAvis/js/ldavis.v3.0.0.js\", function(){\n",
       "                 new LDAvis(\"#\" + \"ldavis_el2215620515635870561891674025\", ldavis_el2215620515635870561891674025_data);\n",
       "            })\n",
       "         });\n",
       "}\n",
       "</script>"
      ],
      "text/plain": [
       "<IPython.core.display.HTML object>"
      ]
     },
     "execution_count": 23,
     "metadata": {},
     "output_type": "execute_result"
    }
   ],
   "source": [
    "import pyLDAvis.sklearn\n",
    "pyLDAvis.enable_notebook()\n",
    "vis=pyLDAvis.sklearn.prepare(lda_model,X,vectorizer)\n",
    "pyLDAvis.display(vis)"
   ]
  },
  {
   "cell_type": "code",
   "execution_count": 24,
   "metadata": {},
   "outputs": [
    {
     "name": "stdout",
     "output_type": "stream",
     "text": [
      "Collecting tensorflow\n",
      "  Downloading tensorflow-2.9.1-cp310-cp310-win_amd64.whl (444.1 MB)\n",
      "     -------------------------------------- 444.1/444.1 MB 1.7 MB/s eta 0:00:00\n",
      "Collecting protobuf<3.20,>=3.9.2\n",
      "  Downloading protobuf-3.19.4-cp310-cp310-win_amd64.whl (895 kB)\n",
      "     -------------------------------------- 895.5/895.5 KB 5.7 MB/s eta 0:00:00\n",
      "Requirement already satisfied: numpy>=1.20 in c:\\users\\djagk\\appdata\\local\\programs\\python\\python310\\lib\\site-packages (from tensorflow) (1.22.3)\n",
      "Collecting keras<2.10.0,>=2.9.0rc0\n",
      "  Downloading keras-2.9.0-py2.py3-none-any.whl (1.6 MB)\n",
      "     ---------------------------------------- 1.6/1.6 MB 5.5 MB/s eta 0:00:00\n",
      "Collecting astunparse>=1.6.0\n",
      "  Downloading astunparse-1.6.3-py2.py3-none-any.whl (12 kB)\n",
      "Collecting google-pasta>=0.1.1\n",
      "  Downloading google_pasta-0.2.0-py3-none-any.whl (57 kB)\n",
      "     ---------------------------------------- 57.5/57.5 KB 3.1 MB/s eta 0:00:00\n",
      "Collecting tensorboard<2.10,>=2.9\n",
      "  Downloading tensorboard-2.9.0-py3-none-any.whl (5.8 MB)\n",
      "     ---------------------------------------- 5.8/5.8 MB 6.9 MB/s eta 0:00:00\n",
      "Requirement already satisfied: packaging in c:\\users\\djagk\\appdata\\local\\programs\\python\\python310\\lib\\site-packages (from tensorflow) (21.3)\n",
      "Requirement already satisfied: setuptools in c:\\users\\djagk\\appdata\\local\\programs\\python\\python310\\lib\\site-packages (from tensorflow) (61.3.1)\n",
      "Collecting tensorflow-io-gcs-filesystem>=0.23.1\n",
      "  Downloading tensorflow_io_gcs_filesystem-0.26.0-cp310-cp310-win_amd64.whl (1.5 MB)\n",
      "     ---------------------------------------- 1.5/1.5 MB 6.2 MB/s eta 0:00:00\n",
      "Collecting tensorflow-estimator<2.10.0,>=2.9.0rc0\n",
      "  Downloading tensorflow_estimator-2.9.0-py2.py3-none-any.whl (438 kB)\n",
      "     -------------------------------------- 438.7/438.7 KB 5.5 MB/s eta 0:00:00\n",
      "Collecting flatbuffers<2,>=1.12\n",
      "  Downloading flatbuffers-1.12-py2.py3-none-any.whl (15 kB)\n",
      "Collecting absl-py>=1.0.0\n",
      "  Downloading absl_py-1.1.0-py3-none-any.whl (123 kB)\n",
      "     -------------------------------------- 123.7/123.7 KB 7.1 MB/s eta 0:00:00\n",
      "Collecting gast<=0.4.0,>=0.2.1\n",
      "  Downloading gast-0.4.0-py3-none-any.whl (9.8 kB)\n",
      "Collecting wrapt>=1.11.0\n",
      "  Downloading wrapt-1.14.1-cp310-cp310-win_amd64.whl (35 kB)\n",
      "Collecting keras-preprocessing>=1.1.1\n",
      "  Downloading Keras_Preprocessing-1.1.2-py2.py3-none-any.whl (42 kB)\n",
      "     ---------------------------------------- 42.6/42.6 KB 2.0 MB/s eta 0:00:00\n",
      "Collecting typing-extensions>=3.6.6\n",
      "  Downloading typing_extensions-4.2.0-py3-none-any.whl (24 kB)\n",
      "Requirement already satisfied: six>=1.12.0 in c:\\users\\djagk\\appdata\\local\\programs\\python\\python310\\lib\\site-packages (from tensorflow) (1.16.0)\n",
      "Collecting h5py>=2.9.0\n",
      "  Downloading h5py-3.7.0-cp310-cp310-win_amd64.whl (2.6 MB)\n",
      "     ---------------------------------------- 2.6/2.6 MB 6.4 MB/s eta 0:00:00\n",
      "Collecting opt-einsum>=2.3.2\n",
      "  Downloading opt_einsum-3.3.0-py3-none-any.whl (65 kB)\n",
      "     ---------------------------------------- 65.5/65.5 KB 3.5 MB/s eta 0:00:00\n",
      "Collecting grpcio<2.0,>=1.24.3\n",
      "  Downloading grpcio-1.46.3-cp310-cp310-win_amd64.whl (3.5 MB)\n",
      "     ---------------------------------------- 3.5/3.5 MB 7.2 MB/s eta 0:00:00\n",
      "Collecting libclang>=13.0.0\n",
      "  Downloading libclang-14.0.1-py2.py3-none-win_amd64.whl (14.2 MB)\n",
      "     ---------------------------------------- 14.2/14.2 MB 6.3 MB/s eta 0:00:00\n",
      "Collecting termcolor>=1.1.0\n",
      "  Downloading termcolor-1.1.0.tar.gz (3.9 kB)\n",
      "  Preparing metadata (setup.py): started\n",
      "  Preparing metadata (setup.py): finished with status 'done'\n",
      "Collecting wheel<1.0,>=0.23.0\n",
      "  Using cached wheel-0.37.1-py2.py3-none-any.whl (35 kB)\n",
      "Collecting google-auth-oauthlib<0.5,>=0.4.1\n",
      "  Downloading google_auth_oauthlib-0.4.6-py2.py3-none-any.whl (18 kB)\n",
      "Requirement already satisfied: requests<3,>=2.21.0 in c:\\users\\djagk\\appdata\\local\\programs\\python\\python310\\lib\\site-packages (from tensorboard<2.10,>=2.9->tensorflow) (2.27.1)\n",
      "Collecting werkzeug>=1.0.1\n",
      "  Downloading Werkzeug-2.1.2-py3-none-any.whl (224 kB)\n",
      "     -------------------------------------- 224.9/224.9 KB 6.9 MB/s eta 0:00:00\n",
      "Collecting markdown>=2.6.8\n",
      "  Downloading Markdown-3.3.7-py3-none-any.whl (97 kB)\n",
      "     ---------------------------------------- 97.8/97.8 KB 5.5 MB/s eta 0:00:00\n",
      "Collecting tensorboard-data-server<0.7.0,>=0.6.0\n",
      "  Downloading tensorboard_data_server-0.6.1-py3-none-any.whl (2.4 kB)\n",
      "Collecting tensorboard-plugin-wit>=1.6.0\n",
      "  Downloading tensorboard_plugin_wit-1.8.1-py3-none-any.whl (781 kB)\n",
      "     -------------------------------------- 781.3/781.3 KB 7.1 MB/s eta 0:00:00\n",
      "Collecting google-auth<3,>=1.6.3\n",
      "  Downloading google_auth-2.6.6-py2.py3-none-any.whl (156 kB)\n",
      "     -------------------------------------- 156.7/156.7 KB 9.2 MB/s eta 0:00:00\n",
      "Requirement already satisfied: pyparsing!=3.0.5,>=2.0.2 in c:\\users\\djagk\\appdata\\local\\programs\\python\\python310\\lib\\site-packages (from packaging->tensorflow) (3.0.7)\n",
      "Collecting cachetools<6.0,>=2.0.0\n",
      "  Downloading cachetools-5.2.0-py3-none-any.whl (9.3 kB)\n",
      "Collecting rsa<5,>=3.1.4\n",
      "  Downloading rsa-4.8-py3-none-any.whl (39 kB)\n",
      "Collecting pyasn1-modules>=0.2.1\n",
      "  Downloading pyasn1_modules-0.2.8-py2.py3-none-any.whl (155 kB)\n",
      "     -------------------------------------- 155.3/155.3 KB 4.5 MB/s eta 0:00:00\n",
      "Collecting requests-oauthlib>=0.7.0\n",
      "  Downloading requests_oauthlib-1.3.1-py2.py3-none-any.whl (23 kB)\n",
      "Requirement already satisfied: charset-normalizer~=2.0.0 in c:\\users\\djagk\\appdata\\local\\programs\\python\\python310\\lib\\site-packages (from requests<3,>=2.21.0->tensorboard<2.10,>=2.9->tensorflow) (2.0.12)\n",
      "Requirement already satisfied: urllib3<1.27,>=1.21.1 in c:\\users\\djagk\\appdata\\local\\programs\\python\\python310\\lib\\site-packages (from requests<3,>=2.21.0->tensorboard<2.10,>=2.9->tensorflow) (1.26.9)\n",
      "Requirement already satisfied: certifi>=2017.4.17 in c:\\users\\djagk\\appdata\\local\\programs\\python\\python310\\lib\\site-packages (from requests<3,>=2.21.0->tensorboard<2.10,>=2.9->tensorflow) (2021.10.8)\n",
      "Requirement already satisfied: idna<4,>=2.5 in c:\\users\\djagk\\appdata\\local\\programs\\python\\python310\\lib\\site-packages (from requests<3,>=2.21.0->tensorboard<2.10,>=2.9->tensorflow) (3.3)\n",
      "Collecting pyasn1<0.5.0,>=0.4.6\n",
      "  Downloading pyasn1-0.4.8-py2.py3-none-any.whl (77 kB)\n",
      "     ---------------------------------------- 77.1/77.1 KB 4.2 MB/s eta 0:00:00\n",
      "Collecting oauthlib>=3.0.0\n",
      "  Downloading oauthlib-3.2.0-py3-none-any.whl (151 kB)\n",
      "     -------------------------------------- 151.5/151.5 KB 4.6 MB/s eta 0:00:00\n",
      "Using legacy 'setup.py install' for termcolor, since package 'wheel' is not installed.\n",
      "Installing collected packages: termcolor, tensorboard-plugin-wit, pyasn1, libclang, keras, flatbuffers, wrapt, wheel, werkzeug, typing-extensions, tensorflow-io-gcs-filesystem, tensorflow-estimator, tensorboard-data-server, rsa, pyasn1-modules, protobuf, opt-einsum, oauthlib, markdown, keras-preprocessing, h5py, grpcio, google-pasta, gast, cachetools, absl-py, requests-oauthlib, google-auth, astunparse, google-auth-oauthlib, tensorboard, tensorflow\n",
      "  Running setup.py install for termcolor: started\n",
      "  Running setup.py install for termcolor: finished with status 'done'\n",
      "Successfully installed absl-py-1.1.0 astunparse-1.6.3 cachetools-5.2.0 flatbuffers-1.12 gast-0.4.0 google-auth-2.6.6 google-auth-oauthlib-0.4.6 google-pasta-0.2.0 grpcio-1.46.3 h5py-3.7.0 keras-2.9.0 keras-preprocessing-1.1.2 libclang-14.0.1 markdown-3.3.7 oauthlib-3.2.0 opt-einsum-3.3.0 protobuf-3.19.4 pyasn1-0.4.8 pyasn1-modules-0.2.8 requests-oauthlib-1.3.1 rsa-4.8 tensorboard-2.9.0 tensorboard-data-server-0.6.1 tensorboard-plugin-wit-1.8.1 tensorflow-2.9.1 tensorflow-estimator-2.9.0 tensorflow-io-gcs-filesystem-0.26.0 termcolor-1.1.0 typing-extensions-4.2.0 werkzeug-2.1.2 wheel-0.37.1 wrapt-1.14.1\n",
      "Note: you may need to restart the kernel to use updated packages.\n"
     ]
    },
    {
     "name": "stderr",
     "output_type": "stream",
     "text": [
      "WARNING: You are using pip version 22.0.4; however, version 22.1.2 is available.\n",
      "You should consider upgrading via the 'c:\\Users\\djagk\\AppData\\Local\\Programs\\Python\\Python310\\python.exe -m pip install --upgrade pip' command.\n"
     ]
    }
   ],
   "source": [
    "pip install tensorflow"
   ]
  },
  {
   "cell_type": "code",
   "execution_count": 43,
   "metadata": {},
   "outputs": [
    {
     "name": "stdout",
     "output_type": "stream",
     "text": [
      "6234\n"
     ]
    }
   ],
   "source": [
    "import tensorflow.compat.v1 as tf\n",
    "tf.disable_v2_behavior()\n",
    "sess=tf.Session()\n",
    "hello=tf.constant('Hello')\n",
    "sess.run(hello)\n",
    "\n",
    "## 상수 계산\n",
    "a=tf.constant(1234)\n",
    "b=tf.constant(5000)\n",
    "\n",
    "## 계산 정의\n",
    "add_op=a+b\n",
    "\n",
    "## 세션 시작하기\n",
    "sess=tf.Session()\n",
    "res=sess.run(add_op)\n",
    "print(res)"
   ]
  },
  {
   "cell_type": "code",
   "execution_count": 28,
   "metadata": {},
   "outputs": [
    {
     "data": {
      "text/plain": [
       "<tf.Tensor: shape=(), dtype=int32, numpy=623>"
      ]
     },
     "execution_count": 28,
     "metadata": {},
     "output_type": "execute_result"
    }
   ],
   "source": [
    "a=tf.constant(123)\n",
    "b=tf.constant(500)\n",
    "add_op=a+b\n",
    "add_op"
   ]
  },
  {
   "cell_type": "code",
   "execution_count": 45,
   "metadata": {},
   "outputs": [
    {
     "name": "stdout",
     "output_type": "stream",
     "text": [
      "14\n",
      "20\n"
     ]
    }
   ],
   "source": [
    "import tensorflow.compat.v1 as tf\n",
    "tf.disable_v2_behavior()\n",
    "\n",
    "#상수 정의하기\n",
    "a=tf.constant(2)\n",
    "b=tf.constant(3)\n",
    "c=tf.constant(4)\n",
    "\n",
    "# 연산 정의하기\n",
    "calc1_op=a+b*c\n",
    "calc2_op=(a+b)*c\n",
    "\n",
    "# 세션 시작\n",
    "sess=tf.Session()\n",
    "res1=sess.run(calc1_op)\n",
    "print(res1)\n",
    "res2=sess.run(calc2_op)\n",
    "print(res2)"
   ]
  },
  {
   "cell_type": "code",
   "execution_count": 48,
   "metadata": {},
   "outputs": [],
   "source": [
    "###\n",
    "#%matplotlib inline\n",
    "import matplotlib.pyplot as plt\n",
    "import numpy as np\n"
   ]
  },
  {
   "cell_type": "code",
   "execution_count": 49,
   "metadata": {},
   "outputs": [
    {
     "data": {
      "text/plain": [
       "[<matplotlib.lines.Line2D at 0x1dd85c742b0>]"
      ]
     },
     "execution_count": 49,
     "metadata": {},
     "output_type": "execute_result"
    },
    {
     "data": {
      "image/png": "[encoded data removed]",
      "text/plain": [
       "<Figure size 432x288 with 1 Axes>"
      ]
     },
     "metadata": {
      "needs_background": "light"
     },
     "output_type": "display_data"
    }
   ],
   "source": [
    "x=np.arange(-20,20,0.1)\n",
    "y=np.sin(x)\n",
    "plt.plot(x,y)"
   ]
  }
 ],
 "metadata": {
  "interpreter": {
   "hash": "fb27240f79425b05cfdc60ec8aab2b2dfc885c099bc04dcc326b3070e76ef9c9"
  },
  "kernelspec": {
   "display_name": "Python 3.10.4 64-bit",
   "language": "python",
   "name": "python3"
  },
  "language_info": {
   "codemirror_mode": {
    "name": "ipython",
    "version": 3
   },
   "file_extension": ".py",
   "mimetype": "text/x-python",
   "name": "python",
   "nbconvert_exporter": "python",
   "pygments_lexer": "ipython3",
   "version": "3.10.4"
  },
  "orig_nbformat": 4
 },
 "nbformat": 4,
 "nbformat_minor": 2
}
