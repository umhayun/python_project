{
 "cells": [
  {
   "cell_type": "code",
   "execution_count": 18,
   "metadata": {},
   "outputs": [
    {
     "name": "stdout",
     "output_type": "stream",
     "text": [
      "14\n",
      "20\n"
     ]
    }
   ],
   "source": [
    "import tensorflow.compat.v1 as tf\n",
    "tf.disable_v2_behavior()\n",
    "\n",
    "#상수 정의하기\n",
    "a=tf.constant(2)\n",
    "b=tf.constant(3)\n",
    "c=tf.constant(4)\n",
    "\n",
    "# 연산 정의하기\n",
    "calc1_op=a+b*c\n",
    "calc2_op=(a+b)*c\n",
    "\n",
    "# 세션 시작\n",
    "sess=tf.Session()\n",
    "res1=sess.run(calc1_op)\n",
    "print(res1)\n",
    "res2=sess.run(calc2_op)\n",
    "print(res2)"
   ]
  },
  {
   "cell_type": "code",
   "execution_count": 19,
   "metadata": {},
   "outputs": [
    {
     "data": {
      "text/plain": [
       "[<matplotlib.lines.Line2D at 0x1d4aaf4bbb0>]"
      ]
     },
     "execution_count": 19,
     "metadata": {},
     "output_type": "execute_result"
    },
    {
     "data": {
      "image/png": "[encoded data removed]",
      "text/plain": [
       "<Figure size 432x288 with 1 Axes>"
      ]
     },
     "metadata": {
      "needs_background": "light"
     },
     "output_type": "display_data"
    }
   ],
   "source": [
    "###\n",
    "#%matplotlib inline\n",
    "import matplotlib.pyplot as plt\n",
    "import numpy as np\n",
    "x=np.arange(-20,20,0.1)\n",
    "y=np.sin(x)\n",
    "plt.plot(x,y)"
   ]
  },
  {
   "cell_type": "code",
   "execution_count": 20,
   "metadata": {},
   "outputs": [
    {
     "name": "stdout",
     "output_type": "stream",
     "text": [
      "150\n"
     ]
    }
   ],
   "source": [
    "# a+b 연산\n",
    "a=tf.constant(100)\n",
    "b=tf.constant(50)\n",
    "add_op=a+b\n",
    "# 변수v 선언하기\n",
    "v=tf.Variable(0)\n",
    "# 변수 v에 add_op의 결과 대입하기\n",
    "let_op=tf.assign(v,add_op)\n",
    "\n",
    "# 세션 시작하기\n",
    "sess=tf.Session()\n",
    "# 변수 초기화\n",
    "sess.run(tf.global_variables_initializer())\n",
    "# let_op 실행하기\n",
    "sess.run(let_op)\n",
    "# 출력하기\n",
    "print(sess.run(v))"
   ]
  },
  {
   "cell_type": "code",
   "execution_count": 21,
   "metadata": {},
   "outputs": [
    {
     "name": "stdout",
     "output_type": "stream",
     "text": [
      "390\n"
     ]
    }
   ],
   "source": [
    "# 상수 정의\n",
    "a=tf.constant(120,name='a')\n",
    "b=tf.constant(130,name='b')\n",
    "c=tf.constant(140,name='c')\n",
    "# 변수 정의\n",
    "v=tf.Variable(0,name='v')\n",
    "# 데이터 플로우 그래프 정의\n",
    "calc_op=a+b+c\n",
    "assign_op=tf.assign(v,calc_op)\n",
    "# 세션 실행\n",
    "sess=tf.Session()\n",
    "sess.run(assign_op)\n",
    "# v의 내용 출력\n",
    "print(sess.run(v))"
   ]
  },
  {
   "cell_type": "code",
   "execution_count": 22,
   "metadata": {},
   "outputs": [
    {
     "name": "stdout",
     "output_type": "stream",
     "text": [
      "[2 4 6]\n",
      "[20 40 20]\n"
     ]
    }
   ],
   "source": [
    "## tensorflow 플레이스 홀더\n",
    "## 탬플릿처럼 값을 넣을 공간을 만들어두는 기능\n",
    "import tensorflow.compat.v1 as tf\n",
    "tf.disable_v2_behavior()\n",
    "\n",
    "#플레이스 홀더 정의\n",
    "a=tf.placeholder(tf.int32,[3])  # 정수 자료형 3개 가진 배열\n",
    "#[x,y,z]\n",
    "\n",
    "# 배열 모든 값을 2배 하는 연산 정의\n",
    "b=tf.constant(2)\n",
    "x2_op=a*b\n",
    "\n",
    "# 세션 시작\n",
    "sess=tf.Session()\n",
    "\n",
    "# 플레이스 홀더에 값을 넣고 실행하기\n",
    "r1=sess.run(x2_op,feed_dict={a:[1,2,3]})\n",
    "print(r1)\n",
    "r2=sess.run(x2_op,feed_dict={a:[10,20,10]})\n",
    "print(r2)\n"
   ]
  },
  {
   "cell_type": "code",
   "execution_count": 23,
   "metadata": {},
   "outputs": [
    {
     "name": "stdout",
     "output_type": "stream",
     "text": [
      "[10 20 30 40 50]\n",
      "[100 200]\n"
     ]
    }
   ],
   "source": [
    "# 플레이스 홀더 정의\n",
    "a=tf.placeholder(tf.int32,[None])\n",
    "\n",
    "#10배 연산 정의\n",
    "b=tf.constant(10)\n",
    "x10_op=a*b\n",
    "\n",
    "sess=tf.Session()\n",
    "\n",
    "r1=sess.run(x10_op,feed_dict={a:[1,2,3,4,5]})\n",
    "print(r1)\n",
    "r2=sess.run(x10_op,feed_dict={a:[10,20]})\n",
    "print(r2)"
   ]
  },
  {
   "cell_type": "code",
   "execution_count": 32,
   "metadata": {},
   "outputs": [
    {
     "name": "stdout",
     "output_type": "stream",
     "text": [
      "step= 0 cre= 109.09518 acc= 0.376\n",
      "step= 500 cre= 56.316204 acc= 0.8676\n",
      "step= 1000 cre= 44.195297 acc= 0.9256\n",
      "step= 1500 cre= 37.261543 acc= 0.9224\n",
      "step= 2000 cre= 38.844414 acc= 0.953\n",
      "step= 2500 cre= 27.800255 acc= 0.9452\n",
      "step= 3000 cre= 31.556978 acc= 0.963\n",
      "정답률= 0.9678\n"
     ]
    }
   ],
   "source": [
    "import pandas as pd\n",
    "import numpy as np\n",
    "import tensorflow.compat.v1 as tf\n",
    "tf.disable_v2_behavior()\n",
    "\n",
    "# 키, 몸무게 레이블이 적힌 csv파일 읽어 들이기\n",
    "csv=pd.read_csv('data/bmi.csv')\n",
    "# 데이터 정규화\n",
    "csv['height']=csv['height']/200\n",
    "csv['weight']=csv['weight']/100\n",
    "\n",
    "# 레이블을 배열로 변환하기\n",
    "# thin-(1,0,0) / normal=(0,1,0) / fat=(0,0,1)\n",
    "bclass={'thin':[1,0,0],'normal':[0,1,0],'fat':[0,0,1]}\n",
    "csv['label_pat']=csv['label'].apply(lambda x: np.array(bclass[x]))\n",
    "\n",
    "# 테스트를 위한 데이터 분류\n",
    "test_csv=csv[15000:20000]\n",
    "test_pat=test_csv[['weight','height']]\n",
    "test_ans=list(test_csv['label_pat'])\n",
    "# 데이터 플로우 그래프 구축\n",
    "# 플레이스 홀더 선언\n",
    "x=tf.placeholder(tf.float32,[None,2])   #키와 몸무게 데이터 넣기\n",
    "y_=tf.placeholder(tf.float32,[None,3])   # 정답 레이블\n",
    "\n",
    "# 변수 선언\n",
    "w=tf.Variable(tf.zeros([2,3]))  #가중치\n",
    "b=tf.Variable(tf.zeros([3]))    #바이어스\n",
    "\n",
    "# 소프트맥스 회귀 정의하기\n",
    "y=tf.nn.softmax(tf.matmul(x,w)+b)\n",
    "\n",
    "# 모델 훈련\n",
    "cross_entropy=-tf.reduce_sum(y_* tf.log(y))\n",
    "optimizer=tf.train.GradientDescentOptimizer(0.01)\n",
    "train=optimizer.minimize(cross_entropy)\n",
    "\n",
    "# 정답률 구하기\n",
    "predict=tf.equal(tf.argmax(y,1),tf.argmax(y_,1))\n",
    "accuracy=tf.reduce_mean(tf.cast(predict,tf.float32))\n",
    "\n",
    "# 세션 시작\n",
    "sess=tf.Session()\n",
    "sess.run(tf.global_variables_initializer()) # 변수 초기화\n",
    "\n",
    "# 학습 시키기\n",
    "for step in range(3500):\n",
    "    i=(step*100)%14000\n",
    "    rows=csv[1+i:1+i+100]\n",
    "    x_pat=rows[['weight','height']]\n",
    "    y_ans=list(rows['label_pat'])\n",
    "    fd={x:x_pat,y_:y_ans}\n",
    "    sess.run(train,feed_dict=fd)\n",
    "    if step%500==0:\n",
    "        cre=sess.run(cross_entropy,feed_dict=fd)\n",
    "        acc=sess.run(accuracy, feed_dict={x:test_pat,y_:test_ans})\n",
    "        print('step=',step,'cre=',cre,'acc=',acc)\n",
    "# 최종 정답률\n",
    "acc=sess.run(accuracy,feed_dict={x:test_pat,y_:test_ans})\n",
    "print('정답률=',acc)\n"
   ]
  },
  {
   "cell_type": "code",
   "execution_count": 5,
   "metadata": {},
   "outputs": [
    {
     "name": "stdout",
     "output_type": "stream",
     "text": [
      "WARNING:tensorflow:From c:\\Users\\djagk\\AppData\\Local\\Programs\\Python\\Python310\\lib\\site-packages\\tensorflow\\python\\compat\\v2_compat.py:107: disable_resource_variables (from tensorflow.python.ops.variable_scope) is deprecated and will be removed in a future version.\n",
      "Instructions for updating:\n",
      "non-resource variables are not supported in the long term\n",
      "600\n"
     ]
    }
   ],
   "source": [
    "## TenserBoard로 시각화\n",
    "# 곱하기\n",
    "import tensorflow.compat.v1 as tf\n",
    "tf.disable_v2_behavior()\n",
    "# 데이터 플로우 그래프 구축하기\n",
    "a=tf.constant(20,name='a')\n",
    "b=tf.constant(30,name='b')\n",
    "mul_op=a*b\n",
    "#세션 생성\n",
    "sess=tf.Session()\n",
    "# TensorBoard 사용하기\n",
    "tw=tf.summary.FileWriter('log_dir',graph=sess.graph)\n",
    "\n",
    "# 세션 실행\n",
    "print(sess.run(mul_op))\n",
    "\n"
   ]
  },
  {
   "cell_type": "code",
   "execution_count": 3,
   "metadata": {},
   "outputs": [
    {
     "name": "stdout",
     "output_type": "stream",
     "text": [
      "^C\n"
     ]
    }
   ],
   "source": [
    "!tensorboard --logdir=log_dir"
   ]
  },
  {
   "cell_type": "code",
   "execution_count": 6,
   "metadata": {},
   "outputs": [
    {
     "data": {
      "text/html": [
       "\n",
       "      <iframe id=\"tensorboard-frame-43160caaf78c75de\" width=\"100%\" height=\"800\" frameborder=\"0\">\n",
       "      </iframe>\n",
       "      <script>\n",
       "        (function() {\n",
       "          const frame = document.getElementById(\"tensorboard-frame-43160caaf78c75de\");\n",
       "          const url = new URL(\"/\", window.location);\n",
       "          const port = 6006;\n",
       "          if (port) {\n",
       "            url.port = port;\n",
       "          }\n",
       "          frame.src = url;\n",
       "        })();\n",
       "      </script>\n",
       "    "
      ],
      "text/plain": [
       "<IPython.core.display.HTML object>"
      ]
     },
     "metadata": {},
     "output_type": "display_data"
    }
   ],
   "source": [
    "%load_ext tensorboard\n",
    "%tensorboard --logdir ./log_dir/zy"
   ]
  },
  {
   "cell_type": "code",
   "execution_count": 7,
   "metadata": {},
   "outputs": [
    {
     "ename": "AttributeError",
     "evalue": "module 'tensorflow.compat.v1.train' has no attribute 'SummaryWriter'",
     "output_type": "error",
     "traceback": [
      "\u001b[1;31m---------------------------------------------------------------------------\u001b[0m",
      "\u001b[1;31mAttributeError\u001b[0m                            Traceback (most recent call last)",
      "\u001b[1;32mc:\\python\\Tensor\\day014.ipynb Cell 11'\u001b[0m in \u001b[0;36m<cell line: 15>\u001b[1;34m()\u001b[0m\n\u001b[0;32m     <a href='vscode-notebook-cell:/c%3A/python/Tensor/day014.ipynb#ch0000010?line=12'>13</a>\u001b[0m sess\u001b[39m=\u001b[39mtf\u001b[39m.\u001b[39mSession()\n\u001b[0;32m     <a href='vscode-notebook-cell:/c%3A/python/Tensor/day014.ipynb#ch0000010?line=13'>14</a>\u001b[0m \u001b[39m# TensorBoard 사용\u001b[39;00m\n\u001b[1;32m---> <a href='vscode-notebook-cell:/c%3A/python/Tensor/day014.ipynb#ch0000010?line=14'>15</a>\u001b[0m tw\u001b[39m=\u001b[39mtf\u001b[39m.\u001b[39;49mtrain\u001b[39m.\u001b[39;49mSummaryWriter(\u001b[39m'\u001b[39m\u001b[39mlog_dir\u001b[39m\u001b[39m'\u001b[39m,graph\u001b[39m=\u001b[39msess\u001b[39m.\u001b[39mgraph)\n\u001b[0;32m     <a href='vscode-notebook-cell:/c%3A/python/Tensor/day014.ipynb#ch0000010?line=16'>17</a>\u001b[0m \u001b[39m#세션 실행\u001b[39;00m\n\u001b[0;32m     <a href='vscode-notebook-cell:/c%3A/python/Tensor/day014.ipynb#ch0000010?line=17'>18</a>\u001b[0m sess\u001b[39m.\u001b[39mrun(assign_op)\n",
      "\u001b[1;31mAttributeError\u001b[0m: module 'tensorflow.compat.v1.train' has no attribute 'SummaryWriter'"
     ]
    }
   ],
   "source": [
    "# 변수 사용\n",
    "import tensorflow.compat.v1 as tf\n",
    "tf.disable_v2_behavior()\n",
    "a=tf.constant(100,name='a')\n",
    "b=tf.constant(200,name='b')\n",
    "c=tf.constant(300,name='c')\n",
    "v=tf.Variable(0,name='v')\n",
    "\n",
    "# 곱셈 수행하는 그래프 정의\n",
    "calc_op=a+b*c\n",
    "assign_op=tf.assign(v,calc_op)\n",
    "# 세션 생성\n",
    "sess=tf.Session()\n",
    "# TensorBoard 사용\n",
    "tw=tf.train.sumary('log_dir',graph=sess.graph)\n",
    "\n",
    "#세션 실행\n",
    "sess.run(assign_op)\n",
    "print(sess.run(v))"
   ]
  }
 ],
 "metadata": {
  "interpreter": {
   "hash": "fb27240f79425b05cfdc60ec8aab2b2dfc885c099bc04dcc326b3070e76ef9c9"
  },
  "kernelspec": {
   "display_name": "Python 3.10.4 64-bit",
   "language": "python",
   "name": "python3"
  },
  "language_info": {
   "codemirror_mode": {
    "name": "ipython",
    "version": 3
   },
   "file_extension": ".py",
   "mimetype": "text/x-python",
   "name": "python",
   "nbconvert_exporter": "python",
   "pygments_lexer": "ipython3",
   "version": "3.10.4"
  },
  "orig_nbformat": 4
 },
 "nbformat": 4,
 "nbformat_minor": 2
}
