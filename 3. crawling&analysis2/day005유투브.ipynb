{
 "cells": [
  {
   "cell_type": "code",
   "execution_count": 50,
   "metadata": {},
   "outputs": [
    {
     "name": "stderr",
     "output_type": "stream",
     "text": [
      "C:\\Users\\djagk\\AppData\\Local\\Temp\\ipykernel_17412\\1814361680.py:6: DeprecationWarning: executable_path has been deprecated, please pass in a Service object\n",
      "  driver=webdriver.Chrome('c:\\webdriver\\chromedriver.exe')\n"
     ]
    }
   ],
   "source": [
    "url='https://www.youtube-rank.com/board/bbs/board.php?bo_table=youtube&page=1'\n",
    "\n",
    "from bs4 import BeautifulSoup\n",
    "from selenium import webdriver\n",
    "import time\n",
    "driver=webdriver.Chrome('c:\\webdriver\\chromedriver.exe')\n",
    "driver.get(url)"
   ]
  },
  {
   "cell_type": "code",
   "execution_count": 15,
   "metadata": {},
   "outputs": [
    {
     "data": {
      "text/plain": [
       "100"
      ]
     },
     "execution_count": 15,
     "metadata": {},
     "output_type": "execute_result"
    }
   ],
   "source": [
    "html=driver.page_source\n",
    "soup=BeautifulSoup(html,'html.parser')\n",
    "channels=soup.select('table>tbody>tr.aos-init')\n",
    "len(channels)"
   ]
  },
  {
   "cell_type": "code",
   "execution_count": null,
   "metadata": {},
   "outputs": [],
   "source": [
    "cha_data=[]\n",
    "for channel in channels:\n",
    "    category=channel.select('.category')[0].text.strip()\n",
    "    title=channel.select('td>h1>a')[0].text.strip()\n",
    "    subscriber=channel.select('.subscriber_cnt')[0].text\n",
    "    view=channel.select('.view_cnt')[0].text\n",
    "    video=channel.select('.video_cnt')[0].text\n",
    "    cha_data.append([category,title,subscriber,view,video])\n",
    "    \n",
    "cha_data\n",
    "    "
   ]
  },
  {
   "cell_type": "code",
   "execution_count": 43,
   "metadata": {},
   "outputs": [],
   "source": [
    "import pandas as pd\n",
    "col=['category','title','subscriber','view','video']\n",
    "pd_df=pd.DataFrame(cha_data,columns=col)\n",
    "\n",
    "pd_df.to_excel('data/youtube.xlsx',index=False)"
   ]
  },
  {
   "cell_type": "code",
   "execution_count": 51,
   "metadata": {},
   "outputs": [],
   "source": [
    "\n",
    "##유투브 여러페이지에서 크롤링\n",
    "result=[]\n",
    "for page in range(1,11):\n",
    "    \n",
    "    url=f\"https://www.youtube-rank.com/board/bbs/board.php?bo_table=youtube&page='{page}'\"\n",
    "    driver.get(url)\n",
    "    time.sleep(2)\n",
    "    html=driver.page_source\n",
    "    soup=BeautifulSoup(html,'html.parser')\n",
    "    channels=soup.select('form>table>tbody>tr')\n",
    "    for channel in channels:\n",
    "        category=channel.select('.category')[0].text.strip()\n",
    "        title=channel.select('td>h1>a')[0].text.strip()\n",
    "        subscriber=channel.select('.subscriber_cnt')[0].text\n",
    "        view=channel.select('.view_cnt')[0].text\n",
    "        video=channel.select('.video_cnt')[0].text\n",
    "        result.append([category,title,subscriber,view,video])\n"
   ]
  },
  {
   "cell_type": "code",
   "execution_count": 53,
   "metadata": {},
   "outputs": [
    {
     "data": {
      "text/plain": [
       "1000"
      ]
     },
     "execution_count": 53,
     "metadata": {},
     "output_type": "execute_result"
    }
   ],
   "source": [
    "len(result)"
   ]
  },
  {
   "cell_type": "code",
   "execution_count": 54,
   "metadata": {},
   "outputs": [
    {
     "data": {
      "text/html": [
       "<div>\n",
       "<style scoped>\n",
       "    .dataframe tbody tr th:only-of-type {\n",
       "        vertical-align: middle;\n",
       "    }\n",
       "\n",
       "    .dataframe tbody tr th {\n",
       "        vertical-align: top;\n",
       "    }\n",
       "\n",
       "    .dataframe thead th {\n",
       "        text-align: right;\n",
       "    }\n",
       "</style>\n",
       "<table border=\"1\" class=\"dataframe\">\n",
       "  <thead>\n",
       "    <tr style=\"text-align: right;\">\n",
       "      <th></th>\n",
       "      <th>category</th>\n",
       "      <th>title</th>\n",
       "      <th>subscriber</th>\n",
       "      <th>view</th>\n",
       "      <th>video</th>\n",
       "    </tr>\n",
       "  </thead>\n",
       "  <tbody>\n",
       "    <tr>\n",
       "      <th>0</th>\n",
       "      <td>[음악/댄스/가수]</td>\n",
       "      <td>BLACKPINK</td>\n",
       "      <td>7420만</td>\n",
       "      <td>236억7615만</td>\n",
       "      <td>394개</td>\n",
       "    </tr>\n",
       "    <tr>\n",
       "      <th>1</th>\n",
       "      <td>[음악/댄스/가수]</td>\n",
       "      <td>BANGTANTV</td>\n",
       "      <td>6630만</td>\n",
       "      <td>161억5062만</td>\n",
       "      <td>1,694개</td>\n",
       "    </tr>\n",
       "    <tr>\n",
       "      <th>2</th>\n",
       "      <td>[음악/댄스/가수]</td>\n",
       "      <td>HYBE LABELS</td>\n",
       "      <td>6550만</td>\n",
       "      <td>226억3812만</td>\n",
       "      <td>866개</td>\n",
       "    </tr>\n",
       "    <tr>\n",
       "      <th>3</th>\n",
       "      <td>[음악/댄스/가수]</td>\n",
       "      <td>SMTOWN</td>\n",
       "      <td>3030만</td>\n",
       "      <td>244억9471만</td>\n",
       "      <td>3,904개</td>\n",
       "    </tr>\n",
       "    <tr>\n",
       "      <th>4</th>\n",
       "      <td>[키즈/어린이]</td>\n",
       "      <td>Boram Tube Vlog [보람튜브 브이로그]</td>\n",
       "      <td>2650만</td>\n",
       "      <td>110억5288만</td>\n",
       "      <td>223개</td>\n",
       "    </tr>\n",
       "    <tr>\n",
       "      <th>...</th>\n",
       "      <td>...</td>\n",
       "      <td>...</td>\n",
       "      <td>...</td>\n",
       "      <td>...</td>\n",
       "      <td>...</td>\n",
       "    </tr>\n",
       "    <tr>\n",
       "      <th>995</th>\n",
       "      <td>[음악/댄스/가수]</td>\n",
       "      <td>Raon</td>\n",
       "      <td>428만</td>\n",
       "      <td>10억1890만</td>\n",
       "      <td>313개</td>\n",
       "    </tr>\n",
       "    <tr>\n",
       "      <th>996</th>\n",
       "      <td>[미분류]</td>\n",
       "      <td>MayTree</td>\n",
       "      <td>426만</td>\n",
       "      <td>8억0379만</td>\n",
       "      <td>175개</td>\n",
       "    </tr>\n",
       "    <tr>\n",
       "      <th>997</th>\n",
       "      <td>[키즈/어린이]</td>\n",
       "      <td>로미유 스토리[Romiyu Story]</td>\n",
       "      <td>420만</td>\n",
       "      <td>11억1561만</td>\n",
       "      <td>434개</td>\n",
       "    </tr>\n",
       "    <tr>\n",
       "      <th>998</th>\n",
       "      <td>[음식/요리/레시피]</td>\n",
       "      <td>[Dorothy]도로시</td>\n",
       "      <td>417만</td>\n",
       "      <td>10억1440만</td>\n",
       "      <td>919개</td>\n",
       "    </tr>\n",
       "    <tr>\n",
       "      <th>999</th>\n",
       "      <td>[취미/라이프]</td>\n",
       "      <td>JaeYeol ASMR 재열</td>\n",
       "      <td>414만</td>\n",
       "      <td>11억8872만</td>\n",
       "      <td>1,098개</td>\n",
       "    </tr>\n",
       "  </tbody>\n",
       "</table>\n",
       "<p>1000 rows × 5 columns</p>\n",
       "</div>"
      ],
      "text/plain": [
       "        category                        title subscriber       view   video\n",
       "0     [음악/댄스/가수]                    BLACKPINK      7420만  236억7615만    394개\n",
       "1     [음악/댄스/가수]                    BANGTANTV      6630만  161억5062만  1,694개\n",
       "2     [음악/댄스/가수]                  HYBE LABELS      6550만  226억3812만    866개\n",
       "3     [음악/댄스/가수]                       SMTOWN      3030만  244억9471만  3,904개\n",
       "4       [키즈/어린이]  Boram Tube Vlog [보람튜브 브이로그]      2650만  110억5288만    223개\n",
       "..           ...                          ...        ...        ...     ...\n",
       "995   [음악/댄스/가수]                         Raon       428만   10억1890만    313개\n",
       "996        [미분류]                      MayTree       426만    8억0379만    175개\n",
       "997     [키즈/어린이]        로미유 스토리[Romiyu Story]       420만   11억1561만    434개\n",
       "998  [음식/요리/레시피]                 [Dorothy]도로시       417만   10억1440만    919개\n",
       "999     [취미/라이프]              JaeYeol ASMR 재열       414만   11억8872만  1,098개\n",
       "\n",
       "[1000 rows x 5 columns]"
      ]
     },
     "execution_count": 54,
     "metadata": {},
     "output_type": "execute_result"
    }
   ],
   "source": [
    "df=pd.DataFrame(result)\n",
    "df.columns=['category','title','subscriber','view','video']\n",
    "df.to_excel('data/youtube_all.xlsx',index=False)\n"
   ]
  },
  {
   "cell_type": "code",
   "execution_count": 23,
   "metadata": {},
   "outputs": [],
   "source": [
    "## youtube 랭크 정보 시각화\n",
    "import matplotlib.pyplot as plt\n",
    "from matplotlib import font_manager,rc\n",
    "# 각각의 플랫폼에 따른 설정 위해서\n",
    "import platform     #플랫폼 관련 라이브러리\n",
    "if platform.system()=='Windows':\n",
    "    path='c:\\Windows/Fonts/malgun.ttf'\n",
    "    font_name=font_manager.FontProperties(fname=path).get_name()\n",
    "    rc('font',family=font_name)\n",
    "\n"
   ]
  },
  {
   "cell_type": "code",
   "execution_count": 5,
   "metadata": {},
   "outputs": [],
   "source": [
    "import pandas as pd\n",
    "## 엑셀로 저장된 파일 불러오기\n",
    "df=pd.read_excel('data/youtube_all.xlsx')\n"
   ]
  },
  {
   "cell_type": "code",
   "execution_count": 6,
   "metadata": {},
   "outputs": [
    {
     "name": "stdout",
     "output_type": "stream",
     "text": [
      "<class 'pandas.core.frame.DataFrame'>\n",
      "RangeIndex: 1000 entries, 0 to 999\n",
      "Data columns (total 5 columns):\n",
      " #   Column      Non-Null Count  Dtype \n",
      "---  ------      --------------  ----- \n",
      " 0   category    1000 non-null   object\n",
      " 1   title       1000 non-null   object\n",
      " 2   subscriber  1000 non-null   object\n",
      " 3   view        1000 non-null   object\n",
      " 4   video       1000 non-null   object\n",
      "dtypes: object(5)\n",
      "memory usage: 39.2+ KB\n"
     ]
    }
   ],
   "source": [
    "df.head()\n",
    "df.info()"
   ]
  },
  {
   "cell_type": "code",
   "execution_count": 7,
   "metadata": {},
   "outputs": [
    {
     "data": {
      "text/html": [
       "<div>\n",
       "<style scoped>\n",
       "    .dataframe tbody tr th:only-of-type {\n",
       "        vertical-align: middle;\n",
       "    }\n",
       "\n",
       "    .dataframe tbody tr th {\n",
       "        vertical-align: top;\n",
       "    }\n",
       "\n",
       "    .dataframe thead th {\n",
       "        text-align: right;\n",
       "    }\n",
       "</style>\n",
       "<table border=\"1\" class=\"dataframe\">\n",
       "  <thead>\n",
       "    <tr style=\"text-align: right;\">\n",
       "      <th></th>\n",
       "      <th>category</th>\n",
       "      <th>title</th>\n",
       "      <th>subscriber</th>\n",
       "      <th>view</th>\n",
       "      <th>video</th>\n",
       "      <th>replace_subscriber</th>\n",
       "    </tr>\n",
       "  </thead>\n",
       "  <tbody>\n",
       "    <tr>\n",
       "      <th>0</th>\n",
       "      <td>[음악/댄스/가수]</td>\n",
       "      <td>BLACKPINK</td>\n",
       "      <td>7420만</td>\n",
       "      <td>236억7615만</td>\n",
       "      <td>394개</td>\n",
       "      <td>74200000</td>\n",
       "    </tr>\n",
       "    <tr>\n",
       "      <th>1</th>\n",
       "      <td>[음악/댄스/가수]</td>\n",
       "      <td>BANGTANTV</td>\n",
       "      <td>6630만</td>\n",
       "      <td>161억5062만</td>\n",
       "      <td>1,694개</td>\n",
       "      <td>66300000</td>\n",
       "    </tr>\n",
       "    <tr>\n",
       "      <th>2</th>\n",
       "      <td>[음악/댄스/가수]</td>\n",
       "      <td>HYBE LABELS</td>\n",
       "      <td>6550만</td>\n",
       "      <td>226억3812만</td>\n",
       "      <td>866개</td>\n",
       "      <td>65500000</td>\n",
       "    </tr>\n",
       "    <tr>\n",
       "      <th>3</th>\n",
       "      <td>[음악/댄스/가수]</td>\n",
       "      <td>SMTOWN</td>\n",
       "      <td>3030만</td>\n",
       "      <td>244억9471만</td>\n",
       "      <td>3,904개</td>\n",
       "      <td>30300000</td>\n",
       "    </tr>\n",
       "    <tr>\n",
       "      <th>4</th>\n",
       "      <td>[키즈/어린이]</td>\n",
       "      <td>Boram Tube Vlog [보람튜브 브이로그]</td>\n",
       "      <td>2650만</td>\n",
       "      <td>110억5288만</td>\n",
       "      <td>223개</td>\n",
       "      <td>26500000</td>\n",
       "    </tr>\n",
       "    <tr>\n",
       "      <th>...</th>\n",
       "      <td>...</td>\n",
       "      <td>...</td>\n",
       "      <td>...</td>\n",
       "      <td>...</td>\n",
       "      <td>...</td>\n",
       "      <td>...</td>\n",
       "    </tr>\n",
       "    <tr>\n",
       "      <th>995</th>\n",
       "      <td>[음악/댄스/가수]</td>\n",
       "      <td>Raon</td>\n",
       "      <td>428만</td>\n",
       "      <td>10억1890만</td>\n",
       "      <td>313개</td>\n",
       "      <td>4280000</td>\n",
       "    </tr>\n",
       "    <tr>\n",
       "      <th>996</th>\n",
       "      <td>[미분류]</td>\n",
       "      <td>MayTree</td>\n",
       "      <td>426만</td>\n",
       "      <td>8억0379만</td>\n",
       "      <td>175개</td>\n",
       "      <td>4260000</td>\n",
       "    </tr>\n",
       "    <tr>\n",
       "      <th>997</th>\n",
       "      <td>[키즈/어린이]</td>\n",
       "      <td>로미유 스토리[Romiyu Story]</td>\n",
       "      <td>420만</td>\n",
       "      <td>11억1561만</td>\n",
       "      <td>434개</td>\n",
       "      <td>4200000</td>\n",
       "    </tr>\n",
       "    <tr>\n",
       "      <th>998</th>\n",
       "      <td>[음식/요리/레시피]</td>\n",
       "      <td>[Dorothy]도로시</td>\n",
       "      <td>417만</td>\n",
       "      <td>10억1440만</td>\n",
       "      <td>919개</td>\n",
       "      <td>4170000</td>\n",
       "    </tr>\n",
       "    <tr>\n",
       "      <th>999</th>\n",
       "      <td>[취미/라이프]</td>\n",
       "      <td>JaeYeol ASMR 재열</td>\n",
       "      <td>414만</td>\n",
       "      <td>11억8872만</td>\n",
       "      <td>1,098개</td>\n",
       "      <td>4140000</td>\n",
       "    </tr>\n",
       "  </tbody>\n",
       "</table>\n",
       "<p>1000 rows × 6 columns</p>\n",
       "</div>"
      ],
      "text/plain": [
       "        category                        title subscriber       view   video  \\\n",
       "0     [음악/댄스/가수]                    BLACKPINK      7420만  236억7615만    394개   \n",
       "1     [음악/댄스/가수]                    BANGTANTV      6630만  161억5062만  1,694개   \n",
       "2     [음악/댄스/가수]                  HYBE LABELS      6550만  226억3812만    866개   \n",
       "3     [음악/댄스/가수]                       SMTOWN      3030만  244억9471만  3,904개   \n",
       "4       [키즈/어린이]  Boram Tube Vlog [보람튜브 브이로그]      2650만  110억5288만    223개   \n",
       "..           ...                          ...        ...        ...     ...   \n",
       "995   [음악/댄스/가수]                         Raon       428만   10억1890만    313개   \n",
       "996        [미분류]                      MayTree       426만    8억0379만    175개   \n",
       "997     [키즈/어린이]        로미유 스토리[Romiyu Story]       420만   11억1561만    434개   \n",
       "998  [음식/요리/레시피]                 [Dorothy]도로시       417만   10억1440만    919개   \n",
       "999     [취미/라이프]              JaeYeol ASMR 재열       414만   11억8872만  1,098개   \n",
       "\n",
       "    replace_subscriber  \n",
       "0             74200000  \n",
       "1             66300000  \n",
       "2             65500000  \n",
       "3             30300000  \n",
       "4             26500000  \n",
       "..                 ...  \n",
       "995            4280000  \n",
       "996            4260000  \n",
       "997            4200000  \n",
       "998            4170000  \n",
       "999            4140000  \n",
       "\n",
       "[1000 rows x 6 columns]"
      ]
     },
     "execution_count": 7,
     "metadata": {},
     "output_type": "execute_result"
    }
   ],
   "source": [
    "df['subscriber'][0:10]\n",
    "df['subscriber'].str.replace('만','0000')[0:10]\n",
    "df['replace_subscriber']=df['subscriber'].str.replace('만','0000')\n",
    "df"
   ]
  },
  {
   "cell_type": "code",
   "execution_count": 8,
   "metadata": {},
   "outputs": [
    {
     "name": "stdout",
     "output_type": "stream",
     "text": [
      "<class 'pandas.core.frame.DataFrame'>\n",
      "RangeIndex: 1000 entries, 0 to 999\n",
      "Data columns (total 6 columns):\n",
      " #   Column              Non-Null Count  Dtype \n",
      "---  ------              --------------  ----- \n",
      " 0   category            1000 non-null   object\n",
      " 1   title               1000 non-null   object\n",
      " 2   subscriber          1000 non-null   object\n",
      " 3   view                1000 non-null   object\n",
      " 4   video               1000 non-null   object\n",
      " 5   replace_subscriber  1000 non-null   int32 \n",
      "dtypes: int32(1), object(5)\n",
      "memory usage: 43.1+ KB\n"
     ]
    }
   ],
   "source": [
    "df['replace_subscriber']=df['replace_subscriber'].astype('int') #int로 변환\n",
    "df.info()"
   ]
  },
  {
   "cell_type": "code",
   "execution_count": 30,
   "metadata": {},
   "outputs": [
    {
     "data": {
      "text/html": [
       "<div>\n",
       "<style scoped>\n",
       "    .dataframe tbody tr th:only-of-type {\n",
       "        vertical-align: middle;\n",
       "    }\n",
       "\n",
       "    .dataframe tbody tr th {\n",
       "        vertical-align: top;\n",
       "    }\n",
       "\n",
       "    .dataframe thead tr th {\n",
       "        text-align: left;\n",
       "    }\n",
       "\n",
       "    .dataframe thead tr:last-of-type th {\n",
       "        text-align: right;\n",
       "    }\n",
       "</style>\n",
       "<table border=\"1\" class=\"dataframe\">\n",
       "  <thead>\n",
       "    <tr>\n",
       "      <th></th>\n",
       "      <th>sum</th>\n",
       "      <th>count</th>\n",
       "    </tr>\n",
       "    <tr>\n",
       "      <th></th>\n",
       "      <th>replace_subscriber</th>\n",
       "      <th>replace_subscriber</th>\n",
       "    </tr>\n",
       "    <tr>\n",
       "      <th>category</th>\n",
       "      <th></th>\n",
       "      <th></th>\n",
       "    </tr>\n",
       "  </thead>\n",
       "  <tbody>\n",
       "    <tr>\n",
       "      <th>[BJ/인물/연예인]</th>\n",
       "      <td>100700000.0</td>\n",
       "      <td>20</td>\n",
       "    </tr>\n",
       "    <tr>\n",
       "      <th>[TV/방송]</th>\n",
       "      <td>864800000.0</td>\n",
       "      <td>120</td>\n",
       "    </tr>\n",
       "    <tr>\n",
       "      <th>[게임]</th>\n",
       "      <td>42900000.0</td>\n",
       "      <td>10</td>\n",
       "    </tr>\n",
       "    <tr>\n",
       "      <th>[뉴스/정치/사회]</th>\n",
       "      <td>209800000.0</td>\n",
       "      <td>30</td>\n",
       "    </tr>\n",
       "    <tr>\n",
       "      <th>[미분류]</th>\n",
       "      <td>324400000.0</td>\n",
       "      <td>40</td>\n",
       "    </tr>\n",
       "  </tbody>\n",
       "</table>\n",
       "</div>"
      ],
      "text/plain": [
       "                           sum              count\n",
       "            replace_subscriber replace_subscriber\n",
       "category                                         \n",
       "[BJ/인물/연예인]        100700000.0                 20\n",
       "[TV/방송]            864800000.0                120\n",
       "[게임]                42900000.0                 10\n",
       "[뉴스/정치/사회]         209800000.0                 30\n",
       "[미분류]              324400000.0                 40"
      ]
     },
     "execution_count": 30,
     "metadata": {},
     "output_type": "execute_result"
    }
   ],
   "source": [
    "## 카테고리별 구독자 수 채널 수 피봇 테이블 생성\n",
    "pivot_df=df.pivot_table(index='category',values='replace_subscriber',aggfunc=['sum','count'])\n",
    "pivot_df.head()"
   ]
  },
  {
   "cell_type": "code",
   "execution_count": 31,
   "metadata": {},
   "outputs": [
    {
     "data": {
      "text/html": [
       "<div>\n",
       "<style scoped>\n",
       "    .dataframe tbody tr th:only-of-type {\n",
       "        vertical-align: middle;\n",
       "    }\n",
       "\n",
       "    .dataframe tbody tr th {\n",
       "        vertical-align: top;\n",
       "    }\n",
       "\n",
       "    .dataframe thead th {\n",
       "        text-align: right;\n",
       "    }\n",
       "</style>\n",
       "<table border=\"1\" class=\"dataframe\">\n",
       "  <thead>\n",
       "    <tr style=\"text-align: right;\">\n",
       "      <th></th>\n",
       "      <th>subscriber_sum</th>\n",
       "      <th>category_count</th>\n",
       "    </tr>\n",
       "    <tr>\n",
       "      <th>category</th>\n",
       "      <th></th>\n",
       "      <th></th>\n",
       "    </tr>\n",
       "  </thead>\n",
       "  <tbody>\n",
       "    <tr>\n",
       "      <th>[BJ/인물/연예인]</th>\n",
       "      <td>100700000.0</td>\n",
       "      <td>20</td>\n",
       "    </tr>\n",
       "    <tr>\n",
       "      <th>[TV/방송]</th>\n",
       "      <td>864800000.0</td>\n",
       "      <td>120</td>\n",
       "    </tr>\n",
       "    <tr>\n",
       "      <th>[게임]</th>\n",
       "      <td>42900000.0</td>\n",
       "      <td>10</td>\n",
       "    </tr>\n",
       "    <tr>\n",
       "      <th>[뉴스/정치/사회]</th>\n",
       "      <td>209800000.0</td>\n",
       "      <td>30</td>\n",
       "    </tr>\n",
       "    <tr>\n",
       "      <th>[미분류]</th>\n",
       "      <td>324400000.0</td>\n",
       "      <td>40</td>\n",
       "    </tr>\n",
       "  </tbody>\n",
       "</table>\n",
       "</div>"
      ],
      "text/plain": [
       "             subscriber_sum  category_count\n",
       "category                                   \n",
       "[BJ/인물/연예인]     100700000.0              20\n",
       "[TV/방송]         864800000.0             120\n",
       "[게임]             42900000.0              10\n",
       "[뉴스/정치/사회]      209800000.0              30\n",
       "[미분류]           324400000.0              40"
      ]
     },
     "execution_count": 31,
     "metadata": {},
     "output_type": "execute_result"
    }
   ],
   "source": [
    "## pivot 데이터 프레임 컬럼명 변경하기\n",
    "pivot_df.columns=['subscriber_sum','category_count']\n",
    "pivot_df.head()"
   ]
  },
  {
   "cell_type": "code",
   "execution_count": 32,
   "metadata": {},
   "outputs": [
    {
     "data": {
      "text/html": [
       "<div>\n",
       "<style scoped>\n",
       "    .dataframe tbody tr th:only-of-type {\n",
       "        vertical-align: middle;\n",
       "    }\n",
       "\n",
       "    .dataframe tbody tr th {\n",
       "        vertical-align: top;\n",
       "    }\n",
       "\n",
       "    .dataframe thead th {\n",
       "        text-align: right;\n",
       "    }\n",
       "</style>\n",
       "<table border=\"1\" class=\"dataframe\">\n",
       "  <thead>\n",
       "    <tr style=\"text-align: right;\">\n",
       "      <th></th>\n",
       "      <th>category</th>\n",
       "      <th>subscriber_sum</th>\n",
       "      <th>category_count</th>\n",
       "    </tr>\n",
       "  </thead>\n",
       "  <tbody>\n",
       "    <tr>\n",
       "      <th>0</th>\n",
       "      <td>[BJ/인물/연예인]</td>\n",
       "      <td>100700000.0</td>\n",
       "      <td>20</td>\n",
       "    </tr>\n",
       "    <tr>\n",
       "      <th>1</th>\n",
       "      <td>[TV/방송]</td>\n",
       "      <td>864800000.0</td>\n",
       "      <td>120</td>\n",
       "    </tr>\n",
       "    <tr>\n",
       "      <th>2</th>\n",
       "      <td>[게임]</td>\n",
       "      <td>42900000.0</td>\n",
       "      <td>10</td>\n",
       "    </tr>\n",
       "    <tr>\n",
       "      <th>3</th>\n",
       "      <td>[뉴스/정치/사회]</td>\n",
       "      <td>209800000.0</td>\n",
       "      <td>30</td>\n",
       "    </tr>\n",
       "    <tr>\n",
       "      <th>4</th>\n",
       "      <td>[미분류]</td>\n",
       "      <td>324400000.0</td>\n",
       "      <td>40</td>\n",
       "    </tr>\n",
       "  </tbody>\n",
       "</table>\n",
       "</div>"
      ],
      "text/plain": [
       "      category  subscriber_sum  category_count\n",
       "0  [BJ/인물/연예인]     100700000.0              20\n",
       "1      [TV/방송]     864800000.0             120\n",
       "2         [게임]      42900000.0              10\n",
       "3   [뉴스/정치/사회]     209800000.0              30\n",
       "4        [미분류]     324400000.0              40"
      ]
     },
     "execution_count": 32,
     "metadata": {},
     "output_type": "execute_result"
    }
   ],
   "source": [
    "# 데이터프레임의 인덱스 초기화\n",
    "pivot_df=pivot_df.reset_index()\n",
    "pivot_df.head()"
   ]
  },
  {
   "cell_type": "code",
   "execution_count": 33,
   "metadata": {},
   "outputs": [
    {
     "data": {
      "text/html": [
       "<div>\n",
       "<style scoped>\n",
       "    .dataframe tbody tr th:only-of-type {\n",
       "        vertical-align: middle;\n",
       "    }\n",
       "\n",
       "    .dataframe tbody tr th {\n",
       "        vertical-align: top;\n",
       "    }\n",
       "\n",
       "    .dataframe thead th {\n",
       "        text-align: right;\n",
       "    }\n",
       "</style>\n",
       "<table border=\"1\" class=\"dataframe\">\n",
       "  <thead>\n",
       "    <tr style=\"text-align: right;\">\n",
       "      <th></th>\n",
       "      <th>category</th>\n",
       "      <th>subscriber_sum</th>\n",
       "      <th>category_count</th>\n",
       "    </tr>\n",
       "  </thead>\n",
       "  <tbody>\n",
       "    <tr>\n",
       "      <th>7</th>\n",
       "      <td>[음악/댄스/가수]</td>\n",
       "      <td>5.580300e+09</td>\n",
       "      <td>370</td>\n",
       "    </tr>\n",
       "    <tr>\n",
       "      <th>9</th>\n",
       "      <td>[키즈/어린이]</td>\n",
       "      <td>1.673300e+09</td>\n",
       "      <td>220</td>\n",
       "    </tr>\n",
       "    <tr>\n",
       "      <th>6</th>\n",
       "      <td>[음식/요리/레시피]</td>\n",
       "      <td>9.971000e+08</td>\n",
       "      <td>140</td>\n",
       "    </tr>\n",
       "    <tr>\n",
       "      <th>1</th>\n",
       "      <td>[TV/방송]</td>\n",
       "      <td>8.648000e+08</td>\n",
       "      <td>120</td>\n",
       "    </tr>\n",
       "    <tr>\n",
       "      <th>4</th>\n",
       "      <td>[미분류]</td>\n",
       "      <td>3.244000e+08</td>\n",
       "      <td>40</td>\n",
       "    </tr>\n",
       "  </tbody>\n",
       "</table>\n",
       "</div>"
      ],
      "text/plain": [
       "      category  subscriber_sum  category_count\n",
       "7   [음악/댄스/가수]    5.580300e+09             370\n",
       "9     [키즈/어린이]    1.673300e+09             220\n",
       "6  [음식/요리/레시피]    9.971000e+08             140\n",
       "1      [TV/방송]    8.648000e+08             120\n",
       "4        [미분류]    3.244000e+08              40"
      ]
     },
     "execution_count": 33,
     "metadata": {},
     "output_type": "execute_result"
    }
   ],
   "source": [
    "##데이터프레임 내림차순정렬\n",
    "pivot_df=pivot_df.sort_values(by='subscriber_sum',ascending=False)\n",
    "pivot_df.head()"
   ]
  },
  {
   "cell_type": "code",
   "execution_count": 34,
   "metadata": {},
   "outputs": [
    {
     "data": {
      "image/png": "[encoded data removed]",
      "text/plain": [
       "<Figure size 2160x720 with 1 Axes>"
      ]
     },
     "metadata": {},
     "output_type": "display_data"
    }
   ],
   "source": [
    "#카테고리별 구독자수 시각화\n",
    "import matplotlib.pyplot as plt\n",
    "from matplotlib import font_manager,rc\n",
    "plt.figure(figsize=(30,10))\n",
    "plt.pie(pivot_df['subscriber_sum'],labels=pivot_df['category'], autopct='%1.1f%%')\n",
    "plt.show()"
   ]
  },
  {
   "cell_type": "code",
   "execution_count": 36,
   "metadata": {},
   "outputs": [
    {
     "data": {
      "image/png": "[encoded data removed]",
      "text/plain": [
       "<Figure size 2160x720 with 1 Axes>"
      ]
     },
     "metadata": {},
     "output_type": "display_data"
    }
   ],
   "source": [
    "pivot_df=pivot_df.sort_values(by='category_count',ascending=False)\n",
    "pivot_df.head()\n",
    "plt.figure(figsize=(30,10))\n",
    "plt.pie(pivot_df['category_count'],labels=pivot_df['category'],autopct='%1.1f%%')\n",
    "plt.show()"
   ]
  },
  {
   "cell_type": "code",
   "execution_count": null,
   "metadata": {},
   "outputs": [],
   "source": [
    "## fig 또는 figure는 전체 그래프의 크기\n",
    "## Axes : 그래프가 그려지는 Figure의 하위섹션 Title,X-Laebel, Y-Label\n",
    "# Axis: Axes의 하위 요소로 그래프의 척도를 나타내는 숫자 선.\n",
    "#       2차원 그래프는 x와 Y Axis, 3차원은 X,YZ Axis를 가짐\n",
    "# Label: figure의 다양한 요소의 이름\n",
    "# Legend : Axes안에 여러개의 그림이 있는 경우에 입력 값에 따라서 각각의 Label이 존재함\n",
    "# Title : 각 Axes에 주어진 이름. figure가 각각의 Title로 여러개의 Axes를 가짐\n",
    "##     Figure또한 각각의 Title을 가짐\n",
    "# Ticklabels :각 Axis(X,Y 또는 Z)는 여러개의 동일한 'Bin'으로 나눈 값의 범위\n",
    "#       'Bin'은 두가지 레벨에서 선택\n",
    "# Spines : Figure의 가장자리를 의미함. 각각의 \"Axes\"에는 네개의 Spines 가 존재함\n",
    "\n",
    "# Grid : 그래프의 다양한 점의 좌표를 쉽게 읽도록 영역을 Grid로 나눌 수 있음\n"
   ]
  },
  {
   "cell_type": "code",
   "execution_count": 2,
   "metadata": {},
   "outputs": [
    {
     "data": {
      "image/png": "[encoded data removed]",
      "text/plain": [
       "<Figure size 720x432 with 1 Axes>"
      ]
     },
     "metadata": {
      "needs_background": "light"
     },
     "output_type": "display_data"
    }
   ],
   "source": [
    "import matplotlib.pyplot as plt\n",
    "\n",
    "dates=[\n",
    "    '2021-01-01','2021-01-02','2021-01-03','2021-01-04','2021-01-05',\n",
    "    '2021-01-06','2021-01-07','2021-01-08','2021-01-09','2021-01-10'\n",
    "]\n",
    "min_temperature=[20.7,17.9,18.8,14.6,15.8,15.8,17.4,21.6,26.0,20.0]\n",
    "max_temperature=[34.7,28.9,31.8,25.6,28.8,21.8,22.8,28.4,30.8,32.0]\n",
    "\n",
    "fig,axes=plt.subplots(nrows=1,ncols=1,figsize=(10,6))\n",
    "axes.plot(dates,min_temperature,label='Min Temperature')\n",
    "axes.plot(dates,max_temperature,label='Max Temperature')\n",
    "axes.legend()\n",
    "plt.show()"
   ]
  }
 ],
 "metadata": {
  "interpreter": {
   "hash": "fb27240f79425b05cfdc60ec8aab2b2dfc885c099bc04dcc326b3070e76ef9c9"
  },
  "kernelspec": {
   "display_name": "Python 3.10.4 64-bit",
   "language": "python",
   "name": "python3"
  },
  "language_info": {
   "codemirror_mode": {
    "name": "ipython",
    "version": 3
   },
   "file_extension": ".py",
   "mimetype": "text/x-python",
   "name": "python",
   "nbconvert_exporter": "python",
   "pygments_lexer": "ipython3",
   "version": "3.10.4"
  },
  "orig_nbformat": 4
 },
 "nbformat": 4,
 "nbformat_minor": 2
}
