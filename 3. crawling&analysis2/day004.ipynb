{
 "cells": [
  {
   "cell_type": "code",
   "execution_count": 5,
   "metadata": {},
   "outputs": [
    {
     "name": "stdout",
     "output_type": "stream",
     "text": [
      "<class 'numpy.ndarray'>\n",
      "[1 2 3]\n",
      "(3,)\n",
      "[1 1 2 2 3 4]\n",
      "(6,)\n",
      "int32\n"
     ]
    }
   ],
   "source": [
    "### NumPy\n",
    "# 고성능 수치 계산을 위해서 제작된 파이썬 라이브러리\n",
    "# 머신러닝 또는 딥러닝 알고리즘은 기본적으로 다차원 배열에 대한 계산으로 볼 수 있음\n",
    "# 또는 대량 데이터를 다룰 때에 빠른 계산 능력이 요구되어 사용되는 라이브러리\n",
    "\n",
    "# 생성된 NumPy 확인 - NumPy의 핵심객체(Ndarray)\n",
    "import numpy as np\n",
    "\n",
    "temp = np.array([1,2,3])\n",
    "print(type(temp))\n",
    "\n",
    "## 토튜리얼 : https://numpy.org/doc/stable/user/quickstart.html\n",
    "\n",
    "# NumPy 기본 문법\n",
    "\n",
    "# - list\n",
    "data1 = [1,2,3]\n",
    "data1\n",
    "\n",
    "data2 = [1,1,2,2,3,4]\n",
    "data2\n",
    "\n",
    "# np.array으로 배열로 변환\n",
    "my_array1 = np.array(data1)\n",
    "print(my_array1)\n",
    "print(my_array1.shape)\n",
    "\n",
    "my_array2 = np.array(data2)\n",
    "print(my_array2)\n",
    "print(my_array2.shape)\n",
    "\n",
    "# shape는 크기를 확인하는 함수\n",
    "\n",
    "## 리스트 선언 없이 바로 배열로 사용\n",
    "my_array3 = np.array([3,4,5,7])\n",
    "print(my_array3.dtype)\n",
    "\n",
    "## Data types 참조 : https://numpy.org/devdocs/user/basics.types.html"
   ]
  },
  {
   "cell_type": "code",
   "execution_count": 6,
   "metadata": {},
   "outputs": [
    {
     "data": {
      "text/plain": [
       "(4, 3)"
      ]
     },
     "execution_count": 6,
     "metadata": {},
     "output_type": "execute_result"
    }
   ],
   "source": [
    "### 2차 배열\n",
    "my_array4 = np.array([[2,4,6],[8,10,12],[14,16,18],[20,22,24]])\n",
    "my_array4\n",
    "my_array4.shape"
   ]
  },
  {
   "cell_type": "code",
   "execution_count": 11,
   "metadata": {},
   "outputs": [
    {
     "data": {
      "text/plain": [
       "(2, 2, 2)"
      ]
     },
     "execution_count": 11,
     "metadata": {},
     "output_type": "execute_result"
    }
   ],
   "source": [
    "### 3차 배열\n",
    "my_array5 = np.array([[[1,2],[3,4]],[[5,6],[7,8]]])\n",
    "my_array5\n",
    "my_array5.shape"
   ]
  },
  {
   "cell_type": "code",
   "execution_count": 15,
   "metadata": {},
   "outputs": [
    {
     "name": "stdout",
     "output_type": "stream",
     "text": [
      "[1 2 3 4 5 6 7 8]\n"
     ]
    },
    {
     "data": {
      "text/plain": [
       "dtype('int32')"
      ]
     },
     "execution_count": 15,
     "metadata": {},
     "output_type": "execute_result"
    }
   ],
   "source": [
    "### NumPy 배열 생성 및 둘러보기\n",
    "# Arrange : 기본 함수 중에 Range함수와 조금 유사하며, 더욱 쉽게 배열을 만들게 함\n",
    "arrage_array = np.arange(5)\n",
    "arrage_array\n",
    "\n",
    "arrage_array2 = np.arange(1, 9)\n",
    "print(arrage_array2)\n",
    "arrage_array2.dtype"
   ]
  },
  {
   "cell_type": "code",
   "execution_count": 16,
   "metadata": {},
   "outputs": [
    {
     "name": "stdout",
     "output_type": "stream",
     "text": [
      "[[0. 0.]\n",
      " [0. 0.]\n",
      " [0. 0.]]\n",
      "Data Type is :  float64\n",
      "Data Shape is :  (3, 2)\n"
     ]
    }
   ],
   "source": [
    "### Zeros, Ones\n",
    "# 할당하는 사이즈 배열에 0이나 1을 더욱 쉽게 입력하는 함수\n",
    "zeros_arr = np.zeros((3,2))\n",
    "print(zeros_arr)\n",
    "print(\"Data Type is : \", zeros_arr.dtype)\n",
    "print(\"Data Shape is : \", zeros_arr.shape)"
   ]
  },
  {
   "cell_type": "code",
   "execution_count": 18,
   "metadata": {},
   "outputs": [
    {
     "name": "stdout",
     "output_type": "stream",
     "text": [
      "[[1. 1. 1. 1.]\n",
      " [1. 1. 1. 1.]\n",
      " [1. 1. 1. 1.]]\n",
      "Data Type is :  float64\n",
      "Data Shape is :  (3, 4)\n"
     ]
    }
   ],
   "source": [
    "ones_arr = np.ones((3,4))\n",
    "print(ones_arr)\n",
    "print(\"Data Type is : \", ones_arr.dtype)\n",
    "print(\"Data Shape is : \", ones_arr.shape)"
   ]
  },
  {
   "cell_type": "code",
   "execution_count": 32,
   "metadata": {},
   "outputs": [
    {
     "name": "stdout",
     "output_type": "stream",
     "text": [
      "[[1. 1.]\n",
      " [1. 1.]\n",
      " [1. 1.]\n",
      " [1. 1.]\n",
      " [1. 1.]\n",
      " [1. 1.]]\n",
      "Data Shape is :  (6, 2)\n",
      "[[1.]\n",
      " [1.]\n",
      " [1.]\n",
      " [1.]\n",
      " [1.]\n",
      " [1.]\n",
      " [1.]\n",
      " [1.]\n",
      " [1.]\n",
      " [1.]\n",
      " [1.]\n",
      " [1.]]\n"
     ]
    }
   ],
   "source": [
    "## Reshape\n",
    "after_reshape = ones_arr.reshape(6,2)\n",
    "print(after_reshape)\n",
    "print(\"Data Shape is : \", after_reshape.shape)\n",
    "\n",
    "## 항상 변경이 가능하지는 않다. 조건은 Size가 동일해야 한다\n",
    "# ones_arr를 다른 사이즈 변경해보세요. 3가지 정도\n",
    "after_reshape1=ones_arr.reshape(2,3,2)\n",
    "print(after_reshape1)\n",
    "print(\"-\"*20)\n",
    "after_reshape2=ones_arr.reshape(3,2,2)\n",
    "print(after_reshape2)\n",
    "print(\"-\"*20)\n",
    "after_reshape3=ones_arr.reshape(2,2,3)\n",
    "print(after_reshape3)\n",
    "print(\"-\"*20)\n",
    "\n",
    "### reshape()에서 -1의 의미는? 차원을 자동으로 계산한다는 의미\n",
    "after_reshape4 = ones_arr.reshape(-1,1)\n",
    "print(after_reshape4)"
   ]
  },
  {
   "cell_type": "code",
   "execution_count": 37,
   "metadata": {},
   "outputs": [
    {
     "name": "stdout",
     "output_type": "stream",
     "text": [
      "[0 1 2 3]\n",
      "my_array의 1번째 요소, 즉 0번인 것은 :  0\n",
      "my_array[0:3] :  [0 1 2]\n",
      "my_array[0:3] :  [0 1 2 3]\n",
      "my_array[0:3] :  [0 1]\n",
      "my_array[0:3] :  [0 1 2 3]\n",
      "my_array[0:3] :  [0 1 2]\n"
     ]
    }
   ],
   "source": [
    "### NumPy 인덱싱과 슬라이싱\n",
    "my_array = np.arange(0, 4)\n",
    "print(my_array)\n",
    "\n",
    "print(\"my_array의 1번째 요소, 즉 0번인 것은 : \",my_array[0])\n",
    "print(\"my_array[0:3] : \",my_array[0:3])\n",
    "print(\"my_array[0:3] : \",my_array[0:])\n",
    "print(\"my_array[0:3] : \",my_array[:2])\n",
    "print(\"my_array[0:3] : \",my_array[:])\n",
    "print(\"my_array[0:3] : \",my_array[0:-1])"
   ]
  },
  {
   "cell_type": "code",
   "execution_count": 42,
   "metadata": {},
   "outputs": [
    {
     "name": "stdout",
     "output_type": "stream",
     "text": [
      "[[ 2  4  6  8 10 12 14 16 18]\n",
      " [ 3  6  9 12 15 18 21 24 27]\n",
      " [ 4  8 12 16 20 24 28 32 36]\n",
      " [ 5 10 15 20 25 30 35 40 45]]\n",
      "(4, 9)\n",
      "[[2 4]\n",
      " [3 6]]\n",
      "[[ 3  6  9 12 15 18 21 24 27]\n",
      " [ 4  8 12 16 20 24 28 32 36]]\n"
     ]
    }
   ],
   "source": [
    "my_array2 = np.array(\n",
    "    [[2,4,6,8,10,12,14,16,18],\n",
    "     [3,6,9,12,15,18,21,24,27],\n",
    "     [4,8,12,16,20,24,28,32,36],\n",
    "     [5,10,15,20,25,30,35,40,45]]\n",
    ")\n",
    "print(my_array2)\n",
    "print(my_array2.shape)\n",
    "print(my_array2[0:2, 0:2])\n",
    "print(my_array2[1:3, :])"
   ]
  },
  {
   "cell_type": "code",
   "execution_count": 45,
   "metadata": {},
   "outputs": [
    {
     "name": "stdout",
     "output_type": "stream",
     "text": [
      "Height Matrix :  [174 165 182 180 168]\n",
      "np.sort() Matrix :  [165 168 174 180 182]\n",
      "np.sort()[::-1] :  [182 180 174 168 165]\n"
     ]
    }
   ],
   "source": [
    "### NumPy정렬 : sort(), argsort()\n",
    "\n",
    "# np.sort() : 원본에 변화를 주지 않고 복사본을 전달함\n",
    "height_arr = np.array([174, 165, 182, 180, 168])\n",
    "sorted_height_arr = np.sort(height_arr)\n",
    "print(\"Height Matrix : \", height_arr)\n",
    "print(\"np.sort() Matrix : \", sorted_height_arr)\n",
    "\n",
    "# 내림차순 정렬\n",
    "desc_sorted_height_arr = np.sort(height_arr)[::-1]\n",
    "print(\"np.sort()[::-1] : \", desc_sorted_height_arr)"
   ]
  },
  {
   "cell_type": "code",
   "execution_count": 47,
   "metadata": {},
   "outputs": [
    {
     "name": "stdout",
     "output_type": "stream",
     "text": [
      "original data :  [10  5 15 20]\n",
      "argsort() :  [1 0 2 3]\n",
      "Ascending :  [ 5 10 15 20]\n"
     ]
    }
   ],
   "source": [
    "### argsort()\n",
    "# numpy.argsort() 함수는 지정된 축을 따라 데이터 인덱스의 배열을 반환하도록\n",
    "# 지정된 종류의 정렬을 사용해 입력 배열에서 간접 정렬을 수행함\n",
    "\n",
    "fives = np.array([10,5,15,20])\n",
    "fives_order = fives.argsort()\n",
    "\n",
    "print(\"original data : \", fives)\n",
    "print(\"argsort() : \", fives_order)\n",
    "print(\"Ascending : \", fives[fives_order])\n",
    "\n",
    "# NumPyTutorials: https://numpy.org/learn/\n",
    "# NumPy Broadacsting: https://numpy.org/doc/stable/user/basics.broadcasting.html\n",
    "# 숙제. 같은 크기의 두 배열에 대한 연산과 서로 크기가 다른 두 배열의 연산을 공부하세요"
   ]
  },
  {
   "cell_type": "code",
   "execution_count": 4,
   "metadata": {},
   "outputs": [
    {
     "data": {
      "text/html": [
       "<div>\n",
       "<style scoped>\n",
       "    .dataframe tbody tr th:only-of-type {\n",
       "        vertical-align: middle;\n",
       "    }\n",
       "\n",
       "    .dataframe tbody tr th {\n",
       "        vertical-align: top;\n",
       "    }\n",
       "\n",
       "    .dataframe thead th {\n",
       "        text-align: right;\n",
       "    }\n",
       "</style>\n",
       "<table border=\"1\" class=\"dataframe\">\n",
       "  <thead>\n",
       "    <tr style=\"text-align: right;\">\n",
       "      <th></th>\n",
       "      <th>국적코드</th>\n",
       "      <th>성별</th>\n",
       "      <th>입국객수</th>\n",
       "    </tr>\n",
       "  </thead>\n",
       "  <tbody>\n",
       "    <tr>\n",
       "      <th>0</th>\n",
       "      <td>A01</td>\n",
       "      <td>남성</td>\n",
       "      <td>106320</td>\n",
       "    </tr>\n",
       "    <tr>\n",
       "      <th>1</th>\n",
       "      <td>A01</td>\n",
       "      <td>여성</td>\n",
       "      <td>191436</td>\n",
       "    </tr>\n",
       "    <tr>\n",
       "      <th>2</th>\n",
       "      <td>A31</td>\n",
       "      <td>남성</td>\n",
       "      <td>319</td>\n",
       "    </tr>\n",
       "  </tbody>\n",
       "</table>\n",
       "</div>"
      ],
      "text/plain": [
       "  국적코드  성별    입국객수\n",
       "0  A01  남성  106320\n",
       "1  A01  여성  191436\n",
       "2  A31  남성     319"
      ]
     },
     "execution_count": 4,
     "metadata": {},
     "output_type": "execute_result"
    }
   ],
   "source": [
    "## 판다스 .. 연습\n",
    "## sample.xlsx 데이터 불러오기\n",
    "\n",
    "import pandas as pd\n",
    "excel=pd.read_excel('data/sample_1.xlsx',\n",
    "                    header=1,\n",
    "                    skipfooter=2,\n",
    "                    usecols='A:C')\n",
    "excel.head(3)       #상위 5개 출력"
   ]
  },
  {
   "cell_type": "code",
   "execution_count": 5,
   "metadata": {},
   "outputs": [
    {
     "data": {
      "text/html": [
       "<div>\n",
       "<style scoped>\n",
       "    .dataframe tbody tr th:only-of-type {\n",
       "        vertical-align: middle;\n",
       "    }\n",
       "\n",
       "    .dataframe tbody tr th {\n",
       "        vertical-align: top;\n",
       "    }\n",
       "\n",
       "    .dataframe thead th {\n",
       "        text-align: right;\n",
       "    }\n",
       "</style>\n",
       "<table border=\"1\" class=\"dataframe\">\n",
       "  <thead>\n",
       "    <tr style=\"text-align: right;\">\n",
       "      <th></th>\n",
       "      <th>국적코드</th>\n",
       "      <th>성별</th>\n",
       "      <th>입국객수</th>\n",
       "    </tr>\n",
       "  </thead>\n",
       "  <tbody>\n",
       "    <tr>\n",
       "      <th>1</th>\n",
       "      <td>A01</td>\n",
       "      <td>여성</td>\n",
       "      <td>191436</td>\n",
       "    </tr>\n",
       "    <tr>\n",
       "      <th>2</th>\n",
       "      <td>A31</td>\n",
       "      <td>남성</td>\n",
       "      <td>319</td>\n",
       "    </tr>\n",
       "    <tr>\n",
       "      <th>3</th>\n",
       "      <td>A31</td>\n",
       "      <td>여성</td>\n",
       "      <td>42</td>\n",
       "    </tr>\n",
       "    <tr>\n",
       "      <th>4</th>\n",
       "      <td>A18</td>\n",
       "      <td>남성</td>\n",
       "      <td>158912</td>\n",
       "    </tr>\n",
       "    <tr>\n",
       "      <th>5</th>\n",
       "      <td>A18</td>\n",
       "      <td>여성</td>\n",
       "      <td>232943</td>\n",
       "    </tr>\n",
       "  </tbody>\n",
       "</table>\n",
       "</div>"
      ],
      "text/plain": [
       "  국적코드  성별    입국객수\n",
       "1  A01  여성  191436\n",
       "2  A31  남성     319\n",
       "3  A31  여성      42\n",
       "4  A18  남성  158912\n",
       "5  A18  여성  232943"
      ]
     },
     "execution_count": 5,
     "metadata": {},
     "output_type": "execute_result"
    }
   ],
   "source": [
    "## 하위 5개 출력 : tail()\n",
    "excel.tail()"
   ]
  },
  {
   "cell_type": "code",
   "execution_count": 6,
   "metadata": {},
   "outputs": [
    {
     "name": "stdout",
     "output_type": "stream",
     "text": [
      "<class 'pandas.core.frame.DataFrame'>\n",
      "RangeIndex: 6 entries, 0 to 5\n",
      "Data columns (total 3 columns):\n",
      " #   Column  Non-Null Count  Dtype \n",
      "---  ------  --------------  ----- \n",
      " 0   국적코드    6 non-null      object\n",
      " 1   성별      6 non-null      object\n",
      " 2   입국객수    6 non-null      int64 \n",
      "dtypes: int64(1), object(2)\n",
      "memory usage: 272.0+ bytes\n"
     ]
    }
   ],
   "source": [
    "## 데이터 정보 보기 : info()\n",
    "excel.info()"
   ]
  },
  {
   "cell_type": "code",
   "execution_count": 7,
   "metadata": {},
   "outputs": [
    {
     "data": {
      "text/html": [
       "<div>\n",
       "<style scoped>\n",
       "    .dataframe tbody tr th:only-of-type {\n",
       "        vertical-align: middle;\n",
       "    }\n",
       "\n",
       "    .dataframe tbody tr th {\n",
       "        vertical-align: top;\n",
       "    }\n",
       "\n",
       "    .dataframe thead th {\n",
       "        text-align: right;\n",
       "    }\n",
       "</style>\n",
       "<table border=\"1\" class=\"dataframe\">\n",
       "  <thead>\n",
       "    <tr style=\"text-align: right;\">\n",
       "      <th></th>\n",
       "      <th>입국객수</th>\n",
       "    </tr>\n",
       "  </thead>\n",
       "  <tbody>\n",
       "    <tr>\n",
       "      <th>count</th>\n",
       "      <td>6.000000</td>\n",
       "    </tr>\n",
       "    <tr>\n",
       "      <th>mean</th>\n",
       "      <td>114995.333333</td>\n",
       "    </tr>\n",
       "    <tr>\n",
       "      <th>std</th>\n",
       "      <td>98105.752006</td>\n",
       "    </tr>\n",
       "    <tr>\n",
       "      <th>min</th>\n",
       "      <td>42.000000</td>\n",
       "    </tr>\n",
       "    <tr>\n",
       "      <th>25%</th>\n",
       "      <td>26819.250000</td>\n",
       "    </tr>\n",
       "    <tr>\n",
       "      <th>50%</th>\n",
       "      <td>132616.000000</td>\n",
       "    </tr>\n",
       "    <tr>\n",
       "      <th>75%</th>\n",
       "      <td>183305.000000</td>\n",
       "    </tr>\n",
       "    <tr>\n",
       "      <th>max</th>\n",
       "      <td>232943.000000</td>\n",
       "    </tr>\n",
       "  </tbody>\n",
       "</table>\n",
       "</div>"
      ],
      "text/plain": [
       "                입국객수\n",
       "count       6.000000\n",
       "mean   114995.333333\n",
       "std     98105.752006\n",
       "min        42.000000\n",
       "25%     26819.250000\n",
       "50%    132616.000000\n",
       "75%    183305.000000\n",
       "max    232943.000000"
      ]
     },
     "execution_count": 7,
     "metadata": {},
     "output_type": "execute_result"
    }
   ],
   "source": [
    "## sample_1의 데이터 기초 통계량 확인 :describe()\n",
    "excel.describe()\n"
   ]
  },
  {
   "cell_type": "code",
   "execution_count": 12,
   "metadata": {},
   "outputs": [
    {
     "name": "stdout",
     "output_type": "stream",
     "text": [
      "0    106320\n",
      "1    191436\n",
      "2       319\n",
      "3        42\n",
      "4    158912\n",
      "5    232943\n",
      "Name: 입국객수, dtype: int64 <class 'pandas.core.series.Series'>\n",
      "  국적코드    입국객수\n",
      "0  A01  106320\n",
      "1  A01  191436\n",
      "2  A31     319\n",
      "3  A31      42\n",
      "4  A18  158912\n",
      "5  A18  232943 <class 'pandas.core.frame.DataFrame'>\n"
     ]
    }
   ],
   "source": [
    "## 연습.. 각 컬럼별 시리즈를 확인하세요\n",
    "# [입국객수],[국적코드, 입국객수],[국적코드,성별]\n",
    "excel\n",
    "print(excel['입국객수'],type(excel['입국객수']))\n",
    "print(excel[['국적코드','입국객수']],type(excel[['국적코드','입국객수']]))\n"
   ]
  },
  {
   "cell_type": "code",
   "execution_count": 14,
   "metadata": {},
   "outputs": [
    {
     "data": {
      "text/html": [
       "<div>\n",
       "<style scoped>\n",
       "    .dataframe tbody tr th:only-of-type {\n",
       "        vertical-align: middle;\n",
       "    }\n",
       "\n",
       "    .dataframe tbody tr th {\n",
       "        vertical-align: top;\n",
       "    }\n",
       "\n",
       "    .dataframe thead th {\n",
       "        text-align: right;\n",
       "    }\n",
       "</style>\n",
       "<table border=\"1\" class=\"dataframe\">\n",
       "  <thead>\n",
       "    <tr style=\"text-align: right;\">\n",
       "      <th></th>\n",
       "      <th>국적코드</th>\n",
       "      <th>성별</th>\n",
       "      <th>입국객수</th>\n",
       "      <th>기준년월</th>\n",
       "    </tr>\n",
       "  </thead>\n",
       "  <tbody>\n",
       "    <tr>\n",
       "      <th>0</th>\n",
       "      <td>A01</td>\n",
       "      <td>남성</td>\n",
       "      <td>106320</td>\n",
       "      <td>2019-11</td>\n",
       "    </tr>\n",
       "    <tr>\n",
       "      <th>1</th>\n",
       "      <td>A01</td>\n",
       "      <td>여성</td>\n",
       "      <td>191436</td>\n",
       "      <td>2019-11</td>\n",
       "    </tr>\n",
       "    <tr>\n",
       "      <th>2</th>\n",
       "      <td>A31</td>\n",
       "      <td>남성</td>\n",
       "      <td>319</td>\n",
       "      <td>2019-11</td>\n",
       "    </tr>\n",
       "    <tr>\n",
       "      <th>3</th>\n",
       "      <td>A31</td>\n",
       "      <td>여성</td>\n",
       "      <td>42</td>\n",
       "      <td>2019-11</td>\n",
       "    </tr>\n",
       "    <tr>\n",
       "      <th>4</th>\n",
       "      <td>A18</td>\n",
       "      <td>남성</td>\n",
       "      <td>158912</td>\n",
       "      <td>2019-11</td>\n",
       "    </tr>\n",
       "    <tr>\n",
       "      <th>5</th>\n",
       "      <td>A18</td>\n",
       "      <td>여성</td>\n",
       "      <td>232943</td>\n",
       "      <td>2019-11</td>\n",
       "    </tr>\n",
       "  </tbody>\n",
       "</table>\n",
       "</div>"
      ],
      "text/plain": [
       "  국적코드  성별    입국객수     기준년월\n",
       "0  A01  남성  106320  2019-11\n",
       "1  A01  여성  191436  2019-11\n",
       "2  A31  남성     319  2019-11\n",
       "3  A31  여성      42  2019-11\n",
       "4  A18  남성  158912  2019-11\n",
       "5  A18  여성  232943  2019-11"
      ]
     },
     "execution_count": 14,
     "metadata": {},
     "output_type": "execute_result"
    }
   ],
   "source": [
    "## df에 컬럼 생성 \"기준년월\" : 2019-11\n",
    "excel['기준년월']='2019-11'\n",
    "excel"
   ]
  },
  {
   "cell_type": "code",
   "execution_count": 18,
   "metadata": {},
   "outputs": [
    {
     "data": {
      "text/html": [
       "<div>\n",
       "<style scoped>\n",
       "    .dataframe tbody tr th:only-of-type {\n",
       "        vertical-align: middle;\n",
       "    }\n",
       "\n",
       "    .dataframe tbody tr th {\n",
       "        vertical-align: top;\n",
       "    }\n",
       "\n",
       "    .dataframe thead th {\n",
       "        text-align: right;\n",
       "    }\n",
       "</style>\n",
       "<table border=\"1\" class=\"dataframe\">\n",
       "  <thead>\n",
       "    <tr style=\"text-align: right;\">\n",
       "      <th></th>\n",
       "      <th>국적코드</th>\n",
       "      <th>성별</th>\n",
       "      <th>입국객수</th>\n",
       "      <th>기준년월</th>\n",
       "    </tr>\n",
       "  </thead>\n",
       "  <tbody>\n",
       "    <tr>\n",
       "      <th>4</th>\n",
       "      <td>A18</td>\n",
       "      <td>남성</td>\n",
       "      <td>158912</td>\n",
       "      <td>2019-11</td>\n",
       "    </tr>\n",
       "  </tbody>\n",
       "</table>\n",
       "</div>"
      ],
      "text/plain": [
       "  국적코드  성별    입국객수     기준년월\n",
       "4  A18  남성  158912  2019-11"
      ]
     },
     "execution_count": 18,
     "metadata": {},
     "output_type": "execute_result"
    }
   ],
   "source": [
    "## 필터링하기...\n",
    "# 1. 성별이 남성인 데이터 출력\n",
    "condition=(excel['성별']=='남성')\n",
    "excel[condition]\n",
    "# 2. 입국객수 15000 미만 출력\n",
    "condition=(excel['입국객수']<15000)\n",
    "excel[condition]\n",
    "# 3. 성별이 남성이면서 150000만 이상\n",
    "condition=(excel['성별']=='남성')&(excel['입국객수']>150000)\n",
    "excel[condition]\n"
   ]
  },
  {
   "cell_type": "code",
   "execution_count": 21,
   "metadata": {},
   "outputs": [
    {
     "data": {
      "text/html": [
       "<div>\n",
       "<style scoped>\n",
       "    .dataframe tbody tr th:only-of-type {\n",
       "        vertical-align: middle;\n",
       "    }\n",
       "\n",
       "    .dataframe tbody tr th {\n",
       "        vertical-align: top;\n",
       "    }\n",
       "\n",
       "    .dataframe thead th {\n",
       "        text-align: right;\n",
       "    }\n",
       "</style>\n",
       "<table border=\"1\" class=\"dataframe\">\n",
       "  <thead>\n",
       "    <tr style=\"text-align: right;\">\n",
       "      <th></th>\n",
       "      <th>국적코드</th>\n",
       "      <th>성별</th>\n",
       "      <th>입국객수</th>\n",
       "      <th>기준년월</th>\n",
       "    </tr>\n",
       "  </thead>\n",
       "  <tbody>\n",
       "    <tr>\n",
       "      <th>2</th>\n",
       "      <td>A31</td>\n",
       "      <td>남성</td>\n",
       "      <td>319</td>\n",
       "      <td>2019-11</td>\n",
       "    </tr>\n",
       "    <tr>\n",
       "      <th>3</th>\n",
       "      <td>A31</td>\n",
       "      <td>여성</td>\n",
       "      <td>42</td>\n",
       "      <td>2019-11</td>\n",
       "    </tr>\n",
       "  </tbody>\n",
       "</table>\n",
       "</div>"
      ],
      "text/plain": [
       "  국적코드  성별  입국객수     기준년월\n",
       "2  A31  남성   319  2019-11\n",
       "3  A31  여성    42  2019-11"
      ]
     },
     "execution_count": 21,
     "metadata": {},
     "output_type": "execute_result"
    }
   ],
   "source": [
    "## 4. 한 컬럼(시리즈)에서 여러조건 필터링\n",
    "# 국적 코드가 \"A01\",\"A18\"인 경우만 출력\n",
    "\n",
    "condition=(excel['국적코드']=='A01')|(excel['국적코드']=='A18')\n",
    "condition=(excel['국적코드'].isin(['A01','A18']))\n",
    "\n",
    "# 조건 제외 선택\n",
    "excel[condition==False]\n"
   ]
  },
  {
   "cell_type": "code",
   "execution_count": 23,
   "metadata": {},
   "outputs": [
    {
     "data": {
      "text/html": [
       "<div>\n",
       "<style scoped>\n",
       "    .dataframe tbody tr th:only-of-type {\n",
       "        vertical-align: middle;\n",
       "    }\n",
       "\n",
       "    .dataframe tbody tr th {\n",
       "        vertical-align: top;\n",
       "    }\n",
       "\n",
       "    .dataframe thead th {\n",
       "        text-align: right;\n",
       "    }\n",
       "</style>\n",
       "<table border=\"1\" class=\"dataframe\">\n",
       "  <thead>\n",
       "    <tr style=\"text-align: right;\">\n",
       "      <th></th>\n",
       "      <th>국적코드</th>\n",
       "      <th>국적명</th>\n",
       "    </tr>\n",
       "  </thead>\n",
       "  <tbody>\n",
       "    <tr>\n",
       "      <th>0</th>\n",
       "      <td>A01</td>\n",
       "      <td>일본</td>\n",
       "    </tr>\n",
       "    <tr>\n",
       "      <th>1</th>\n",
       "      <td>A02</td>\n",
       "      <td>대만</td>\n",
       "    </tr>\n",
       "    <tr>\n",
       "      <th>2</th>\n",
       "      <td>A03</td>\n",
       "      <td>홍콩</td>\n",
       "    </tr>\n",
       "    <tr>\n",
       "      <th>3</th>\n",
       "      <td>A18</td>\n",
       "      <td>중국</td>\n",
       "    </tr>\n",
       "    <tr>\n",
       "      <th>4</th>\n",
       "      <td>A19</td>\n",
       "      <td>이란</td>\n",
       "    </tr>\n",
       "    <tr>\n",
       "      <th>5</th>\n",
       "      <td>A22</td>\n",
       "      <td>우즈베키스탄</td>\n",
       "    </tr>\n",
       "    <tr>\n",
       "      <th>6</th>\n",
       "      <td>A23</td>\n",
       "      <td>카자흐스탄</td>\n",
       "    </tr>\n",
       "    <tr>\n",
       "      <th>7</th>\n",
       "      <td>A99</td>\n",
       "      <td>아시아 기타</td>\n",
       "    </tr>\n",
       "  </tbody>\n",
       "</table>\n",
       "</div>"
      ],
      "text/plain": [
       "  국적코드     국적명\n",
       "0  A01      일본\n",
       "1  A02      대만\n",
       "2  A03      홍콩\n",
       "3  A18      중국\n",
       "4  A19      이란\n",
       "5  A22  우즈베키스탄\n",
       "6  A23   카자흐스탄\n",
       "7  A99  아시아 기타"
      ]
     },
     "execution_count": 23,
     "metadata": {},
     "output_type": "execute_result"
    }
   ],
   "source": [
    "## 데이터 합치기\n",
    "# sample_codemaster.xlsx 파일을 code_master(DF)로 불러오기\n",
    "\n",
    "import pandas as pd\n",
    "codemaster=pd.read_excel('data/sample_codemaster.xlsx')\n",
    "codemaster"
   ]
  },
  {
   "cell_type": "code",
   "execution_count": 37,
   "metadata": {},
   "outputs": [
    {
     "data": {
      "text/html": [
       "<div>\n",
       "<style scoped>\n",
       "    .dataframe tbody tr th:only-of-type {\n",
       "        vertical-align: middle;\n",
       "    }\n",
       "\n",
       "    .dataframe tbody tr th {\n",
       "        vertical-align: top;\n",
       "    }\n",
       "\n",
       "    .dataframe thead th {\n",
       "        text-align: right;\n",
       "    }\n",
       "</style>\n",
       "<table border=\"1\" class=\"dataframe\">\n",
       "  <thead>\n",
       "    <tr style=\"text-align: right;\">\n",
       "      <th></th>\n",
       "      <th>국적코드</th>\n",
       "      <th>성별</th>\n",
       "      <th>입국객수</th>\n",
       "      <th>기준년월</th>\n",
       "      <th>국적명</th>\n",
       "    </tr>\n",
       "  </thead>\n",
       "  <tbody>\n",
       "    <tr>\n",
       "      <th>0</th>\n",
       "      <td>A01</td>\n",
       "      <td>남성</td>\n",
       "      <td>106320</td>\n",
       "      <td>2019-11</td>\n",
       "      <td>일본</td>\n",
       "    </tr>\n",
       "    <tr>\n",
       "      <th>1</th>\n",
       "      <td>A01</td>\n",
       "      <td>여성</td>\n",
       "      <td>191436</td>\n",
       "      <td>2019-11</td>\n",
       "      <td>일본</td>\n",
       "    </tr>\n",
       "    <tr>\n",
       "      <th>2</th>\n",
       "      <td>A31</td>\n",
       "      <td>남성</td>\n",
       "      <td>319</td>\n",
       "      <td>2019-11</td>\n",
       "      <td>NaN</td>\n",
       "    </tr>\n",
       "    <tr>\n",
       "      <th>3</th>\n",
       "      <td>A31</td>\n",
       "      <td>여성</td>\n",
       "      <td>42</td>\n",
       "      <td>2019-11</td>\n",
       "      <td>NaN</td>\n",
       "    </tr>\n",
       "    <tr>\n",
       "      <th>4</th>\n",
       "      <td>A18</td>\n",
       "      <td>남성</td>\n",
       "      <td>158912</td>\n",
       "      <td>2019-11</td>\n",
       "      <td>중국</td>\n",
       "    </tr>\n",
       "    <tr>\n",
       "      <th>5</th>\n",
       "      <td>A18</td>\n",
       "      <td>여성</td>\n",
       "      <td>232943</td>\n",
       "      <td>2019-11</td>\n",
       "      <td>중국</td>\n",
       "    </tr>\n",
       "  </tbody>\n",
       "</table>\n",
       "</div>"
      ],
      "text/plain": [
       "  국적코드  성별    입국객수     기준년월  국적명\n",
       "0  A01  남성  106320  2019-11   일본\n",
       "1  A01  여성  191436  2019-11   일본\n",
       "2  A31  남성     319  2019-11  NaN\n",
       "3  A31  여성      42  2019-11  NaN\n",
       "4  A18  남성  158912  2019-11   중국\n",
       "5  A18  여성  232943  2019-11   중국"
      ]
     },
     "execution_count": 37,
     "metadata": {},
     "output_type": "execute_result"
    }
   ],
   "source": [
    "# 옆으로 통합하기\n",
    "sample_1_code=pd.merge(left=excel,right=codemaster,how='left',# how left/right - 기준으로 표시\n",
    "                        left_on='국적코드',right_on='국적코드')        \n",
    "sample_1_code"
   ]
  },
  {
   "cell_type": "code",
   "execution_count": 43,
   "metadata": {},
   "outputs": [
    {
     "name": "stderr",
     "output_type": "stream",
     "text": [
      "C:\\Users\\djagk\\AppData\\Local\\Temp\\ipykernel_5128\\3479199419.py:9: FutureWarning: The frame.append method is deprecated and will be removed from pandas in a future version. Use pandas.concat instead.\n",
      "  sample=sample_1_code.append(sample_2,ignore_index=True)\n"
     ]
    },
    {
     "data": {
      "text/html": [
       "<div>\n",
       "<style scoped>\n",
       "    .dataframe tbody tr th:only-of-type {\n",
       "        vertical-align: middle;\n",
       "    }\n",
       "\n",
       "    .dataframe tbody tr th {\n",
       "        vertical-align: top;\n",
       "    }\n",
       "\n",
       "    .dataframe thead th {\n",
       "        text-align: right;\n",
       "    }\n",
       "</style>\n",
       "<table border=\"1\" class=\"dataframe\">\n",
       "  <thead>\n",
       "    <tr style=\"text-align: right;\">\n",
       "      <th></th>\n",
       "      <th>국적코드</th>\n",
       "      <th>성별</th>\n",
       "      <th>입국객수</th>\n",
       "      <th>기준년월</th>\n",
       "      <th>국적명</th>\n",
       "    </tr>\n",
       "  </thead>\n",
       "  <tbody>\n",
       "    <tr>\n",
       "      <th>0</th>\n",
       "      <td>A01</td>\n",
       "      <td>남성</td>\n",
       "      <td>106320</td>\n",
       "      <td>2019-11</td>\n",
       "      <td>일본</td>\n",
       "    </tr>\n",
       "    <tr>\n",
       "      <th>1</th>\n",
       "      <td>A01</td>\n",
       "      <td>여성</td>\n",
       "      <td>191436</td>\n",
       "      <td>2019-11</td>\n",
       "      <td>일본</td>\n",
       "    </tr>\n",
       "    <tr>\n",
       "      <th>2</th>\n",
       "      <td>A31</td>\n",
       "      <td>남성</td>\n",
       "      <td>319</td>\n",
       "      <td>2019-11</td>\n",
       "      <td>NaN</td>\n",
       "    </tr>\n",
       "    <tr>\n",
       "      <th>3</th>\n",
       "      <td>A31</td>\n",
       "      <td>여성</td>\n",
       "      <td>42</td>\n",
       "      <td>2019-11</td>\n",
       "      <td>NaN</td>\n",
       "    </tr>\n",
       "    <tr>\n",
       "      <th>4</th>\n",
       "      <td>A18</td>\n",
       "      <td>남성</td>\n",
       "      <td>158912</td>\n",
       "      <td>2019-11</td>\n",
       "      <td>중국</td>\n",
       "    </tr>\n",
       "    <tr>\n",
       "      <th>5</th>\n",
       "      <td>A18</td>\n",
       "      <td>여성</td>\n",
       "      <td>232943</td>\n",
       "      <td>2019-11</td>\n",
       "      <td>중국</td>\n",
       "    </tr>\n",
       "    <tr>\n",
       "      <th>6</th>\n",
       "      <td>A01</td>\n",
       "      <td>남성</td>\n",
       "      <td>92556</td>\n",
       "      <td>2019-12</td>\n",
       "      <td>NaN</td>\n",
       "    </tr>\n",
       "    <tr>\n",
       "      <th>7</th>\n",
       "      <td>A01</td>\n",
       "      <td>여성</td>\n",
       "      <td>163737</td>\n",
       "      <td>2019-12</td>\n",
       "      <td>NaN</td>\n",
       "    </tr>\n",
       "    <tr>\n",
       "      <th>8</th>\n",
       "      <td>A18</td>\n",
       "      <td>남성</td>\n",
       "      <td>155540</td>\n",
       "      <td>2019-12</td>\n",
       "      <td>NaN</td>\n",
       "    </tr>\n",
       "    <tr>\n",
       "      <th>9</th>\n",
       "      <td>A18</td>\n",
       "      <td>여성</td>\n",
       "      <td>249023</td>\n",
       "      <td>2019-12</td>\n",
       "      <td>NaN</td>\n",
       "    </tr>\n",
       "  </tbody>\n",
       "</table>\n",
       "</div>"
      ],
      "text/plain": [
       "  국적코드  성별    입국객수     기준년월  국적명\n",
       "0  A01  남성  106320  2019-11   일본\n",
       "1  A01  여성  191436  2019-11   일본\n",
       "2  A31  남성     319  2019-11  NaN\n",
       "3  A31  여성      42  2019-11  NaN\n",
       "4  A18  남성  158912  2019-11   중국\n",
       "5  A18  여성  232943  2019-11   중국\n",
       "6  A01  남성   92556  2019-12  NaN\n",
       "7  A01  여성  163737  2019-12  NaN\n",
       "8  A18  남성  155540  2019-12  NaN\n",
       "9  A18  여성  249023  2019-12  NaN"
      ]
     },
     "execution_count": 43,
     "metadata": {},
     "output_type": "execute_result"
    }
   ],
   "source": [
    "## 데이터 통합(아래)\n",
    "# -> sample_2 라는 df를 만드세요 sample_2.xlsx 사용\n",
    "# 국적 코드, 성별, 입국객수만 출력, 불필요 데이터 제거\n",
    "# 추가로 기준년월 :2019-12 추가\n",
    "sample_2=pd.read_excel('data/sample_2.xlsx', header=1,skipfooter=2,usecols='A:C')\n",
    "sample_2['기준년월']='2019-12'\n",
    "sample_2\n",
    "\n",
    "sample=sample_1_code.append(sample_2,ignore_index=True)\n",
    "sample\n"
   ]
  },
  {
   "cell_type": "code",
   "execution_count": 44,
   "metadata": {},
   "outputs": [
    {
     "data": {
      "text/html": [
       "<div>\n",
       "<style scoped>\n",
       "    .dataframe tbody tr th:only-of-type {\n",
       "        vertical-align: middle;\n",
       "    }\n",
       "\n",
       "    .dataframe tbody tr th {\n",
       "        vertical-align: top;\n",
       "    }\n",
       "\n",
       "    .dataframe thead th {\n",
       "        text-align: right;\n",
       "    }\n",
       "</style>\n",
       "<table border=\"1\" class=\"dataframe\">\n",
       "  <thead>\n",
       "    <tr style=\"text-align: right;\">\n",
       "      <th></th>\n",
       "      <th>국적코드</th>\n",
       "      <th>성별</th>\n",
       "      <th>입국객수</th>\n",
       "      <th>기준년월</th>\n",
       "      <th>국적명</th>\n",
       "    </tr>\n",
       "  </thead>\n",
       "  <tbody>\n",
       "    <tr>\n",
       "      <th>0</th>\n",
       "      <td>A01</td>\n",
       "      <td>남성</td>\n",
       "      <td>106320</td>\n",
       "      <td>2019-11</td>\n",
       "      <td>일본</td>\n",
       "    </tr>\n",
       "    <tr>\n",
       "      <th>1</th>\n",
       "      <td>A01</td>\n",
       "      <td>여성</td>\n",
       "      <td>191436</td>\n",
       "      <td>2019-11</td>\n",
       "      <td>일본</td>\n",
       "    </tr>\n",
       "    <tr>\n",
       "      <th>2</th>\n",
       "      <td>A31</td>\n",
       "      <td>남성</td>\n",
       "      <td>319</td>\n",
       "      <td>2019-11</td>\n",
       "      <td>NaN</td>\n",
       "    </tr>\n",
       "    <tr>\n",
       "      <th>3</th>\n",
       "      <td>A31</td>\n",
       "      <td>여성</td>\n",
       "      <td>42</td>\n",
       "      <td>2019-11</td>\n",
       "      <td>NaN</td>\n",
       "    </tr>\n",
       "    <tr>\n",
       "      <th>4</th>\n",
       "      <td>A18</td>\n",
       "      <td>남성</td>\n",
       "      <td>158912</td>\n",
       "      <td>2019-11</td>\n",
       "      <td>중국</td>\n",
       "    </tr>\n",
       "    <tr>\n",
       "      <th>5</th>\n",
       "      <td>A18</td>\n",
       "      <td>여성</td>\n",
       "      <td>232943</td>\n",
       "      <td>2019-11</td>\n",
       "      <td>중국</td>\n",
       "    </tr>\n",
       "    <tr>\n",
       "      <th>6</th>\n",
       "      <td>A01</td>\n",
       "      <td>남성</td>\n",
       "      <td>92556</td>\n",
       "      <td>2019-12</td>\n",
       "      <td>NaN</td>\n",
       "    </tr>\n",
       "    <tr>\n",
       "      <th>7</th>\n",
       "      <td>A01</td>\n",
       "      <td>여성</td>\n",
       "      <td>163737</td>\n",
       "      <td>2019-12</td>\n",
       "      <td>NaN</td>\n",
       "    </tr>\n",
       "    <tr>\n",
       "      <th>8</th>\n",
       "      <td>A18</td>\n",
       "      <td>남성</td>\n",
       "      <td>155540</td>\n",
       "      <td>2019-12</td>\n",
       "      <td>NaN</td>\n",
       "    </tr>\n",
       "    <tr>\n",
       "      <th>9</th>\n",
       "      <td>A18</td>\n",
       "      <td>여성</td>\n",
       "      <td>249023</td>\n",
       "      <td>2019-12</td>\n",
       "      <td>NaN</td>\n",
       "    </tr>\n",
       "  </tbody>\n",
       "</table>\n",
       "</div>"
      ],
      "text/plain": [
       "  국적코드  성별    입국객수     기준년월  국적명\n",
       "0  A01  남성  106320  2019-11   일본\n",
       "1  A01  여성  191436  2019-11   일본\n",
       "2  A31  남성     319  2019-11  NaN\n",
       "3  A31  여성      42  2019-11  NaN\n",
       "4  A18  남성  158912  2019-11   중국\n",
       "5  A18  여성  232943  2019-11   중국\n",
       "6  A01  남성   92556  2019-12  NaN\n",
       "7  A01  여성  163737  2019-12  NaN\n",
       "8  A18  남성  155540  2019-12  NaN\n",
       "9  A18  여성  249023  2019-12  NaN"
      ]
     },
     "execution_count": 44,
     "metadata": {},
     "output_type": "execute_result"
    }
   ],
   "source": [
    "## pandas 사용하여 병합하기\n",
    "sample2=pd.concat([sample_1_code,sample_2],ignore_index=True)\n",
    "sample2"
   ]
  },
  {
   "cell_type": "code",
   "execution_count": 45,
   "metadata": {},
   "outputs": [],
   "source": [
    "# 위 sample을 뎅이터 엑셀파일로 저장\n",
    "sample.to_excel('data/sample.xlsx')"
   ]
  },
  {
   "cell_type": "code",
   "execution_count": 46,
   "metadata": {},
   "outputs": [],
   "source": [
    "# 인덱스값 제거하여 저장\n",
    "sample2.to_excel('data/sample2.xlsx',index=False)"
   ]
  },
  {
   "cell_type": "code",
   "execution_count": 49,
   "metadata": {},
   "outputs": [
    {
     "data": {
      "text/html": [
       "<div>\n",
       "<style scoped>\n",
       "    .dataframe tbody tr th:only-of-type {\n",
       "        vertical-align: middle;\n",
       "    }\n",
       "\n",
       "    .dataframe tbody tr th {\n",
       "        vertical-align: top;\n",
       "    }\n",
       "\n",
       "    .dataframe thead th {\n",
       "        text-align: right;\n",
       "    }\n",
       "</style>\n",
       "<table border=\"1\" class=\"dataframe\">\n",
       "  <thead>\n",
       "    <tr style=\"text-align: right;\">\n",
       "      <th>기준년월</th>\n",
       "      <th>2019-11</th>\n",
       "    </tr>\n",
       "    <tr>\n",
       "      <th>국적명</th>\n",
       "      <th></th>\n",
       "    </tr>\n",
       "  </thead>\n",
       "  <tbody>\n",
       "    <tr>\n",
       "      <th>일본</th>\n",
       "      <td>148878.0</td>\n",
       "    </tr>\n",
       "    <tr>\n",
       "      <th>중국</th>\n",
       "      <td>195927.5</td>\n",
       "    </tr>\n",
       "  </tbody>\n",
       "</table>\n",
       "</div>"
      ],
      "text/plain": [
       "기준년월   2019-11\n",
       "국적명           \n",
       "일본    148878.0\n",
       "중국    195927.5"
      ]
     },
     "execution_count": 49,
     "metadata": {},
     "output_type": "execute_result"
    }
   ],
   "source": [
    "# 데이터 집계하기 (pivot_table)\n",
    "#pivot_table() 함수 활용\n",
    "sample_pivot=sample.pivot_table(values='입국객수',index='국적명',columns='기준년월',aggfunc='mean')\n",
    "sample_pivot"
   ]
  },
  {
   "cell_type": "code",
   "execution_count": 50,
   "metadata": {},
   "outputs": [
    {
     "data": {
      "text/html": [
       "<div>\n",
       "<style scoped>\n",
       "    .dataframe tbody tr th:only-of-type {\n",
       "        vertical-align: middle;\n",
       "    }\n",
       "\n",
       "    .dataframe tbody tr th {\n",
       "        vertical-align: top;\n",
       "    }\n",
       "\n",
       "    .dataframe thead th {\n",
       "        text-align: right;\n",
       "    }\n",
       "</style>\n",
       "<table border=\"1\" class=\"dataframe\">\n",
       "  <thead>\n",
       "    <tr style=\"text-align: right;\">\n",
       "      <th></th>\n",
       "      <th>입국객수</th>\n",
       "    </tr>\n",
       "    <tr>\n",
       "      <th>국적명</th>\n",
       "      <th></th>\n",
       "    </tr>\n",
       "  </thead>\n",
       "  <tbody>\n",
       "    <tr>\n",
       "      <th>일본</th>\n",
       "      <td>191436</td>\n",
       "    </tr>\n",
       "    <tr>\n",
       "      <th>중국</th>\n",
       "      <td>232943</td>\n",
       "    </tr>\n",
       "  </tbody>\n",
       "</table>\n",
       "</div>"
      ],
      "text/plain": [
       "       입국객수\n",
       "국적명        \n",
       "일본   191436\n",
       "중국   232943"
      ]
     },
     "execution_count": 50,
     "metadata": {},
     "output_type": "execute_result"
    }
   ],
   "source": [
    "sample_pivot_2=sample.pivot_table(values='입국객수',index='국적명',aggfunc='max')\n",
    "sample_pivot_2"
   ]
  },
  {
   "cell_type": "code",
   "execution_count": 51,
   "metadata": {},
   "outputs": [
    {
     "data": {
      "text/html": [
       "<div>\n",
       "<style scoped>\n",
       "    .dataframe tbody tr th:only-of-type {\n",
       "        vertical-align: middle;\n",
       "    }\n",
       "\n",
       "    .dataframe tbody tr th {\n",
       "        vertical-align: top;\n",
       "    }\n",
       "\n",
       "    .dataframe thead th {\n",
       "        text-align: right;\n",
       "    }\n",
       "</style>\n",
       "<table border=\"1\" class=\"dataframe\">\n",
       "  <thead>\n",
       "    <tr style=\"text-align: right;\">\n",
       "      <th></th>\n",
       "      <th>입국객수</th>\n",
       "    </tr>\n",
       "    <tr>\n",
       "      <th>국적명</th>\n",
       "      <th></th>\n",
       "    </tr>\n",
       "  </thead>\n",
       "  <tbody>\n",
       "    <tr>\n",
       "      <th>일본</th>\n",
       "      <td>106320</td>\n",
       "    </tr>\n",
       "    <tr>\n",
       "      <th>중국</th>\n",
       "      <td>158912</td>\n",
       "    </tr>\n",
       "  </tbody>\n",
       "</table>\n",
       "</div>"
      ],
      "text/plain": [
       "       입국객수\n",
       "국적명        \n",
       "일본   106320\n",
       "중국   158912"
      ]
     },
     "execution_count": 51,
     "metadata": {},
     "output_type": "execute_result"
    }
   ],
   "source": [
    "sample_pivot_3=sample.pivot_table(values='입국객수',index='국적명',aggfunc='min')\n",
    "sample_pivot_3"
   ]
  },
  {
   "cell_type": "code",
   "execution_count": 53,
   "metadata": {},
   "outputs": [
    {
     "data": {
      "text/html": [
       "<div>\n",
       "<style scoped>\n",
       "    .dataframe tbody tr th:only-of-type {\n",
       "        vertical-align: middle;\n",
       "    }\n",
       "\n",
       "    .dataframe tbody tr th {\n",
       "        vertical-align: top;\n",
       "    }\n",
       "\n",
       "    .dataframe thead th {\n",
       "        text-align: right;\n",
       "    }\n",
       "</style>\n",
       "<table border=\"1\" class=\"dataframe\">\n",
       "  <thead>\n",
       "    <tr style=\"text-align: right;\">\n",
       "      <th>기준년월</th>\n",
       "      <th>2019-11</th>\n",
       "    </tr>\n",
       "    <tr>\n",
       "      <th>국적명</th>\n",
       "      <th></th>\n",
       "    </tr>\n",
       "  </thead>\n",
       "  <tbody>\n",
       "    <tr>\n",
       "      <th>일본</th>\n",
       "      <td>297756</td>\n",
       "    </tr>\n",
       "    <tr>\n",
       "      <th>중국</th>\n",
       "      <td>391855</td>\n",
       "    </tr>\n",
       "  </tbody>\n",
       "</table>\n",
       "</div>"
      ],
      "text/plain": [
       "기준년월  2019-11\n",
       "국적명          \n",
       "일본     297756\n",
       "중국     391855"
      ]
     },
     "execution_count": 53,
     "metadata": {},
     "output_type": "execute_result"
    }
   ],
   "source": [
    "sample_pivot_4=sample.pivot_table(values='입국객수',index='국적명',columns='기준년월',aggfunc='sum')\n",
    "sample_pivot_4"
   ]
  }
 ],
 "metadata": {
  "interpreter": {
   "hash": "fb27240f79425b05cfdc60ec8aab2b2dfc885c099bc04dcc326b3070e76ef9c9"
  },
  "kernelspec": {
   "display_name": "Python 3.10.4 64-bit",
   "language": "python",
   "name": "python3"
  },
  "language_info": {
   "codemirror_mode": {
    "name": "ipython",
    "version": 3
   },
   "file_extension": ".py",
   "mimetype": "text/x-python",
   "name": "python",
   "nbconvert_exporter": "python",
   "pygments_lexer": "ipython3",
   "version": "3.10.4"
  },
  "orig_nbformat": 4
 },
 "nbformat": 4,
 "nbformat_minor": 2
}
