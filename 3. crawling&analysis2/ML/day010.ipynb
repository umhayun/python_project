{
 "cells": [
  {
   "cell_type": "code",
   "execution_count": null,
   "metadata": {},
   "outputs": [],
   "source": [
    "## scikit-learn 설치"
   ]
  },
  {
   "cell_type": "code",
   "execution_count": null,
   "metadata": {},
   "outputs": [],
   "source": [
    "pip install -U scikit-learn scipy matplotlib scikit-image"
   ]
  },
  {
   "cell_type": "code",
   "execution_count": 10,
   "metadata": {},
   "outputs": [
    {
     "name": "stdout",
     "output_type": "stream",
     "text": [
      "[0, 0, 0]\n",
      "[0, 1, 1]\n",
      "[1, 0, 1]\n",
      "[1, 1, 0]\n",
      "예측 결과 :  [1 0 1 0]\n",
      "정답률:  2 / 4 = 0.5\n"
     ]
    }
   ],
   "source": [
    "### XOR연산을 학습하는 프로그램\n",
    "from sklearn import svm\n",
    "\n",
    "### XOR의 계산 데이터\n",
    "xor_data=[\n",
    "    #P,Q,Result\n",
    "    [0,0,0],\n",
    "    [0,1,1],\n",
    "    [1,0,1],\n",
    "    [1,1,0]\n",
    "]\n",
    "\n",
    "# 학습을 위해서 데이터와 레이블 분리\n",
    "data=[]\n",
    "label=[]\n",
    "for row in xor_data:\n",
    "    print(row)\n",
    "    p=row[0]\n",
    "    q=row[1]\n",
    "    re=row[2]\n",
    "    data.append([p,q])\n",
    "    label.append(re)\n",
    "\n",
    "# 데이터 학습 시키기\n",
    "clf=svm.SVC()\n",
    "clf.fit(data,label)\n",
    "# data1=[\n",
    "#     [0,1],\n",
    "#     [0,0],\n",
    "#     [1,0],\n",
    "#     [1,1]\n",
    "# ]\n",
    "#데이터 예측하기\n",
    "pre=clf.predict(data)\n",
    "print('예측 결과 : ',pre)\n",
    "\n",
    "# 결과 확인\n",
    "ok=0;total=0\n",
    "for idx,answer in enumerate(label):     # 인덱스와 값 동시에 나오기\n",
    "    p=pre[idx]\n",
    "    if p==answer:\n",
    "        ok+=1\n",
    "    total+=1\n",
    "print('정답률: ',ok,'/',total,'=',ok/total)\n",
    "\n",
    "##SVM알고리즘 장단점\n",
    "# 장점\n",
    "# - 비선형 분리데이터를 커널트릭을 사용하여 분류 모델링 가능\n",
    "# - 고차원 공간에서 원할하게 작동함\n",
    "# - 텍스트 분류 및 이미지 분류에 효과적임\n",
    "#단점\n",
    "# - 대용량 데이터셋 처리에는 많은 시간이 소요(마진 길이가 줄어들기 때문)\n",
    "# - 확률 추정치를 직접적으로 반환X"
   ]
  },
  {
   "cell_type": "code",
   "execution_count": 15,
   "metadata": {},
   "outputs": [
    {
     "name": "stdout",
     "output_type": "stream",
     "text": [
      "정답률= 1.0\n"
     ]
    }
   ],
   "source": [
    "import pandas as pd\n",
    "from sklearn import svm,metrics\n",
    "### XOR의 계산 데이터\n",
    "xor_input=[\n",
    "    #P,Q,Result\n",
    "    [0,0,0],\n",
    "    [0,1,1],\n",
    "    [1,0,1],\n",
    "    [1,1,0]\n",
    "]\n",
    "## 입력을 학습 전용 데이터와 테스트 전용 데이터로 분류하기\n",
    "xor_df=pd.DataFrame(xor_input)\n",
    "xor_data=xor_df.iloc[:,0:2]   # 데이터\n",
    "xor_label=xor_df.iloc[:,2]    #레이블\n",
    "\n",
    "## 데이터 학습과 예측하기\n",
    "clf=svm.SVC()\n",
    "clf.fit(xor_data,xor_label)\n",
    "pre=clf.predict(xor_data)\n",
    "\n",
    "# 정답률 구하기\n",
    "ac_score=metrics.accuracy_score(xor_label,pre)\n",
    "print('정답률=',ac_score)"
   ]
  },
  {
   "cell_type": "code",
   "execution_count": 19,
   "metadata": {},
   "outputs": [
    {
     "name": "stdout",
     "output_type": "stream",
     "text": [
      "정답률 =  0.92\n"
     ]
    }
   ],
   "source": [
    "import random,re\n",
    "import pandas as pd\n",
    "from sklearn import svm,metrics\n",
    "## 붓꽃 데이터 읽어오기\n",
    "csv=[]\n",
    "with open('data/iris.csv','r',encoding='utf8') as fp:\n",
    "    for line in fp:\n",
    "        line=line.strip()\n",
    "        cols=line.split(',')\n",
    "        ## 문자열 데이터를 숫자로 변환\n",
    "        fn=lambda n :float(n) if re.match(r'[0-9\\.]+$',n) else n\n",
    "        cols=list(map(fn,cols))\n",
    "        csv.append(cols)\n",
    "# 헤더제거\n",
    "del csv[0]\n",
    "\n",
    "# 데이터 섞기\n",
    "random.shuffle(csv)\n",
    "csv\n",
    "\n",
    "# 학습 전용 데이터와 테스트 전용 데이터 분할하기(2:1 비율)\n",
    "total_len=len(csv)\n",
    "total_len\n",
    "train_len=int(total_len*2/3)\n",
    "train_data=[]\n",
    "train_label=[]\n",
    "test_data=[]\n",
    "test_label=[]\n",
    "\n",
    "for i in range(total_len):\n",
    "    data=csv[i][0:4]\n",
    "    label=csv[i][4]\n",
    "    if i <train_len:\n",
    "        train_data.append(data)\n",
    "        train_label.append(label)\n",
    "    else:\n",
    "        test_data.append(data)\n",
    "        test_label.append(label)\n",
    "\n",
    "# 데이터 학습 시키고 예측하기\n",
    "clf=svm.SVC()\n",
    "clf.fit(train_data,train_label)\n",
    "pre=clf.predict(test_data)\n",
    "\n",
    "# 정답률 구하기\n",
    "ac_score=metrics.accuracy_score(test_label,pre)\n",
    "print(\"정답률 = \",ac_score)"
   ]
  },
  {
   "cell_type": "code",
   "execution_count": 26,
   "metadata": {},
   "outputs": [
    {
     "name": "stdout",
     "output_type": "stream",
     "text": [
      "정답률 = 1.0\n"
     ]
    }
   ],
   "source": [
    "## iris를 이용한 데이터 처리에서 분할 메서드 사용\n",
    "import pandas as pd\n",
    "from sklearn import svm,metrics\n",
    "from sklearn.model_selection import train_test_split\n",
    "\n",
    "# 붓꽃 데이터 읽어 들이기(PANDAS)\n",
    "csv=pd.read_csv('data/iris.csv')\n",
    "\n",
    "# 필요한 열 추출\n",
    "csv_data=csv[['SepalLength','SepalWidth','PetalLength','PetalWidth']]\n",
    "csv_label=csv['Name']\n",
    "\n",
    "# 학습 전용 데이터와 테스트 전용 데이터로 나누기\n",
    "train_data,test_data,train_label,test_label=train_test_split(csv_data,csv_label)\n",
    "\n",
    "# 데이터 학습시키고 예측하기\n",
    "clf=svm.SVC()\n",
    "clf.fit(train_data,train_label)\n",
    "pre=clf.predict(test_data)\n",
    "\n",
    "# 정답률구하기\n",
    "ac_score=metrics.accuracy_score(test_label,pre)\n",
    "print('정답률 =',ac_score)"
   ]
  },
  {
   "cell_type": "code",
   "execution_count": 32,
   "metadata": {},
   "outputs": [
    {
     "name": "stdout",
     "output_type": "stream",
     "text": [
      "download: http://yann.lecun.com/exdb/mnist/train-images-idx3-ubyte.gz\n",
      "download: http://yann.lecun.com/exdb/mnist/train-labels-idx1-ubyte.gz\n",
      "download: http://yann.lecun.com/exdb/mnist/t10k-images-idx3-ubyte.gz\n",
      "download: http://yann.lecun.com/exdb/mnist/t10k-labels-idx1-ubyte.gz\n"
     ]
    }
   ],
   "source": [
    "## 이미지 내부의 문자 인식\n",
    "# 사이트 주소 : http://yann.lecun.com/exdb/mnist/\n",
    "\n",
    "import urllib.request as req\n",
    "import gzip,os,os.path\n",
    "\n",
    "savepath='data/mnist'\n",
    "baseurl='http://yann.lecun.com/exdb/mnist'\n",
    "files=[\n",
    "    'train-images-idx3-ubyte.gz',\n",
    "    'train-labels-idx1-ubyte.gz',\n",
    "    't10k-images-idx3-ubyte.gz',\n",
    "    't10k-labels-idx1-ubyte.gz'\n",
    "]\n",
    "\n",
    "# 다운로드\n",
    "if not os.path.exists(savepath): \n",
    "    os.mkdir(savepath)\n",
    "for f in files:\n",
    "    url=baseurl+'/'+f\n",
    "    loc=savepath+'/'+f\n",
    "    print('download:',url)\n",
    "    if not os.path.exists(loc):\n",
    "        req.urlretrieve(url,loc)\n",
    "\n"
   ]
  },
  {
   "cell_type": "code",
   "execution_count": 33,
   "metadata": {},
   "outputs": [
    {
     "name": "stdout",
     "output_type": "stream",
     "text": [
      "gzip: train-images-idx3-ubyte.gz\n",
      "gzip: train-labels-idx1-ubyte.gz\n",
      "gzip: t10k-images-idx3-ubyte.gz\n",
      "gzip: t10k-labels-idx1-ubyte.gz\n",
      "ok\n"
     ]
    }
   ],
   "source": [
    "# GZip 압축 해체\n",
    "for f in files:\n",
    "    gz_file=savepath+'/'+f\n",
    "    raw_file=savepath+'/'+f.replace('.gz','')\n",
    "    print('gzip:',f)\n",
    "    with gzip.open(gz_file,'rb') as fp:\n",
    "        body=fp.read()\n",
    "        with open(raw_file,'wb') as w:\n",
    "            w.write(body)\n",
    "print('ok')"
   ]
  },
  {
   "cell_type": "code",
   "execution_count": 45,
   "metadata": {},
   "outputs": [],
   "source": [
    "import struct\n",
    "def to_csv(name,maxdata):\n",
    "    #레이블 파일과 이미지 파일 열기\n",
    "    lbl_f=open('data/mnist/'+name+'-labels-idx1-ubyte','rb')\n",
    "    img_f=open('data/mnist/'+name+'-images-idx3-ubyte','rb')\n",
    "    csv_f=open('data/mnist/'+name+'.csv','w',encoding='utf8')\n",
    "    # 헤더정보 읽기\n",
    "    mag, lbl_count=struct.unpack('>II',lbl_f.read(8))\n",
    "    mag, img_count=struct.unpack('>II',img_f.read(8))\n",
    "    rows,cols=struct.unpack('>II',img_f.read(8))\n",
    "    pixels=rows*cols\n",
    "    # 이미지 데이터를 읽고 csv로 저장하기\n",
    "    res=[]\n",
    "    for idx in range(lbl_count):\n",
    "        if idx>maxdata:\n",
    "            break\n",
    "        label=struct.unpack('B',lbl_f.read(1))[0]\n",
    "        bdata=img_f.read(pixels)\n",
    "        sdata=list(map(lambda n: str(n),bdata))\n",
    "        csv_f.write(str(label)+',')\n",
    "        csv_f.write(','.join(sdata)+'\\r\\n')\n",
    "        # 잘 저장되었는지 이미지 파일로 저장해서 테스트하기\n",
    "        if  idx<10:\n",
    "            s='P2 28 28 255\\n'\n",
    "            s+=''.join(sdata)\n",
    "            iname='data/mnist/{0}-{1}-{2}.pgm'.format(name,idx,label)\n",
    "            with open(iname,'w',encoding='utf8') as f:\n",
    "                f.write(s)\n",
    "    csv_f.close()\n",
    "    lbl_f.close()\n",
    "    img_f.close()\n",
    "\n",
    "to_csv('train',1000)\n",
    "to_csv('t10k',500)\n",
    "  \n",
    "\n"
   ]
  },
  {
   "cell_type": "code",
   "execution_count": 53,
   "metadata": {},
   "outputs": [
    {
     "name": "stdout",
     "output_type": "stream",
     "text": [
      "정답률= 0.8842315369261478\n",
      "리포트=\n",
      "              precision    recall  f1-score   support\n",
      "\n",
      "           0       0.87      0.98      0.92        42\n",
      "           1       0.99      1.00      0.99        67\n",
      "           2       0.91      0.89      0.90        55\n",
      "           3       0.94      0.72      0.81        46\n",
      "           4       0.86      0.93      0.89        55\n",
      "           5       0.75      0.82      0.78        50\n",
      "           6       0.95      0.81      0.88        43\n",
      "           7       0.79      0.94      0.86        49\n",
      "           8       0.94      0.82      0.88        40\n",
      "           9       0.89      0.87      0.88        54\n",
      "\n",
      "    accuracy                           0.88       501\n",
      "   macro avg       0.89      0.88      0.88       501\n",
      "weighted avg       0.89      0.88      0.88       501\n",
      "\n"
     ]
    }
   ],
   "source": [
    "### 이미지 데이터 학습 시키기\n",
    "# 1. csv 파일에서 학습 데이터와 테스트 데이터 읽기\n",
    "# 2. 학습 데이터를 사용해 이미지 픽셀을 학습시킵니다.\n",
    "# 3. 테스트 데이터를 활용해 예측합니다.\n",
    "# 4. 예측 결과와 답을 비교해서 정답률을 구합니다..\n",
    "from sklearn import model_selection,svm,metrics\n",
    "# 1. csv 파일에서 학습 데이터와 테스트 데이터 읽기\n",
    "def load_csv(fname):\n",
    "    labels=[]\n",
    "    images=[]\n",
    "    with open(fname,'r') as f:\n",
    "        for line in f:\n",
    "            cols=line.split(',')\n",
    "            if len(cols)<2:\n",
    "                continue\n",
    "            labels.append(int(cols.pop(0)))\n",
    "            vals=list(map(lambda n:int(n)/256,cols))\n",
    "            images.append(vals)\n",
    "    return {'labels':labels,'images':images}\n",
    "\n",
    "data=load_csv('data/mnist/train.csv')\n",
    "test=load_csv('data/mnist/t10k.csv')\n",
    "\n",
    "# 2. 학습 시키기\n",
    "clf=svm.SVC()\n",
    "clf.fit(data['images'],data['labels'])\n",
    "\n",
    "# 3. 예측하기\n",
    "predict=clf.predict(test['images'])\n",
    "\n",
    "# 4. 결과 확인\n",
    "ac_score=metrics.accuracy_score(test['labels'],predict)\n",
    "cl_report=metrics.classification_report(test['labels'],predict)\n",
    "print('정답률=',ac_score)\n",
    "print('리포트=')\n",
    "print(cl_report)"
   ]
  },
  {
   "cell_type": "code",
   "execution_count": 67,
   "metadata": {},
   "outputs": [
    {
     "name": "stdout",
     "output_type": "stream",
     "text": [
      "정답률= 1.0\n",
      "리포트=\n",
      "              precision    recall  f1-score   support\n",
      "\n",
      "          en       1.00      1.00      1.00         2\n",
      "          fr       1.00      1.00      1.00         2\n",
      "          id       1.00      1.00      1.00         2\n",
      "          tl       1.00      1.00      1.00         2\n",
      "\n",
      "    accuracy                           1.00         8\n",
      "   macro avg       1.00      1.00      1.00         8\n",
      "weighted avg       1.00      1.00      1.00         8\n",
      "\n"
     ]
    }
   ],
   "source": [
    "## 외국어 판별을 위한 프로그램\n",
    "from sklearn import svm, metrics\n",
    "import glob, os.path, re, json\n",
    "\n",
    "## 텍스트를 읽어 들이고, 출현 빈도 조사\n",
    "def check_freq(fname):\n",
    "    name=os.path.basename(fname)\n",
    "    lang=re.match(r'^[a-z]{2,}',name).group()\n",
    "    with open(fname,'r',encoding='utf-8') as f:\n",
    "        text=f.read()\n",
    "    text=text.lower()       # 소문자 변환\n",
    "    \n",
    "    #숫자 세기 변수(cnt) 초기화 하기\n",
    "    cnt=[0 for n in range(0,26)]    # 알파벳 숫자만큼 초기값 설정 0 26개\n",
    "    code_a=ord('a')\n",
    "    code_z=ord('z')\n",
    "    # 알파벳 출현 횟수 구하기\n",
    "    for ch in text:\n",
    "        n=ord(ch)\n",
    "        if code_a<=n<=code_z:\n",
    "            cnt[n-code_a]+=1\n",
    "    # 정규화 작업\n",
    "    total=sum(cnt)\n",
    "    freq=list(map(lambda n: n/total,cnt))\n",
    "    return (freq,lang)\n",
    "\n",
    "# 각 파일 처리하기\n",
    "def load_files(path):\n",
    "    freqs=[]\n",
    "    labels=[]\n",
    "    file_list=glob.glob(path)\n",
    "    for fname in file_list:\n",
    "        r=check_freq(fname)\n",
    "        freqs.append(r[0])\n",
    "        labels.append(r[1])\n",
    "    return {\"freqs\":freqs,'labels':labels}\n",
    "\n",
    "data=load_files('data/lang/train/*.txt')\n",
    "test=load_files('data/lang/test/*.txt')\n",
    "\n",
    "# 이후를 대비해서 json으로 결과 저장\n",
    "with open('data/lang/freq.json','w',encoding='utf8') as fp:\n",
    "    json.dump([data,test],fp)\n",
    "\n",
    "#학습하기\n",
    "clf=svm.SVC()\n",
    "clf.fit(data['freqs'],data['labels'])\n",
    "\n",
    "# 예측하기\n",
    "predict=clf.predict(test['freqs'])\n",
    "\n",
    "# 결과 테스트하기\n",
    "ac_score=metrics.accuracy_score(test['labels'],predict)\n",
    "cl_report=metrics.classification_report(test['labels'],predict)\n",
    "print('정답률=',ac_score)\n",
    "print('리포트=')\n",
    "print(cl_report)"
   ]
  },
  {
   "cell_type": "code",
   "execution_count": 94,
   "metadata": {},
   "outputs": [
    {
     "data": {
      "image/png": "[encoded data removed]",
      "text/plain": [
       "<Figure size 432x288 with 4 Axes>"
      ]
     },
     "metadata": {},
     "output_type": "display_data"
    }
   ],
   "source": [
    "import matplotlib.pyplot as plt\n",
    "import pandas as pd\n",
    "import json\n",
    "\n",
    "# 알파벳 출현 빈도 데이터 읽어오기\n",
    "with open('data/lang/freq.json','r',encoding='utf8') as fp:\n",
    "    freq=json.load(fp)\n",
    "# 언어마다 계산하기\n",
    "lang_dic={}\n",
    "for i, lbl in enumerate(freq[0]['labels']):\n",
    "    fq=freq[0]['freqs'][i]\n",
    "    if not (lbl in lang_dic):\n",
    "        lang_dic[lbl]=fq\n",
    "        continue\n",
    "    for idx,v in enumerate(fq):\n",
    "        lang_dic[lbl][idx]=(lang_dic[lbl][idx]+v)/2\n",
    "        \n",
    "# pandas에 넣기\n",
    "asclist=[chr(n) for n in range(97,97+26)]\n",
    "df=pd.DataFrame(lang_dic,index=asclist)\n",
    "\n",
    "# 그래프 그리기\n",
    "plt.style.use('ggplot')\n",
    "df.plot(kind='line',subplots=True,ylim=(0,0.15))\n",
    "plt.savefig('data/lang/lang-plot.png')\n",
    "plt.show()"
   ]
  },
  {
   "cell_type": "code",
   "execution_count": 99,
   "metadata": {},
   "outputs": [
    {
     "name": "stdout",
     "output_type": "stream",
     "text": [
      "ok\n"
     ]
    }
   ],
   "source": [
    "## 학습한 매개변수를 저장하는 프로그램\n",
    "\n",
    "from sklearn import svm\n",
    "import joblib\n",
    "import json\n",
    "# 각 언어 출현빈도 데이터 읽어 들이기\n",
    "with open('data/lang/freq.json','r',encoding='utf8') as fp:\n",
    "    d=json.load(fp)\n",
    "    data=d[0]\n",
    "# 데이터 학습하기\n",
    "clf=svm.SVC()\n",
    "clf.fit(data['freqs'],data['labels'])\n",
    "# 학습 데이터 저장하기\n",
    "joblib.dump(clf,'data/lang/freq.pkl')\n",
    "print('ok')\n",
    "\n"
   ]
  },
  {
   "cell_type": "code",
   "execution_count": null,
   "metadata": {},
   "outputs": [],
   "source": [
    "#!/usr/bin/env python3\n",
    "import cgi, os.path\n",
    "import joblib\n",
    "# 학습 데이터 읽어 들이기\n",
    "pklfile = \"freq.pkl\"\n",
    "clf = joblib.load(pklfile)\n",
    "# 텍스트 입력 양식 출력하기\n",
    "def show_form(text, msg=\"\"):\n",
    "    print(\"Content-Type: text/html; charset=utf-8\")\n",
    "    print(\"\")\n",
    "    print(\"\"\"\n",
    "        <html><body><form>\n",
    "        <textarea name=\"text\" rows=\"8\" cols=\"40\">{0}</textarea>\n",
    "        <p><input type=\"submit\" value=\"판정\"></p>\n",
    "        <p>{1}</p>\n",
    "        </form></body></html>\n",
    "    \"\"\".format(cgi.escape(text), msg))\n",
    "# 판정하기\n",
    "def detect_lang(text):\n",
    "    # 알파벳 출현 빈도 구하기\n",
    "    text = text.lower() \n",
    "    code_a, code_z = (ord(\"a\"), ord(\"z\"))\n",
    "    cnt = [0 for i in range(26)]\n",
    "    for ch in text:\n",
    "        n = ord(ch) - code_a\n",
    "        if 0 <= n < 26: cnt[n] += 1\n",
    "    total = sum(cnt)\n",
    "    if total == 0: return \"입력이 없습니다\"\n",
    "    freq = list(map(lambda n: n/total, cnt))\n",
    "    # 언어 예측하기\n",
    "    res = clf.predict([freq])\n",
    "    # 언어 코드를 한국어로 변환하기\n",
    "    lang_dic = {\"en\":\"영어\",\"fr\":\"프랑스어\",\n",
    "        \"id\":\"인도네시아어\", \"tl\":\"타갈로그어\"}\n",
    "    return lang_dic[res[0]]\n",
    "# 입력 양식의 값 읽어 들이기\n",
    "form = cgi.FieldStorage()\n",
    "text = form.getvalue(\"text\", default=\"\")\n",
    "msg = \"\"\n",
    "if text != \"\":\n",
    "    lang = detect_lang(text)\n",
    "    msg = \"판정 결과:\" + lang\n",
    "# 입력 양식 출력\n",
    "show_form(text, msg)"
   ]
  },
  {
   "cell_type": "code",
   "execution_count": 101,
   "metadata": {},
   "outputs": [
    {
     "name": "stdout",
     "output_type": "stream",
     "text": [
      "ok {'thin': 6332, 'normal': 5968, 'fat': 7700}\n"
     ]
    }
   ],
   "source": [
    "## BMI 활용해 비만 측정\n",
    "import random\n",
    "# BMI를 계산해서 레이블을 리턴하는 함수\n",
    "def cal_bmi(h,w):\n",
    "    bmi=w/(h/100)**2\n",
    "    if bmi <18.5:\n",
    "        return 'thin'\n",
    "    if bmi<25:\n",
    "        return 'normal'\n",
    "    return 'fat'\n",
    "# 출력파일 준비하기\n",
    "fp=open('bmi.csv','w',encoding='utf8')\n",
    "fp.write('height,weight,label\\r\\n')\n",
    "\n",
    "#무작위로 데이터 생성\n",
    "cnt={'thin':0,'normal':0,'fat':0}\n",
    "for i in range(20000):\n",
    "    h=random.randint(120,200)\n",
    "    w=random.randint(35,80)\n",
    "    label=cal_bmi(h,w)\n",
    "    cnt[label]+=1\n",
    "    fp.write(f\"{h},{w},{label}\\r\\n\")\n",
    "fp.close()\n",
    "print('ok',cnt)"
   ]
  },
  {
   "cell_type": "code",
   "execution_count": 103,
   "metadata": {},
   "outputs": [
    {
     "name": "stdout",
     "output_type": "stream",
     "text": [
      "정답률= 0.9954\n",
      "리포트=\n",
      "               precision    recall  f1-score   support\n",
      "\n",
      "         fat       1.00      1.00      1.00      1930\n",
      "      normal       0.99      0.99      0.99      1504\n",
      "        thin       1.00      0.99      1.00      1566\n",
      "\n",
      "    accuracy                           1.00      5000\n",
      "   macro avg       1.00      1.00      1.00      5000\n",
      "weighted avg       1.00      1.00      1.00      5000\n",
      "\n"
     ]
    }
   ],
   "source": [
    "from sklearn import svm, metrics\n",
    "from sklearn.model_selection import train_test_split\n",
    "import matplotlib.pyplot as plt\n",
    "import pandas as pd\n",
    "\n",
    "# 키와 몸무게 데이터 읽어 들이기\n",
    "tbl=pd.read_csv('bmi.csv')\n",
    "\n",
    "# 컬럼 자르고 정규화\n",
    "label=tbl['label']\n",
    "w=tbl['weight']/100 #최대 100키로라고 가정\n",
    "h=tbl['height']/200 #최대 200cm라고 가정\n",
    "wh=pd.concat([w,h],axis=1)\n",
    "\n",
    "#학습과 테스트로 데이터 나누기\n",
    "data_train,data_test,label_train,label_test=train_test_split(wh,label)\n",
    "\n",
    "# 데이터 학습\n",
    "clf=svm.SVC()\n",
    "clf.fit(data_train,label_train)\n",
    "\n",
    "#데이터 예측\n",
    "predict=clf.predict(data_test)\n",
    "\n",
    "#결과 테스트\n",
    "ac_score=metrics.accuracy_score(label_test,predict)\n",
    "cl_report=metrics.classification_report(label_test,predict)\n",
    "print('정답률=',ac_score)\n",
    "print('리포트=\\n',cl_report)"
   ]
  },
  {
   "cell_type": "code",
   "execution_count": 105,
   "metadata": {},
   "outputs": [
    {
     "data": {
      "image/png": "[encoded data removed]",
      "text/plain": [
       "<Figure size 432x288 with 1 Axes>"
      ]
     },
     "metadata": {},
     "output_type": "display_data"
    }
   ],
   "source": [
    "import matplotlib.pyplot as plt\n",
    "import pandas as pd\n",
    "\n",
    "#pandas로 csv 파일 읽어들이기\n",
    "tbl=pd.read_csv('bmi.csv',index_col=2)\n",
    "\n",
    "#그래프 그리기 시작\n",
    "fig=plt.figure()\n",
    "ax=fig.add_subplot(1,1,1)\n",
    "\n",
    "#서브 플롯 전용 - 지정한 레이블을 임의의 색으로 칠하기\n",
    "def scatter(lbl,color):\n",
    "    b=tbl.loc[lbl]\n",
    "    ax.scatter(b['weight'],b['height'],c=color,label=lbl)\n",
    "scatter('fat','red')\n",
    "scatter('normal','yellow')\n",
    "scatter('thin','purple')\n",
    "\n",
    "ax.legend()\n",
    "plt.savefig('bmi-test.png')\n",
    "plt.show()"
   ]
  }
 ],
 "metadata": {
  "interpreter": {
   "hash": "fb27240f79425b05cfdc60ec8aab2b2dfc885c099bc04dcc326b3070e76ef9c9"
  },
  "kernelspec": {
   "display_name": "Python 3.10.4 64-bit",
   "language": "python",
   "name": "python3"
  },
  "language_info": {
   "codemirror_mode": {
    "name": "ipython",
    "version": 3
   },
   "file_extension": ".py",
   "mimetype": "text/x-python",
   "name": "python",
   "nbconvert_exporter": "python",
   "pygments_lexer": "ipython3",
   "version": "3.10.4"
  },
  "orig_nbformat": 4
 },
 "nbformat": 4,
 "nbformat_minor": 2
}
