{
 "cells": [
  {
   "cell_type": "code",
   "execution_count": 1,
   "metadata": {},
   "outputs": [
    {
     "name": "stdout",
     "output_type": "stream",
     "text": [
      "<td>107.04</td>\n",
      "환율 107.04 원\n"
     ]
    }
   ],
   "source": [
    "#연습!! https://finance.naver.com/ 에 접속하여 달러 환률 정보 확인!!\n",
    "\n",
    "import urllib.request as req\n",
    "from bs4 import BeautifulSoup\n",
    "\n",
    "url='https://finance.naver.com/'\n",
    "\n",
    "dollar=req.urlopen(url)\n",
    "src=dollar.read().decode('euc-kr')\n",
    "soup=BeautifulSoup(src,'html.parser')\n",
    "price=soup.select_one('div.group1 >table.tbl_home>tbody>.down.bold>td')\n",
    "print(price)\n",
    "print('환율',price.string,'원')"
   ]
  },
  {
   "cell_type": "code",
   "execution_count": 2,
   "metadata": {},
   "outputs": [
    {
     "data": {
      "text/plain": [
       "{'KODEX 200선물인버스2X': '2,750',\n",
       " '수산중공업': '4,305',\n",
       " '사조동아원': '2,355',\n",
       " 'KH 건설': '1,190',\n",
       " '한탑': '4,405',\n",
       " '대한전선': '2,125',\n",
       " 'KODEX 코스닥150선물인버스': '4,755',\n",
       " '삼성 인버스 2X WTI원유 선물 ETN': '120',\n",
       " '대주산업': '4,265',\n",
       " 'KODEX 인버스': '4,550'}"
      ]
     },
     "execution_count": 2,
     "metadata": {},
     "output_type": "execute_result"
    }
   ],
   "source": [
    "## https://finance.naver.com/ 에서 거래 상위 10개를 추출하여 출력하세요!\n",
    "# 종목과 가격 => 대한전기 2140과 같은 식으로 출력\n",
    "\n",
    "url='https://finance.naver.com/'\n",
    "dollar=req.urlopen(url)\n",
    "src=dollar.read().decode('euc-kr')\n",
    "soup=BeautifulSoup(src,'html.parser')\n",
    "dic={}\n",
    "\n",
    "trade=soup.select('.tbl_home>#_topItems1>tr>th>a')\n",
    "p=soup.select('.tbl_home>#_topItems1>tr>td')\n",
    "price\n",
    "l=[]\n",
    "name=[trade[i].string for i in range(10)]\n",
    "price=[p[i].string for i in range(0,30,3)]\n",
    "for i in range(len(name)):\n",
    "    dic[name[i]]=price[i]\n",
    "\n",
    "dic"
   ]
  },
  {
   "cell_type": "code",
   "execution_count": 89,
   "metadata": {},
   "outputs": [
    {
     "name": "stdout",
     "output_type": "stream",
     "text": [
      "http://example.com/html/b.html\n",
      "http://example.com/html/sub/c.html\n",
      "http://example.com/index.html\n",
      "http://example.com/css/home.css\n",
      "http://example.com/index.html\n",
      "http://otherExample.com/wiki\n",
      "http://otherExample.com/test\n"
     ]
    }
   ],
   "source": [
    "# 링크에 있는 내용을 한꺼번에 처리하기\n",
    "\n",
    "#재귀적으로 탐색하기 위해서 사용하는 함수 urljoin(base,\"상대경로\")함수\n",
    "from urllib.parse import urljoin\n",
    "##상대경로\n",
    "base='http://example.com/html/a.html'\n",
    "print(urljoin(base,'b.html'))\n",
    "print(urljoin(base,'sub/c.html'))\n",
    "print(urljoin(base,'../index.html'))\n",
    "print(urljoin(base,'../css/home.css'))\n",
    "\n",
    "##절대경로\n",
    "print(urljoin(base, '/index.html')) \n",
    "\n",
    "print(urljoin(base,'http://otherExample.com/wiki')) #풀 주소 쓰면 덮어씀\n",
    "print(urljoin(base, '//otherExample.com/test'))"
   ]
  },
  {
   "cell_type": "code",
   "execution_count": 115,
   "metadata": {},
   "outputs": [
    {
     "data": {
      "text/plain": [
       "'/3.10/library/index.html'"
      ]
     },
     "execution_count": 115,
     "metadata": {},
     "output_type": "execute_result"
    }
   ],
   "source": [
    "url='https://docs.python.org/3.10/library/index.html'\n",
    "t=urlparse(url)\n",
    "t.netloc    # docs.python.org\n",
    "t.path      # /3.10/library/index.html"
   ]
  },
  {
   "cell_type": "code",
   "execution_count": null,
   "metadata": {},
   "outputs": [],
   "source": [
    "## 처리 순서\n",
    "# 1. html 분석\n",
    "# 2. 링크 추출\n",
    "# 3. 각 링크 대상에 대해 다음 동작 구동함...\n",
    "# # 3-1. 다운로드 파일인 경우 다운로드 ...\n",
    "# # 3-2. 파일 html이라면, 1으로 돌아가서 다시 실행\n"
   ]
  },
  {
   "cell_type": "code",
   "execution_count": 10,
   "metadata": {},
   "outputs": [
    {
     "name": "stdout",
     "output_type": "stream",
     "text": [
      "analyze_html https://docs.python.org/3.10/library/\n",
      "analyze_html https://docs.python.org/3.10/library/intro.html\n",
      "analyze_html https://docs.python.org/3.10/library/functions.html\n",
      "analyze_html https://docs.python.org/3.10/library/constants.html\n",
      "analyze_html https://docs.python.org/3.10/library/stdtypes.html\n",
      "analyze_html https://docs.python.org/3.10/library/exceptions.html\n",
      "analyze_html https://docs.python.org/3.10/library/text.html\n",
      "analyze_html https://docs.python.org/3.10/library/string.html\n",
      "analyze_html https://docs.python.org/3.10/library/re.html\n",
      "analyze_html https://docs.python.org/3.10/library/difflib.html\n",
      "analyze_html https://docs.python.org/3.10/library/textwrap.html\n",
      "analyze_html https://docs.python.org/3.10/library/unicodedata.html\n",
      "analyze_html https://docs.python.org/3.10/library/stringprep.html\n",
      "analyze_html https://docs.python.org/3.10/library/readline.html\n",
      "analyze_html https://docs.python.org/3.10/library/rlcompleter.html\n",
      "analyze_html https://docs.python.org/3.10/library/binary.html\n",
      "analyze_html https://docs.python.org/3.10/library/struct.html\n",
      "analyze_html https://docs.python.org/3.10/library/codecs.html\n",
      "analyze_html https://docs.python.org/3.10/library/datatypes.html\n",
      "analyze_html https://docs.python.org/3.10/library/datetime.html\n",
      "analyze_html https://docs.python.org/3.10/library/zoneinfo.html\n",
      "analyze_html https://docs.python.org/3.10/library/calendar.html\n",
      "analyze_html https://docs.python.org/3.10/library/collections.html\n",
      "analyze_html https://docs.python.org/3.10/library/collections.abc.html\n",
      "analyze_html https://docs.python.org/3.10/library/heapq.html\n",
      "analyze_html https://docs.python.org/3.10/library/bisect.html\n",
      "analyze_html https://docs.python.org/3.10/library/array.html\n",
      "analyze_html https://docs.python.org/3.10/library/weakref.html\n",
      "analyze_html https://docs.python.org/3.10/library/types.html\n",
      "analyze_html https://docs.python.org/3.10/library/copy.html\n",
      "analyze_html https://docs.python.org/3.10/library/pprint.html\n",
      "analyze_html https://docs.python.org/3.10/library/reprlib.html\n",
      "analyze_html https://docs.python.org/3.10/library/enum.html\n",
      "analyze_html https://docs.python.org/3.10/library/graphlib.html\n",
      "analyze_html https://docs.python.org/3.10/library/numeric.html\n",
      "analyze_html https://docs.python.org/3.10/library/numbers.html\n",
      "analyze_html https://docs.python.org/3.10/library/math.html\n",
      "analyze_html https://docs.python.org/3.10/library/cmath.html\n",
      "analyze_html https://docs.python.org/3.10/library/decimal.html\n",
      "analyze_html https://docs.python.org/3.10/library/fractions.html\n",
      "analyze_html https://docs.python.org/3.10/library/random.html\n",
      "analyze_html https://docs.python.org/3.10/library/statistics.html\n",
      "analyze_html https://docs.python.org/3.10/library/functional.html\n",
      "analyze_html https://docs.python.org/3.10/library/itertools.html\n",
      "analyze_html https://docs.python.org/3.10/library/functools.html\n",
      "analyze_html https://docs.python.org/3.10/library/operator.html\n",
      "analyze_html https://docs.python.org/3.10/library/filesys.html\n",
      "analyze_html https://docs.python.org/3.10/library/pathlib.html\n",
      "analyze_html https://docs.python.org/3.10/library/os.path.html\n",
      "analyze_html https://docs.python.org/3.10/library/fileinput.html\n",
      "analyze_html https://docs.python.org/3.10/library/stat.html\n",
      "analyze_html https://docs.python.org/3.10/library/filecmp.html\n",
      "analyze_html https://docs.python.org/3.10/library/tempfile.html\n",
      "analyze_html https://docs.python.org/3.10/library/glob.html\n",
      "analyze_html https://docs.python.org/3.10/library/fnmatch.html\n",
      "analyze_html https://docs.python.org/3.10/library/linecache.html\n",
      "analyze_html https://docs.python.org/3.10/library/shutil.html\n",
      "analyze_html https://docs.python.org/3.10/library/persistence.html\n",
      "analyze_html https://docs.python.org/3.10/library/pickle.html\n",
      "analyze_html https://docs.python.org/3.10/library/copyreg.html\n",
      "analyze_html https://docs.python.org/3.10/library/shelve.html\n",
      "analyze_html https://docs.python.org/3.10/library/marshal.html\n",
      "analyze_html https://docs.python.org/3.10/library/dbm.html\n",
      "analyze_html https://docs.python.org/3.10/library/sqlite3.html\n",
      "analyze_html https://docs.python.org/3.10/library/archiving.html\n",
      "analyze_html https://docs.python.org/3.10/library/zlib.html\n",
      "analyze_html https://docs.python.org/3.10/library/gzip.html\n",
      "analyze_html https://docs.python.org/3.10/library/bz2.html\n",
      "analyze_html https://docs.python.org/3.10/library/lzma.html\n",
      "analyze_html https://docs.python.org/3.10/library/zipfile.html\n",
      "analyze_html https://docs.python.org/3.10/library/tarfile.html\n",
      "analyze_html https://docs.python.org/3.10/library/fileformats.html\n",
      "analyze_html https://docs.python.org/3.10/library/csv.html\n",
      "analyze_html https://docs.python.org/3.10/library/configparser.html\n",
      "analyze_html https://docs.python.org/3.10/library/netrc.html\n",
      "analyze_html https://docs.python.org/3.10/library/plistlib.html\n",
      "analyze_html https://docs.python.org/3.10/library/crypto.html\n",
      "analyze_html https://docs.python.org/3.10/library/hashlib.html\n",
      "analyze_html https://docs.python.org/3.10/library/hmac.html\n",
      "analyze_html https://docs.python.org/3.10/library/secrets.html\n",
      "analyze_html https://docs.python.org/3.10/library/allos.html\n",
      "analyze_html https://docs.python.org/3.10/library/os.html\n",
      "analyze_html https://docs.python.org/3.10/library/io.html\n",
      "analyze_html https://docs.python.org/3.10/library/time.html\n",
      "analyze_html https://docs.python.org/3.10/library/argparse.html\n",
      "analyze_html https://docs.python.org/3.10/library/getopt.html\n",
      "analyze_html https://docs.python.org/3.10/library/logging.html\n",
      "analyze_html https://docs.python.org/3.10/library/logging.config.html\n",
      "analyze_html https://docs.python.org/3.10/library/logging.handlers.html\n",
      "analyze_html https://docs.python.org/3.10/library/getpass.html\n",
      "analyze_html https://docs.python.org/3.10/library/curses.html\n",
      "analyze_html https://docs.python.org/3.10/library/curses.ascii.html\n",
      "analyze_html https://docs.python.org/3.10/library/curses.panel.html\n",
      "analyze_html https://docs.python.org/3.10/library/platform.html\n",
      "analyze_html https://docs.python.org/3.10/library/errno.html\n",
      "analyze_html https://docs.python.org/3.10/library/ctypes.html\n",
      "analyze_html https://docs.python.org/3.10/library/concurrency.html\n",
      "analyze_html https://docs.python.org/3.10/library/threading.html\n",
      "analyze_html https://docs.python.org/3.10/library/multiprocessing.html\n",
      "analyze_html https://docs.python.org/3.10/library/multiprocessing.shared_memory.html\n",
      "analyze_html https://docs.python.org/3.10/library/concurrent.html\n",
      "analyze_html https://docs.python.org/3.10/library/concurrent.futures.html\n",
      "analyze_html https://docs.python.org/3.10/library/subprocess.html\n",
      "analyze_html https://docs.python.org/3.10/library/sched.html\n",
      "analyze_html https://docs.python.org/3.10/library/queue.html\n",
      "analyze_html https://docs.python.org/3.10/library/contextvars.html\n",
      "analyze_html https://docs.python.org/3.10/library/_thread.html\n",
      "analyze_html https://docs.python.org/3.10/library/ipc.html\n",
      "analyze_html https://docs.python.org/3.10/library/asyncio.html\n",
      "analyze_html https://docs.python.org/3.10/library/asyncio-task.html\n",
      "analyze_html https://docs.python.org/3.10/library/asyncio-stream.html\n",
      "analyze_html https://docs.python.org/3.10/library/asyncio-sync.html\n",
      "analyze_html https://docs.python.org/3.10/library/asyncio-subprocess.html\n",
      "analyze_html https://docs.python.org/3.10/library/asyncio-queue.html\n",
      "analyze_html https://docs.python.org/3.10/library/asyncio-exceptions.html\n",
      "analyze_html https://docs.python.org/3.10/library/asyncio-eventloop.html\n",
      "analyze_html https://docs.python.org/3.10/library/asyncio-future.html\n",
      "analyze_html https://docs.python.org/3.10/library/asyncio-protocol.html\n",
      "analyze_html https://docs.python.org/3.10/library/asyncio-policy.html\n",
      "analyze_html https://docs.python.org/3.10/library/asyncio-platforms.html\n",
      "analyze_html https://docs.python.org/3.10/library/asyncio-api-index.html\n",
      "analyze_html https://docs.python.org/3.10/library/asyncio-llapi-index.html\n",
      "analyze_html https://docs.python.org/3.10/library/asyncio-dev.html\n",
      "analyze_html https://docs.python.org/3.10/library/socket.html\n",
      "analyze_html https://docs.python.org/3.10/library/ssl.html\n",
      "analyze_html https://docs.python.org/3.10/library/select.html\n",
      "analyze_html https://docs.python.org/3.10/library/selectors.html\n",
      "analyze_html https://docs.python.org/3.10/library/signal.html\n",
      "analyze_html https://docs.python.org/3.10/library/mmap.html\n",
      "analyze_html https://docs.python.org/3.10/library/netdata.html\n",
      "analyze_html https://docs.python.org/3.10/library/email.html\n",
      "analyze_html https://docs.python.org/3.10/library/email.message.html\n",
      "analyze_html https://docs.python.org/3.10/library/email.parser.html\n",
      "analyze_html https://docs.python.org/3.10/library/email.generator.html\n",
      "analyze_html https://docs.python.org/3.10/library/email.policy.html\n",
      "analyze_html https://docs.python.org/3.10/library/email.errors.html\n",
      "analyze_html https://docs.python.org/3.10/library/email.headerregistry.html\n",
      "analyze_html https://docs.python.org/3.10/library/email.contentmanager.html\n",
      "analyze_html https://docs.python.org/3.10/library/email.examples.html\n",
      "analyze_html https://docs.python.org/3.10/library/email.compat32-message.html\n",
      "analyze_html https://docs.python.org/3.10/library/email.mime.html\n",
      "analyze_html https://docs.python.org/3.10/library/email.header.html\n",
      "analyze_html https://docs.python.org/3.10/library/email.charset.html\n",
      "analyze_html https://docs.python.org/3.10/library/email.encoders.html\n",
      "analyze_html https://docs.python.org/3.10/library/email.utils.html\n",
      "analyze_html https://docs.python.org/3.10/library/email.iterators.html\n",
      "analyze_html https://docs.python.org/3.10/library/json.html\n",
      "analyze_html https://docs.python.org/3.10/library/mailbox.html\n",
      "analyze_html https://docs.python.org/3.10/library/mimetypes.html\n",
      "analyze_html https://docs.python.org/3.10/library/base64.html\n",
      "analyze_html https://docs.python.org/3.10/library/binhex.html\n",
      "analyze_html https://docs.python.org/3.10/library/binascii.html\n",
      "analyze_html https://docs.python.org/3.10/library/quopri.html\n",
      "analyze_html https://docs.python.org/3.10/library/markup.html\n",
      "analyze_html https://docs.python.org/3.10/library/html.html\n",
      "analyze_html https://docs.python.org/3.10/library/html.parser.html\n",
      "analyze_html https://docs.python.org/3.10/library/html.entities.html\n",
      "analyze_html https://docs.python.org/3.10/library/xml.html\n",
      "analyze_html https://docs.python.org/3.10/library/xml.etree.elementtree.html\n",
      "analyze_html https://docs.python.org/3.10/library/xml.dom.html\n",
      "analyze_html https://docs.python.org/3.10/library/xml.dom.minidom.html\n",
      "analyze_html https://docs.python.org/3.10/library/xml.dom.pulldom.html\n",
      "analyze_html https://docs.python.org/3.10/library/xml.sax.html\n",
      "analyze_html https://docs.python.org/3.10/library/xml.sax.handler.html\n",
      "analyze_html https://docs.python.org/3.10/library/xml.sax.utils.html\n",
      "analyze_html https://docs.python.org/3.10/library/xml.sax.reader.html\n",
      "analyze_html https://docs.python.org/3.10/library/pyexpat.html\n",
      "analyze_html https://docs.python.org/3.10/library/internet.html\n",
      "analyze_html https://docs.python.org/3.10/library/webbrowser.html\n",
      "analyze_html https://docs.python.org/3.10/library/wsgiref.html\n",
      "analyze_html https://docs.python.org/3.10/library/urllib.html\n",
      "analyze_html https://docs.python.org/3.10/library/urllib.request.html\n",
      "analyze_html https://docs.python.org/3.10/library/urllib.parse.html\n",
      "analyze_html https://docs.python.org/3.10/library/urllib.error.html\n",
      "analyze_html https://docs.python.org/3.10/library/urllib.robotparser.html\n",
      "analyze_html https://docs.python.org/3.10/library/http.html\n",
      "analyze_html https://docs.python.org/3.10/library/http.client.html\n",
      "analyze_html https://docs.python.org/3.10/library/ftplib.html\n",
      "analyze_html https://docs.python.org/3.10/library/poplib.html\n",
      "analyze_html https://docs.python.org/3.10/library/imaplib.html\n",
      "analyze_html https://docs.python.org/3.10/library/smtplib.html\n",
      "analyze_html https://docs.python.org/3.10/library/uuid.html\n",
      "analyze_html https://docs.python.org/3.10/library/socketserver.html\n",
      "analyze_html https://docs.python.org/3.10/library/http.server.html\n",
      "analyze_html https://docs.python.org/3.10/library/http.cookies.html\n",
      "analyze_html https://docs.python.org/3.10/library/http.cookiejar.html\n",
      "analyze_html https://docs.python.org/3.10/library/xmlrpc.html\n",
      "analyze_html https://docs.python.org/3.10/library/xmlrpc.client.html\n",
      "analyze_html https://docs.python.org/3.10/library/xmlrpc.server.html\n",
      "analyze_html https://docs.python.org/3.10/library/ipaddress.html\n",
      "analyze_html https://docs.python.org/3.10/library/mm.html\n",
      "analyze_html https://docs.python.org/3.10/library/wave.html\n",
      "analyze_html https://docs.python.org/3.10/library/colorsys.html\n",
      "analyze_html https://docs.python.org/3.10/library/i18n.html\n",
      "analyze_html https://docs.python.org/3.10/library/gettext.html\n",
      "analyze_html https://docs.python.org/3.10/library/locale.html\n",
      "analyze_html https://docs.python.org/3.10/library/frameworks.html\n",
      "analyze_html https://docs.python.org/3.10/library/turtle.html\n",
      "analyze_html https://docs.python.org/3.10/library/cmd.html\n",
      "analyze_html https://docs.python.org/3.10/library/shlex.html\n",
      "analyze_html https://docs.python.org/3.10/library/tk.html\n",
      "analyze_html https://docs.python.org/3.10/library/tkinter.html\n",
      "analyze_html https://docs.python.org/3.10/library/tkinter.colorchooser.html\n",
      "analyze_html https://docs.python.org/3.10/library/tkinter.font.html\n",
      "analyze_html https://docs.python.org/3.10/library/dialog.html\n",
      "analyze_html https://docs.python.org/3.10/library/tkinter.messagebox.html\n",
      "analyze_html https://docs.python.org/3.10/library/tkinter.scrolledtext.html\n",
      "analyze_html https://docs.python.org/3.10/library/tkinter.dnd.html\n",
      "analyze_html https://docs.python.org/3.10/library/tkinter.ttk.html\n",
      "analyze_html https://docs.python.org/3.10/library/tkinter.tix.html\n",
      "analyze_html https://docs.python.org/3.10/library/idle.html\n",
      "analyze_html https://docs.python.org/3.10/library/development.html\n",
      "analyze_html https://docs.python.org/3.10/library/typing.html\n",
      "analyze_html https://docs.python.org/3.10/library/pydoc.html\n",
      "analyze_html https://docs.python.org/3.10/library/devmode.html\n",
      "analyze_html https://docs.python.org/3.10/library/doctest.html\n",
      "analyze_html https://docs.python.org/3.10/library/unittest.html\n",
      "analyze_html https://docs.python.org/3.10/library/unittest.mock.html\n",
      "analyze_html https://docs.python.org/3.10/library/unittest.mock-examples.html\n",
      "analyze_html https://docs.python.org/3.10/library/2to3.html\n",
      "analyze_html https://docs.python.org/3.10/library/test.html\n",
      "analyze_html https://docs.python.org/3.10/library/debug.html\n",
      "analyze_html https://docs.python.org/3.10/library/audit_events.html\n",
      "analyze_html https://docs.python.org/3.10/library/bdb.html\n",
      "analyze_html https://docs.python.org/3.10/library/faulthandler.html\n",
      "analyze_html https://docs.python.org/3.10/library/pdb.html\n",
      "analyze_html https://docs.python.org/3.10/library/profile.html\n",
      "analyze_html https://docs.python.org/3.10/library/timeit.html\n",
      "analyze_html https://docs.python.org/3.10/library/trace.html\n",
      "analyze_html https://docs.python.org/3.10/library/tracemalloc.html\n",
      "analyze_html https://docs.python.org/3.10/library/distribution.html\n",
      "analyze_html https://docs.python.org/3.10/library/distutils.html\n",
      "analyze_html https://docs.python.org/3.10/library/ensurepip.html\n",
      "analyze_html https://docs.python.org/3.10/library/venv.html\n",
      "analyze_html https://docs.python.org/3.10/library/zipapp.html\n",
      "analyze_html https://docs.python.org/3.10/library/python.html\n",
      "analyze_html https://docs.python.org/3.10/library/sys.html\n",
      "analyze_html https://docs.python.org/3.10/library/sysconfig.html\n",
      "analyze_html https://docs.python.org/3.10/library/builtins.html\n",
      "analyze_html https://docs.python.org/3.10/library/__main__.html\n",
      "analyze_html https://docs.python.org/3.10/library/warnings.html\n",
      "analyze_html https://docs.python.org/3.10/library/dataclasses.html\n",
      "analyze_html https://docs.python.org/3.10/library/contextlib.html\n",
      "analyze_html https://docs.python.org/3.10/library/abc.html\n",
      "analyze_html https://docs.python.org/3.10/library/atexit.html\n",
      "analyze_html https://docs.python.org/3.10/library/traceback.html\n",
      "analyze_html https://docs.python.org/3.10/library/__future__.html\n",
      "analyze_html https://docs.python.org/3.10/library/gc.html\n",
      "analyze_html https://docs.python.org/3.10/library/inspect.html\n",
      "analyze_html https://docs.python.org/3.10/library/site.html\n",
      "analyze_html https://docs.python.org/3.10/library/custominterp.html\n",
      "analyze_html https://docs.python.org/3.10/library/code.html\n",
      "analyze_html https://docs.python.org/3.10/library/codeop.html\n",
      "analyze_html https://docs.python.org/3.10/library/modules.html\n",
      "analyze_html https://docs.python.org/3.10/library/zipimport.html\n",
      "analyze_html https://docs.python.org/3.10/library/pkgutil.html\n",
      "analyze_html https://docs.python.org/3.10/library/modulefinder.html\n",
      "analyze_html https://docs.python.org/3.10/library/runpy.html\n",
      "analyze_html https://docs.python.org/3.10/library/importlib.html\n",
      "analyze_html https://docs.python.org/3.10/library/importlib.metadata.html\n",
      "analyze_html https://docs.python.org/3.10/library/language.html\n",
      "analyze_html https://docs.python.org/3.10/library/ast.html\n",
      "analyze_html https://docs.python.org/3.10/library/symtable.html\n",
      "analyze_html https://docs.python.org/3.10/library/token.html\n",
      "analyze_html https://docs.python.org/3.10/library/keyword.html\n",
      "analyze_html https://docs.python.org/3.10/library/tokenize.html\n",
      "analyze_html https://docs.python.org/3.10/library/tabnanny.html\n",
      "analyze_html https://docs.python.org/3.10/library/pyclbr.html\n",
      "analyze_html https://docs.python.org/3.10/library/py_compile.html\n",
      "analyze_html https://docs.python.org/3.10/library/compileall.html\n",
      "analyze_html https://docs.python.org/3.10/library/dis.html\n",
      "analyze_html https://docs.python.org/3.10/library/pickletools.html\n",
      "analyze_html https://docs.python.org/3.10/library/windows.html\n",
      "analyze_html https://docs.python.org/3.10/library/msvcrt.html\n",
      "analyze_html https://docs.python.org/3.10/library/winreg.html\n",
      "analyze_html https://docs.python.org/3.10/library/winsound.html\n",
      "analyze_html https://docs.python.org/3.10/library/unix.html\n",
      "analyze_html https://docs.python.org/3.10/library/posix.html\n",
      "analyze_html https://docs.python.org/3.10/library/pwd.html\n",
      "analyze_html https://docs.python.org/3.10/library/grp.html\n",
      "analyze_html https://docs.python.org/3.10/library/termios.html\n",
      "analyze_html https://docs.python.org/3.10/library/tty.html\n",
      "analyze_html https://docs.python.org/3.10/library/pty.html\n",
      "analyze_html https://docs.python.org/3.10/library/fcntl.html\n",
      "analyze_html https://docs.python.org/3.10/library/resource.html\n",
      "analyze_html https://docs.python.org/3.10/library/syslog.html\n",
      "analyze_html https://docs.python.org/3.10/library/superseded.html\n",
      "analyze_html https://docs.python.org/3.10/library/aifc.html\n",
      "analyze_html https://docs.python.org/3.10/library/asynchat.html\n",
      "analyze_html https://docs.python.org/3.10/library/asyncore.html\n",
      "analyze_html https://docs.python.org/3.10/library/audioop.html\n",
      "analyze_html https://docs.python.org/3.10/library/cgi.html\n",
      "analyze_html https://docs.python.org/3.10/library/cgitb.html\n",
      "analyze_html https://docs.python.org/3.10/library/chunk.html\n",
      "analyze_html https://docs.python.org/3.10/library/crypt.html\n",
      "analyze_html https://docs.python.org/3.10/library/imghdr.html\n",
      "analyze_html https://docs.python.org/3.10/library/imp.html\n",
      "analyze_html https://docs.python.org/3.10/library/mailcap.html\n",
      "analyze_html https://docs.python.org/3.10/library/msilib.html\n",
      "analyze_html https://docs.python.org/3.10/library/nis.html\n",
      "analyze_html https://docs.python.org/3.10/library/nntplib.html\n",
      "analyze_html https://docs.python.org/3.10/library/optparse.html\n",
      "analyze_html https://docs.python.org/3.10/library/ossaudiodev.html\n",
      "analyze_html https://docs.python.org/3.10/library/pipes.html\n",
      "analyze_html https://docs.python.org/3.10/library/smtpd.html\n",
      "analyze_html https://docs.python.org/3.10/library/sndhdr.html\n",
      "analyze_html https://docs.python.org/3.10/library/spwd.html\n",
      "analyze_html https://docs.python.org/3.10/library/sunau.html\n",
      "analyze_html https://docs.python.org/3.10/library/telnetlib.html\n",
      "analyze_html https://docs.python.org/3.10/library/uu.html\n",
      "analyze_html https://docs.python.org/3.10/library/xdrlib.html\n",
      "analyze_html https://docs.python.org/3.10/library/security_warnings.html\n",
      "mkdir= ./www.sphinx-doc.org\n",
      "download= https://www.sphinx-doc.org/\n"
     ]
    }
   ],
   "source": [
    "# 모든 페이지를 한꺼번에 다운받는 프로그램\n",
    "\n",
    "# 모듈\n",
    "from bs4 import BeautifulSoup\n",
    "from urllib.request import *\n",
    "from urllib.parse import *\n",
    "from os import makedirs\n",
    "import os.path,time,re\n",
    "\n",
    "# 처리한 내용이 파일인지 여부 확인을 위한 변수\n",
    "proc_files={}\n",
    "\n",
    "#  html 내부에 있는 링크를 추출하는 함수 \n",
    "def enum_links(html,base):\n",
    "    soup=BeautifulSoup(html,'html.parser')\n",
    "    links=soup.select(\"link[rel='stylesheet']\") #css\n",
    "    links+=soup.select('a[href]')   #링크\n",
    "    result=[]\n",
    "    #href 속성을 추출하고, 링크를 절대경로로 변환하여 저장\n",
    "    for a in links:\n",
    "        href=a.attrs['href']\n",
    "        url=urljoin(base,href)\n",
    "        result.append(url)\n",
    "    return result\n",
    "\n",
    "#  파일을 다운로드하고 저장하는 함수\n",
    "def download_file(url):\n",
    "    o=urlparse(url)\n",
    "    savepath=\"./\"+o.netloc+o.path\n",
    "    if re.search(r\"/$\",savepath):   #savepath의 마지막 \"/\"이라면\n",
    "        savepath+=\"index.html\"      #기본문서 처리\n",
    "    savedir=os.path.dirname(savepath)\n",
    "    # 모두 다운됐는지 여부 확인\n",
    "    if os.path.exists(savepath):\n",
    "        return savepath\n",
    "    #다운받을 디렉터리(폴더) 생성\n",
    "    if not os.path.exists(savedir):\n",
    "        print(\"mkdir=\",savedir)\n",
    "        makedirs(savedir)\n",
    "    #파일 다운받기\n",
    "    try:\n",
    "        print(\"download=\",url)\n",
    "        urlretrieve(url,savepath)\n",
    "        time.sleep(1)   #잠시멈춤\n",
    "        return savepath\n",
    "    except:\n",
    "        print(\"다운로드 실패 : \",url)\n",
    "        return None\n",
    "\n",
    "\n",
    "# html을 분석하고 다운 받는 함수 (위에 두개를 실행하는 함수)\n",
    "def analyze_html(url,root_url):\n",
    "    savepath=download_file(url)\n",
    "    if savepath is None:\n",
    "        return\n",
    "    if savepath in proc_files:  # 이미 처리되었다면 실행하지 않음\n",
    "        return\n",
    "    proc_files[savepath]=True\n",
    "    print(\"analyze_html\",url)\n",
    "    \n",
    "    #링크 추출\n",
    "    html=open(savepath,'r',encoding='utf8').read()\n",
    "    links=enum_links(html,url)\n",
    "\n",
    "    for link_url in links:\n",
    "        #링크가 루트 이외 경로를 나타낸다면 무시\n",
    "        if link_url.find(root_url)!=0:\n",
    "            if not re.search(r\".css$\",link_url):\n",
    "                continue\n",
    "    #HTML이라면\n",
    "        if re.search(r\".(html|htm)$\",link_url):\n",
    "            #재귀적으로 html 검색\n",
    "            analyze_html(link_url,root_url)\n",
    "            continue\n",
    "    # 기타파일이라면\n",
    "    download_file(link_url)   \n",
    "\n",
    "# 일반 파이썬 파일인 경우 사용.... \n",
    "# if __name__ == \"__main__\":\n",
    "#     # url에 있는 모든 것 다운받기 \n",
    "#     url = \"https://docs.python.org/3.10/library/\"\n",
    "#     analyze_html(url, url)\n",
    "\n",
    "url = \"https://docs.python.org/3.10/library/\"\n",
    "analyze_html(url, url)"
   ]
  },
  {
   "cell_type": "code",
   "execution_count": null,
   "metadata": {},
   "outputs": [],
   "source": [
    "### requests 패키지를 이용한 접근..\n",
    "\n"
   ]
  },
  {
   "cell_type": "code",
   "execution_count": null,
   "metadata": {},
   "outputs": [],
   "source": [
    "# <form name=\"frm\"  id=\"frm\"  action=\"#\" method=\"post\">\n",
    "# \t<div class=\"login_left\">\t\t\n",
    "# \t<fieldset>\n",
    "# \t\t<legend>한빛출판네트워크 로그인</legend>\n",
    "# \t\t<label class=\"i_label\" for=\"login_id\"><strong></strong>\n",
    "# \t\t\t<input name=\"m_id\" id=\"m_id\" type=\"text\" value=\"\" class=\"i_text\" placeholder=\"아이디\" onkeydown=\"javascript:if(event.keyCode==13){login_proc(); return false;}\">\n",
    "# \t\t</label> \n",
    "# \t\t<label class=\"i_label\" for=\"login_pw\"><strong></strong>\n",
    "# \t\t\t<input name=\"m_passwd\"  id=\"m_passwd\" type=\"password\" value=\"\" class=\"i_text\" placeholder=\"비밀번호\" onkeydown=\"javascript:if(event.keyCode==13){login_proc(); return false;}\">\n",
    "# \t\t</label>\t\n",
    "# \t\t<label>\n",
    "# \t\t\t<input  type=\"button\" name=\"login_btn\"  id=\"login_btn\" value=\"로그인\" class=\"btn_login\" >\t\t\t\t\t\n",
    "# \t\t</label>\t\t\n",
    "# \t</div>\n",
    "# </form>\n",
    "\n",
    "#파이썬으로 로그인 하기\n",
    "import requests\n",
    "from bs4 import BeautifulSoup\n",
    "from urllib.request import urljoin\n",
    "\n",
    "#아이디\n",
    "user=\"djagkdbs\"\n",
    "passwd='dytjq1868'\n",
    "\n",
    "#세션 시작\n",
    "session=requests.session()\n",
    "#로그인하기\n",
    "login_info={\n",
    "    \"m_id\":user,\n",
    "    \"m_passwd\":passwd\n",
    "}\n",
    "url_login=\"https://www.hanbit.co.kr/member/login.html\"\n",
    "res=session.post(url_login,data=login_info)\n",
    "res.raise_for_status()  #오류가 발생하면 예외 발생\n",
    "\n",
    "# 마이페이지에 접근\n",
    "url_mypage=\"https://www.hanbit.co.kr/myhanbit/myhanbit.html\"\n",
    "res=session.get(url_mypage)\n",
    "res.raise_for_status()\n",
    "print(res.text)\n",
    "soup=BeautifulSoup(res.txt,\"html.parser\")\n",
    "mileage=soup.select_one(\".mileage_section1 span\")"
   ]
  },
  {
   "cell_type": "code",
   "execution_count": null,
   "metadata": {},
   "outputs": [],
   "source": [
    "pip install requests"
   ]
  },
  {
   "cell_type": "code",
   "execution_count": 30,
   "metadata": {},
   "outputs": [
    {
     "name": "stdout",
     "output_type": "stream",
     "text": [
      "b''\n"
     ]
    }
   ],
   "source": [
    "## requests모듈의 메서드\n",
    "#get 요청\n",
    "r=requests.get('http://www.naver.com')\n",
    "r.content.decode('utf8')\n",
    "\n",
    "#post 요청\n",
    "formdata={\"key1\":\"value1\",\"key2\":\"value2\"}\n",
    "r=requests.post(\"http://example.com\",data=formdata)\n",
    "r.content\n",
    "\n",
    "#업로드\n",
    "r=requests.put(\"http://httpbin.org/put\")\n",
    "#삭제\n",
    "r=requests.delete(\"http://httpbin.org/delete\")\n",
    "#헤더정보\n",
    "r=requests.head('http://httpbin.org/get')\n",
    "print(requests.head('http://www.naver.com').content)"
   ]
  },
  {
   "cell_type": "code",
   "execution_count": null,
   "metadata": {},
   "outputs": [],
   "source": [
    "from http.server import HTTPServer,SimpleHTTPRequestHandler\n",
    "\n",
    "server=HTTPServer(('0.0.0.0',8100),SimpleHTTPRequestHandler)\n",
    "server.serve_forever()"
   ]
  },
  {
   "cell_type": "code",
   "execution_count": 8,
   "metadata": {},
   "outputs": [
    {
     "name": "stderr",
     "output_type": "stream",
     "text": [
      "C:\\Users\\djagk\\AppData\\Local\\Temp\\ipykernel_7136\\2521611793.py:5: DeprecationWarning: executable_path has been deprecated, please pass in a Service object\n",
      "  driver=webdriver.Chrome(path)\n"
     ]
    }
   ],
   "source": [
    "from selenium import webdriver\n",
    "user='djagkdbs'\n",
    "pw='dytjq1868'\n",
    "path=\"c:\\\\webdriver\\\\chromedriver\"\n",
    "driver=webdriver.Chrome(path)\n"
   ]
  },
  {
   "cell_type": "code",
   "execution_count": 9,
   "metadata": {},
   "outputs": [],
   "source": [
    "# 한빛 로그인 페이지 \n",
    "url_login=\"https://www.hanbit.co.kr/member/login.html\"\n",
    "driver.get(url_login)"
   ]
  },
  {
   "cell_type": "code",
   "execution_count": 10,
   "metadata": {},
   "outputs": [
    {
     "name": "stderr",
     "output_type": "stream",
     "text": [
      "C:\\Users\\djagk\\AppData\\Local\\Temp\\ipykernel_7136\\2044285165.py:2: DeprecationWarning: find_element_by_name is deprecated. Please use find_element(by=By.NAME, value=name) instead\n",
      "  id=driver.find_element_by_name('m_id')\n",
      "C:\\Users\\djagk\\AppData\\Local\\Temp\\ipykernel_7136\\2044285165.py:5: DeprecationWarning: find_element_by_name is deprecated. Please use find_element(by=By.NAME, value=name) instead\n",
      "  passwd=driver.find_element_by_name('m_passwd')\n"
     ]
    }
   ],
   "source": [
    "# 로그인 박스에 id와 비밀번호 입력하기\n",
    "id=driver.find_element_by_name('m_id')\n",
    "id.clear()\n",
    "id.send_keys(user)\n",
    "passwd=driver.find_element_by_name('m_passwd')\n",
    "passwd.clear()\n",
    "passwd.send_keys(pw)"
   ]
  },
  {
   "cell_type": "code",
   "execution_count": 11,
   "metadata": {},
   "outputs": [
    {
     "name": "stderr",
     "output_type": "stream",
     "text": [
      "C:\\Users\\djagk\\AppData\\Local\\Temp\\ipykernel_7136\\131413140.py:1: DeprecationWarning: find_element_by_class_name is deprecated. Please use find_element(by=By.CLASS_NAME, value=name) instead\n",
      "  driver.find_element_by_class_name(\"btn_login\").click()\n"
     ]
    }
   ],
   "source": [
    "driver.find_element_by_class_name(\"btn_login\").click()"
   ]
  },
  {
   "cell_type": "code",
   "execution_count": 12,
   "metadata": {},
   "outputs": [
    {
     "name": "stderr",
     "output_type": "stream",
     "text": [
      "C:\\Users\\djagk\\AppData\\Local\\Temp\\ipykernel_7136\\2176582922.py:1: DeprecationWarning: find_element_by_class_name is deprecated. Please use find_element(by=By.CLASS_NAME, value=name) instead\n",
      "  driver.find_element_by_class_name('myhanbit').click()\n"
     ]
    }
   ],
   "source": [
    "driver.find_element_by_class_name('myhanbit').click()"
   ]
  },
  {
   "cell_type": "code",
   "execution_count": 19,
   "metadata": {},
   "outputs": [
    {
     "name": "stdout",
     "output_type": "stream",
     "text": [
      "마일리지 :  2,000\n"
     ]
    },
    {
     "name": "stderr",
     "output_type": "stream",
     "text": [
      "C:\\Users\\djagk\\AppData\\Local\\Temp\\ipykernel_7136\\2124175063.py:1: DeprecationWarning: find_element_by_css_selector is deprecated. Please use find_element(by=By.CSS_SELECTOR, value=css_selector) instead\n",
      "  mileage=driver.find_element_by_css_selector(\".mileage_section1 span\")\n"
     ]
    }
   ],
   "source": [
    "mileage=driver.find_element_by_css_selector(\".mileage_section1 span\")\n",
    "print(\"마일리지 : \",mileage.text)"
   ]
  },
  {
   "cell_type": "code",
   "execution_count": 20,
   "metadata": {},
   "outputs": [
    {
     "name": "stdout",
     "output_type": "stream",
     "text": [
      "코인 :  0\n"
     ]
    },
    {
     "name": "stderr",
     "output_type": "stream",
     "text": [
      "C:\\Users\\djagk\\AppData\\Local\\Temp\\ipykernel_7136\\2513211130.py:1: DeprecationWarning: find_element_by_css_selector is deprecated. Please use find_element(by=By.CSS_SELECTOR, value=css_selector) instead\n",
      "  coin=driver.find_element_by_css_selector('.mileage_section2 span')\n"
     ]
    }
   ],
   "source": [
    "coin=driver.find_element_by_css_selector('.mileage_section2 span')\n",
    "print(\"코인 : \",coin.text)"
   ]
  },
  {
   "cell_type": "code",
   "execution_count": 44,
   "metadata": {},
   "outputs": [],
   "source": [
    "\n",
    "user='djagkdbs'\n",
    "pw='dytjq7169'\n"
   ]
  },
  {
   "cell_type": "code",
   "execution_count": 41,
   "metadata": {},
   "outputs": [
    {
     "name": "stderr",
     "output_type": "stream",
     "text": [
      "C:\\Users\\djagk\\AppData\\Local\\Temp\\ipykernel_7136\\3674593798.py:1: DeprecationWarning: find_element_by_class_name is deprecated. Please use find_element(by=By.CLASS_NAME, value=name) instead\n",
      "  driver.find_element_by_class_name('link_login').click()\n"
     ]
    }
   ],
   "source": []
  },
  {
   "cell_type": "code",
   "execution_count": 45,
   "metadata": {},
   "outputs": [
    {
     "name": "stderr",
     "output_type": "stream",
     "text": [
      "C:\\Users\\djagk\\AppData\\Local\\Temp\\ipykernel_7136\\2091818011.py:4: DeprecationWarning: find_element_by_class_name is deprecated. Please use find_element(by=By.CLASS_NAME, value=name) instead\n",
      "  driver.find_element_by_class_name('link_login').click()\n",
      "C:\\Users\\djagk\\AppData\\Local\\Temp\\ipykernel_7136\\2091818011.py:6: DeprecationWarning: find_element_by_* commands are deprecated. Please use find_element() instead\n",
      "  id=driver.find_element_by_id('id')\n",
      "C:\\Users\\djagk\\AppData\\Local\\Temp\\ipykernel_7136\\2091818011.py:12: DeprecationWarning: find_element_by_* commands are deprecated. Please use find_element() instead\n",
      "  passwd=driver.find_element_by_id('pw')\n",
      "C:\\Users\\djagk\\AppData\\Local\\Temp\\ipykernel_7136\\2091818011.py:18: DeprecationWarning: find_element_by_class_name is deprecated. Please use find_element(by=By.CLASS_NAME, value=name) instead\n",
      "  form=driver.find_element_by_class_name(\"btn_login\")\n"
     ]
    }
   ],
   "source": [
    "from random import random,randint\n",
    "import time\n",
    "driver.get('https://www.naver.com')\n",
    "driver.find_element_by_class_name('link_login').click()\n",
    "\n",
    "id=driver.find_element_by_id('id')\n",
    "for i in user:\n",
    "    t=random()\n",
    "    time.sleep(t)\n",
    "    id.send_keys(i)\n",
    "time.sleep(1)\n",
    "passwd=driver.find_element_by_id('pw')\n",
    "for i in pw:\n",
    "    t=random()\n",
    "    time.sleep(t)\n",
    "    passwd.send_keys(i)\n",
    "\n",
    "form=driver.find_element_by_class_name(\"btn_login\")\n",
    "form.submit()"
   ]
  },
  {
   "cell_type": "code",
   "execution_count": 78,
   "metadata": {},
   "outputs": [
    {
     "name": "stderr",
     "output_type": "stream",
     "text": [
      "C:\\Users\\djagk\\AppData\\Local\\Temp\\ipykernel_7136\\1091021578.py:22: DeprecationWarning: find_elements_by_css_selector is deprecated. Please use find_elements(by=By.CSS_SELECTOR, value=css_selector) instead\n",
      "  test=driver.find_elements_by_css_selector(ulsel)\n",
      "C:\\Users\\djagk\\AppData\\Local\\Temp\\ipykernel_7136\\1091021578.py:27: DeprecationWarning: find_element_by_css_selector is deprecated. Please use find_element(by=By.CSS_SELECTOR, value=css_selector) instead\n",
      "  test2=driver.find_element_by_css_selector(ul)\n"
     ]
    },
    {
     "name": "stdout",
     "output_type": "stream",
     "text": [
      "文 사저 인근 보수단체 집회에 국민의힘도 비판… 시선 유도봉 설치되기도\n",
      "李 “메시지 효과 주민들에 끼치는 불편 크기와 비례하지 않아” 문재인 전 대통령이 지난 10일 경남 양산의 평산마을에 도착해 주민과 지지자들을 향해 인사 …\n",
      "세계일보 50\n",
      "이상\n",
      "+\n",
      "--------------------------------------------------\n",
      "뉴스1 30\n",
      "이상\n",
      "+\n",
      "이낙연 \"文 사저 앞 보수인사 소음시위 참담\"…野, 집시법 개정 추진\n",
      "--------------------------------------------------\n",
      "JTBC 30\n",
      "이상\n",
      "+\n",
      "정청래, 전직 대통령 사저 앞 과도한 시위 금지 법안 발의\n",
      "--------------------------------------------------\n",
      "국민일보 1,500\n",
      "이상\n",
      "+\n",
      "“前대통령 사저 앞, 시위 금지”… 文지키기 나선 민주\n",
      "--------------------------------------------------\n",
      "文 사저 인근 보수단체 집회에 국민의힘도 비판… 시선 유도봉 설치되기도\n",
      "文 사저 인근 보수단체 집회에 국민의힘도 비판… 시선 유도봉 설치되기도\n",
      "이낙연 \"文 사저 앞 보수인사 소음시위 참담\"…野, 집시법 개정 추진\n",
      "정청래, 전직 대통령 사저 앞 과도한 시위 금지 법안 발의\n",
      "“前대통령 사저 앞, 시위 금지”… 文지키기 나선 민주\n"
     ]
    },
    {
     "name": "stderr",
     "output_type": "stream",
     "text": [
      "C:\\Users\\djagk\\AppData\\Local\\Temp\\ipykernel_7136\\1091021578.py:32: DeprecationWarning: find_element_by_css_selector is deprecated. Please use find_element(by=By.CSS_SELECTOR, value=css_selector) instead\n",
      "  head=driver.find_element_by_css_selector(ul+f'>li:nth-child({i})>div.cluster_text>a')\n"
     ]
    }
   ],
   "source": [
    "#Selenium을 통해서 DOM요소 추출\n",
    "# 메서드\n",
    "#여러개중에 처음 요소를 추출\n",
    "# find_element_by_id(id)\n",
    "# find_element_by_name(name)\n",
    "# find_element_by_css_selector(query) : css선택자로 요소 하나 추출 \n",
    "# find_element_by_xpath(query) :Xpath를 저장해 요소 하나 추출\n",
    "# find_element_by_tag_name(name) \n",
    "# find_element_by_link_text(text) : 링크 텍스트로 요소 하나 추출\n",
    "# find_element_by_partial_link_text(text): 링크 자식요소에 포함되어있는 요소로 하나 추출\n",
    "# find_element_by_class_name(class)\n",
    "\n",
    "# 모든 요소 추출\n",
    "# find_elements_by_css_selector(query)\n",
    "# find_elements_by_xpath(query)\n",
    "# find_elements_by_tag_name(name)\n",
    "# find_elements_by_class_name(class)\n",
    "# find_elements_by_partial_link_text(text)\n",
    "\n",
    "#NoSuchElementException : 찾고자하는 요소가 없는 경우에 발생\n",
    "ulsel=\"#main_content>div>div._persist>div:nth-child(1)>div:nth-child(1)>div.cluster_body>ul>li\"\n",
    "test=driver.find_elements_by_css_selector(ulsel)\n",
    "for i in test:\n",
    "    print(i.text)\n",
    "    print(\"-\"*50)\n",
    "ul=\"#main_content>div>div._persist>div:nth-child(1)>div:nth-child(1)>div.cluster_body>ul>li:nth-child(1)>div>a\"\n",
    "test2=driver.find_element_by_css_selector(ul)\n",
    "print(test2.text)\n",
    "ul=\"#main_content>div>div._persist>div:nth-child(1)>div:nth-child(1)>div.cluster_body>ul\"\n",
    "#>li:nth-child(1)>div.cluster_text>a\n",
    "for i in range(1,len(test)+1):\n",
    "    head=driver.find_element_by_css_selector(ul+f'>li:nth-child({i})>div.cluster_text>a')\n",
    "    print(head.text)"
   ]
  },
  {
   "cell_type": "code",
   "execution_count": 83,
   "metadata": {},
   "outputs": [],
   "source": [
    "title=driver.execute_script('return document.title;')\n",
    "title\n",
    "alert=driver.execute_script(\"alert('test');\")\n",
    "alert\n"
   ]
  }
 ],
 "metadata": {
  "interpreter": {
   "hash": "fb27240f79425b05cfdc60ec8aab2b2dfc885c099bc04dcc326b3070e76ef9c9"
  },
  "kernelspec": {
   "display_name": "Python 3.10.4 64-bit",
   "language": "python",
   "name": "python3"
  },
  "language_info": {
   "codemirror_mode": {
    "name": "ipython",
    "version": 3
   },
   "file_extension": ".py",
   "mimetype": "text/x-python",
   "name": "python",
   "nbconvert_exporter": "python",
   "pygments_lexer": "ipython3",
   "version": "3.10.4"
  },
  "orig_nbformat": 4
 },
 "nbformat": 4,
 "nbformat_minor": 2
}
