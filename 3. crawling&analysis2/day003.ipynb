{
 "cells": [
  {
   "cell_type": "code",
   "execution_count": null,
   "metadata": {},
   "outputs": [],
   "source": [
    "##https://home.openweathermap.org/api_keys api 사이트\n",
    "## 서울, 도쿄, 뉴욕 날씨"
   ]
  },
  {
   "cell_type": "code",
   "execution_count": 17,
   "metadata": {},
   "outputs": [
    {
     "name": "stdout",
     "output_type": "stream",
     "text": [
      "* 도시 :  Seoul\n",
      "  날씨 =  mist\n",
      "  최저기온 =  286.81\n",
      "  최고기온 =  288.91\n",
      "  습도 =  77\n",
      "  기압 =  1015\n",
      "  풍향 =  170\n",
      "  풍속 =  3.09\n",
      "* 도시 :  Tokyo\n",
      "  날씨 =  broken clouds\n",
      "  최저기온 =  284.07\n",
      "  최고기온 =  288.51\n",
      "  습도 =  91\n",
      "  기압 =  1019\n",
      "  풍향 =  290\n",
      "  풍속 =  2.06\n",
      "* 도시 :  New York\n",
      "  날씨 =  scattered clouds\n",
      "  최저기온 =  295.88\n",
      "  최고기온 =  299.12\n",
      "  습도 =  32\n",
      "  기압 =  1006\n",
      "  풍향 =  295\n",
      "  풍속 =  10.28\n"
     ]
    }
   ],
   "source": [
    "import requests\n",
    "import json\n",
    "\n",
    "# API 키 지정...\n",
    "apikey='37cfb6e548971dfc46c7d392d31a267a'\n",
    "\n",
    "# 날씨 확인할 도시 지정\n",
    "Cities=[\"Seoul,KR\",\"Tokyo,JP\",\"New York,US\"]\n",
    "api=\"http://api.openweathermap.org/data/2.5/weather?q={City}&APPID={key}\"\n",
    "\n",
    "#캘빈온도를 섭씨로 변환\n",
    "k2c=lambda k:k -273.15\n",
    "\n",
    "#각 도시의 정보 추출\n",
    "for name in Cities:\n",
    "    #api요청 url구성\n",
    "    url=api.format(City=name,key=apikey)\n",
    "    #API 요청\n",
    "    re=requests.get(url)\n",
    "    #요청 결과 Json으로 \n",
    "    data=json.loads(re.text)\n",
    "\n",
    "    # 결과 보기\n",
    "    print('* 도시 : ',data['name'])\n",
    "    print('  날씨 = ',data[\"weather\"][0]['description'])\n",
    "    print(\"  최저기온 = \",data['main']['temp_min'])\n",
    "    print(\"  최고기온 = \",data['main']['temp_max'])\n",
    "    print('  습도 = ',data['main']['humidity'])\n",
    "    print('  기압 = ',data['main']['pressure'])\n",
    "    print('  풍향 = ',data['wind']['deg'])\n",
    "    print('  풍속 = ',round(data['wind']['speed'],2))\n",
    "\n",
    "#API들\n",
    "# https://apistore.co.kr/api/apiList.do\n",
    "# http://developers.naver.com/main/\n",
    "# https://developers.kakao.com/\n",
    "# 다나와 \n",
    "# 기상청 api\n"
   ]
  },
  {
   "cell_type": "code",
   "execution_count": 32,
   "metadata": {},
   "outputs": [
    {
     "name": "stdout",
     "output_type": "stream",
     "text": [
      "*  맑음\n",
      "서울,인천,수원,파주,이천,평택,춘천,원주,강릉,대전,세종,홍성,청주,충주,영동,광주,목포,여수,순천,광양,나주,전주,군산,정읍,남원,고창,무주,대구,안동,포항,경주,울진,울릉도,\n",
      "*  구름많음\n",
      "부산,울산,창원,진주,거창,통영,제주,서귀포,\n"
     ]
    }
   ],
   "source": [
    "from bs4 import BeautifulSoup\n",
    "import urllib.request as req\n",
    "import os.path\n",
    "\n",
    "#xml 다운로드\n",
    "url=\"http://www.kma.go.kr/weather/forecast/mid-term-rss3.jsp?stId=108\"\n",
    "savename=\"forecast.xml\"\n",
    "if not os.path.exists('data/'+savename):\n",
    "    req.urlretrieve(url,'data/'+savename)\n",
    "\n",
    "#BeutifulSoup으로 분석\n",
    "xml=open('data/'+savename,'r',encoding='utf8')\n",
    "soup=BeautifulSoup(xml,'html.parser')\n",
    "#각 지역별 정보 확인\n",
    "info={} #지역정보 저장공간\n",
    "for location in soup.find_all(\"location\"):\n",
    "    name=location.find('city').string\n",
    "    weather=location.find('wf').string\n",
    "    if not (weather in info):\n",
    "        info[weather]=[]\n",
    "    info[weather].append(name)\n",
    "info\n",
    "\n",
    "#각 지역별 날씨를 구분해서 출력\n",
    "for weather in info.keys():\n",
    "    print(\"* \",weather)\n",
    "    for name in info[weather]:\n",
    "        print(name,end=',')\n",
    "    print()\n"
   ]
  },
  {
   "cell_type": "code",
   "execution_count": null,
   "metadata": {},
   "outputs": [],
   "source": [
    "### JSON의 구조\n",
    "# html://www.json.org/json-ko.html"
   ]
  },
  {
   "cell_type": "code",
   "execution_count": null,
   "metadata": {},
   "outputs": [],
   "source": [
    "### YAML 분석\n",
    "# 들여쓰기를 사용해서 계층구조를 표현하는 것이 특징인 데이터 형식\n",
    "# XML보다 간단하고, 거의 JSON과 비슷하다.\n",
    "# 파이썬에서 YAML을 다루기 위해서는 PyYAML이라는 모듈을 설치해야 한다."
   ]
  },
  {
   "cell_type": "code",
   "execution_count": 33,
   "metadata": {},
   "outputs": [
    {
     "name": "stdout",
     "output_type": "stream",
     "text": [
      "Collecting PyYAMLNote: you may need to restart the kernel to use updated packages.\n",
      "\n",
      "  Downloading PyYAML-6.0-cp310-cp310-win_amd64.whl (151 kB)\n",
      "     -------------------------------------- 151.7/151.7 KB 2.3 MB/s eta 0:00:00\n",
      "Installing collected packages: PyYAML\n",
      "Successfully installed PyYAML-6.0\n"
     ]
    },
    {
     "name": "stderr",
     "output_type": "stream",
     "text": [
      "WARNING: You are using pip version 22.0.4; however, version 22.1 is available.\n",
      "You should consider upgrading via the 'c:\\Users\\djagk\\AppData\\Local\\Programs\\Python\\Python310\\python.exe -m pip install --upgrade pip' command.\n"
     ]
    }
   ],
   "source": [
    "pip install PyYAML"
   ]
  },
  {
   "cell_type": "code",
   "execution_count": 43,
   "metadata": {},
   "outputs": [
    {
     "name": "stdout",
     "output_type": "stream",
     "text": [
      "Banana 1000\n",
      "Orange 1400\n",
      "Apple 2000\n"
     ]
    }
   ],
   "source": [
    "## YAML 사용하기 예제\n",
    "import yaml\n",
    "\n",
    "#YAML 예제\n",
    "yaml_str='''\n",
    "Data : 2022-05-16\n",
    "PriceList:\n",
    "    -\n",
    "        item_id : 1000\n",
    "        name : Banana\n",
    "        color : yellow\n",
    "        price : 1000\n",
    "    -\n",
    "        item_id : 1001\n",
    "        name : Orange\n",
    "        color : orange\n",
    "        price : 1400\n",
    "    -\n",
    "        item_id : 1002\n",
    "        name : Apple\n",
    "        color : red\n",
    "        price : 2000\n",
    "'''\n",
    "## yaml 분석\n",
    "data=yaml.full_load(yaml_str)\n",
    "data2=yaml.safe_load(yaml_str)   # load()보안상 이유로 경고 발생\n",
    "\n",
    "# 이름 가격 출력\n",
    "for item in data2['PriceList']:\n",
    "    print(item['name'],item['price'])\n"
   ]
  },
  {
   "cell_type": "code",
   "execution_count": 50,
   "metadata": {},
   "outputs": [
    {
     "name": "stdout",
     "output_type": "stream",
     "text": [
      "- age: '24'\n",
      "  gender: man\n",
      "  name: InSeong\n",
      "- age: '22'\n",
      "  gender: woman\n",
      "  name: gilja\n",
      "- age: '31'\n",
      "  gender: woman\n",
      "  name: sunshin\n",
      "- age: '23'\n",
      "  gender: man\n",
      "  name: bangown\n",
      "\n",
      "InSeong\n",
      "gilja\n",
      "sunshin\n",
      "bangown\n"
     ]
    }
   ],
   "source": [
    "import yaml\n",
    "#파이썬 데이터를 yaml데이터로 출력\n",
    "customer=[\n",
    "    {'name':'InSeong',\"age\":\"24\",\"gender\":\"man\"},\n",
    "    {'name':'gilja',\"age\":\"22\",\"gender\":\"woman\"},\n",
    "    {'name':'sunshin',\"age\":\"31\",\"gender\":\"woman\"},\n",
    "    {'name':'bangown',\"age\":\"23\",\"gender\":\"man\"},\n",
    "]\n",
    "yaml_str=yaml.dump(customer)\n",
    "print(yaml_str)\n",
    "#yaml데이터를 파이썬 데이터로 변환\n",
    "data=yaml.safe_load(yaml_str)\n",
    "for p in data:\n",
    "    print(p['name'])"
   ]
  },
  {
   "cell_type": "code",
   "execution_count": null,
   "metadata": {},
   "outputs": [],
   "source": [
    "## YAML의 기본은 배열, 해시, 스칼라(문자열, 숫자, 불리언)\n",
    "# 배열을 나타낼 때는 각 행의 앞에 하이픈을 붙인다... 하이픈 뒤에는 공백이 필요함\n",
    "\n",
    "# 예시(배열)\n",
    "# - banana\n",
    "# - mango\n",
    "\n",
    "#예시(중첩 배열),들여쓰기 다음에 바로 빈요소사용\n",
    "# - Yellow\n",
    "# -\n",
    "#     - Banana\n",
    "#     - Orange\n",
    "# -Red\n",
    "# -\n",
    "#   # - Apple\n",
    "    # - StrawBerry\n",
    "\n",
    "# 해시표현(\"<키>:<값>\"), 해시표현에도 들여쓰기\n",
    "# name: Gurum\n",
    "# age: 4\n",
    "# color: brown\n",
    "\n",
    "# YAML의 주석은 \"#\"\n",
    "\n",
    "# YAML에서 여러줄 문자열 저장\n",
    "# multi-line: |\n",
    "#     I like banana\n",
    "#     I like kiwi\n",
    "\n",
    "# YAML은 앵커와 별칭 기능 제공\n",
    "# \"&<이름>\" 형태로 변수 선언, \"*<이름>\" 형태로 참조\n",
    "\n",
    "# 색 정의\n",
    "# color_define:\n",
    "#     - &color1 \"#FF0000\"\n",
    "#     - &color2 \"00FF00\"\n",
    "#     - &color3 \"#00FFFF\"\n",
    "# 색 설정\n",
    "# frame_color:\n",
    "#     title: *color1\n",
    "#     logo: *color2\n",
    "# article_color:\n",
    "#     title: *color2\n",
    "#     back: *color3 \n",
    "# \n",
    "import yaml\n",
    "#문자열로 yaml을 정의    \n",
    "yaml_str =\"\"\"\n",
    "    \n",
    "\"\"\""
   ]
  }
 ],
 "metadata": {
  "interpreter": {
   "hash": "fb27240f79425b05cfdc60ec8aab2b2dfc885c099bc04dcc326b3070e76ef9c9"
  },
  "kernelspec": {
   "display_name": "Python 3.10.4 64-bit",
   "language": "python",
   "name": "python3"
  },
  "language_info": {
   "codemirror_mode": {
    "name": "ipython",
    "version": 3
   },
   "file_extension": ".py",
   "mimetype": "text/x-python",
   "name": "python",
   "nbconvert_exporter": "python",
   "pygments_lexer": "ipython3",
   "version": "3.10.4"
  },
  "orig_nbformat": 4
 },
 "nbformat": 4,
 "nbformat_minor": 2
}
