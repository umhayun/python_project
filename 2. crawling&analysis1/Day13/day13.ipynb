{
 "cells": [
  {
   "cell_type": "code",
   "execution_count": null,
   "metadata": {},
   "outputs": [],
   "source": [
    "## 정규 표현식\n",
    "# 웹 , sns에서 수집한 자료들은 대부분 가공되어 있지 않은상태로 수집\n",
    "# 이런이유로 필요한 문자열을 적절하게 자르고, 교체하고 추출하는 작업을 진행\n",
    "# 이때에 사용되는 것이 정규 표현식\n",
    "\n",
    "## 메타문자\n",
    "# 정규표현식에서 일정한 의미를 가지고 있는 특수 문자를 '메타문자'라고 한다.#"
   ]
  },
  {
   "cell_type": "markdown",
   "metadata": {},
   "source": [
    "###주요 메타문자\n",
    "메타문자 | 정규 표현식 | 의미\n",
    ":---:|:---:|:--:\n",
    ".|.x 또는 x. |임의의 한 문자가 x앞에 또는 뒤에 오는 패턴 지정\n",
    "^|^x |x 로 시작하는 문자열 (접두어 패턴을 지정)\n",
    "$|x$|x로 끝나는 문자열(접미어 패턴 지정)\n",
    "\\*|x*|x가 0번 이상 반복\n",
    "+|x+|x가 1번 이상 반복\n",
    "?|x?|x가 0 또는 1개 존재\n",
    "\\| | abc\\|ABC | abc또는 ABC 두개 중하나 선택(or)\n",
    "\\[] | [x]|x문자 한개 일치\n",
    "\\[^]|\\[^x]|x문자를 제외(부정)\n",
    "{n}|x{n}|x가 n번 연속\n",
    "{n,}|x{n,}|x가 n번 이상연속\n",
    "{m,n}|x{m,n}|x가 m~n사이 연속\n",
    "\n",
    "###메타문자로 사용되는 이스케이프 문자\n",
    "메타문자|의미\n",
    ":--:|:--:\n",
    "\\s|공백문자(white space)\n",
    "\\b|문자와 공백 사이\n",
    "\\d|숫자[0-9]와 같습니다.\n",
    "\\w|단어\\[0-9a-zA-Z_]와 같다.영문자+숫자\n",
    "\\n|줄바꿈 문자\n",
    "\\t|탭 문자\n",
    "\n",
    "** 이스케이프 문자를 대문자로 적으면 반대 의미로 해석..\n",
    "예로는 '\\S는 공백문자가 아닌 경우의 패턴을 의미'"
   ]
  },
  {
   "cell_type": "code",
   "execution_count": null,
   "metadata": {},
   "outputs": [],
   "source": [
    "##정규 표현식 모듈\n",
    "# 모듈명 :re 모듈\n",
    "# 사용 : import re\n",
    "#  "
   ]
  },
  {
   "cell_type": "markdown",
   "metadata": {},
   "source": [
    "## re 모듈의 주요 내장 함수\n",
    "|함수(파라미터)|기능|\n",
    "|:--:|:--|\n",
    "|compile(pattern, flags=0)|패턴을 컴파일 하여 Pattern 객체 반환|\n",
    "|escape(pattern)|문자열에서 특수 문자를 이스케이프 처리\n",
    "|findall(pattern,string,flag=0)|string에서 패턴과 일치하는 모든 문자열을 리스트로 반환|\n",
    "|finditer(pattern,string,flag=0)|string에서 패턴과 일치하는 모든 문자열을 반복자로 반환|\n",
    "|fullmatch(pattern,string,flag=0)|패턴을 모든 string에 적용하여 Match개체 반환, 일치하는 항목 없으면 None반환\n",
    "|match(pattern,string,flags=0)|string의 처음부터 패턴을 적용하여 Match객체를 반환, 일치하는 것이 없으면 None반환|\n",
    "|search(pattern,string,flags=0)|문자열을 스캔하여 패턴과 일치하는지 확인하고 일치하는 객체 리턴|\n",
    "|split(pattern,string,maxsplit=0,flags=0)|string을 대상으로 패턴과 일치하는 문자열을 분할하여 부분 문자열이 포함되는 리스트 반환|\n",
    "|sub(pattern,repl,string,count=0,flags=0)|string에서 패턴과 일치하는 문자열을 repl로 대체하여 문자열을 반환|\n",
    "|subn(pattern, repl,string,count=0,flag=0)|문자열에서 패턴과 이리하는 문자열을 repl로 대체하여 (new_string, 숫자) 형식의 튜플로 반환|\n",
    "|template(pattern,flags=0)|탬플릿 패턴을 컴파일하여 pattern객체 반환|\n"
   ]
  },
  {
   "cell_type": "code",
   "execution_count": 23,
   "metadata": {},
   "outputs": [
    {
     "name": "stdout",
     "output_type": "stream",
     "text": [
      "['1234']\n",
      "['12345']\n",
      "['1', '2', '3', '4', '5', '5', '5', '5', '6']\n",
      "['123', '555']\n",
      "['12345', '555']\n",
      "['1234', '555']\n",
      "['123', '555']\n",
      "['홍길동', '이사도시']\n",
      "['abc']\n",
      "['abc', 'ABC']\n",
      "['test']\n",
      "['st']\n",
      "['abc', 'mbc']\n",
      "['abc', 'mbc']\n",
      "['te', 't1', 'te']\n",
      "['test', '홍길동', 'abc', '123', 'tbc']\n",
      "['test', '홍길동 abc 대한+민국 123', ' tbc']\n"
     ]
    }
   ],
   "source": [
    "##문자열 찾기 예[findall()]\n",
    "import re   #모듈 추가\n",
    "from re import findall      #모듈 추가 2\n",
    "\n",
    "str1='12345 abc 홍길동 ABC_555_6 이사도시'\n",
    "\n",
    "# 숫자 찾기\n",
    "print(findall('1234',str1))         #'1234'문자 찾기\n",
    "print(findall('12345',str1))        #없음\n",
    "print(findall('[0-9]',str1))        #[]한글자 패턴\n",
    "print(findall('[0-9]{3}',str1))     #[123,555]-> [x]{n} n번 연속된 x값 패턴\n",
    "print(findall('[0-9]{3,}',str1))    #3번이상 연속된 x값\n",
    "print(findall('[0-9]{2,4}',str1))   #범위보다 숫자가 더길면 범위만큼잘라서나옴\n",
    "print(findall('\\\\d{3}',str1))       #이스테이프 문자 사용\n",
    "\n",
    "#문자열 찾기\n",
    "print(findall('[가-힣]{3,}',str1))  # 한글 검색\n",
    "print(findall('[a-z]{3}',str1))     #영어 검색\n",
    "print(findall('[a-z|A-Z]{3}',str1)) #소문자 대문자 모두 검색\n",
    "\n",
    "#특정 위치의 문자열 찾기\n",
    "str2= 'test1abcABC 123mbc 45 test'\n",
    "\n",
    "#접두어/접미어  전체문장에서 찾기\n",
    "print(findall('^test',str2))    #접두어\n",
    "print(findall('st$',str2))      #접미어\n",
    "\n",
    "#종료문자 찾기 :abc,mbc\n",
    "print(findall('.bc',str2))      #bc로 끝나는 단어 찾기\n",
    "print(findall('[a,m]bc',str2))\n",
    "\n",
    "#시작 문자 찾기\n",
    "print(findall('t.',str2))\n",
    "\n",
    "# 단어 찾기\n",
    "str3='test^홍길동 abc 대한+민국 123$ tbc'\n",
    "print(findall('\\\\w{3,}',str3))\n",
    "\n",
    "#문자열 제외 : x+(x가 1개 이상 반복)\n",
    "print(findall('[^^*$]+',str3))  #특수문자 제외 (^*$)\n"
   ]
  },
  {
   "cell_type": "code",
   "execution_count": 27,
   "metadata": {},
   "outputs": [
    {
     "name": "stdout",
     "output_type": "stream",
     "text": [
      "<re.Match object; span=(0, 14), match='123456-3234567'>\n",
      "주민번호 형태 일치\n"
     ]
    }
   ],
   "source": [
    "# 문자열 검사 [match()]\n",
    "# 문자열 패턴과 일치하는 문자열이 존재하면 객체 반환,일치되지 않는 경우에는 None\n",
    "# 문자열 패턴과 일치여부를 검사하는 경우 사용\n",
    "\n",
    "import re\n",
    "from re import match\n",
    "\n",
    "#패턴과 일치하는 경우\n",
    "jumin='123456-3234567'\n",
    "re=match('[0-9]{6}-[1-4][0-9]{6}',jumin)\n",
    "print(re)\n",
    "\n",
    "if re:\n",
    "    print('주민번호 형태 일치')\n",
    "else:\n",
    "    print('주민번호 형태 불일치')"
   ]
  },
  {
   "cell_type": "code",
   "execution_count": 44,
   "metadata": {},
   "outputs": [
    {
     "name": "stdout",
     "output_type": "stream",
     "text": [
      "test홍길동 abc 대한민국 123 tbc\n",
      "TEST홍길동 abc 대한민국 123 tbc\n",
      "TEST홍길동 abc 대한민국 123 tbc\n",
      "TEST홍길동 abc 대한민국 123 tbc\n",
      "test홍길동 abc 대한민국 123 tbc\n",
      "test홍길동 abc 대한민국  tbc\n"
     ]
    }
   ],
   "source": [
    "# 문자열 치환 :sub()\n",
    "# 패턴과 일치하는 문자열을 지정한 문자열로 치환하여 새로운 문자열을 반환\n",
    "# 자연어를 대상으로 불용어에 해당하는 문장부호나 특수문자를 제거할 때 사용\n",
    "\n",
    "from re import sub\n",
    "\n",
    "str3='test^홍길동 abc 대한+민국 123$ tbc'\n",
    "\n",
    "#특수문자 제거\n",
    "text1=sub('[\\*^$+]+','',str3)\n",
    "print(text1)\n",
    "\n",
    "#연습\n",
    "#text1에 있는 문자열 중에 'test'->'TEXT'로 변경하세요.\n",
    "text2=sub('test+','TEST',text1)\n",
    "print(text2)\n",
    "print(sub('[a-z]{4}','TEST',text1))\n",
    "print(sub(text1[0:4],'TEST',text1))\n",
    "\n",
    "# 숫자 제거\n",
    "print(text1)\n",
    "text2=sub('[0-9]','',text1)\n",
    "print(text2)"
   ]
  },
  {
   "cell_type": "code",
   "execution_count": 57,
   "metadata": {},
   "outputs": [
    {
     "name": "stdout",
     "output_type": "stream",
     "text": [
      "<http.client.HTTPResponse object at 0x0000025CE27DBA00>\n",
      "['kimsdoo@yna.co.kr', 'kimsdoo@yna.co.kr', 'handbrother@yna.co.kr', 'handbrother@yna.co.kr', 'toadboy@yna.co.kr', 'toadboy@yna.co.kr', 'sncwook@yna.co.kr', 'video@EyWmm9NfPe', 'sncwook@yna.co.kr']\n"
     ]
    }
   ],
   "source": [
    "# http://news.v.daum.net/v/20220404120609031 기사에서  이메일 정보 찾아서 출력\n",
    "import urllib.request\n",
    "url='http://news.v.daum.net/v/20220404120609031'\n",
    "\n",
    "file=urllib.request.urlopen(url)\n",
    "print(file)\n",
    "data=file.read().decode('utf8')\n",
    "email=findall('\\\\w+@\\\\w+[._-]?\\\\w+[._-]?\\\\w+',data)\n",
    "print(email)"
   ]
  }
 ],
 "metadata": {
  "interpreter": {
   "hash": "fb27240f79425b05cfdc60ec8aab2b2dfc885c099bc04dcc326b3070e76ef9c9"
  },
  "kernelspec": {
   "display_name": "Python 3.10.4 64-bit",
   "language": "python",
   "name": "python3"
  },
  "language_info": {
   "codemirror_mode": {
    "name": "ipython",
    "version": 3
   },
   "file_extension": ".py",
   "mimetype": "text/x-python",
   "name": "python",
   "nbconvert_exporter": "python",
   "pygments_lexer": "ipython3",
   "version": "3.10.4"
  },
  "orig_nbformat": 4
 },
 "nbformat": 4,
 "nbformat_minor": 2
}
