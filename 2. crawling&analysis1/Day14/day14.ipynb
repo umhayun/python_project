{
 "cells": [
  {
   "cell_type": "code",
   "execution_count": 4,
   "metadata": {},
   "outputs": [
    {
     "name": "stdout",
     "output_type": "stream",
     "text": [
      "['http://www.naver.com', 'http://www.daum.net', 'www.hongildong.com', 'https://www.yahoo.com']\n",
      "['http://www.naver.com', 'http://www.daum.net', 'https://www.yahoo.com']\n"
     ]
    }
   ],
   "source": [
    "###텍스트 처리\n",
    "# 비정형 자료를 수집한 경우 올바르지 않은 문장이 포함될 수 있다.\n",
    "# 이런 경우 올바른 문장만 선택하는 텍스트 전처리 과정\n",
    "\n",
    "# ex)도메인 주소의 http://으로 시작되지 않는 주소를 비정상 자료로 가정하여\n",
    "#수집된 자료 제외하는 예시\n",
    "multi_line=\"\"\"http://www.naver.com\n",
    "http://www.daum.net\n",
    "www.hongildong.com\n",
    "https://www.yahoo.com\"\"\"\n",
    "import re\n",
    "from re import split, compile,match\n",
    "\n",
    "#구분자를사용한문자열분리(split())\n",
    "web_site=split(\"\\n\",multi_line) #split(pattern,string)\n",
    "print(web_site)\n",
    "\n",
    "# 패턴 객체만들기\n",
    "pat=compile(\"http[s]?://\")      #pat객체 생성       #s도 판별\n",
    "\n",
    "bool(None)\n",
    "sel_site=[site for site in web_site if match(pat,site)]     #for문\n",
    "'''\n",
    "sel_site=[]\n",
    "for site in web_site:\n",
    "    if match(pat,site):\n",
    "        sel_site.append(site)\n",
    "'''\n",
    "print(sel_site)\n"
   ]
  },
  {
   "cell_type": "code",
   "execution_count": 22,
   "metadata": {},
   "outputs": [
    {
     "data": {
      "text/plain": [
       "['우리나라 대한민국 우리나라만세', '비아그라', '나는 대한민국 사람', '보험료 원에 평생 보장 마감 임박', '나는 홍길동']"
      ]
     },
     "execution_count": 22,
     "metadata": {},
     "output_type": "execute_result"
    }
   ],
   "source": [
    "##자연어 전처리\n",
    "\n",
    "from re import findall,sub\n",
    "#예제 텍스트\n",
    "texts=['우리나라     대한민국, 우리나라%$만세', \n",
    "        '비아그&라 500GRAM','나는 대한민국 사람!!,',\n",
    "        '보험료 15000원에 평생 보장 마감 임박','나는 홍길동']\n",
    "##1단계-소문자 변경\n",
    "text_re1=[t.lower() for t in texts]\n",
    "text_re1\n",
    "\n",
    "## 2단계-숫자 제거\n",
    "text_re2=[sub(\"[0-9]\",'',text) for text in text_re1]\n",
    "text_re2\n",
    "\n",
    "#3단계-문장부호 제거\n",
    "text_re3=[sub(\"[,.?!:;]\",'',text) for text in text_re2]\n",
    "text_re3\n",
    "\n",
    "##4단계 -특수문자제거\n",
    "special_str='[@#$%^&*()]'\n",
    "text_re4=[sub(special_str,'', text) for text in text_re3]\n",
    "text_re4\n",
    "\n",
    "#5단계 - 영문자 제거\n",
    "text_re5=[''.join(findall(\"[^a-z]\",text)) for text in text_re4]\n",
    "text_re5\n",
    "\n",
    "#6단계 - 공백 제거\n",
    "text_re6=[' '.join(text.split()) for text in text_re5]\n",
    "text_re6"
   ]
  },
  {
   "cell_type": "code",
   "execution_count": 32,
   "metadata": {},
   "outputs": [
    {
     "name": "stdout",
     "output_type": "stream",
     "text": [
      "['우리나라 대한민국 우리나라만세', '비아그라', '나는 대한민국 사람', '보험료 원에 평생 보장 마감 임박', '나는 홍길동']\n"
     ]
    }
   ],
   "source": [
    "##전처리 과정을 함수로...\n",
    "## 함수명 :  clean_text(text)\n",
    "texts=['우리나라     대한민국, 우리나라%$만세', \n",
    "        '비아그&라 500GRAM','나는 대한민국 사람!!,',\n",
    "        '보험료 15000원에 평생 보장 마감 임박','나는 홍길동']\n",
    "from re import findall,sub\n",
    "def clean_text(text):\n",
    "    #대문자로변경\n",
    "    t_1=text.lower()\n",
    "    #숫자 제거\n",
    "    t_2=sub('[0-9]','',t_1)\n",
    "    #문장부호제거\n",
    "    t_3=sub('[,.?!:;]','',t_2)\n",
    "    #특수문자 제거\n",
    "    t_4=sub('[@#$%^&*()]','',t_3)\n",
    "    #영문자 제거\n",
    "    t_5=sub('[a-z]','',t_4)\n",
    "    #공백 제거\n",
    "    t_6=' '.join(t_5.split())\n",
    "    return t_6\n",
    "\n",
    "\n",
    "text_result=[clean_text(text) for text in texts]\n",
    "print(text_result)"
   ]
  },
  {
   "cell_type": "code",
   "execution_count": null,
   "metadata": {},
   "outputs": [],
   "source": []
  }
 ],
 "metadata": {
  "interpreter": {
   "hash": "864ec98f2a6104f45765773c1e68f31cbb66b069988a5fcf797f7e6185c861a0"
  },
  "kernelspec": {
   "display_name": "Python 3.10.4 64-bit",
   "language": "python",
   "name": "python3"
  },
  "language_info": {
   "codemirror_mode": {
    "name": "ipython",
    "version": 3
   },
   "file_extension": ".py",
   "mimetype": "text/x-python",
   "name": "python",
   "nbconvert_exporter": "python",
   "pygments_lexer": "ipython3",
   "version": "3.10.4"
  },
  "orig_nbformat": 4
 },
 "nbformat": 4,
 "nbformat_minor": 2
}
