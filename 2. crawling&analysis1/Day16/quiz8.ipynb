{
 "cells": [
  {
   "cell_type": "code",
   "execution_count": 28,
   "metadata": {},
   "outputs": [
    {
     "ename": "AttributeError",
     "evalue": "'DataFrame' object has no attribute 'readlines'",
     "output_type": "error",
     "traceback": [
      "\u001b[1;31m---------------------------------------------------------------------------\u001b[0m",
      "\u001b[1;31mAttributeError\u001b[0m                            Traceback (most recent call last)",
      "\u001b[1;32mc:\\python\\Day16\\quiz8.ipynb Cell 1'\u001b[0m in \u001b[0;36m<cell line: 3>\u001b[1;34m()\u001b[0m\n\u001b[0;32m      <a href='vscode-notebook-cell:/c%3A/python/Day16/quiz8.ipynb#ch0000000?line=0'>1</a>\u001b[0m f\u001b[39m=\u001b[39m\u001b[39mopen\u001b[39m(\u001b[39m'\u001b[39m\u001b[39mdata/ftest.txt\u001b[39m\u001b[39m'\u001b[39m,\u001b[39m'\u001b[39m\u001b[39mr\u001b[39m\u001b[39m'\u001b[39m,encoding\u001b[39m=\u001b[39m\u001b[39m'\u001b[39m\u001b[39mutf8\u001b[39m\u001b[39m'\u001b[39m)\n\u001b[0;32m      <a href='vscode-notebook-cell:/c%3A/python/Day16/quiz8.ipynb#ch0000000?line=1'>2</a>\u001b[0m record_df\u001b[39m=\u001b[39mpd\u001b[39m.\u001b[39mDataFrame(f)\n\u001b[1;32m----> <a href='vscode-notebook-cell:/c%3A/python/Day16/quiz8.ipynb#ch0000000?line=2'>3</a>\u001b[0m file\u001b[39m=\u001b[39mrecord_df\u001b[39m.\u001b[39;49mreadlines()\n\u001b[0;32m      <a href='vscode-notebook-cell:/c%3A/python/Day16/quiz8.ipynb#ch0000000?line=3'>4</a>\u001b[0m \u001b[39mprint\u001b[39m(file)\n\u001b[0;32m      <a href='vscode-notebook-cell:/c%3A/python/Day16/quiz8.ipynb#ch0000000?line=4'>5</a>\u001b[0m docs\u001b[39m=\u001b[39m[]\n",
      "File \u001b[1;32m~\\AppData\\Local\\Programs\\Python\\Python310\\lib\\site-packages\\pandas\\core\\generic.py:5575\u001b[0m, in \u001b[0;36mNDFrame.__getattr__\u001b[1;34m(self, name)\u001b[0m\n\u001b[0;32m   <a href='file:///c%3A/Users/djagk/AppData/Local/Programs/Python/Python310/lib/site-packages/pandas/core/generic.py?line=5567'>5568</a>\u001b[0m \u001b[39mif\u001b[39;00m (\n\u001b[0;32m   <a href='file:///c%3A/Users/djagk/AppData/Local/Programs/Python/Python310/lib/site-packages/pandas/core/generic.py?line=5568'>5569</a>\u001b[0m     name \u001b[39mnot\u001b[39;00m \u001b[39min\u001b[39;00m \u001b[39mself\u001b[39m\u001b[39m.\u001b[39m_internal_names_set\n\u001b[0;32m   <a href='file:///c%3A/Users/djagk/AppData/Local/Programs/Python/Python310/lib/site-packages/pandas/core/generic.py?line=5569'>5570</a>\u001b[0m     \u001b[39mand\u001b[39;00m name \u001b[39mnot\u001b[39;00m \u001b[39min\u001b[39;00m \u001b[39mself\u001b[39m\u001b[39m.\u001b[39m_metadata\n\u001b[0;32m   <a href='file:///c%3A/Users/djagk/AppData/Local/Programs/Python/Python310/lib/site-packages/pandas/core/generic.py?line=5570'>5571</a>\u001b[0m     \u001b[39mand\u001b[39;00m name \u001b[39mnot\u001b[39;00m \u001b[39min\u001b[39;00m \u001b[39mself\u001b[39m\u001b[39m.\u001b[39m_accessors\n\u001b[0;32m   <a href='file:///c%3A/Users/djagk/AppData/Local/Programs/Python/Python310/lib/site-packages/pandas/core/generic.py?line=5571'>5572</a>\u001b[0m     \u001b[39mand\u001b[39;00m \u001b[39mself\u001b[39m\u001b[39m.\u001b[39m_info_axis\u001b[39m.\u001b[39m_can_hold_identifiers_and_holds_name(name)\n\u001b[0;32m   <a href='file:///c%3A/Users/djagk/AppData/Local/Programs/Python/Python310/lib/site-packages/pandas/core/generic.py?line=5572'>5573</a>\u001b[0m ):\n\u001b[0;32m   <a href='file:///c%3A/Users/djagk/AppData/Local/Programs/Python/Python310/lib/site-packages/pandas/core/generic.py?line=5573'>5574</a>\u001b[0m     \u001b[39mreturn\u001b[39;00m \u001b[39mself\u001b[39m[name]\n\u001b[1;32m-> <a href='file:///c%3A/Users/djagk/AppData/Local/Programs/Python/Python310/lib/site-packages/pandas/core/generic.py?line=5574'>5575</a>\u001b[0m \u001b[39mreturn\u001b[39;00m \u001b[39mobject\u001b[39;49m\u001b[39m.\u001b[39;49m\u001b[39m__getattribute__\u001b[39;49m(\u001b[39mself\u001b[39;49m, name)\n",
      "\u001b[1;31mAttributeError\u001b[0m: 'DataFrame' object has no attribute 'readlines'"
     ]
    }
   ],
   "source": [
    "f=open('data/ftest.txt','r',encoding='utf8')\n",
    "file=f.readlines()\n",
    "print(file)\n",
    "docs=[]\n",
    "words=[]\n",
    "from re import sub,split\n",
    "for a in file:\n",
    "    a=sub('\\n','',a)\n",
    "    docs.append(a)\n",
    "    ac=a.split()\n",
    "    for acc in ac:\n",
    "        words.append(acc)\n",
    "print(\"문장수 : \", len(docs))\n",
    "print(\"단어수 : \")\n",
    "\n",
    "    "
   ]
  },
  {
   "cell_type": "code",
   "execution_count": 43,
   "metadata": {},
   "outputs": [
    {
     "name": "stdout",
     "output_type": "stream",
     "text": [
      "    No Name  Pay\n",
      "0  101  홍길동  150\n",
      "1  102  이순신  450\n",
      "2  103  강감찬  500\n",
      "3  104  유관순  350\n",
      "4  105  김유신  400\n",
      "관측치길이:  5\n",
      "370\n"
     ]
    }
   ],
   "source": [
    "import pandas as pd\n",
    "from statistics import mean\n",
    "emp=pd.read_csv('data/emp.csv',encoding='utf8')\n",
    "emp_df=pd.DataFrame(emp)\n",
    "print(emp_df)\n",
    "print('관측치길이: ',len(emp_df))\n",
    "Pay=emp_df['Pay']\n",
    "print(round(mean(Pay),2))\n"
   ]
  }
 ],
 "metadata": {
  "interpreter": {
   "hash": "864ec98f2a6104f45765773c1e68f31cbb66b069988a5fcf797f7e6185c861a0"
  },
  "kernelspec": {
   "display_name": "Python 3.10.4 64-bit",
   "language": "python",
   "name": "python3"
  },
  "language_info": {
   "codemirror_mode": {
    "name": "ipython",
    "version": 3
   },
   "file_extension": ".py",
   "mimetype": "text/x-python",
   "name": "python",
   "nbconvert_exporter": "python",
   "pygments_lexer": "ipython3",
   "version": "3.10.4"
  },
  "orig_nbformat": 4
 },
 "nbformat": 4,
 "nbformat_minor": 2
}
