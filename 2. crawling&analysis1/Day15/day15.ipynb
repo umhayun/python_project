{
 "cells": [
  {
   "cell_type": "code",
   "execution_count": 1,
   "metadata": {},
   "outputs": [
    {
     "name": "stdout",
     "output_type": "stream",
     "text": [
      "안녕하세요...\n",
      "연습입니다.\n"
     ]
    }
   ],
   "source": [
    "### with 블럭과 인코딩방식\n",
    "# \n",
    "# (형식)\n",
    "#  with open(file, mode, encoding) as 참조변수:\n",
    "#      pass  # 참조변수를 참조하여 작업 내용 지정\n",
    "# \n",
    "# \n",
    "# 예시)\n",
    "try:\n",
    "    with open('data/test_text.txt','r',encoding='utf8') as f:\n",
    "        rbuf = f.read()\n",
    "        print(rbuf)\n",
    "    with open('data/test_text.txt','w',encoding='utf8') as f:\n",
    "        f.write(\"안녕하세요...\")\n",
    "        f.write(\"\\n연습입니다.\")\n",
    "       \n",
    "except Exception as e:\n",
    "    print(\"Error 발생 : \",e)\n",
    "\n"
   ]
  },
  {
   "cell_type": "code",
   "execution_count": 45,
   "metadata": {},
   "outputs": [
    {
     "name": "stdout",
     "output_type": "stream",
     "text": [
      "['test', 'test_text.txt']\n",
      "c:\\PythonProject\\day15\\data\n",
      "['test', 'test_text.txt']\n",
      "['test', 'test_text.txt']\n",
      "c:\\PythonProject\\day15\\data\n"
     ]
    }
   ],
   "source": [
    "### 파일 시스템... \n",
    "## OS내에서 사용하는 정보를 얻거나 동작을 하는 함수들... \n",
    "#\n",
    "#  사용하는 모듈 : os\n",
    "# \n",
    "# [파일 및 디렉터리 관련 함수]\n",
    "#  os.getcwd() : 현재 작업 디렉터리 위치를 반환\n",
    "#  os.chdir(path) : 현재 작업 디렉터리 위치를 변경\n",
    "#  os.listdir(path) : 경로에 해당하는 파일, 디렉터리 목록 보여주기\n",
    "#  os.remove(path) : 해당 파일을 삭제합니다.\n",
    "#  os.mkdir(path) : 해당 디렉터리를 생성\n",
    "#  os.rmdir(path) : 해당 디렉터리를 삭제(디렉터리가 비어 있어야 함)\n",
    "#  os.makedirs(path) : 여러개의 디렉터리를 순차적으로 생성. \n",
    "#                   디렉터리가 존재하는 경우에는 예외 처리됨\n",
    "#  os.removedirs(path) : 여러개의 디렉터리를 순차적으로 삭제한다\n",
    "#  os.rename(src,dst) : 파일이나 디렉터리의 이름(src)을 dst로 변경\n",
    "# #\n",
    "\n",
    "import os \n",
    "\n",
    "# 현재 작업 위치\n",
    "os.getcwd()\n",
    "\n",
    "# 작업 디렉터리 변경\n",
    "#os.chdir('data')\n",
    "\n",
    "# 현재 작업 디렉터리 목록  -> 리스트로 반환\n",
    "os.listdir('./')\n",
    "\n",
    "# 디렉터리 생성 : 'test'생성\n",
    "#os.mkdir('test')\n",
    "list = os.listdir('.')\n",
    "print(list)\n",
    "    \n",
    "# 디렉터리 이동 : test\n",
    "#os.chdir('test')\n",
    "print(os.getcwd())\n",
    "    \n",
    "# 여러 디렉터리 생성 : test2, test3\n",
    "#os.makedirs('test2/test3')\n",
    "print(os.listdir('.'))\n",
    "    \n",
    "#os.chdir('test2')\n",
    "print(os.listdir('.'))      # test3\n",
    "    \n",
    "# 디렉터리 삭제\n",
    "#os.chdir('../')\n",
    "print(os.getcwd())\n",
    "os.getcwd()\n",
    "#os.rmdir('test2/test3')\n",
    "#os.listdir('test2')\n",
    "\n",
    "## 여러 개의 디렉터리를 삭제 : test, test2\n",
    "os.getcwd()\n",
    "os.chdir('c:\\\\PythonProject\\\\day15\\\\data')\n",
    "os.getcwd()\n",
    "os.removedirs('test/test2')"
   ]
  },
  {
   "cell_type": "code",
   "execution_count": 8,
   "metadata": {},
   "outputs": [
    {
     "data": {
      "text/plain": [
       "'c:\\\\python\\\\test.txt'"
      ]
     },
     "execution_count": 8,
     "metadata": {},
     "output_type": "execute_result"
    }
   ],
   "source": [
    "#경로 관련 함수\n",
    "\n",
    "# os.path.abspath(path) : 현재 경로를 기준으로 절대경로 반환\n",
    "# os.path.dirname(path) : 현재 경로를 기준으로 파일 또는 디렉토리 경로 반환\n",
    "# os.path.getsize(path) : 현재 경로의 파일에 대한 크기 반환\n",
    "# os.path.exists(path) : 현재 경로가 존재하면 True, 존재하지 않으면 False\n",
    "# os.path.isfile(path) : 현재 경로가 파일이면 True, 파일이 아니면 False\n",
    "# os.path.isdir(path) : 현재 경로가 디렉토리면 True, 아니면 False\n",
    "# os.path.split(path) : 현재 경로를 디렉토리와 파일로 분리하여 튜플로 반환\n",
    "# os.path.join(path1[path2[,...]]) : 경로와 경로 하나로 연결\n",
    "\n",
    "import os.path\n",
    "\n",
    "#현재 경로 확인\n",
    "os.chdir('c:\\\\python\\\\Day15')\n",
    "os.getcwd()\n",
    "\n",
    "#파일이나 디렉토리 절대경로\n",
    "os.path.abspath('data/test_text.txt')\n",
    "\n",
    "#파일, 디렉토리 이름\n",
    "os.path.dirname('data/test_text.txt')\n",
    "\n",
    "# 파일/디렉터리 존재 확인\n",
    "os.path.exists('c:\\\\python\\\\Day01')\n",
    "os.path.exists('../Day14')\n",
    "os.path.exists('../Day14/day14.ipynb')\n",
    "\n",
    "# 파일/디렉터리 유무 확인\n",
    "os.path.isfile('../Day14/day14.ipynb')\n",
    "os.path.isdir('../Day14')\n",
    "#경로 정보의 디렉터리와 파일 분리\n",
    "os.path.split('c:\\\\python\\\\Day11\\day11.ipynb')\n",
    "#경로 정보를 통한 디렉터리와 파일 결합\n",
    "os.path.join('c:\\\\python','test.txt')"
   ]
  },
  {
   "cell_type": "code",
   "execution_count": 3,
   "metadata": {},
   "outputs": [
    {
     "name": "stdout",
     "output_type": "stream",
     "text": [
      "c:\\python\\Day15\n",
      "['first', 'second']\n",
      "first_txt 길이 :  10\n",
      "second_txt 길이 :  10\n",
      "tot_texts 길이 :  20\n",
      "[\"maroon thinks that roger's wife , jessica's , possible unfaithfulness to him might be the cause of distraction and tells eddie to get some photos of her in the act before it costs him any more money in reshoots . \\nvaliant takes some photos of jessica playing , `patty cake' with marvin acme ( stubby kaye ) , the owner of toontown ( where all of the cartoon characters live ) and takes them to maroon . \\nupon seeing them , roger is emotionally destroyed and soon after acme is found dead and roger rabbit is the prime suspect . \\nthe rest of the movie follows valiant and roger as they run around town ( and eventually toontown ) trying to clear roger's good name . \\nalong the way they meet judge doom ( christopher lloyd ) a judge-jury-and executioner type who's out to get roger and has discovered the one and only way to kill a `toon . ' \\n`who framed roger rabbit' won 4 academy awards including a special achievement award for richard williams for animation direction and creation of the cartoon characters ( williams and his teams went through the film frame by frame and hand drew the cartoon characters in ) . \\ndirector robert zemekis must be given an equal amount of praise for overseeing the entire production , which included hundreds of animators . \\nalso bob hoskins' performance should be credited. \", 'it shouldn\\'t have surprised me , then , that kundun , a film about a mystical religion , actually turned out to be quite straightforward . \\nthe movie follows the life of the 14th dalai lama , the spiritual and political leader of tibet . \\nthe movie\\'s title is another name for the dalai lama which means \" ocean of wisdom . \" \\nhis story is told in strict chronological order and there are only a few cinematic visions to embellish the literal story . \\n ( one of which makes an interesting statement : pay attention to the film\\'s opening shot and watch where it is repeated . ) \\nwe first glimpse the dalai lama when he is two years old. \\nhis curiosity and self-assuredness capture the attention of a monk wandering in search of the new lama . \\na test is arranged to see if this boy really is the reincarnation of the 13 dalai lamas who have gone before . \\nseveral items belonging to the previous dalai lama are laid before the boy alongside some other items . \\nthe child is asked if he recognizes any of the items as his own.', 'who cowrote the script with emmanuelle bernheim , marcia romano , and marina de van , has turned in a more mature work than his previous , creepy \" see the sea . \" \\nwhile he cleverly never lets us see jean enter the water that fateful day , leaving a number of possibilities - accident ? , suicide ? , escape ? \\n- open , he definitely tips his hand towards a certain outcome . \\ncinematography by antoine hiberli and jeanne lapoirie glides around marie or captures rampling\\'s exotic face in mood divining closeup . \\nin an inventive fantasy scene , marie imagines jean\\'s hands massaging her feet while in a state of auto-arousal . \\nhis two hands become four , then more combined with her own , becoming almost a one person orgy and recalling roman polanski\\'s \" repulsion . \" \\noriginal music by philippe rombi quietly adds to the overall melancholy. ', 'kiki comes to realize not only the beauty of her surroundings , but the innate beauty inside her . \\nseeing kiki regain faith in herself is marvelous , and the principal device used to do it is so sublime that i don\\'t even want to hint at it . \\nthe ending of the movie has a subtle charm combined with a sense of awe and , ironically , the most disney-esque moment i\\'ve ever seen ; if you don\\'t hold your breath in wonder you might want to get medical attention . \\nthe movie steers free of many of the disney conventions : there is no violence , however cartoonish , no song-and-dance number , and kiki\\'s pet cat jiji is more a friend than a comedic sidekick , although jiji is given many funny lines and scenes . \\nhowever , i would be surprised if disney doesn\\'t give jiji more jokes , or at least the voice of some comedian . \\nrefreshingly enough , the moral lesson of the movie is not self-contradicted , a habit disney movies have gotten into . \\n \" beauty and the beast \" \\'s beautiful belle , for instance , learned that beauty was derived from a person\\'s inside , and was then rewarded by having the beast turn into a handsome prince in snazzy clothing . \\nkiki , on the other hand , learns to separate her wardrobe from her self-image , and nothing more is made of her early desires for better clothing than illustrating her increased maturity at the end of the film . \\nanother difference with disney movies is in the style of animation for \" kiki\\'s delivery service \" : not as colorful and dynamic as disney animation can be , but with a greater attention to realism and detail , it fits the movie to a t . this is particularly true with scenes of kiki\\'s flights . \\nthe extreme realism of the birds in flight near kiki is magnificent to behold , and helps these scenes capture the wonder of flight better than any other film i\\'ve ever seen . \\ni\\'m not sure when or how this movie will be released in the united states. ', \"we see matthew broderick , a man torn to a primal state ; he's been unfaithful to his wife , lied to and manipulated his students , and by the same token they've demeaned his masculinity , his self-respect , his desperate attempt at changing the world . \\nand yet , he equates the cause of his pain , his torment , with tracy flick ( reese witherspoon ) . \\nno matter how many students have come and gone , and disappointed him as an educator , she's the real threat . \\nabout to give in , and divulge that she's won by only a lone vote , broderick's mccalister turns in defeat , sees tracy's euphoric celebration in the outside corridor and says , 'no' . \\nthe fact that he simultaneously lusts after her ideologically further illustrates that freudian foundation of entitlement which all men , no matter how obscure , have in their relationships ; a traditional expectation of success , to usurp and surpass women as a proverbial industry . \\nshe can't go higher than him . \\nhe won't allow it. \", \"writer oliver stone and director brian de palma make an explosive combination here . \\nstone's script offers solid storytelling and some fine character development . \\nmontana is fascinating ; uneducated but calculating , a straight shooter who speaks from the heart ; an ambitious , violent man yet one with a conscience . \\na man fiercely protective of his beautiful 20 year old sister , not wanting her to be sucked into the glitzy , dangerous world which he inhabits . \\npacino is dynamite , taking to the role with a brooding , bristling energy which in his more recent films has often degenerated into just simple overracting . \\npfeiffer also registers strongly as the gangstar mole with no inner life . \\nonly once does tony express real affection for her and his desire to have children , and even then you sense all he really wants is a regular screw and a beautiful object to show off to his friends , and she's happy to oblige . \\nthis isn't as meaty a role for pfieffer as sharon stone's was in casino , but its an effective one nonetheless and she aquits herself well . \\nas director , de palma sets up a number of dramatic scenes with his typical stylistic brauva . \\nthe escalating tension he creates in various mob situations - a drug deal gone wrong , an assination attempt - is often thrilling , and in this respect he is every bit the equal of scorese and coppola . \\nwhere he differs from , say , coppola's godfather trilogy is in his overall treatment . \\ncoppola gives his crime sagas an operatic sweep , whereas in scarface de palma opts for a grittier feel . \\nand it perfectly suits the material. \", \"to me , any movie with russian-sounding accents for bad guys , jamaican accents for good guys , and middle eastern-sounding accents for seedy gamblers accents can be expected to be more tongue in cheek than profound . \\nvisually , star wars : episode i --the phantom menace ( 1999 ) is a kid show where parents can take their young ones to marvel at child-friendly cgi characters and wondrous backdrops even if the character dialogue ( mostly geopolitics ) is beyond the level of children . \\nit is left to parents to patiently explain the conversation : droid origins , family lineage , the definitions of terms like blockade , appeasement , federation , alliance , symbiosis , satellite-controlled robots et cetera . \\nat least this much is clear : there's plenty of eye candy , and in the last few minutes it's good guys and joe camel lookalikes versus a caped , horned red devil character and his mechanical hordes . \\nweaknesses : weaknesses lie in the writing and in the performance . \\nat first it seems like the film is to be an invasion story , but then phantom takes an hour-long detour to cover one chariot race before returning to the invasion theme . \\nthis dilutes the central story . \\nadditionally , smaller scenes seem written self consciously , as if they were added more to fill us in on extraneous background information for other movies rather than form an integral part of the present movie . \\nveteran actors liam neeson and ewan mcgregor noticeably outperform the other acting leads .\", 'john believes that his mother is somehow connected to his failed relationships with women , either because of his flawed self-esteem caused by his need for validation , or perhaps because he tends to unconsciously seek out women who remind him of his mother in an oedipal manner . \\nhe comes to the conclusion that since his problems are rooted in his boyhood home , he should move back in with his mother for a while just to see what kinds of feelings come out , and by that be able to sort out why his life is the way it is . \\n \" a great experiment \" , he calls it . \\nbrooks\\' own brand of humor really shines in this film , especially in the interaction john has with his mother . \\nthere\\'s a scene where john has just arrived at his mother\\'s house , and after having driven from los angeles to sausalito , and having explained to his mother about the \" great experiment \" , beatrice asks , \" now explain to me again why you don\\'t want to stay at a hotel . \" \\nshe still doesn\\'t get it , and it is absolutely hilarious . \\nin the same scene , we get little glances at the life his mother leads when she tries to feed him food that is no longer fresh . \\nshe apparently buys in great quantities and refrigerates it until the lettuce is wilted and the sherbet is iced over . \\nwhen john points out the ice on the sherbet , beatrice tells him not to worry about the protective glaze . ', 'the acting and direction is top-notch -- never sappy , always touching . \\na friend of mine once reported that he avoided it because \" i was afraid it would just be really politically correct , and tick me off . \" \\nall i could do was tell him to go in unbiased , and enjoy. \\nit is one of the few movies that has completely reduced me to tears. \\nbut certain memories should not often be rereleased -- in the last few shots , you have to cry. ', \"vail himself is a former prosecutor , and quit because of tensions between himself and the district attorney , played very well by john mahoney ( frasier's father on the tv series ) . \\nthere is an underlying theme of dichotomy in the movie : people have public faces , and private faces . \\nwe see this in the murdered archbishop, in the accused , and , most strongly , defense attorney martin vail . \\nrichard gere does a fairly good job. \\nat first , he appears to be a money- and attention-grabbing lawyer, with no consideration of the truth . \\nbut we see another side, as he becomes a seeker of justice, and comes to believe in his client. \\nalfre woodard , as the judge, is capable, though somewhat wasted in a standard role. \\nlaura linney also does journeyman work ; nothing spectacular, but acceptable. \", 'the background music keeps you in a state of urgency , and even suspense , for the first few conversations . \\nit\\'s only after repeated failures to pay any of this off that you lose all hope. \\nand with speeches like , \" i am thinking of something , but i can only think of that something when i am thinking of something else , \" how can you expect to hold anyone\\'s interest ? \\nto godard\\'s credit , he certainly knows how to frame a scene . \\nthe black and white footage used for the first half of the film is starkly beautiful. \\nwatching edgar read while walking along a train track on a mountain makes you wish you had something to ponder along with him . \\nand if this film had anything poignant to say , you would have , which makes you all the angrier at the numerous missed opportunities . \\nthe environments , be it city or country , are impeccably captured in crisp detail , but the script never complements them . \\nunfortunately , godard also manages to pillage his photographic eye by randomly cutting to black numerous times within any given scene . \\nsometimes these breaks are used for chapter headings , but these are even more cryptic than the spoken words . \\nthe second half is composed of nauseating hyper-color that often blurs the image. \\nyou suddenly feel like a doomed character straight out of scanners. ', 'just that the comic setups are obvious and the payoffs nearly all fall flat . \\nthe four leads are nearly all playing the same character . \\nonly williams stands out ( while still performing on the level of his humor-free comedy rocket man ) , but that is because he\\'s imprisoned throughout most of the film , giving a much needed change of pace ( but mostly swapping one set of obvious gags for another ) . \\nto help out , the film is packed full of cameos . \\nsteven wright , tommy chong , janeane garofalo , willie nelson , snoop doggy dogg , and jon stewart all make appearances at one point or another . \\nnone of them work , beyond the simple \" hey , that\\'s _____ \" level . \\nin fact the funniest work in the film comes from chappelle . \\nnot as his bland pothead lead , but in his second role , as a pot-obsessed rapper , sir smokealot . \\ngranted , it\\'s pretty much a one-joke role , and there aren\\'t a ton of laughs . . . \\n', \"four of the biggest directors in hollywood : quentin tarantino , robert rodriguez , alexander rockwell , and alison anders were all directing one big film with a big and popular cast . \\ni guess it was all just too much because this turned out to be the biggest flop of the year and it could of been great . \\nthe plot : it's new years eve and it's a bellboy's first day on the job . \\nhe encounters many mysterious and kinky hotel guests as he tries to handle all his own problems . \\ntarantino told his directors this plot , and each of them wrote a script . \\nit turned out each of them had written a dark comedy . \\nanders wrote and directed the tale about a coven of witches ( madonna , valeria golino , alicia witt , and ione skye ) , which was the worst one out of all of them . \\nthe second room ( jennifer beals ) was better , but lacking in plot . \\nthis room was about a man who accuses every man of sleeping with his wife . \\nthe third room ( antonio banderas ) was the best roomm , about two rambunctous kids that trash a hotel suite . \\nthe final one ( tarantino , willis ) was about a movie star wanting the bellboy to chop off someone's finger . \\nthe movie was just plain trash. \", \"the sequence was there for a purpose : to evoke a strong emotional response from the viewer . \\ni'm usually a sucker for such scenes and yet this time , i was just sitting there , my emotions untouched . \\nthis remains true through all of the movie which remains emotionally barren . \\nwe never develop connections to the characters ; never given a reason to care . \\nthis ludicrously long epic was directed by andy tennant , whose last film was ever after , one of my favorites of 1998 . \\ni do not doubt tennant's ability to put together a decent movie , but anna and the king , aside from being psychologically inept is also technologically deficient . \\nthe sets and scenery are gorgeous , but the camerawork does nothing to convey its grandeur . \\neven terrence malick managed to do more with flora and fauna in his otherwise abysmal the thin red line than tennant can muster from $75 million worth of props and a shoot in malaysia . \\nwe feel like the camera is restricted to its immediate point of view ; there are no wide tracking shots or sweeping zooms to fill us with larger-than-life awe . \\ni liked both foster and yun-fat , who give entertaining if not terribly involving performances in the two lead roles . \\nfoster's generally stoic persona serves her well here , as she is playing a reserved , formal and rather underdeveloped character . \\nyun-fat is especially effective , perfectly conveying the king of siam's sangfroid permeated with violent outbursts . \\nwhat does anna and the king in is its inability to involve the viewer in its characters and situations . \\nthe cast is great , the director is talented , and the budget is lavish , but this ill-advised remake of the classic rogers and hammerstein movie is unable to utilize any of those things to form a compelling whole . \\nthis is an emotionless costume epic . \\n\", 'cohen had personal interest in the updated version of hammer , but heffron has none . \\nhe shot the movie quickly and clumsily , and although some scenes ring true , most of them are flat , trite , and invariably dull . \\nthe movie features numerous car chases , shoot-outs , and stunts , but heffron\\'s background in television is the dominant tone ; despite the graphic violence and full-frontal nudity , \" i , the jury , \" takes on the air of a made-for-tv quickie , with no real punch or depth . \\nbut the problems in \" i , the jury \" run deeper than the technical . \\nthe central fault in this updating is mike hammer , whose character was lost in the shuffle while updating from the fifties to the eighties . \\nbecause spillane wrote all his hammer mysteries in the first person , hammer\\'s character is central to the tale because all the events are filtered through his persona . \\nwe never really get that impression in the movie -- there is no first-person voice-over narration and some scenes don\\'t have hammer in them at all . \\nconsequently , a great deal of the texture of spillane\\'s storytelling is lost . \\nthe period updating turns out to be a detrimentally bad idea because much of hammer\\'s moral code is thrown to the wind . \\ndespite his characterization as a hard-nosed , violent , misogynistic killer , hammer always stuck fervently to his own moral code . \\nthe title itself , \" i , the jury , \" refers to his anti-establishment notion of being his own law . \\nunlike private eyes who seek out the bad guys and then turn them over the police , hammer both pursues the criminal and exacts the punishment . \\nin this way , he can be seen as \" above the law , \" but he still adheres strictly to her own personal code of conduct , his own morality . \\nthe movie forgoes that aspect of his character , and hammer comes off not only as amoral in society\\'s terms , but in any terms , especially his own . \\nif anything , hammer always had his professionalism , but the movie does away with that in the first three minutes by showing him rolling in the sack with the wife of a client who had paid him to find out if that wife was being unfaithful . \\nmaybe the scene was intended for laughs , but it only cheapens hammer\\'s character and is , by all accounts , a lousy way to start the movie . \\nthe blame for hammer\\'s character can\\'t be laid on assante\\'s shoulders , because despite some unnecessary marlon brandon-like mumbling , he delivers a fine performance . \\nspillane never once described hammer\\'s physical attributes in any of the dozen books in which he appeared , so any actor could conceivably portray him . \\nof course , because of the lack of written description , those who have read spillane\\'s books will have a strong personal notion of what hammer looks like , and therefore almost any screen incarnation will somehow fall short of expectations ( spillane , who played the character himself in 1963\\'s \" the girl hunters , \" is generally considered the best of the film hammers ) . \\nthe rest of actors are most un-noteworthy. ', 'while director steve miner has several horror films on his resume ( including two installments of \" friday the 13th \" and \" halloween h20 \" ) , screenwriter david kelley ( best known as the creator of tv series like \" ally mcbeal \" and \" chicago hope \" ) doesn\\'t seem to have the stomach for a chomp \\'em up flick . \\nthe body count is surprisingly low and doesn\\'t include any of the major characters , and most annoyingly kelly and hector insist that they capture the crocodile alive rather than killing it . \\n ( \" lake placid \" manages to have it both ways-i\\'ll let you discover how for yourself ) . \\nthe croc itself is mostly computer-generated , of course . \\nlike the snake in \" anaconda , \" the thirty-foot monster crocodile doesn\\'t seem real ; it moves too quickly and in ways that seem unnatural . \\n \" lake placid \" also offers little explanation for why a giant crocodile is in maine . \\nthere is a lot of semi-mystical mumbo jumbo about how \" we really don\\'t know much about crocodiles . \" \\nthey would have been better off going with something like the urban myth about alligators in the sewers . \\na movie like this doesn\\'t have to offer much of an explanation ( radioactive mutant ? \\ncreature from outer space ? ) , but it does have to give the audience something to hang their disbelief on . \\npullman and fonda seem to be plodding through the movie on auto-pilot . \\nmost of the time , they\\'re probably thinking about killing their agents or wondering if making this movie marks the end of their careers . \\nplatt and white , on the other hand , seem to be giving their best efforts , and they manage to squeeze a few chuckles out of this sorry script . \\n', 'we, the audience , have been tipped off , given that the film begins by showing us eric ( trevor morgan , \" the patriot \" ) , a young boy , and ben ( mark harelik , \" election \" ) going for a paragliding adventure off that same island that goes awry ( and looks like cheesy rear projection ) . \\ngrant\\'s established back home with a new right hand man , billy brennan ( alessandro nivola , \" love\\'s labour\\'s lost \" ) on site at a dig in montana sorely lacking funds . \\nhe also pays a visit to old flame dr . ellie sattler ( laura dern , \" jurassic park \" ) , now married to another with a young son who calls grant \\'the dinosaur man\\' apparently for the sole purpose of dredging her up again for the film\\'s poorly imagined finale . \\ngrant takes billy along on the kirbys trip , which is really an illegal gambit to save their son , that young paraglider . \\nthe couple aren\\'t millionaires , making grant\\'s check bogus , and they\\'re separated as well ( eric was with amanda\\'s new boyfriend , not that that makes much sense ) , meaning we\\'re in for some gooey family dynamics while waiting for the dino dining . \\nthe kirbys hired hands ( and obvious bait ) are a threesome led by mr . udesky ( michael jeter , \" the gift \" ) . \\n ( didn\\'t anyone consider that casting michael jeter and william h . macy together and not having them be related was a little odd ? ) \\nas directed by joe johnston ( \" october sky , \" \" jumanji \" ) ( spielberg only produced this one ) from a risible script by peter buchman and the \" election \" team of alexander payne & jim taylor , \" jurassic park iii \" is nothing more than a quickie monster flick with a couple of new dinos ( a spinosauraus , which goes head to head with the t-rex , and pteranodons ) . \\nthe plot , as it were , is a series of coincidences combined with extreme leaps of faith and a trifecta of stupid cell phone tricks . \\nthe effects are no longer new , and , as shot by television cinematographer shelly johnson , rather murky looking at times . \\nfilm editing by robert dalva ( \" october sky \" ) was presumably done by machete , to keep this down to a 90 minute run time . \\ni know of no other reason to explain the ridiculous ending which features the survivors confronting a pack of raptors , then being saved by the most ludicrous of logic jumps within a few minutes . \\n\\'original\\' music by don davis just repeats john williams\\' original themes. ', 'state of the art effects fly at a mad pace in this $90 million dollar movie and yet director david kelogg never sets up a convincing atmosphere . \\nhad they replaced all the fancy gizmos with dollar bills they would have wound up with the same effect . \\nwhat we see on the screen is like the raw ingredients of a meal : all of the expensive f/x amounts to nothing . \\npart of the charm of the tv series was its sly irreverence which has gone down the toilet in the condescending movie . \\ncan kids really admire a hero so goody-two-shoes that he screams \" hey ! \\nyou ran a stop sign ! \" \\nwhile hanging off the back bumper of a quickly moving vehicle ? \\ni think that today\\'s children will respond better to somebody dashing , someone ultra-cool . \\nthey ( probably ) receive enough preaching from their parents and its an insult to their intelligence to assume that they want to go to an action movie to see a father figure kick butt . \\nin addition to the more complex complaints above , there\\'s also the simple stuff : inspector gadget is boring , formulaic and achingly implausible . \\nthere\\'s no feeling that the director really cares about his story : more than any other film i\\'ve seen this year , this one really feels like it was made on an assembly line . \\nthere\\'s a popular commercial ( for sprite , but that\\'s irrelevant ) running in movie theaters before features that spoofs the way major studios deal with projects . \\nit consists of studio suits discussing a fictitious ( thank god ) movie called \" death slug \". \\n', 'either way , we get to see a lot of bottoms because the two beautiful women in the crew are both conveniently wearing hot pants during the scenes where the camera shoots upwards while they climb up ladders and -- in the ballroom scene -- christmas trees . \\nthus begins an hour or more of hushed trips down long corridors , through burning rooms , etc . while the ship slowly fills with water behind them . \\nit\\'s a race against the clock which is only mildly interesting . \\nthe poseidon adventure works more as a bad movie to laugh at , with all the melodrama that comes in-between the non-thrilling action scenes . \\nthe one note in borgnine\\'s one-note performance is to be a cranky old man that argues with hackman every step of the way while buttons and the hippie fall in love ( although since there isn\\'t a sex scene , we never find out if his buttons really are red ) and albertson and winters wonder if they\\'ll live to see their grandson\\'s birth . \\nshelley winters provides the most hilarious scene in the movie in a scene toward the end , where water has flooded the next two rooms of the ship and hackman is preparing to dive under with a rope for the rest of them to pull along . \\nwinters , who has been the whiny fat woman throughout the movie ( stevens even not-so- affectionately calls her \" fatass \" in one scene ) , finally finds her purpose . \\n \" i was the underwater swimming champ of new york three years running when i was seventeen , \" she brags , and before hackman can even ask her how she could be seventeen for three years , she\\'s swimming through the water , her skirt billowing up around her hips , showing off her cellulite ( or do you call it shellulite ? ) \\nridden thighs. ', 'it is obvious that columbus didn\\'t take them very seriously . \\nwhen you think about it , this film is not really meditating on the question \" when is a robot no longer a machine , but a human being ? \" , but tells a story about racial discrimination and lack of understanding . \\nandrew is so complex and emotional from the very beginning that the audience immediately accepts him as a human being , and only the society has troubles with it . \\nin other words , it is as far from reality as from the academy awards . \\nfurther more , there are other annoying problems . \\nto this day no serious filmmaker has dared to speculate about the future in more than 50 years from now . \\nthis has not been done for obvious reasons , because the filmmakers are well aware of the fact that they lack the knowledge and imagination to perform such a difficult task . \\ncolumbus is the first to have crossed that line . \\nthe result is , as you might imagine , primitive , unrealistic and incredibly disappointing effort . \\nthe world is simply frozen in time . \\nneither the society , fashion , culture or values have changed over 200 years . \\nmom is still working at the kitchen , doing the dishes . \\nwhen you think back to the late 17th century and then compare it to the world we live in today , you\\'ll see a slightly bigger difference . \\ni am not saying that everything should change . \\nit is unlikely that the human rights will change , but it\\'s even more unlikely that there will not be any progress in science , technology and fashion . \\ni suppose it\\'s possible to watch this as a some sort of bizarre fairytale , but it\\'s really hard . \\nrobin williams is hidden behind c and speaking in a robotic way . \\nas always he does a decent job , as does sam neill . \\nbut it doesn\\'t really matter. ']\n"
     ]
    }
   ],
   "source": [
    "##특정 디렉터리 내에 있는 텍스트 자료 수집\n",
    "import os\n",
    "#1.텍스트 디렉터리 경로 지정\n",
    "print(os.getcwd())  #현재 경로 확인\n",
    "txt_data='data/txt_data/'\n",
    "\n",
    "#2.텍스트 디렉터리 목록 반환\n",
    "sub_dir=os.listdir(txt_data)\n",
    "print(sub_dir)\n",
    "\n",
    "#3.각 디렉터리의 텍스트 자료 수집함수\n",
    "def textPro(sub_dir):\n",
    "    first_txt=[]        #first디렉터리 텍스트 저장\n",
    "    second_txt=[]       #second 디렉터리 텍스트 저장\n",
    "    \n",
    "    #디렉터리 구성\n",
    "    for sdir in sub_dir:\n",
    "        dirname=txt_data+sdir #디렉터리 구성\n",
    "        file_list=os.listdir(dirname)\n",
    "        #파일 구성\n",
    "        for fname in file_list:\n",
    "            file_path=dirname+'/'+fname\n",
    "            #file 선택\n",
    "            if os.path.isfile(file_path):\n",
    "                try:\n",
    "                    #텍스트 자료 수집\n",
    "                    file=open(file_path,'r')\n",
    "                    if sdir =='first':\n",
    "                        first_txt.append(file.read())\n",
    "                    else:\n",
    "                        second_txt.append(file.read())\n",
    "                except Exception as e:\n",
    "                    print(\"예외 발생 : \",e)\n",
    "                finally:\n",
    "                    file.close()\n",
    "    return first_txt,second_txt #텍스트 자료 변환\n",
    "\n",
    "#함수 호출\n",
    "first_txt,second_txt=textPro(sub_dir)\n",
    "#print(first_txt)\n",
    "\n",
    "##수집한 자료 확인\n",
    "print('first_txt 길이 : ',len(first_txt))\n",
    "print('second_txt 길이 : ',len(second_txt))\n",
    "#수집한 자료 경합\n",
    "tot_texts=first_txt+second_txt\n",
    "print(\"tot_texts 길이 : \", len(tot_texts))\n",
    "\n",
    "##전체 텍스트 내용\n",
    "print(tot_texts)"
   ]
  },
  {
   "cell_type": "code",
   "execution_count": 4,
   "metadata": {},
   "outputs": [
    {
     "name": "stdout",
     "output_type": "stream",
     "text": [
      "[\"maroon thinks that roger's wife , jessica's , possible unfaithfulness to him might be the cause of distraction and tells eddie to get some photos of her in the act before it costs him any more money in reshoots . \\nvaliant takes some photos of jessica playing , `patty cake' with marvin acme ( stubby kaye ) , the owner of toontown ( where all of the cartoon characters live ) and takes them to maroon . \\nupon seeing them , roger is emotionally destroyed and soon after acme is found dead and roger rabbit is the prime suspect . \\nthe rest of the movie follows valiant and roger as they run around town ( and eventually toontown ) trying to clear roger's good name . \\nalong the way they meet judge doom ( christopher lloyd ) a judge-jury-and executioner type who's out to get roger and has discovered the one and only way to kill a `toon . ' \\n`who framed roger rabbit' won 4 academy awards including a special achievement award for richard williams for animation direction and creation of the cartoon characters ( williams and his teams went through the film frame by frame and hand drew the cartoon characters in ) . \\ndirector robert zemekis must be given an equal amount of praise for overseeing the entire production , which included hundreds of animators . \\nalso bob hoskins' performance should be credited. \", 'it shouldn\\'t have surprised me , then , that kundun , a film about a mystical religion , actually turned out to be quite straightforward . \\nthe movie follows the life of the 14th dalai lama , the spiritual and political leader of tibet . \\nthe movie\\'s title is another name for the dalai lama which means \" ocean of wisdom . \" \\nhis story is told in strict chronological order and there are only a few cinematic visions to embellish the literal story . \\n ( one of which makes an interesting statement : pay attention to the film\\'s opening shot and watch where it is repeated . ) \\nwe first glimpse the dalai lama when he is two years old. \\nhis curiosity and self-assuredness capture the attention of a monk wandering in search of the new lama . \\na test is arranged to see if this boy really is the reincarnation of the 13 dalai lamas who have gone before . \\nseveral items belonging to the previous dalai lama are laid before the boy alongside some other items . \\nthe child is asked if he recognizes any of the items as his own.', 'who cowrote the script with emmanuelle bernheim , marcia romano , and marina de van , has turned in a more mature work than his previous , creepy \" see the sea . \" \\nwhile he cleverly never lets us see jean enter the water that fateful day , leaving a number of possibilities - accident ? , suicide ? , escape ? \\n- open , he definitely tips his hand towards a certain outcome . \\ncinematography by antoine hiberli and jeanne lapoirie glides around marie or captures rampling\\'s exotic face in mood divining closeup . \\nin an inventive fantasy scene , marie imagines jean\\'s hands massaging her feet while in a state of auto-arousal . \\nhis two hands become four , then more combined with her own , becoming almost a one person orgy and recalling roman polanski\\'s \" repulsion . \" \\noriginal music by philippe rombi quietly adds to the overall melancholy. ', 'kiki comes to realize not only the beauty of her surroundings , but the innate beauty inside her . \\nseeing kiki regain faith in herself is marvelous , and the principal device used to do it is so sublime that i don\\'t even want to hint at it . \\nthe ending of the movie has a subtle charm combined with a sense of awe and , ironically , the most disney-esque moment i\\'ve ever seen ; if you don\\'t hold your breath in wonder you might want to get medical attention . \\nthe movie steers free of many of the disney conventions : there is no violence , however cartoonish , no song-and-dance number , and kiki\\'s pet cat jiji is more a friend than a comedic sidekick , although jiji is given many funny lines and scenes . \\nhowever , i would be surprised if disney doesn\\'t give jiji more jokes , or at least the voice of some comedian . \\nrefreshingly enough , the moral lesson of the movie is not self-contradicted , a habit disney movies have gotten into . \\n \" beauty and the beast \" \\'s beautiful belle , for instance , learned that beauty was derived from a person\\'s inside , and was then rewarded by having the beast turn into a handsome prince in snazzy clothing . \\nkiki , on the other hand , learns to separate her wardrobe from her self-image , and nothing more is made of her early desires for better clothing than illustrating her increased maturity at the end of the film . \\nanother difference with disney movies is in the style of animation for \" kiki\\'s delivery service \" : not as colorful and dynamic as disney animation can be , but with a greater attention to realism and detail , it fits the movie to a t . this is particularly true with scenes of kiki\\'s flights . \\nthe extreme realism of the birds in flight near kiki is magnificent to behold , and helps these scenes capture the wonder of flight better than any other film i\\'ve ever seen . \\ni\\'m not sure when or how this movie will be released in the united states. ', \"we see matthew broderick , a man torn to a primal state ; he's been unfaithful to his wife , lied to and manipulated his students , and by the same token they've demeaned his masculinity , his self-respect , his desperate attempt at changing the world . \\nand yet , he equates the cause of his pain , his torment , with tracy flick ( reese witherspoon ) . \\nno matter how many students have come and gone , and disappointed him as an educator , she's the real threat . \\nabout to give in , and divulge that she's won by only a lone vote , broderick's mccalister turns in defeat , sees tracy's euphoric celebration in the outside corridor and says , 'no' . \\nthe fact that he simultaneously lusts after her ideologically further illustrates that freudian foundation of entitlement which all men , no matter how obscure , have in their relationships ; a traditional expectation of success , to usurp and surpass women as a proverbial industry . \\nshe can't go higher than him . \\nhe won't allow it. \", \"writer oliver stone and director brian de palma make an explosive combination here . \\nstone's script offers solid storytelling and some fine character development . \\nmontana is fascinating ; uneducated but calculating , a straight shooter who speaks from the heart ; an ambitious , violent man yet one with a conscience . \\na man fiercely protective of his beautiful 20 year old sister , not wanting her to be sucked into the glitzy , dangerous world which he inhabits . \\npacino is dynamite , taking to the role with a brooding , bristling energy which in his more recent films has often degenerated into just simple overracting . \\npfeiffer also registers strongly as the gangstar mole with no inner life . \\nonly once does tony express real affection for her and his desire to have children , and even then you sense all he really wants is a regular screw and a beautiful object to show off to his friends , and she's happy to oblige . \\nthis isn't as meaty a role for pfieffer as sharon stone's was in casino , but its an effective one nonetheless and she aquits herself well . \\nas director , de palma sets up a number of dramatic scenes with his typical stylistic brauva . \\nthe escalating tension he creates in various mob situations - a drug deal gone wrong , an assination attempt - is often thrilling , and in this respect he is every bit the equal of scorese and coppola . \\nwhere he differs from , say , coppola's godfather trilogy is in his overall treatment . \\ncoppola gives his crime sagas an operatic sweep , whereas in scarface de palma opts for a grittier feel . \\nand it perfectly suits the material. \", \"to me , any movie with russian-sounding accents for bad guys , jamaican accents for good guys , and middle eastern-sounding accents for seedy gamblers accents can be expected to be more tongue in cheek than profound . \\nvisually , star wars : episode i --the phantom menace ( 1999 ) is a kid show where parents can take their young ones to marvel at child-friendly cgi characters and wondrous backdrops even if the character dialogue ( mostly geopolitics ) is beyond the level of children . \\nit is left to parents to patiently explain the conversation : droid origins , family lineage , the definitions of terms like blockade , appeasement , federation , alliance , symbiosis , satellite-controlled robots et cetera . \\nat least this much is clear : there's plenty of eye candy , and in the last few minutes it's good guys and joe camel lookalikes versus a caped , horned red devil character and his mechanical hordes . \\nweaknesses : weaknesses lie in the writing and in the performance . \\nat first it seems like the film is to be an invasion story , but then phantom takes an hour-long detour to cover one chariot race before returning to the invasion theme . \\nthis dilutes the central story . \\nadditionally , smaller scenes seem written self consciously , as if they were added more to fill us in on extraneous background information for other movies rather than form an integral part of the present movie . \\nveteran actors liam neeson and ewan mcgregor noticeably outperform the other acting leads .\", 'john believes that his mother is somehow connected to his failed relationships with women , either because of his flawed self-esteem caused by his need for validation , or perhaps because he tends to unconsciously seek out women who remind him of his mother in an oedipal manner . \\nhe comes to the conclusion that since his problems are rooted in his boyhood home , he should move back in with his mother for a while just to see what kinds of feelings come out , and by that be able to sort out why his life is the way it is . \\n \" a great experiment \" , he calls it . \\nbrooks\\' own brand of humor really shines in this film , especially in the interaction john has with his mother . \\nthere\\'s a scene where john has just arrived at his mother\\'s house , and after having driven from los angeles to sausalito , and having explained to his mother about the \" great experiment \" , beatrice asks , \" now explain to me again why you don\\'t want to stay at a hotel . \" \\nshe still doesn\\'t get it , and it is absolutely hilarious . \\nin the same scene , we get little glances at the life his mother leads when she tries to feed him food that is no longer fresh . \\nshe apparently buys in great quantities and refrigerates it until the lettuce is wilted and the sherbet is iced over . \\nwhen john points out the ice on the sherbet , beatrice tells him not to worry about the protective glaze . ', 'the acting and direction is top-notch -- never sappy , always touching . \\na friend of mine once reported that he avoided it because \" i was afraid it would just be really politically correct , and tick me off . \" \\nall i could do was tell him to go in unbiased , and enjoy. \\nit is one of the few movies that has completely reduced me to tears. \\nbut certain memories should not often be rereleased -- in the last few shots , you have to cry. ', \"vail himself is a former prosecutor , and quit because of tensions between himself and the district attorney , played very well by john mahoney ( frasier's father on the tv series ) . \\nthere is an underlying theme of dichotomy in the movie : people have public faces , and private faces . \\nwe see this in the murdered archbishop, in the accused , and , most strongly , defense attorney martin vail . \\nrichard gere does a fairly good job. \\nat first , he appears to be a money- and attention-grabbing lawyer, with no consideration of the truth . \\nbut we see another side, as he becomes a seeker of justice, and comes to believe in his client. \\nalfre woodard , as the judge, is capable, though somewhat wasted in a standard role. \\nlaura linney also does journeyman work ; nothing spectacular, but acceptable. \", 'the background music keeps you in a state of urgency , and even suspense , for the first few conversations . \\nit\\'s only after repeated failures to pay any of this off that you lose all hope. \\nand with speeches like , \" i am thinking of something , but i can only think of that something when i am thinking of something else , \" how can you expect to hold anyone\\'s interest ? \\nto godard\\'s credit , he certainly knows how to frame a scene . \\nthe black and white footage used for the first half of the film is starkly beautiful. \\nwatching edgar read while walking along a train track on a mountain makes you wish you had something to ponder along with him . \\nand if this film had anything poignant to say , you would have , which makes you all the angrier at the numerous missed opportunities . \\nthe environments , be it city or country , are impeccably captured in crisp detail , but the script never complements them . \\nunfortunately , godard also manages to pillage his photographic eye by randomly cutting to black numerous times within any given scene . \\nsometimes these breaks are used for chapter headings , but these are even more cryptic than the spoken words . \\nthe second half is composed of nauseating hyper-color that often blurs the image. \\nyou suddenly feel like a doomed character straight out of scanners. ', 'just that the comic setups are obvious and the payoffs nearly all fall flat . \\nthe four leads are nearly all playing the same character . \\nonly williams stands out ( while still performing on the level of his humor-free comedy rocket man ) , but that is because he\\'s imprisoned throughout most of the film , giving a much needed change of pace ( but mostly swapping one set of obvious gags for another ) . \\nto help out , the film is packed full of cameos . \\nsteven wright , tommy chong , janeane garofalo , willie nelson , snoop doggy dogg , and jon stewart all make appearances at one point or another . \\nnone of them work , beyond the simple \" hey , that\\'s _____ \" level . \\nin fact the funniest work in the film comes from chappelle . \\nnot as his bland pothead lead , but in his second role , as a pot-obsessed rapper , sir smokealot . \\ngranted , it\\'s pretty much a one-joke role , and there aren\\'t a ton of laughs . . . \\n', \"four of the biggest directors in hollywood : quentin tarantino , robert rodriguez , alexander rockwell , and alison anders were all directing one big film with a big and popular cast . \\ni guess it was all just too much because this turned out to be the biggest flop of the year and it could of been great . \\nthe plot : it's new years eve and it's a bellboy's first day on the job . \\nhe encounters many mysterious and kinky hotel guests as he tries to handle all his own problems . \\ntarantino told his directors this plot , and each of them wrote a script . \\nit turned out each of them had written a dark comedy . \\nanders wrote and directed the tale about a coven of witches ( madonna , valeria golino , alicia witt , and ione skye ) , which was the worst one out of all of them . \\nthe second room ( jennifer beals ) was better , but lacking in plot . \\nthis room was about a man who accuses every man of sleeping with his wife . \\nthe third room ( antonio banderas ) was the best roomm , about two rambunctous kids that trash a hotel suite . \\nthe final one ( tarantino , willis ) was about a movie star wanting the bellboy to chop off someone's finger . \\nthe movie was just plain trash. \", \"the sequence was there for a purpose : to evoke a strong emotional response from the viewer . \\ni'm usually a sucker for such scenes and yet this time , i was just sitting there , my emotions untouched . \\nthis remains true through all of the movie which remains emotionally barren . \\nwe never develop connections to the characters ; never given a reason to care . \\nthis ludicrously long epic was directed by andy tennant , whose last film was ever after , one of my favorites of 1998 . \\ni do not doubt tennant's ability to put together a decent movie , but anna and the king , aside from being psychologically inept is also technologically deficient . \\nthe sets and scenery are gorgeous , but the camerawork does nothing to convey its grandeur . \\neven terrence malick managed to do more with flora and fauna in his otherwise abysmal the thin red line than tennant can muster from $75 million worth of props and a shoot in malaysia . \\nwe feel like the camera is restricted to its immediate point of view ; there are no wide tracking shots or sweeping zooms to fill us with larger-than-life awe . \\ni liked both foster and yun-fat , who give entertaining if not terribly involving performances in the two lead roles . \\nfoster's generally stoic persona serves her well here , as she is playing a reserved , formal and rather underdeveloped character . \\nyun-fat is especially effective , perfectly conveying the king of siam's sangfroid permeated with violent outbursts . \\nwhat does anna and the king in is its inability to involve the viewer in its characters and situations . \\nthe cast is great , the director is talented , and the budget is lavish , but this ill-advised remake of the classic rogers and hammerstein movie is unable to utilize any of those things to form a compelling whole . \\nthis is an emotionless costume epic . \\n\", 'cohen had personal interest in the updated version of hammer , but heffron has none . \\nhe shot the movie quickly and clumsily , and although some scenes ring true , most of them are flat , trite , and invariably dull . \\nthe movie features numerous car chases , shoot-outs , and stunts , but heffron\\'s background in television is the dominant tone ; despite the graphic violence and full-frontal nudity , \" i , the jury , \" takes on the air of a made-for-tv quickie , with no real punch or depth . \\nbut the problems in \" i , the jury \" run deeper than the technical . \\nthe central fault in this updating is mike hammer , whose character was lost in the shuffle while updating from the fifties to the eighties . \\nbecause spillane wrote all his hammer mysteries in the first person , hammer\\'s character is central to the tale because all the events are filtered through his persona . \\nwe never really get that impression in the movie -- there is no first-person voice-over narration and some scenes don\\'t have hammer in them at all . \\nconsequently , a great deal of the texture of spillane\\'s storytelling is lost . \\nthe period updating turns out to be a detrimentally bad idea because much of hammer\\'s moral code is thrown to the wind . \\ndespite his characterization as a hard-nosed , violent , misogynistic killer , hammer always stuck fervently to his own moral code . \\nthe title itself , \" i , the jury , \" refers to his anti-establishment notion of being his own law . \\nunlike private eyes who seek out the bad guys and then turn them over the police , hammer both pursues the criminal and exacts the punishment . \\nin this way , he can be seen as \" above the law , \" but he still adheres strictly to her own personal code of conduct , his own morality . \\nthe movie forgoes that aspect of his character , and hammer comes off not only as amoral in society\\'s terms , but in any terms , especially his own . \\nif anything , hammer always had his professionalism , but the movie does away with that in the first three minutes by showing him rolling in the sack with the wife of a client who had paid him to find out if that wife was being unfaithful . \\nmaybe the scene was intended for laughs , but it only cheapens hammer\\'s character and is , by all accounts , a lousy way to start the movie . \\nthe blame for hammer\\'s character can\\'t be laid on assante\\'s shoulders , because despite some unnecessary marlon brandon-like mumbling , he delivers a fine performance . \\nspillane never once described hammer\\'s physical attributes in any of the dozen books in which he appeared , so any actor could conceivably portray him . \\nof course , because of the lack of written description , those who have read spillane\\'s books will have a strong personal notion of what hammer looks like , and therefore almost any screen incarnation will somehow fall short of expectations ( spillane , who played the character himself in 1963\\'s \" the girl hunters , \" is generally considered the best of the film hammers ) . \\nthe rest of actors are most un-noteworthy. ', 'while director steve miner has several horror films on his resume ( including two installments of \" friday the 13th \" and \" halloween h20 \" ) , screenwriter david kelley ( best known as the creator of tv series like \" ally mcbeal \" and \" chicago hope \" ) doesn\\'t seem to have the stomach for a chomp \\'em up flick . \\nthe body count is surprisingly low and doesn\\'t include any of the major characters , and most annoyingly kelly and hector insist that they capture the crocodile alive rather than killing it . \\n ( \" lake placid \" manages to have it both ways-i\\'ll let you discover how for yourself ) . \\nthe croc itself is mostly computer-generated , of course . \\nlike the snake in \" anaconda , \" the thirty-foot monster crocodile doesn\\'t seem real ; it moves too quickly and in ways that seem unnatural . \\n \" lake placid \" also offers little explanation for why a giant crocodile is in maine . \\nthere is a lot of semi-mystical mumbo jumbo about how \" we really don\\'t know much about crocodiles . \" \\nthey would have been better off going with something like the urban myth about alligators in the sewers . \\na movie like this doesn\\'t have to offer much of an explanation ( radioactive mutant ? \\ncreature from outer space ? ) , but it does have to give the audience something to hang their disbelief on . \\npullman and fonda seem to be plodding through the movie on auto-pilot . \\nmost of the time , they\\'re probably thinking about killing their agents or wondering if making this movie marks the end of their careers . \\nplatt and white , on the other hand , seem to be giving their best efforts , and they manage to squeeze a few chuckles out of this sorry script . \\n', 'we, the audience , have been tipped off , given that the film begins by showing us eric ( trevor morgan , \" the patriot \" ) , a young boy , and ben ( mark harelik , \" election \" ) going for a paragliding adventure off that same island that goes awry ( and looks like cheesy rear projection ) . \\ngrant\\'s established back home with a new right hand man , billy brennan ( alessandro nivola , \" love\\'s labour\\'s lost \" ) on site at a dig in montana sorely lacking funds . \\nhe also pays a visit to old flame dr . ellie sattler ( laura dern , \" jurassic park \" ) , now married to another with a young son who calls grant \\'the dinosaur man\\' apparently for the sole purpose of dredging her up again for the film\\'s poorly imagined finale . \\ngrant takes billy along on the kirbys trip , which is really an illegal gambit to save their son , that young paraglider . \\nthe couple aren\\'t millionaires , making grant\\'s check bogus , and they\\'re separated as well ( eric was with amanda\\'s new boyfriend , not that that makes much sense ) , meaning we\\'re in for some gooey family dynamics while waiting for the dino dining . \\nthe kirbys hired hands ( and obvious bait ) are a threesome led by mr . udesky ( michael jeter , \" the gift \" ) . \\n ( didn\\'t anyone consider that casting michael jeter and william h . macy together and not having them be related was a little odd ? ) \\nas directed by joe johnston ( \" october sky , \" \" jumanji \" ) ( spielberg only produced this one ) from a risible script by peter buchman and the \" election \" team of alexander payne & jim taylor , \" jurassic park iii \" is nothing more than a quickie monster flick with a couple of new dinos ( a spinosauraus , which goes head to head with the t-rex , and pteranodons ) . \\nthe plot , as it were , is a series of coincidences combined with extreme leaps of faith and a trifecta of stupid cell phone tricks . \\nthe effects are no longer new , and , as shot by television cinematographer shelly johnson , rather murky looking at times . \\nfilm editing by robert dalva ( \" october sky \" ) was presumably done by machete , to keep this down to a 90 minute run time . \\ni know of no other reason to explain the ridiculous ending which features the survivors confronting a pack of raptors , then being saved by the most ludicrous of logic jumps within a few minutes . \\n\\'original\\' music by don davis just repeats john williams\\' original themes. ', 'state of the art effects fly at a mad pace in this $90 million dollar movie and yet director david kelogg never sets up a convincing atmosphere . \\nhad they replaced all the fancy gizmos with dollar bills they would have wound up with the same effect . \\nwhat we see on the screen is like the raw ingredients of a meal : all of the expensive f/x amounts to nothing . \\npart of the charm of the tv series was its sly irreverence which has gone down the toilet in the condescending movie . \\ncan kids really admire a hero so goody-two-shoes that he screams \" hey ! \\nyou ran a stop sign ! \" \\nwhile hanging off the back bumper of a quickly moving vehicle ? \\ni think that today\\'s children will respond better to somebody dashing , someone ultra-cool . \\nthey ( probably ) receive enough preaching from their parents and its an insult to their intelligence to assume that they want to go to an action movie to see a father figure kick butt . \\nin addition to the more complex complaints above , there\\'s also the simple stuff : inspector gadget is boring , formulaic and achingly implausible . \\nthere\\'s no feeling that the director really cares about his story : more than any other film i\\'ve seen this year , this one really feels like it was made on an assembly line . \\nthere\\'s a popular commercial ( for sprite , but that\\'s irrelevant ) running in movie theaters before features that spoofs the way major studios deal with projects . \\nit consists of studio suits discussing a fictitious ( thank god ) movie called \" death slug \". \\n', 'either way , we get to see a lot of bottoms because the two beautiful women in the crew are both conveniently wearing hot pants during the scenes where the camera shoots upwards while they climb up ladders and -- in the ballroom scene -- christmas trees . \\nthus begins an hour or more of hushed trips down long corridors , through burning rooms , etc . while the ship slowly fills with water behind them . \\nit\\'s a race against the clock which is only mildly interesting . \\nthe poseidon adventure works more as a bad movie to laugh at , with all the melodrama that comes in-between the non-thrilling action scenes . \\nthe one note in borgnine\\'s one-note performance is to be a cranky old man that argues with hackman every step of the way while buttons and the hippie fall in love ( although since there isn\\'t a sex scene , we never find out if his buttons really are red ) and albertson and winters wonder if they\\'ll live to see their grandson\\'s birth . \\nshelley winters provides the most hilarious scene in the movie in a scene toward the end , where water has flooded the next two rooms of the ship and hackman is preparing to dive under with a rope for the rest of them to pull along . \\nwinters , who has been the whiny fat woman throughout the movie ( stevens even not-so- affectionately calls her \" fatass \" in one scene ) , finally finds her purpose . \\n \" i was the underwater swimming champ of new york three years running when i was seventeen , \" she brags , and before hackman can even ask her how she could be seventeen for three years , she\\'s swimming through the water , her skirt billowing up around her hips , showing off her cellulite ( or do you call it shellulite ? ) \\nridden thighs. ', 'it is obvious that columbus didn\\'t take them very seriously . \\nwhen you think about it , this film is not really meditating on the question \" when is a robot no longer a machine , but a human being ? \" , but tells a story about racial discrimination and lack of understanding . \\nandrew is so complex and emotional from the very beginning that the audience immediately accepts him as a human being , and only the society has troubles with it . \\nin other words , it is as far from reality as from the academy awards . \\nfurther more , there are other annoying problems . \\nto this day no serious filmmaker has dared to speculate about the future in more than 50 years from now . \\nthis has not been done for obvious reasons , because the filmmakers are well aware of the fact that they lack the knowledge and imagination to perform such a difficult task . \\ncolumbus is the first to have crossed that line . \\nthe result is , as you might imagine , primitive , unrealistic and incredibly disappointing effort . \\nthe world is simply frozen in time . \\nneither the society , fashion , culture or values have changed over 200 years . \\nmom is still working at the kitchen , doing the dishes . \\nwhen you think back to the late 17th century and then compare it to the world we live in today , you\\'ll see a slightly bigger difference . \\ni am not saying that everything should change . \\nit is unlikely that the human rights will change , but it\\'s even more unlikely that there will not be any progress in science , technology and fashion . \\ni suppose it\\'s possible to watch this as a some sort of bizarre fairytale , but it\\'s really hard . \\nrobin williams is hidden behind c and speaking in a robotic way . \\nas always he does a decent job , as does sam neill . \\nbut it doesn\\'t really matter. ']\n"
     ]
    }
   ],
   "source": [
    "## 문제 ] 위에 만들어진 tot_texts파일을 pickle을 사용하여 저장\n",
    "## 저장파일 : data/tot_texts.pck\n",
    "## 저장한파일을 읽어오기\n",
    "tot_texts=first_txt+second_txt\n",
    "import pickle\n",
    "#file save=> pickle(binary)\n",
    "sfile= open('data/tot_texts.pck','wb')\n",
    "#pickle.dump() \n",
    "pickle.dump(tot_texts,sfile)\n",
    "#load file=> pickle파일(data/tot_text.pck)\n",
    "rfile=open('data/tot_texts.pck','rb')\n",
    "tot_text2=pickle.load(rfile)\n",
    "\n",
    "print(tot_text2)"
   ]
  },
  {
   "cell_type": "code",
   "execution_count": 55,
   "metadata": {},
   "outputs": [
    {
     "name": "stdout",
     "output_type": "stream",
     "text": [
      "c:\\python\\Day15\n",
      "해당 디렉터리가 존재합니다.\n",
      "/data/imges 디렉터리가 존재함\n",
      "png files :  ['101.png', '102.png', '103.png', '104.png', '105.png']\n"
     ]
    }
   ],
   "source": [
    "##이미지 파일 이동\n",
    "#data/images ->data/images2\n",
    "#[절차]\n",
    "# 1.os.path.exists를 사용하여 디렉터리 유무 확인\n",
    "# 2. glob(path/*.png) : png파일 검색\n",
    "# 3. png 이미지 복사는 이진(바이너리) 파일 읽기\n",
    "# 4. png 이미지 파일 쓰기는 이진 파일 쓰기\n",
    "import os\n",
    "from glob import glob\n",
    "print(os.getcwd())\n",
    "img_path='data/images/'\n",
    "if os.path.exists('data/images2'):\n",
    "    print(\"해당 디렉터리가 존재합니다.\")\n",
    "else:\n",
    "    os.mkdir('data/images2')\n",
    "    print('data/images 디렉터리를 생성합니다.')\n",
    "image_path2='data/images2/'\n",
    "\n",
    "#디렉터리가 존재하면 image파일 작업 진행\n",
    "\n",
    "if os.path.exists(img_path):\n",
    "    print('/data/imges 디렉터리가 존재함')\n",
    "\n",
    "    #이미지 파일 작업\n",
    "    images=[]\n",
    "    for pic_path in glob(img_path+'*png'):\n",
    "        img_path=os.path.split(pic_path)\n",
    "        images.append(img_path[1])      #1번 인덱스에 잇는 파일 저장\n",
    "        #이진파일 읽기\n",
    "        with open(pic_path,'rb') as rf:\n",
    "            obuf =rf.read()         #obuf : 파일에서 읽어들인 데이터가 저장\n",
    "        #이진파일 쓰기\n",
    "        with open(image_path2+img_path[1],'wb') as wf:\n",
    "            wf.write(obuf)\n",
    "else:\n",
    "    print(\"해당 디렉토리가 존재하지 않습니다.\")\n",
    "print(\"png files : \",images)\n",
    "\n",
    "\n",
    "\n",
    "\n",
    "\n",
    "\n",
    "\n"
   ]
  },
  {
   "cell_type": "code",
   "execution_count": 15,
   "metadata": {},
   "outputs": [
    {
     "data": {
      "text/plain": [
       "['data/images\\\\101.png',\n",
       " 'data/images\\\\102.png',\n",
       " 'data/images\\\\103.png',\n",
       " 'data/images\\\\104.png',\n",
       " 'data/images\\\\105.png']"
      ]
     },
     "execution_count": 15,
     "metadata": {},
     "output_type": "execute_result"
    }
   ],
   "source": [
    "from glob import glob\n",
    "fimages=glob('data/images/'+'*.png')\n",
    "fimages"
   ]
  },
  {
   "cell_type": "code",
   "execution_count": 56,
   "metadata": {},
   "outputs": [
    {
     "name": "stdout",
     "output_type": "stream",
     "text": [
      "Package              Version\n",
      "-------------------- -------\n",
      "argon2-cffi          21.3.0\n",
      "argon2-cffi-bindings 21.2.0\n",
      "asttokens            2.0.5\n",
      "attrs                21.4.0\n",
      "backcall             0.2.0\n",
      "beautifulsoup4       4.10.0\n",
      "bleach               4.1.0\n",
      "cffi                 1.15.0\n",
      "colorama             0.4.4\n",
      "cycler               0.11.0\n",
      "debugpy              1.6.0\n",
      "decorator            5.1.1\n",
      "defusedxml           0.7.1\n",
      "entrypoints          0.4\n",
      "executing            0.8.3\n",
      "fonttools            4.31.2\n",
      "ipykernel            6.11.0\n",
      "ipython              8.2.0\n",
      "ipython-genutils     0.2.0\n",
      "ipywidgets           7.7.0\n",
      "jedi                 0.18.1\n",
      "Jinja2               3.1.1\n",
      "jsonschema           4.4.0\n",
      "jupyter              1.0.0\n",
      "jupyter-client       7.2.1\n",
      "jupyter-console      6.4.3\n",
      "jupyter-core         4.9.2\n",
      "jupyterlab-pygments  0.1.2\n",
      "jupyterlab-widgets   1.1.0\n",
      "kiwisolver           1.4.2\n",
      "MarkupSafe           2.1.1\n",
      "matplotlib           3.5.1\n",
      "matplotlib-inline    0.1.3\n",
      "mistune              0.8.4\n",
      "nbclient             0.5.13\n",
      "nbconvert            6.4.5\n",
      "nbformat             5.2.0\n",
      "nest-asyncio         1.5.4\n",
      "notebook             6.4.10\n",
      "numpy                1.22.3\n",
      "packaging            21.3\n",
      "pandocfilters        1.5.0\n",
      "parso                0.8.3\n",
      "pickleshare          0.7.5\n",
      "Pillow               9.1.0\n",
      "pip                  22.0.4\n",
      "prometheus-client    0.13.1\n",
      "prompt-toolkit       3.0.28\n",
      "psutil               5.9.0\n",
      "pure-eval            0.2.2\n",
      "pycparser            2.21\n",
      "Pygments             2.11.2\n",
      "pyparsing            3.0.7\n",
      "pyrsistent           0.18.1\n",
      "python-dateutil      2.8.2\n",
      "pywin32              303\n",
      "pywinpty             2.0.5\n",
      "pyzmq                22.3.0\n",
      "qtconsole            5.3.0\n",
      "QtPy                 2.0.1\n",
      "Send2Trash           1.8.0\n",
      "setuptools           61.3.1\n",
      "six                  1.16.0\n",
      "soupsieve            2.3.1\n",
      "stack-data           0.2.0\n",
      "terminado            0.13.3\n",
      "testpath             0.6.0\n",
      "tornado              6.1\n",
      "traitlets            5.1.1\n",
      "wcwidth              0.2.5\n",
      "webencodings         0.5.1\n",
      "widgetsnbextension   3.6.0\n",
      "Note: you may need to restart the kernel to use updated packages.\n"
     ]
    }
   ],
   "source": [
    "pip list"
   ]
  },
  {
   "cell_type": "code",
   "execution_count": 8,
   "metadata": {},
   "outputs": [
    {
     "name": "stdout",
     "output_type": "stream",
     "text": [
      "Requirement already satisfied: pandas in c:\\users\\djagk\\appdata\\local\\programs\\python\\python310\\lib\\site-packages (1.4.2)\n",
      "Requirement already satisfied: pytz>=2020.1 in c:\\users\\djagk\\appdata\\local\\programs\\python\\python310\\lib\\site-packages (from pandas) (2022.1)\n",
      "Requirement already satisfied: numpy>=1.21.0 in c:\\users\\djagk\\appdata\\local\\programs\\python\\python310\\lib\\site-packages (from pandas) (1.22.3)\n",
      "Requirement already satisfied: python-dateutil>=2.8.1 in c:\\users\\djagk\\appdata\\local\\programs\\python\\python310\\lib\\site-packages (from pandas) (2.8.2)\n",
      "Requirement already satisfied: six>=1.5 in c:\\users\\djagk\\appdata\\local\\programs\\python\\python310\\lib\\site-packages (from python-dateutil>=2.8.1->pandas) (1.16.0)\n",
      "Note: you may need to restart the kernel to use updated packages.\n"
     ]
    },
    {
     "name": "stderr",
     "output_type": "stream",
     "text": [
      "WARNING: You are using pip version 22.0.4; however, version 22.1 is available.\n",
      "You should consider upgrading via the 'c:\\Users\\djagk\\AppData\\Local\\Programs\\Python\\Python310\\python.exe -m pip install --upgrade pip' command.\n"
     ]
    }
   ],
   "source": [
    "pip install pandas"
   ]
  },
  {
   "cell_type": "code",
   "execution_count": 14,
   "metadata": {},
   "outputs": [
    {
     "name": "stdout",
     "output_type": "stream",
     "text": [
      "<class 'pandas.core.frame.DataFrame'>\n",
      "RangeIndex: 15 entries, 0 to 14\n",
      "Data columns (total 5 columns):\n",
      " #   Column  Non-Null Count  Dtype\n",
      "---  ------  --------------  -----\n",
      " 0   no      15 non-null     int64\n",
      " 1   kor     15 non-null     int64\n",
      " 2   eng     15 non-null     int64\n",
      " 3   mat     15 non-null     int64\n",
      " 4   dept    15 non-null     int64\n",
      "dtypes: int64(5)\n",
      "memory usage: 728.0 bytes\n",
      "None\n",
      "    no  kor  eng  mat  dept\n",
      "0  101   88   85   86   101\n",
      "1  102   70   90   92   101\n",
      "2  103   90   45   55   101\n",
      "3  104   55   52   74   102\n",
      "4  105   65   85   96   102\n",
      "<class 'pandas.core.series.Series'>\n",
      "1071\n",
      "95\n",
      "90\n",
      "96\n",
      "40\n",
      "45\n",
      "41\n",
      "71.4\n",
      "67.93\n",
      "71.33\n",
      "{101: 5, 102: 5, 103: 5}\n"
     ]
    }
   ],
   "source": [
    "##특수한 파일 처리\n",
    "# CSV(Comma Separated Value) : 열단위 자료를 처리할 수 있는 대표적 파이\n",
    "# CSV, Excel ->Cell단위 자료를 저장하여 처리하는 파일\n",
    "\n",
    "#pandas패키지 import\n",
    "import pandas as pd\n",
    "import os\n",
    "#print(os.getcwd())\n",
    "\n",
    "score=pd.read_csv('data/score.csv')\n",
    "print(score.info())     #파일 정 보\n",
    "print(score.head())     #컬럼명 포함 앞 5행 출력\n",
    "\n",
    "#컬럼 추출\n",
    "kor=score.kor       #객체.컬럼명\n",
    "eng=score['eng']    #객체['컬럼명']\n",
    "mat=score.mat\n",
    "dept=score.dept\n",
    "print(type(kor))\n",
    "\n",
    "print(sum(kor))         #series, list나dic형태비슷\n",
    "\n",
    "# 각 과목의 최고점 알아보기\n",
    "print(max(kor))\n",
    "print(max(eng))\n",
    "print(max(mat))\n",
    " \n",
    "#각 과목의 최하점수 알아오기\n",
    "print(min(kor))\n",
    "print(min(eng))\n",
    "print(min(mat))\n",
    "\n",
    "#각 과목의 평균, 평균점수는 소수점 2자리까지..\n",
    "from statistics import mean\n",
    "print(round(mean(kor),2))\n",
    "print(round(mean(eng),2))\n",
    "print(round(mean(mat),2))\n",
    "\n",
    "#dept 빈도수\n",
    "dept_count={}\n",
    "for key in dept:\n",
    "    dept_count[key]=dept_count.get(key,0)+1\n",
    "\n",
    "print(dept_count)\n"
   ]
  },
  {
   "cell_type": "code",
   "execution_count": 19,
   "metadata": {},
   "outputs": [
    {
     "name": "stdout",
     "output_type": "stream",
     "text": [
      "<class 'pandas.io.excel._base.ExcelFile'>\n",
      "0      1390000\n",
      "1      1392000\n",
      "2      1308000\n",
      "3      1299000\n",
      "4      1298000\n",
      "        ...   \n",
      "242    1218000\n",
      "243    1210000\n",
      "244    1225000\n",
      "245    1242000\n",
      "246    1252000\n",
      "Name: High, Length: 247, dtype: int64\n",
      "0      1341000\n",
      "1      1324000\n",
      "2      1291000\n",
      "3      1281000\n",
      "4      1272000\n",
      "        ...   \n",
      "242    1195000\n",
      "243    1193000\n",
      "244    1194000\n",
      "245    1205000\n",
      "246    1216000\n",
      "Name: Low, Length: 247, dtype: int64\n",
      "1307947.3684210526\n",
      "1280919.028340081\n",
      "1307947.3684210526\n",
      "1280919.028340081\n"
     ]
    }
   ],
   "source": [
    "#Excel 파일 읽기\n",
    "#Excel파일을 읽어들이기 위해 사용할 모듈\n",
    "#pip install openpyxl\n",
    "import pandas as pd\n",
    "sam=pd.ExcelFile(\"data/sam_kospi.xlsx\")\n",
    "print(type(sam))\n",
    "# excel파일 파싱\n",
    "kospi=sam.parse('sam_kospi')  #괄호안에 sheet이름 넣기\n",
    "#print(kospi)\n",
    "\n",
    "#컬럼 추출 High, Low\n",
    "high=kospi.High\n",
    "print(high)\n",
    "low=kospi['Low']\n",
    "print(low)\n",
    "#최저값(Low),최고값(High) 평균 출력\n",
    "print(high.mean())\n",
    "print(low.mean())\n",
    "#최저값(Low),최고값(High) 평균 출력(statistics사용)\n",
    "from statistics import mean\n",
    "print(mean(high))\n",
    "print(mean(low))\n"
   ]
  },
  {
   "cell_type": "code",
   "execution_count": 2,
   "metadata": {},
   "outputs": [
    {
     "name": "stdout",
     "output_type": "stream",
     "text": [
      "Collecting openpyxl\n",
      "  Downloading openpyxl-3.0.9-py2.py3-none-any.whl (242 kB)\n",
      "     -------------------------------------- 242.2/242.2 KB 3.0 MB/s eta 0:00:00\n",
      "Collecting et-xmlfile\n",
      "  Downloading et_xmlfile-1.1.0-py3-none-any.whl (4.7 kB)\n",
      "Installing collected packages: et-xmlfile, openpyxl\n",
      "Successfully installed et-xmlfile-1.1.0 openpyxl-3.0.9\n",
      "Note: you may need to restart the kernel to use updated packages.\n"
     ]
    },
    {
     "name": "stderr",
     "output_type": "stream",
     "text": [
      "WARNING: You are using pip version 22.0.4; however, version 22.1 is available.\n",
      "You should consider upgrading via the 'c:\\Users\\djagk\\AppData\\Local\\Programs\\Python\\Python310\\python.exe -m pip install --upgrade pip' command.\n"
     ]
    }
   ],
   "source": [
    "pip install openpyxl    "
   ]
  },
  {
   "cell_type": "code",
   "execution_count": null,
   "metadata": {},
   "outputs": [],
   "source": [
    "# JSON 파일\n",
    "# JSON(JavaScript Object Notation)은 네트워크 표준으로 사용되고 있는\n",
    "# 파일양식(XML...)\n",
    "\n",
    "# JSON파일의 특징은 \"키-값\"쌍으로 자료를 표현\n",
    "# 표현은 자바스크립트 구문 형식을 따르지만, 프로그램 언어나\n",
    "# 플랫폼에 독립적으로 동작할 수 있음.\n",
    "\n",
    "# 파이썬은 JSON파일을 처리할 수 있는 모듈을 기본으로 제공하고 있음\n",
    "# 인코딩 - 파이썬 객체(dict or list) -> JSON문자열 변환\n",
    "# 디코딩 - JSON 문자열(\"키-값\") -> 파이썬 객체(dict or list)로 변환\n",
    "\n",
    "# 인코딩 : json.dumps(객체) -> json문자열 변경\n",
    "# 디코딩 : json.loads(json문자열)->파이썬객체로 변경"
   ]
  },
  {
   "cell_type": "code",
   "execution_count": 24,
   "metadata": {},
   "outputs": [
    {
     "name": "stdout",
     "output_type": "stream",
     "text": [
      "<class 'dict'>\n",
      "홍길동\n",
      "<class 'str'>\n",
      "<class 'dict'>\n"
     ]
    }
   ],
   "source": [
    "import json\n",
    "\n",
    "#json인코딩\n",
    "user={'id':1234,'name':'홍길동'}\n",
    "print(type(user))\n",
    "print(user['name'])\n",
    "j=json.dumps(user,ensure_ascii=False)\n",
    "#ensure_ascii 옵션에 False 아스키코드 미사용 선택\n",
    "print(type(j))\n",
    "#print(j['name'])   #Error\n",
    "\n",
    "#디코딩\n",
    "pyObj=json.loads(j)\n",
    "print(type(pyObj))"
   ]
  }
 ],
 "metadata": {
  "interpreter": {
   "hash": "fb27240f79425b05cfdc60ec8aab2b2dfc885c099bc04dcc326b3070e76ef9c9"
  },
  "kernelspec": {
   "display_name": "Python 3.10.4 64-bit",
   "language": "python",
   "name": "python3"
  },
  "language_info": {
   "codemirror_mode": {
    "name": "ipython",
    "version": 3
   },
   "file_extension": ".py",
   "mimetype": "text/x-python",
   "name": "python",
   "nbconvert_exporter": "python",
   "pygments_lexer": "ipython3",
   "version": "3.10.4"
  },
  "orig_nbformat": 4
 },
 "nbformat": 4,
 "nbformat_minor": 2
}
